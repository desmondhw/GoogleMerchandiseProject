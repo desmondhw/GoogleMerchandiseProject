{
 "cells": [
  {
   "cell_type": "markdown",
   "metadata": {
    "colab_type": "text",
    "id": "4icf104dFogA"
   },
   "source": [
    "### Import Library and Data"
   ]
  },
  {
   "cell_type": "code",
   "execution_count": 1,
   "metadata": {
    "ExecuteTime": {
     "end_time": "2019-07-31T02:41:02.643370Z",
     "start_time": "2019-07-31T02:41:01.372341Z"
    },
    "colab": {},
    "colab_type": "code",
    "id": "S7gOjgCXFogC"
   },
   "outputs": [],
   "source": [
    "import pandas as pd\n",
    "import matplotlib.pyplot as plt\n",
    "import seaborn as sns\n",
    "import numpy as np\n",
    "import seaborn as sns\n",
    "from patsy import dmatrices\n",
    "import statsmodels.api as sm\n",
    "from statsmodels.stats.outliers_influence import variance_inflation_factor\n",
    "from scipy import stats\n",
    "from sklearn import tree\n",
    "from sklearn.metrics import accuracy_score , confusion_matrix , mean_squared_error\n",
    "from sklearn import preprocessing\n",
    "from sklearn.preprocessing import LabelEncoder\n",
    "from sklearn.preprocessing import OneHotEncoder\n",
    "from sklearn.linear_model import LogisticRegression\n",
    "from sklearn.metrics import make_scorer, classification_report, confusion_matrix, roc_curve, roc_auc_score, precision_score, recall_score, f1_score\n",
    "from sklearn import linear_model, tree, metrics, model_selection, exceptions, ensemble, metrics\n",
    "from sklearn.metrics import fbeta_score"
   ]
  },
  {
   "cell_type": "code",
   "execution_count": 2,
   "metadata": {
    "ExecuteTime": {
     "end_time": "2019-07-31T02:41:03.335782Z",
     "start_time": "2019-07-31T02:41:02.645175Z"
    },
    "colab": {},
    "colab_type": "code",
    "id": "t2au2fBUFogF"
   },
   "outputs": [],
   "source": [
    "data_train = pd.read_csv(\"Data/train_validation_dataset.csv\")\n",
    "data_test = pd.read_csv(\"Data/test_dataset.csv\")"
   ]
  },
  {
   "cell_type": "markdown",
   "metadata": {},
   "source": [
    "<b> Note: EDA in notebook `Data_Extraction_and_Exploratory_Data_Analysis`"
   ]
  },
  {
   "cell_type": "markdown",
   "metadata": {
    "colab_type": "text",
    "id": "H8rKaIFmFogc"
   },
   "source": [
    "### Combining train and test data for pre-processing"
   ]
  },
  {
   "cell_type": "code",
   "execution_count": 3,
   "metadata": {
    "ExecuteTime": {
     "end_time": "2019-07-31T02:41:03.368204Z",
     "start_time": "2019-07-31T02:41:03.363270Z"
    },
    "colab": {},
    "colab_type": "code",
    "id": "zOuclHr1Fogc"
   },
   "outputs": [
    {
     "name": "stdout",
     "output_type": "stream",
     "text": [
      "(124900, 40)\n"
     ]
    }
   ],
   "source": [
    "# concatenating train and test set for pre-processing\n",
    "# add a column to label train and test data, where train=0, test=1.\n",
    "\n",
    "data_train['dataset'] = 0\n",
    "data_test['dataset'] = 1\n",
    "data = pd.concat([data_train, data_test])\n",
    "print(data.shape)"
   ]
  },
  {
   "cell_type": "markdown",
   "metadata": {
    "colab_type": "text",
    "id": "hY-vTth-Fogp"
   },
   "source": [
    "<b> Pre-processing"
   ]
  },
  {
   "cell_type": "code",
   "execution_count": 4,
   "metadata": {
    "ExecuteTime": {
     "end_time": "2019-07-31T02:41:04.736798Z",
     "start_time": "2019-07-31T02:41:03.942294Z"
    },
    "colab": {},
    "colab_type": "code",
    "id": "ZAxRwsQrFogp"
   },
   "outputs": [],
   "source": [
    "# Change date column\n",
    "from datetime import datetime\n",
    "date = data['date']\n",
    "data['date'] = pd.to_datetime(date).dt.strftime('%m/%Y')\n",
    "\n",
    "# replace field that's entirely space (or empty) with NaN.\n",
    "data = data.replace(r'^\\s*$', 'NA', regex=True)\n",
    "\n",
    "# impute missing values NaN with 0.\n",
    "data = data.replace(np.nan, 0)"
   ]
  },
  {
   "cell_type": "code",
   "execution_count": 5,
   "metadata": {
    "ExecuteTime": {
     "end_time": "2019-07-31T02:41:12.473258Z",
     "start_time": "2019-07-31T02:41:12.335373Z"
    },
    "colab": {},
    "colab_type": "code",
    "id": "wC1-m5l1Fogw"
   },
   "outputs": [],
   "source": [
    "data = data.drop(['fullvisitorid', 'Unnamed: 0'], axis=1)"
   ]
  },
  {
   "cell_type": "markdown",
   "metadata": {
    "colab_type": "text",
    "id": "xNtGqXLrFogx"
   },
   "source": [
    "<b> Transformations - Encode Categorical Data "
   ]
  },
  {
   "cell_type": "code",
   "execution_count": 6,
   "metadata": {
    "ExecuteTime": {
     "end_time": "2019-07-31T02:41:12.909049Z",
     "start_time": "2019-07-31T02:41:12.481460Z"
    },
    "colab": {},
    "colab_type": "code",
    "id": "loiUSkPtFogz",
    "outputId": "8ba39aba-b271-4fd5-dc40-2b5b43d70110",
    "scrolled": false
   },
   "outputs": [
    {
     "name": "stdout",
     "output_type": "stream",
     "text": [
      "date                 4\n",
      "channelgrouping      8\n",
      "campaign_today       5\n",
      "medium_today         7\n",
      "keyword_today      436\n",
      "adcontent_today     24\n",
      "devicecategory       3\n",
      "continent            6\n",
      "subcontinent        23\n",
      "country            186\n",
      "metro               71\n",
      "city               354\n",
      "operatingsystem      7\n",
      "source_today         6\n",
      "dtype: int64\n"
     ]
    }
   ],
   "source": [
    "# Show Cateogrical columns using .select_dtypes()\n",
    "cat_data = data.select_dtypes(include=[object]) # use this for sklearn's encoders\n",
    "\n",
    "cat_data_cols = data.select_dtypes(\n",
    "    include=[object]).columns  # use this for pd.get_dummies\n",
    "\n",
    "print(cat_data.nunique())"
   ]
  },
  {
   "cell_type": "code",
   "execution_count": 7,
   "metadata": {
    "colab": {},
    "colab_type": "code",
    "id": "XkFkuoUkFog1",
    "scrolled": true
   },
   "outputs": [],
   "source": [
    "data = pd.get_dummies(data, columns=cat_data_cols)"
   ]
  },
  {
   "cell_type": "markdown",
   "metadata": {
    "colab_type": "text",
    "id": "bJZOYv9-Fog3"
   },
   "source": [
    "#### Split data back into train and test"
   ]
  },
  {
   "cell_type": "markdown",
   "metadata": {
    "colab_type": "text",
    "id": "CjG5WRlpFog7"
   },
   "source": [
    "- Split March-May 2017 data into Train and Validate <br>\n",
    "- Jun 2017 data as Test <br>\n",
    "- Perform MinMax Scaling <br>"
   ]
  },
  {
   "cell_type": "code",
   "execution_count": 8,
   "metadata": {
    "ExecuteTime": {
     "end_time": "2019-07-31T02:41:18.499235Z",
     "start_time": "2019-07-31T02:41:17.317581Z"
    },
    "colab": {},
    "colab_type": "code",
    "id": "0XNoncD4Fog3"
   },
   "outputs": [],
   "source": [
    "# move col 'dataset' to the last col.\n",
    "data = data[[c for c in data if c not in ['dataset']] + ['dataset']]\n",
    "# move col 'transactions' to the last col.\n",
    "data = data[[c for c in data if c not in ['transactions_target']] + ['transactions_target']]"
   ]
  },
  {
   "cell_type": "code",
   "execution_count": 9,
   "metadata": {
    "ExecuteTime": {
     "end_time": "2019-07-31T02:41:19.336962Z",
     "start_time": "2019-07-31T02:41:18.501154Z"
    },
    "colab": {},
    "colab_type": "code",
    "id": "4yrPcpNCFog5"
   },
   "outputs": [],
   "source": [
    "train = data[data['dataset'] == 0]\n",
    "test = data[data['dataset'] == 1]"
   ]
  },
  {
   "cell_type": "markdown",
   "metadata": {
    "colab_type": "text",
    "id": "TUh3GZFRFog7"
   },
   "source": [
    "<b> Split train data to train-validation"
   ]
  },
  {
   "cell_type": "code",
   "execution_count": 10,
   "metadata": {
    "ExecuteTime": {
     "end_time": "2019-07-31T02:41:19.670800Z",
     "start_time": "2019-07-31T02:41:19.345342Z"
    },
    "colab": {},
    "colab_type": "code",
    "id": "PlVk3WLtFog8"
   },
   "outputs": [
    {
     "name": "stdout",
     "output_type": "stream",
     "text": [
      "(66424, 1162)\n",
      "(66424,)\n",
      "(28468, 1162)\n",
      "(28468,)\n",
      "(30008, 1162)\n",
      "(30008,)\n"
     ]
    }
   ],
   "source": [
    "from sklearn import preprocessing\n",
    "min_max_scaler = preprocessing.MinMaxScaler()\n",
    "\n",
    "X = train.drop(['transactions_target', 'transactionrevenue_target'], axis=1)\n",
    "y = train['transactions_target']\n",
    "\n",
    "X_train, X_val , y_train, y_val=model_selection.train_test_split(X,y,test_size=0.3, random_state=1234)\n",
    "\n",
    "X_train = min_max_scaler.fit_transform(X_train)\n",
    "X_val = min_max_scaler.transform(X_val)\n",
    "\n",
    "X_test = test.drop(['transactions_target', 'transactionrevenue_target'], axis=1)\n",
    "y_test = test['transactions_target']\n",
    "\n",
    "X_test = min_max_scaler.transform(X_test)\n",
    "\n",
    "# Check train and test datasets\n",
    "print(X_train.shape)\n",
    "print(y_train.shape)\n",
    "print(X_val.shape)\n",
    "print(y_val.shape)\n",
    "print(X_test.shape)\n",
    "print(y_test.shape)"
   ]
  },
  {
   "cell_type": "markdown",
   "metadata": {
    "colab_type": "text",
    "id": "wCEHzYVqFohB"
   },
   "source": [
    "## Classification Models"
   ]
  },
  {
   "cell_type": "markdown",
   "metadata": {
    "colab_type": "text",
    "id": "lKu79gmvFohB"
   },
   "source": [
    "The following classification models were used: <br>\n",
    "- Logistic Regression\n",
    "- Random Forest\n",
    "- Adaptive Boosting\n",
    "- Light Gradient Boosting (LGB)\n",
    "- Neural Network"
   ]
  },
  {
   "cell_type": "markdown",
   "metadata": {
    "colab_type": "text",
    "id": "KGLlQmalFohC"
   },
   "source": [
    "<b> Define optimisation scorer"
   ]
  },
  {
   "cell_type": "code",
   "execution_count": 11,
   "metadata": {
    "colab": {},
    "colab_type": "code",
    "id": "t4nQKRn1FohD"
   },
   "outputs": [],
   "source": [
    "f2_scorer = metrics.make_scorer(metrics.fbeta_score, beta = 2)"
   ]
  },
  {
   "cell_type": "markdown",
   "metadata": {
    "colab_type": "text",
    "id": "DXklRXrWFohE"
   },
   "source": [
    "<b> Define print score function"
   ]
  },
  {
   "cell_type": "code",
   "execution_count": 12,
   "metadata": {
    "colab": {},
    "colab_type": "code",
    "id": "yw8uSm7qFohE"
   },
   "outputs": [],
   "source": [
    "def print_score(model, X_test, y_test):\n",
    "    predict=model.predict(X_test)\n",
    "    print(\"Training score is {}\".format(model.score(X_train, y_train)))\n",
    "    print(\"Validation score is {}\".format(model.score(X_test, y_test)))\n",
    "    print('Recall:', recall_score(y_test, predict))\n",
    "    print('Precision:', precision_score(y_test, predict))\n",
    "    print('Accuracy:', accuracy_score(y_test, predict))\n",
    "    print(\"f1:\", f1_score(y_test, predict))\n",
    "    print(\"f2:\", fbeta_score(y_test, predict, beta=2), '\\n')\n",
    "    print('Classification Score')\n",
    "    print(metrics.classification_report(y_test, predict))\n",
    "    print('Confusion Matrix')\n",
    "    print(metrics.confusion_matrix(y_test, predict))"
   ]
  },
  {
   "cell_type": "markdown",
   "metadata": {
    "colab_type": "text",
    "id": "pkXiH_ZJFohH"
   },
   "source": [
    "## 1 - Logistic Regression"
   ]
  },
  {
   "cell_type": "markdown",
   "metadata": {
    "colab_type": "text",
    "id": "coGuTY9fFohH"
   },
   "source": [
    "<b> Parameter Tuning"
   ]
  },
  {
   "cell_type": "code",
   "execution_count": 13,
   "metadata": {
    "colab": {},
    "colab_type": "code",
    "id": "FYKPPoCPFohI"
   },
   "outputs": [],
   "source": [
    "# parameters = {'solver': ['newton-cg', 'sag','lbfgs'],\n",
    "#                'C': [0.01, 0.05, 0.1, 0.2, 0.5]\n",
    "#                }\n",
    "\n",
    "# rs_lr = model_selection.RandomizedSearchCV(LogisticRegression(penalty='l2', random_state=1, class_weight='balanced'),\n",
    "#                                             parameters,scoring = f2_scorer,\n",
    "#                                             cv=model_selection.StratifiedKFold(\n",
    "#                                                 n_splits=5, shuffle=True, random_state=2019),\n",
    "#                                             verbose=2, n_jobs=-1)\n",
    "\n",
    "# rs_lr.fit(X_train, y_train)\n",
    "\n",
    "#results\n",
    "# rs_lr.best_estimator_\n",
    "# LogisticRegression(C=0.2, class_weight='balanced', dual=False,\n",
    "#                    fit_intercept=True, intercept_scaling=1, l1_ratio=None,\n",
    "#                    max_iter=100, multi_class='warn', n_jobs=None, penalty='l2',\n",
    "#                    random_state=1, solver='newton-cg', tol=0.0001, verbose=0,\n",
    "#                    warm_start=False)"
   ]
  },
  {
   "cell_type": "markdown",
   "metadata": {
    "colab_type": "text",
    "id": "73woN6QAFohK"
   },
   "source": [
    "<b> Logistic Regression Model"
   ]
  },
  {
   "cell_type": "code",
   "execution_count": 25,
   "metadata": {
    "colab": {},
    "colab_type": "code",
    "id": "upUQXW8MFohM"
   },
   "outputs": [
    {
     "data": {
      "text/plain": [
       "LogisticRegression(C=0.2, class_weight='balanced', dual=False,\n",
       "                   fit_intercept=True, intercept_scaling=1, l1_ratio=None,\n",
       "                   max_iter=100, multi_class='warn', n_jobs=None, penalty='l2',\n",
       "                   random_state=1, solver='newton-cg', tol=0.0001, verbose=0,\n",
       "                   warm_start=False)"
      ]
     },
     "execution_count": 25,
     "metadata": {},
     "output_type": "execute_result"
    }
   ],
   "source": [
    "lr = LogisticRegression(C=0.2, class_weight='balanced', dual=False,\n",
    "                   fit_intercept=True, intercept_scaling=1, \n",
    "                   max_iter=100, multi_class='warn', n_jobs=None, penalty='l2',\n",
    "                   random_state=1, solver='newton-cg', tol=0.0001, verbose=0,\n",
    "                   warm_start=False)\n",
    "\n",
    "lr.fit(X_train,y_train)"
   ]
  },
  {
   "cell_type": "markdown",
   "metadata": {
    "colab_type": "text",
    "id": "g1_k25AfFohP"
   },
   "source": [
    "<b> Prediction with Validation Data (Logistic Regression)"
   ]
  },
  {
   "cell_type": "code",
   "execution_count": 26,
   "metadata": {
    "colab": {},
    "colab_type": "code",
    "id": "tGciGDL7FohP",
    "outputId": "74dee28f-b06c-4b61-d5bd-5b690f16b493"
   },
   "outputs": [
    {
     "name": "stdout",
     "output_type": "stream",
     "text": [
      "Training score is 0.8524479103938336\n",
      "Validation score is 0.8504285513559083\n",
      "Recall: 0.8811513463324049\n",
      "Precision: 0.1868478046859618\n",
      "Accuracy: 0.8504285513559083\n",
      "f1: 0.3083170890188434\n",
      "f2: 0.5054863108554385 \n",
      "\n",
      "Classification Score\n",
      "              precision    recall  f1-score   support\n",
      "\n",
      "           0       0.99      0.85      0.92     27391\n",
      "           1       0.19      0.88      0.31      1077\n",
      "\n",
      "    accuracy                           0.85     28468\n",
      "   macro avg       0.59      0.87      0.61     28468\n",
      "weighted avg       0.96      0.85      0.89     28468\n",
      "\n",
      "Confusion Matrix\n",
      "[[23261  4130]\n",
      " [  128   949]]\n"
     ]
    }
   ],
   "source": [
    "print_score(lr, X_val, y_val)"
   ]
  },
  {
   "cell_type": "markdown",
   "metadata": {
    "colab_type": "text",
    "id": "IRfr_RvYFohS"
   },
   "source": [
    "<b> Feature Importance (Logistic Regression)"
   ]
  },
  {
   "cell_type": "code",
   "execution_count": 54,
   "metadata": {
    "colab": {},
    "colab_type": "code",
    "id": "DkaYSpvvFohS",
    "outputId": "11fedc23-d50a-45d3-9219-0a80cb842e33"
   },
   "outputs": [
    {
     "name": "stdout",
     "output_type": "stream",
     "text": [
      "                                    feature  importance\n",
      "2                           pageviews_today   15.356345\n",
      "1                                hits_today   14.285231\n",
      "3                          timeonsite_today    9.436504\n",
      "19                          transactions_lt    3.872688\n",
      "554                         country_Belgium    1.767657\n",
      "585                         country_Ecuador    1.742471\n",
      "301  keyword_today_google store merchandise    1.592827\n",
      "673                     country_Puerto Rico    1.559484\n",
      "32                   channelgrouping_Social    1.426745\n",
      "713            country_United Arab Emirates    1.388390\n"
     ]
    }
   ],
   "source": [
    "lr_importance= pd.DataFrame.from_dict({'feature':list(X.columns), 'importance': lr.coef_[0] })\n",
    "print(lr_importance.sort_values('importance',ascending=False).head(10))"
   ]
  },
  {
   "cell_type": "code",
   "execution_count": 18,
   "metadata": {
    "colab": {},
    "colab_type": "code",
    "id": "AhfXVTdCFohU",
    "outputId": "c6118da1-1ca6-47a3-95a7-e2a725a526fd"
   },
   "outputs": [
    {
     "name": "stdout",
     "output_type": "stream",
     "text": [
      "                           feature  importance\n",
      "841                    city_Boston   -0.794036\n",
      "656            country_Netherlands   -0.843051\n",
      "532     subcontinent_Southern Asia   -0.855802\n",
      "669                   country_Peru   -0.867691\n",
      "533   subcontinent_Southern Europe   -0.876445\n",
      "955              city_Laguna Beach   -0.930293\n",
      "670            country_Philippines   -0.937057\n",
      "592                 country_France   -1.030795\n",
      "44           medium_today_referral   -1.507789\n",
      "1160          source_today_youtube   -1.674122\n"
     ]
    }
   ],
   "source": [
    "print(lr_importance.sort_values('importance',ascending=False).tail(10))"
   ]
  },
  {
   "cell_type": "markdown",
   "metadata": {
    "colab_type": "text",
    "id": "3M1qp0coFohW"
   },
   "source": [
    "## 2 - Random Forest Modelling"
   ]
  },
  {
   "cell_type": "markdown",
   "metadata": {
    "colab_type": "text",
    "id": "rwAxXVTcFohW"
   },
   "source": [
    "<b> Parameter Tuning"
   ]
  },
  {
   "cell_type": "code",
   "execution_count": 19,
   "metadata": {
    "colab": {},
    "colab_type": "code",
    "id": "pi-5cScXFohW"
   },
   "outputs": [],
   "source": [
    "# parameters = {'criterion': ['gini', 'entropy'],\n",
    "#                'max_depth': [5, 10, 15, 20],\n",
    "#                'min_samples_leaf': [1, 2],\n",
    "#                'min_samples_split': [2, 4, 6],\n",
    "#                'n_estimators': [10, 20, 30, 40],\n",
    "#                'class_weight': ['balanced', 'balanced_subsample', None]\n",
    "#                }\n",
    "\n",
    "# rs_rf = model_selection.RandomizedSearchCV(ensemble.RandomForestClassifier(random_state=1),\n",
    "#                                             parameters,\n",
    "#                                             cv=model_selection.StratifiedKFold(\n",
    "#                                                 n_splits=10, shuffle=True, random_state=2019),\n",
    "#                                             verbose=2, n_jobs=-1)\n",
    "\n",
    "# rs_rf.fit(X_train, y_train)\n",
    "# print('best parameters: ', rs_rf.best_params_)\n",
    "\n",
    "##results\n",
    "# rs_rf.best_estimator_\n",
    "# n_estimators=30, min_samples_split=6,random_state=2019,\n",
    "#                                      min_samples_leaf=1, max_depth=20, criterion='entropy', class_weight='balanced'"
   ]
  },
  {
   "cell_type": "markdown",
   "metadata": {
    "colab_type": "text",
    "id": "M1WmIB5pFohX"
   },
   "source": [
    "<b> Random Forest Model"
   ]
  },
  {
   "cell_type": "code",
   "execution_count": 27,
   "metadata": {
    "colab": {},
    "colab_type": "code",
    "id": "JOCLK9vtFohZ",
    "outputId": "8a3c1926-74f7-4f40-a549-bcc806b5bbed"
   },
   "outputs": [
    {
     "data": {
      "text/plain": [
       "RandomForestClassifier(bootstrap=True, class_weight='balanced',\n",
       "                       criterion='entropy', max_depth=20, max_features='auto',\n",
       "                       max_leaf_nodes=None, min_impurity_decrease=0.0,\n",
       "                       min_impurity_split=None, min_samples_leaf=1,\n",
       "                       min_samples_split=6, min_weight_fraction_leaf=0.0,\n",
       "                       n_estimators=30, n_jobs=None, oob_score=False,\n",
       "                       random_state=2019, verbose=0, warm_start=False)"
      ]
     },
     "execution_count": 27,
     "metadata": {},
     "output_type": "execute_result"
    }
   ],
   "source": [
    "rf = ensemble.RandomForestClassifier(n_estimators=30, min_samples_split=6,random_state=2019,\n",
    "                                     min_samples_leaf=1, max_depth=20, criterion='entropy', class_weight='balanced')\n",
    "\n",
    "\n",
    "rf.fit(X_train, y_train)"
   ]
  },
  {
   "cell_type": "markdown",
   "metadata": {
    "colab_type": "text",
    "id": "RkhbmARHFohb"
   },
   "source": [
    "<b> Prediction with Validation Data (Random Forest)"
   ]
  },
  {
   "cell_type": "code",
   "execution_count": 28,
   "metadata": {
    "colab": {},
    "colab_type": "code",
    "id": "uDXsTQ23Fohb",
    "outputId": "635d5f05-5ee2-4d2a-d7a1-d3fdf8f961f4",
    "scrolled": true
   },
   "outputs": [
    {
     "name": "stdout",
     "output_type": "stream",
     "text": [
      "Training score is 0.9362880886426593\n",
      "Validation score is 0.9263383448082056\n",
      "Recall: 0.8245125348189415\n",
      "Precision: 0.31759656652360513\n",
      "Accuracy: 0.9263383448082056\n",
      "f1: 0.458559256390395\n",
      "f2: 0.625 \n",
      "\n",
      "Classification Score\n",
      "              precision    recall  f1-score   support\n",
      "\n",
      "           0       0.99      0.93      0.96     27391\n",
      "           1       0.32      0.82      0.46      1077\n",
      "\n",
      "    accuracy                           0.93     28468\n",
      "   macro avg       0.66      0.88      0.71     28468\n",
      "weighted avg       0.97      0.93      0.94     28468\n",
      "\n",
      "Confusion Matrix\n",
      "[[25483  1908]\n",
      " [  189   888]]\n"
     ]
    }
   ],
   "source": [
    "print_score(rf, X_val, y_val)"
   ]
  },
  {
   "cell_type": "markdown",
   "metadata": {
    "colab_type": "text",
    "id": "ndrv7dl8Fohe"
   },
   "source": [
    "<b> Feature Importance for Random Forest"
   ]
  },
  {
   "cell_type": "code",
   "execution_count": 29,
   "metadata": {
    "colab": {},
    "colab_type": "code",
    "id": "6FdbMmBhFohe",
    "outputId": "b19c30bd-71ed-4673-d057-fc6fb4c49a3e",
    "scrolled": true
   },
   "outputs": [
    {
     "name": "stdout",
     "output_type": "stream",
     "text": [
      "                            feature  importance\n",
      "1                        hits_today    0.178941\n",
      "3                  timeonsite_today    0.144316\n",
      "2                   pageviews_today    0.125436\n",
      "510              continent_Americas    0.042550\n",
      "715           country_United States    0.041255\n",
      "526   subcontinent_Northern America    0.037341\n",
      "8                           hits_st    0.017710\n",
      "1151   operatingsystem_b'Macintosh'    0.016335\n",
      "15                          hits_lt    0.015935\n",
      "1155         source_today_b'direct'    0.015321\n"
     ]
    }
   ],
   "source": [
    "rf_importance= pd.DataFrame.from_dict({'feature':list(X.columns), 'importance': rf.feature_importances_ })\n",
    "print(rf_importance.sort_values('importance',ascending=False).head(10))"
   ]
  },
  {
   "cell_type": "markdown",
   "metadata": {
    "colab_type": "text",
    "id": "AeLqovEVFohg"
   },
   "source": [
    "## 3 - Adaptive Boosting"
   ]
  },
  {
   "cell_type": "markdown",
   "metadata": {
    "colab_type": "text",
    "id": "mcNgNyyEFohg"
   },
   "source": [
    "<b> Parameter Tuning"
   ]
  },
  {
   "cell_type": "code",
   "execution_count": 23,
   "metadata": {
    "colab": {},
    "colab_type": "code",
    "id": "iSJG3YGeFohh"
   },
   "outputs": [],
   "source": [
    "# parameters = {'base_estimator__criterion' : [\"gini\", \"entropy\"], \n",
    "#               'base_estimator__splitter' :   [\"best\", \"random\"],\n",
    "#               'base_estimator__max_depth': [15, 20, 25, 30], \n",
    "#               'base_estimator__min_samples_split': list(range(15, 30, 5)),\n",
    "#               'algorithm': ['SAMME', 'SAMME.R'], 'learning_rate': [0.001, 0.01, 0.1, 0.5, 1], \n",
    "#               'n_estimators': list(range(50, 200, 50))}\n",
    "\n",
    "# DTC = tree.DecisionTreeClassifier(random_state = 2019, max_features = \"auto\", class_weight = \"balanced\")\n",
    "\n",
    "# rs_ab = model_selection.RandomizedSearchCV(ensemble.AdaBoostClassifier(random_state = 2019, base_estimator = DTC), \n",
    "#                                   parameters, scoring = f2_scorer, \n",
    "#                                   cv = model_selection.StratifiedKFold(n_splits = 5, shuffle = True, random_state = 2019),\n",
    "#                                        iid=False, verbose=2, n_jobs=-1)\n",
    "\n",
    "#rs_ab.fit(X_train, y_train)\n",
    "\n",
    "#results\n",
    "# rs_ab.best_estimator_\n",
    "# AdaBoostClassifier(algorithm='SAMME',\n",
    "#                    base_estimator=DecisionTreeClassifier(class_weight='balanced',\n",
    "#                                                          criterion='gini',\n",
    "#                                                          max_depth=25,\n",
    "#                                                          max_features='auto',\n",
    "#                                                          max_leaf_nodes=None,\n",
    "#                                                          min_impurity_decrease=0.0,\n",
    "#                                                          min_impurity_split=None,\n",
    "#                                                          min_samples_leaf=1,\n",
    "#                                                          min_samples_split=20,\n",
    "#                                                          min_weight_fraction_leaf=0.0,\n",
    "#                                                          presort=False,\n",
    "#                                                          random_state=2019,\n",
    "#                                                          splitter='best'),\n",
    "#                    learning_rate=0.1, n_estimators=100, random_state=2019)"
   ]
  },
  {
   "cell_type": "markdown",
   "metadata": {
    "colab_type": "text",
    "id": "ADrSL50VFohl"
   },
   "source": [
    "<b> AdaBoost Model"
   ]
  },
  {
   "cell_type": "code",
   "execution_count": 30,
   "metadata": {
    "colab": {},
    "colab_type": "code",
    "id": "8QQ2UKvjFoho"
   },
   "outputs": [
    {
     "data": {
      "text/plain": [
       "AdaBoostClassifier(algorithm='SAMME',\n",
       "                   base_estimator=DecisionTreeClassifier(class_weight='balanced',\n",
       "                                                         criterion='gini',\n",
       "                                                         max_depth=25,\n",
       "                                                         max_features='auto',\n",
       "                                                         max_leaf_nodes=None,\n",
       "                                                         min_impurity_decrease=0.0,\n",
       "                                                         min_impurity_split=None,\n",
       "                                                         min_samples_leaf=1,\n",
       "                                                         min_samples_split=20,\n",
       "                                                         min_weight_fraction_leaf=0.0,\n",
       "                                                         presort=False,\n",
       "                                                         random_state=2019,\n",
       "                                                         splitter='best'),\n",
       "                   learning_rate=0.1, n_estimators=100, random_state=2019)"
      ]
     },
     "execution_count": 30,
     "metadata": {},
     "output_type": "execute_result"
    }
   ],
   "source": [
    "from sklearn.tree import DecisionTreeClassifier\n",
    "\n",
    "ab= ensemble.AdaBoostClassifier(algorithm='SAMME',\n",
    "                   base_estimator=DecisionTreeClassifier(class_weight='balanced',\n",
    "                                                         criterion='gini',\n",
    "                                                         max_depth=25,\n",
    "                                                         max_features='auto',\n",
    "                                                         max_leaf_nodes=None,\n",
    "                                                         min_impurity_decrease=0.0,\n",
    "                                                         min_impurity_split=None,\n",
    "                                                         min_samples_leaf=1,\n",
    "                                                         min_samples_split=20,\n",
    "                                                         min_weight_fraction_leaf=0.0,\n",
    "                                                         presort=False,\n",
    "                                                         random_state=2019,\n",
    "                                                         splitter='best'),\n",
    "                   learning_rate=0.1, n_estimators=100, random_state=2019)\n",
    "\n",
    "ab.fit(X_train, y_train)"
   ]
  },
  {
   "cell_type": "markdown",
   "metadata": {
    "colab_type": "text",
    "id": "PI2o3j3zFohr"
   },
   "source": [
    "<b> Prediction with Validation Data (Adaboost)"
   ]
  },
  {
   "cell_type": "code",
   "execution_count": 31,
   "metadata": {
    "colab": {},
    "colab_type": "code",
    "id": "HUEV8OF3Fohr",
    "outputId": "cce183ff-e250-4fec-baae-eb06b9ddd5e9",
    "scrolled": true
   },
   "outputs": [
    {
     "name": "stdout",
     "output_type": "stream",
     "text": [
      "Training score is 0.9447940503432495\n",
      "Validation score is 0.9295349163973584\n",
      "Recall: 0.8245125348189415\n",
      "Precision: 0.32828096118299444\n",
      "Accuracy: 0.9295349163973584\n",
      "f1: 0.469592808038075\n",
      "f2: 0.6331099386852987 \n",
      "\n",
      "Classification Score\n",
      "              precision    recall  f1-score   support\n",
      "\n",
      "           0       0.99      0.93      0.96     27391\n",
      "           1       0.33      0.82      0.47      1077\n",
      "\n",
      "    accuracy                           0.93     28468\n",
      "   macro avg       0.66      0.88      0.72     28468\n",
      "weighted avg       0.97      0.93      0.94     28468\n",
      "\n",
      "Confusion Matrix\n",
      "[[25574  1817]\n",
      " [  189   888]]\n"
     ]
    }
   ],
   "source": [
    "print_score(ab, X_val, y_val)"
   ]
  },
  {
   "cell_type": "markdown",
   "metadata": {
    "colab_type": "text",
    "id": "IxX1vQF7Fohx"
   },
   "source": [
    "<b> Feature Importance for Adaptive Boosting"
   ]
  },
  {
   "cell_type": "code",
   "execution_count": 57,
   "metadata": {
    "colab": {},
    "colab_type": "code",
    "id": "9Dzh_w9jFohx",
    "outputId": "87b1416a-f90d-4944-8e49-0a5a3c49ebd3",
    "scrolled": true
   },
   "outputs": [
    {
     "name": "stdout",
     "output_type": "stream",
     "text": [
      "                           feature  importance\n",
      "1                       hits_today    0.135019\n",
      "2                  pageviews_today    0.132302\n",
      "3                 timeonsite_today    0.113976\n",
      "715          country_United States    0.041932\n",
      "526  subcontinent_Northern America    0.037938\n",
      "510             continent_Americas    0.034758\n",
      "17                   timeonsite_lt    0.017973\n",
      "10                   timeonsite_st    0.016219\n",
      "16                    pageviews_lt    0.015704\n",
      "8                          hits_st    0.015574\n"
     ]
    }
   ],
   "source": [
    "ab_importance= pd.DataFrame.from_dict({'feature':list(X.columns), 'importance': ab.feature_importances_ })\n",
    "print(ab_importance.sort_values('importance',ascending=False).head(10))"
   ]
  },
  {
   "cell_type": "markdown",
   "metadata": {
    "colab_type": "text",
    "id": "FH2KzwH2Fohy"
   },
   "source": [
    "## 4 - Neural Network"
   ]
  },
  {
   "cell_type": "code",
   "execution_count": 17,
   "metadata": {},
   "outputs": [
    {
     "name": "stdout",
     "output_type": "stream",
     "text": [
      "Fitting 5 folds for each of 10 candidates, totalling 50 fits\n"
     ]
    },
    {
     "name": "stderr",
     "output_type": "stream",
     "text": [
      "[Parallel(n_jobs=-1)]: Using backend LokyBackend with 4 concurrent workers.\n",
      "[Parallel(n_jobs=-1)]: Done  33 tasks      | elapsed: 48.5min\n",
      "[Parallel(n_jobs=-1)]: Done  50 out of  50 | elapsed: 68.4min finished\n",
      "C:\\Users\\evelyn\\Anaconda3\\lib\\site-packages\\sklearn\\neural_network\\multilayer_perceptron.py:566: ConvergenceWarning: Stochastic Optimizer: Maximum iterations (100) reached and the optimization hasn't converged yet.\n",
      "  % self.max_iter, ConvergenceWarning)\n"
     ]
    },
    {
     "data": {
      "text/plain": [
       "MLPClassifier(activation='tanh', alpha=0.0001, batch_size='auto', beta_1=0.9,\n",
       "              beta_2=0.999, early_stopping=False, epsilon=1e-08,\n",
       "              hidden_layer_sizes=(50, 100, 50), learning_rate='constant',\n",
       "              learning_rate_init=0.001, max_iter=100, momentum=0.9,\n",
       "              n_iter_no_change=10, nesterovs_momentum=True, power_t=0.5,\n",
       "              random_state=2019, shuffle=True, solver='adam', tol=0.0001,\n",
       "              validation_fraction=0.1, verbose=False, warm_start=False)"
      ]
     },
     "execution_count": 17,
     "metadata": {},
     "output_type": "execute_result"
    }
   ],
   "source": [
    "# from sklearn.neural_network import MLPClassifier\n",
    "# parameters = {\n",
    "#     'hidden_layer_sizes': [(50,50,50), (50,100,50), (100,)],\n",
    "#     'activation': ['tanh', 'relu'],\n",
    "#     'solver': ['sgd', 'adam'],\n",
    "#     'alpha': [0.0001, 0.05],\n",
    "#     'learning_rate': ['constant','adaptive'],\n",
    "# }\n",
    "\n",
    "# rs_nn = model_selection.RandomizedSearchCV(MLPClassifier(random_state=2019, max_iter=100),\n",
    "#                                             parameters,scoring = f2_scorer,\n",
    "#                                             cv=model_selection.StratifiedKFold(\n",
    "#                                                 n_splits=5, shuffle=True, random_state=2019),\n",
    "#                                             verbose=2, n_jobs=-1)\n",
    "\n",
    "# rs_nn.fit(X_train, y_train)\n",
    "# rs_nn.best_estimator_\n",
    "\n",
    "# # result\n",
    "# # MLPClassifier(activation='tanh', alpha=0.0001, batch_size='auto', beta_1=0.9,\n",
    "# #               beta_2=0.999, early_stopping=False, epsilon=1e-08,\n",
    "# #               hidden_layer_sizes=(50, 100, 50), learning_rate='constant',\n",
    "# #               learning_rate_init=0.001, max_iter=100, momentum=0.9,\n",
    "# #               n_iter_no_change=10, nesterovs_momentum=True, power_t=0.5,\n",
    "# #               random_state=2019, shuffle=True, solver='adam', tol=0.0001,\n",
    "# #               validation_fraction=0.1, verbose=False, warm_start=False)"
   ]
  },
  {
   "cell_type": "code",
   "execution_count": 18,
   "metadata": {},
   "outputs": [
    {
     "name": "stderr",
     "output_type": "stream",
     "text": [
      "C:\\Users\\evelyn\\Anaconda3\\lib\\site-packages\\sklearn\\neural_network\\multilayer_perceptron.py:566: ConvergenceWarning: Stochastic Optimizer: Maximum iterations (100) reached and the optimization hasn't converged yet.\n",
      "  % self.max_iter, ConvergenceWarning)\n"
     ]
    },
    {
     "data": {
      "text/plain": [
       "MLPClassifier(activation='tanh', alpha=0.0001, batch_size='auto', beta_1=0.9,\n",
       "              beta_2=0.999, early_stopping=False, epsilon=1e-08,\n",
       "              hidden_layer_sizes=(50, 100, 50), learning_rate='constant',\n",
       "              learning_rate_init=0.001, max_iter=100, momentum=0.9,\n",
       "              n_iter_no_change=10, nesterovs_momentum=True, power_t=0.5,\n",
       "              random_state=2019, shuffle=True, solver='adam', tol=0.0001,\n",
       "              validation_fraction=0.1, verbose=False, warm_start=False)"
      ]
     },
     "execution_count": 18,
     "metadata": {},
     "output_type": "execute_result"
    }
   ],
   "source": [
    "from sklearn.neural_network import MLPClassifier\n",
    "\n",
    "nn= MLPClassifier(activation='tanh', alpha=0.0001, batch_size='auto', beta_1=0.9,\n",
    "              beta_2=0.999, early_stopping=False, epsilon=1e-08,\n",
    "              hidden_layer_sizes=(50, 100, 50), learning_rate='constant',\n",
    "              learning_rate_init=0.001, max_iter=100, momentum=0.9,\n",
    "              n_iter_no_change=10, nesterovs_momentum=True, power_t=0.5,\n",
    "              random_state=2019, shuffle=True, solver='adam', tol=0.0001,\n",
    "              validation_fraction=0.1, verbose=False, warm_start=False)\n",
    "\n",
    "nn.fit(X_train, y_train)"
   ]
  },
  {
   "cell_type": "markdown",
   "metadata": {
    "colab_type": "text",
    "id": "PI2o3j3zFohr"
   },
   "source": [
    "<b> Prediction with Validation Data (Neural Network)"
   ]
  },
  {
   "cell_type": "code",
   "execution_count": 19,
   "metadata": {},
   "outputs": [
    {
     "name": "stdout",
     "output_type": "stream",
     "text": [
      "Training score is 0.9765596772250994\n",
      "Validation score is 0.9641702964732332\n",
      "Recall: 0.37604456824512533\n",
      "Precision: 0.5378486055776892\n",
      "Accuracy: 0.9641702964732332\n",
      "f1: 0.4426229508196721\n",
      "f2: 0.40011855364552457 \n",
      "\n",
      "Classification Score\n",
      "              precision    recall  f1-score   support\n",
      "\n",
      "           0       0.98      0.99      0.98     27391\n",
      "           1       0.54      0.38      0.44      1077\n",
      "\n",
      "    accuracy                           0.96     28468\n",
      "   macro avg       0.76      0.68      0.71     28468\n",
      "weighted avg       0.96      0.96      0.96     28468\n",
      "\n",
      "Confusion Matrix\n",
      "[[27043   348]\n",
      " [  672   405]]\n"
     ]
    }
   ],
   "source": [
    "print_score(nn, X_val, y_val)"
   ]
  },
  {
   "cell_type": "markdown",
   "metadata": {
    "colab_type": "text",
    "id": "sc3uPv4TFoh5"
   },
   "source": [
    "## 5 - LightGBM"
   ]
  },
  {
   "cell_type": "code",
   "execution_count": 32,
   "metadata": {
    "colab": {},
    "colab_type": "code",
    "id": "SVbWeYILFoh5",
    "outputId": "32a07fed-cd35-4a5c-a252-34f48e758bc3"
   },
   "outputs": [],
   "source": [
    "import lightgbm as lgb"
   ]
  },
  {
   "cell_type": "markdown",
   "metadata": {},
   "source": [
    "<b> Parameter Tuning"
   ]
  },
  {
   "cell_type": "code",
   "execution_count": 30,
   "metadata": {},
   "outputs": [],
   "source": [
    "# coarse to fine tuning\n",
    "# parameter tuning guideline from: https://lightgbm.readthedocs.io/en/latest/Parameters-Tuning.html\n",
    "\n",
    "# Step 1 - coarse\n",
    "# parameters = {'num_leaves': [10,20,30,40,50], 'min_data_in_leaf': [5, 10, 20, 30, 50, 100],'max_depth': [-1, 20, 40, 60, 100]}\n",
    "\n",
    "# lgb_fit = model_selection.RandomizedSearchCV(lgb.LGBMClassifier(), parameters, scoring =  f2_scorer,\n",
    "#                                    cv = model_selection.StratifiedKFold(n_splits = 10, shuffle = True, random_state = 2019))\n",
    "    \n",
    "# lgb_fit.fit(X_train, y_train)\n",
    "# print('best score:', lgb_fit.best_score_)\n",
    "# print('best parameters: ', lgb_fit.best_params_)\n",
    "\n",
    "# #results\n",
    "# #best score: 0.4311396027489838\n",
    "# #best parameters:  {'num_leaves': 50, 'min_data_in_leaf': 20, 'max_depth': 100}\n",
    "\n",
    "# Step 2 - fine\n",
    "# parameters = {'num_leaves': [30,50,70,90], 'min_data_in_leaf': [10,20,30,40],'max_depth': [100,120,140,160]}\n",
    "\n",
    "# lgb_fit = model_selection.RandomizedSearchCV(lgb.LGBMClassifier(), parameters, scoring =  f2_scorer,\n",
    "#                                    cv = model_selection.StratifiedKFold(n_splits = 10, shuffle = True, random_state = 2019))\n",
    "    \n",
    "# lgb_fit.fit(X_train, y_train)\n",
    "# print('best score:', lgb_fit.best_score_)\n",
    "# print('best parameters: ', lgb_fit.best_params_)\n",
    "# best score: 0.42790358761961755\n",
    "# best parameters:  {'num_leaves': 90, 'min_data_in_leaf': 10, 'max_depth': 160}\n",
    "\n",
    "# Note: to use step 1 tuning as it generate better score"
   ]
  },
  {
   "cell_type": "markdown",
   "metadata": {},
   "source": [
    "<b> Light Gradient Boosting Model"
   ]
  },
  {
   "cell_type": "code",
   "execution_count": 33,
   "metadata": {},
   "outputs": [
    {
     "name": "stdout",
     "output_type": "stream",
     "text": [
      "[500]\tvalid_0's binary_logloss: 0.07955\n",
      "[1000]\tvalid_0's binary_logloss: 0.0787081\n",
      "[1500]\tvalid_0's binary_logloss: 0.0788506\n",
      "[2000]\tvalid_0's binary_logloss: 0.0797679\n",
      "[2500]\tvalid_0's binary_logloss: 0.0813829\n",
      "[3000]\tvalid_0's binary_logloss: 0.0829726\n"
     ]
    },
    {
     "data": {
      "text/plain": [
       "LGBMClassifier(boosting_type='dart', class_weight=None, colsample_bytree=1.0,\n",
       "               importance_type='split', learning_rate=0.04, max_depth=100,\n",
       "               min_child_samples=20, min_child_weight=0.001,\n",
       "               min_data_in_leaf=20, min_split_gain=0.0, n_estimators=3200,\n",
       "               n_jobs=-1, num_leaves=50, objective=None, random_state=None,\n",
       "               reg_alpha=0.0, reg_lambda=0.0, silent=True, subsample=1.0,\n",
       "               subsample_for_bin=200000, subsample_freq=0)"
      ]
     },
     "execution_count": 33,
     "metadata": {},
     "output_type": "execute_result"
    }
   ],
   "source": [
    "lgb_c = lgb.LGBMClassifier(learning_rate = 0.04, n_estimators = 3200, boosting_type = 'dart', num_leaves = 50, min_data_in_leaf = 20, max_depth = 100)\n",
    "lgb_c.fit(X_train, y_train,\n",
    "          eval_set = [(X_val, y_val)],\n",
    "          eval_metric = None,\n",
    "          verbose = 500)"
   ]
  },
  {
   "cell_type": "markdown",
   "metadata": {},
   "source": [
    "<b> Prediction with Validation Data (LGB) "
   ]
  },
  {
   "cell_type": "code",
   "execution_count": 34,
   "metadata": {},
   "outputs": [
    {
     "name": "stdout",
     "output_type": "stream",
     "text": [
      "Training score is 0.9942490666024328\n",
      "Validation score is 0.9690880989180835\n",
      "Recall: 0.44661095636026\n",
      "Precision: 0.6287581699346405\n",
      "Accuracy: 0.9690880989180835\n",
      "f1: 0.5222584147665581\n",
      "f2: 0.4740784545633747 \n",
      "\n",
      "Classification Score\n",
      "              precision    recall  f1-score   support\n",
      "\n",
      "           0       0.98      0.99      0.98     27391\n",
      "           1       0.63      0.45      0.52      1077\n",
      "\n",
      "    accuracy                           0.97     28468\n",
      "   macro avg       0.80      0.72      0.75     28468\n",
      "weighted avg       0.97      0.97      0.97     28468\n",
      "\n",
      "Confusion Matrix\n",
      "[[27107   284]\n",
      " [  596   481]]\n"
     ]
    }
   ],
   "source": [
    "print_score(lgb_c, X_val, y_val)"
   ]
  },
  {
   "cell_type": "code",
   "execution_count": 56,
   "metadata": {
    "colab": {},
    "colab_type": "code",
    "id": "pAbOXVBUFoh_",
    "outputId": "654f9ba7-b69c-4049-d9e8-2c905072d309"
   },
   "outputs": [
    {
     "name": "stdout",
     "output_type": "stream",
     "text": [
      "                           feature  importance\n",
      "3                 timeonsite_today       34290\n",
      "1                       hits_today       17570\n",
      "2                  pageviews_today       17111\n",
      "17                   timeonsite_lt        6308\n",
      "10                   timeonsite_st        6071\n",
      "15                         hits_lt        3402\n",
      "8                          hits_st        3145\n",
      "1151  operatingsystem_b'Macintosh'        2990\n",
      "9                     pageviews_st        2828\n",
      "21                    date_03/2017        2795\n"
     ]
    }
   ],
   "source": [
    "lgb_importance= pd.DataFrame.from_dict({'feature':list(X.columns), 'importance': lgb_c.feature_importances_ })\n",
    "print(lgb_importance.sort_values('importance',ascending=False).head(10))"
   ]
  },
  {
   "cell_type": "markdown",
   "metadata": {
    "colab_type": "text",
    "id": "2QmmuDJ0FoiA"
   },
   "source": [
    "### Precision Recall Chart - Validation Data"
   ]
  },
  {
   "cell_type": "code",
   "execution_count": 38,
   "metadata": {
    "colab": {},
    "colab_type": "code",
    "id": "s1qGONSGFoiA"
   },
   "outputs": [],
   "source": [
    "lr_proba_val=lr.predict_proba(X_val)[:, 1]\n",
    "rf_proba_val=rf.predict_proba(X_val)[:, 1]\n",
    "ab_proba_val=ab.predict_proba(X_val)[:, 1]\n",
    "nn_proba_val=nn.predict_proba(X_val)[:, 1]\n",
    "lgb_proba_val=lgb_c.predict_proba(X_val, num_iteration=lgb_c.best_iteration_)[:,1]"
   ]
  },
  {
   "cell_type": "code",
   "execution_count": 39,
   "metadata": {
    "colab": {},
    "colab_type": "code",
    "id": "yKutTa7KFoiC",
    "outputId": "342da430-1bf4-40fb-8e22-451b8438057f"
   },
   "outputs": [
    {
     "data": {
      "image/png": "[encoded data removed]",
      "text/plain": [
       "<Figure size 432x288 with 1 Axes>"
      ]
     },
     "metadata": {
      "needs_background": "light"
     },
     "output_type": "display_data"
    },
    {
     "data": {
      "image/png": "[encoded data removed]",
      "text/plain": [
       "<Figure size 432x288 with 1 Axes>"
      ]
     },
     "metadata": {
      "needs_background": "light"
     },
     "output_type": "display_data"
    }
   ],
   "source": [
    "from inspect import signature\n",
    "\n",
    "lr_precision, lr_recall, _ = metrics.precision_recall_curve(y_val, lr_proba_val)\n",
    "rf_precision, rf_recall, _ = metrics.precision_recall_curve(y_val, rf_proba_val)\n",
    "ab_precision, ab_recall, _ = metrics.precision_recall_curve(y_val, ab_proba_val)\n",
    "nn_precision, nn_recall, _ = metrics.precision_recall_curve(y_val, nn_proba_val)\n",
    "lgb_precision, lgb_recall, _ = metrics.precision_recall_curve(y_val, lgb_proba_val)\n",
    "\n",
    "step_kwargs = ({'step': 'post'}\n",
    "                   if 'step' in signature(plt.fill_between).parameters\n",
    "                   else {})\n",
    "plt.step(lr_recall, lr_precision, color='blue', alpha=0.7, where='post', label='Logistic')\n",
    "plt.step(rf_recall, rf_precision, color='red', alpha=0.7, where='post', label='Random Forest')\n",
    "plt.step(ab_recall, ab_precision, color='green', alpha=0.7, where='post', label='AdaBoost')\n",
    "plt.step(nn_recall, nn_precision, color='orange', alpha=0.7, where='post', label='Neural Network')\n",
    "plt.step(lgb_recall, lgb_precision, color='cyan', alpha=0.7, where='post', label='LightGBM')\n",
    "plt.xlabel('Recall')\n",
    "plt.ylabel('Precision')\n",
    "plt.ylim([0.0, 1.05])\n",
    "plt.xlim([0.0, 1.0])\n",
    "plt.title('Precision-Recall curve for Validation Data')\n",
    "plt.legend(loc='best')\n",
    "plt.show()\n",
    "\n",
    "fpr_lr, tpr_lr, _ = roc_curve(y_val, lr_proba_val)\n",
    "fpr_rf, tpr_rf, _ = roc_curve(y_val, rf_proba_val)\n",
    "fpr_ab, tpr_ab, _ = roc_curve(y_val, ab_proba_val)\n",
    "fpr_nn, tpr_nn, _ = roc_curve(y_val, nn_proba_val)\n",
    "fpr_lgb, tpr_lgb, _ = roc_curve(y_val, lgb_proba_val)\n",
    "\n",
    "plt.figure(1)\n",
    "plt.plot([0, 1], [0, 1], 'k--')\n",
    "plt.plot(fpr_lr, tpr_lr, label='Logistic',color='blue', alpha=0.7)\n",
    "plt.plot(fpr_rf, tpr_rf, label='Random Forest',color='red', alpha=0.7)\n",
    "plt.plot(fpr_ab, tpr_ab, label='AdaBoost',color='green', alpha=0.7)\n",
    "plt.plot(fpr_nn, tpr_nn, label='Neural Network',color='orange', alpha=0.7)\n",
    "plt.plot(fpr_lgb, tpr_lgb, label='LightGBM',color='cyan', alpha=0.7)\n",
    "plt.xlabel('False positive rate')\n",
    "plt.ylabel('True positive rate')\n",
    "plt.title('ROC curve')\n",
    "plt.legend(loc='best')\n",
    "plt.show()"
   ]
  },
  {
   "cell_type": "markdown",
   "metadata": {},
   "source": [
    "# Model Comparison - Test Data"
   ]
  },
  {
   "cell_type": "markdown",
   "metadata": {},
   "source": [
    "<b> 1. Prediction with Test Data (Logistic Regression)"
   ]
  },
  {
   "cell_type": "code",
   "execution_count": 40,
   "metadata": {},
   "outputs": [
    {
     "name": "stdout",
     "output_type": "stream",
     "text": [
      "Logistic Regression\n",
      "Training score is 0.8524479103938336\n",
      "Validation score is 0.8351439616102373\n",
      "Recall: 0.8785834738617201\n",
      "Precision: 0.17827202737382378\n",
      "Accuracy: 0.8351439616102373\n",
      "f1: 0.29640164983643863\n",
      "f2: 0.49202002077627727 \n",
      "\n",
      "Classification Score\n",
      "              precision    recall  f1-score   support\n",
      "\n",
      "           0       0.99      0.83      0.91     28822\n",
      "           1       0.18      0.88      0.30      1186\n",
      "\n",
      "    accuracy                           0.84     30008\n",
      "   macro avg       0.59      0.86      0.60     30008\n",
      "weighted avg       0.96      0.84      0.88     30008\n",
      "\n",
      "Confusion Matrix\n",
      "[[24019  4803]\n",
      " [  144  1042]]\n"
     ]
    }
   ],
   "source": [
    "print ('Logistic Regression')\n",
    "print_score(lr, X_test, y_test)"
   ]
  },
  {
   "cell_type": "markdown",
   "metadata": {},
   "source": [
    "<b> 2. Prediction with Test Data (Random Forest)"
   ]
  },
  {
   "cell_type": "code",
   "execution_count": 41,
   "metadata": {},
   "outputs": [
    {
     "name": "stdout",
     "output_type": "stream",
     "text": [
      "Random Forest\n",
      "Training score is 0.9362880886426593\n",
      "Validation score is 0.9189216209010931\n",
      "Recall: 0.8195615514333895\n",
      "Precision: 0.3046067063616421\n",
      "Accuracy: 0.9189216209010931\n",
      "f1: 0.44413982179575046\n",
      "f2: 0.612476370510397 \n",
      "\n",
      "Classification Score\n",
      "              precision    recall  f1-score   support\n",
      "\n",
      "           0       0.99      0.92      0.96     28822\n",
      "           1       0.30      0.82      0.44      1186\n",
      "\n",
      "    accuracy                           0.92     30008\n",
      "   macro avg       0.65      0.87      0.70     30008\n",
      "weighted avg       0.96      0.92      0.94     30008\n",
      "\n",
      "Confusion Matrix\n",
      "[[26603  2219]\n",
      " [  214   972]]\n"
     ]
    }
   ],
   "source": [
    "print ('Random Forest')\n",
    "print_score(rf, X_test, y_test)"
   ]
  },
  {
   "cell_type": "markdown",
   "metadata": {},
   "source": [
    "<b> 3. Prediction with Test Data (Adaboost)"
   ]
  },
  {
   "cell_type": "code",
   "execution_count": 42,
   "metadata": {
    "scrolled": true
   },
   "outputs": [
    {
     "name": "stdout",
     "output_type": "stream",
     "text": [
      "Training score is 0.9447940503432495\n",
      "Validation score is 0.9229872034124234\n",
      "Recall: 0.7967959527824621\n",
      "Precision: 0.31343283582089554\n",
      "Accuracy: 0.9229872034124234\n",
      "f1: 0.44989288264698885\n",
      "f2: 0.6089702281221807 \n",
      "\n",
      "Classification Score\n",
      "              precision    recall  f1-score   support\n",
      "\n",
      "           0       0.99      0.93      0.96     28822\n",
      "           1       0.31      0.80      0.45      1186\n",
      "\n",
      "    accuracy                           0.92     30008\n",
      "   macro avg       0.65      0.86      0.70     30008\n",
      "weighted avg       0.96      0.92      0.94     30008\n",
      "\n",
      "Confusion Matrix\n",
      "[[26752  2070]\n",
      " [  241   945]]\n"
     ]
    }
   ],
   "source": [
    "print_score(ab, X_test, y_test)"
   ]
  },
  {
   "cell_type": "markdown",
   "metadata": {},
   "source": [
    "<b> 4. Prediction with Test Data (Neural Network)"
   ]
  },
  {
   "cell_type": "code",
   "execution_count": 43,
   "metadata": {},
   "outputs": [
    {
     "name": "stdout",
     "output_type": "stream",
     "text": [
      "Training score is 0.9765596772250994\n",
      "Validation score is 0.9616768861636897\n",
      "Recall: 0.3785834738617201\n",
      "Precision: 0.5208816705336426\n",
      "Accuracy: 0.9616768861636897\n",
      "f1: 0.43847656249999994\n",
      "f2: 0.40046378879771677 \n",
      "\n",
      "Classification Score\n",
      "              precision    recall  f1-score   support\n",
      "\n",
      "           0       0.97      0.99      0.98     28822\n",
      "           1       0.52      0.38      0.44      1186\n",
      "\n",
      "    accuracy                           0.96     30008\n",
      "   macro avg       0.75      0.68      0.71     30008\n",
      "weighted avg       0.96      0.96      0.96     30008\n",
      "\n",
      "Confusion Matrix\n",
      "[[28409   413]\n",
      " [  737   449]]\n"
     ]
    }
   ],
   "source": [
    "print_score(nn, X_test, y_test)"
   ]
  },
  {
   "cell_type": "markdown",
   "metadata": {},
   "source": [
    "<b> 5. Prediction with Validation Data (Light Gradient Boosting)"
   ]
  },
  {
   "cell_type": "code",
   "execution_count": 44,
   "metadata": {},
   "outputs": [
    {
     "name": "stdout",
     "output_type": "stream",
     "text": [
      "Training score is 0.9942490666024328\n",
      "Validation score is 0.9649426819514796\n",
      "Recall: 0.3768971332209106\n",
      "Precision: 0.5881578947368421\n",
      "Accuracy: 0.9649426819514796\n",
      "f1: 0.4594039054470709\n",
      "f2: 0.40606831395348836 \n",
      "\n",
      "Classification Score\n",
      "              precision    recall  f1-score   support\n",
      "\n",
      "           0       0.97      0.99      0.98     28822\n",
      "           1       0.59      0.38      0.46      1186\n",
      "\n",
      "    accuracy                           0.96     30008\n",
      "   macro avg       0.78      0.68      0.72     30008\n",
      "weighted avg       0.96      0.96      0.96     30008\n",
      "\n",
      "Confusion Matrix\n",
      "[[28509   313]\n",
      " [  739   447]]\n"
     ]
    }
   ],
   "source": [
    "print_score(lgb_c, X_test, y_test)"
   ]
  },
  {
   "cell_type": "markdown",
   "metadata": {
    "colab_type": "text",
    "id": "AbCbKPZqFoiD"
   },
   "source": [
    "### Precision Recall Chart - Test Data"
   ]
  },
  {
   "cell_type": "code",
   "execution_count": 45,
   "metadata": {
    "colab": {},
    "colab_type": "code",
    "id": "3SGuBzeKFoiD"
   },
   "outputs": [],
   "source": [
    "lr_proba_test=lr.predict_proba(X_test)[:, 1]\n",
    "rf_proba_test=rf.predict_proba(X_test)[:, 1]\n",
    "ab_proba_test=ab.predict_proba(X_test)[:, 1]\n",
    "nn_proba_test=nn.predict_proba(X_test)[:, 1]\n",
    "lgb_proba_test=lgb_c.predict_proba(X_test, num_iteration=lgb_c.best_iteration_)[:,1]"
   ]
  },
  {
   "cell_type": "code",
   "execution_count": 46,
   "metadata": {
    "colab": {},
    "colab_type": "code",
    "id": "hgeSSG5mFoiE",
    "outputId": "86f8be0e-2c51-4090-aeb1-b31fbc2f8fa2"
   },
   "outputs": [
    {
     "data": {
      "image/png": "[encoded data removed]",
      "text/plain": [
       "<Figure size 432x288 with 1 Axes>"
      ]
     },
     "metadata": {
      "needs_background": "light"
     },
     "output_type": "display_data"
    },
    {
     "data": {
      "image/png": "[encoded data removed]",
      "text/plain": [
       "<Figure size 432x288 with 1 Axes>"
      ]
     },
     "metadata": {
      "needs_background": "light"
     },
     "output_type": "display_data"
    }
   ],
   "source": [
    "from inspect import signature\n",
    "\n",
    "lr_precision, lr_recall, _ = metrics.precision_recall_curve(y_test, lr_proba_test)\n",
    "rf_precision, rf_recall, _ = metrics.precision_recall_curve(y_test, rf_proba_test)\n",
    "ab_precision, ab_recall, _ = metrics.precision_recall_curve(y_test, ab_proba_test)\n",
    "nn_precision, nn_recall, _ = metrics.precision_recall_curve(y_test, nn_proba_test)\n",
    "lgb_precision, lgb_recall, _ = metrics.precision_recall_curve(y_test, lgb_proba_test)\n",
    "\n",
    "step_kwargs = ({'step': 'post'}\n",
    "                   if 'step' in signature(plt.fill_between).parameters\n",
    "                   else {})\n",
    "plt.step(lr_recall, lr_precision, color='blue', alpha=0.7, where='post', label='Logistic')\n",
    "plt.step(rf_recall, rf_precision, color='red', alpha=0.7, where='post', label='Random Forest')\n",
    "plt.step(ab_recall, ab_precision, color='green', alpha=0.7, where='post', label='AdaBoost')\n",
    "plt.step(nn_recall, nn_precision, color='orange', alpha=0.7, where='post', label='Neural Network')\n",
    "plt.step(lgb_recall, lgb_precision, color='cyan', alpha=0.7, where='post', label='LightGBM')\n",
    "plt.xlabel('Recall')\n",
    "plt.ylabel('Precision')\n",
    "plt.ylim([0.0, 1.05])\n",
    "plt.xlim([0.0, 1.0])\n",
    "plt.title('Precision-Recall curve for Test Data')\n",
    "plt.legend(loc='best')\n",
    "plt.show()\n",
    "\n",
    "fpr_lr, tpr_lr, _ = roc_curve(y_test, lr_proba_test)\n",
    "fpr_rf, tpr_rf, _ = roc_curve(y_test, rf_proba_test)\n",
    "fpr_ab, tpr_ab, _ = roc_curve(y_test, ab_proba_test)\n",
    "fpr_nn, tpr_nn, _ = roc_curve(y_test, nn_proba_test)\n",
    "fpr_lgb, tpr_lgb, _ = roc_curve(y_test, lgb_proba_test)\n",
    "\n",
    "plt.figure(1)\n",
    "plt.plot([0, 1], [0, 1], 'k--')\n",
    "plt.plot(fpr_lr, tpr_lr, label='Logistic',color='blue', alpha=0.7)\n",
    "plt.plot(fpr_rf, tpr_rf, label='Random Forest',color='red', alpha=0.7)\n",
    "plt.plot(fpr_ab, tpr_ab, label='AdaBoost',color='green', alpha=0.7)\n",
    "plt.plot(fpr_nn, tpr_nn, label='Neural Network',color='orange', alpha=0.7)\n",
    "plt.plot(fpr_lgb, tpr_lgb, label='LightGBM',color='cyan', alpha=0.7)\n",
    "plt.xlabel('False positive rate')\n",
    "plt.ylabel('True positive rate')\n",
    "plt.title('ROC curve')\n",
    "plt.legend(loc='best')\n",
    "plt.show()"
   ]
  },
  {
   "cell_type": "markdown",
   "metadata": {
    "colab_type": "text",
    "id": "t4KjrlUzFoiF"
   },
   "source": [
    "### Threshold Curves - Test Data"
   ]
  },
  {
   "cell_type": "code",
   "execution_count": 47,
   "metadata": {
    "colab": {},
    "colab_type": "code",
    "id": "ebYNYFBgFoiG"
   },
   "outputs": [],
   "source": [
    "def plot_prec_recall_vs_tresh(y_test, proba):\n",
    "    precisions, recalls, thresholds = metrics.precision_recall_curve(y_test, proba)\n",
    "    \n",
    "    plt.plot(thresholds, precisions[:-1], 'b--', label='precision')\n",
    "    plt.plot(thresholds, recalls[:-1], 'g--', label = 'recall')\n",
    "    plt.xlabel('Threshold')\n",
    "    plt.legend(loc='upper left')\n",
    "    plt.xlim([0,1.05])\n",
    "    plt.ylim([0,1.05])"
   ]
  },
  {
   "cell_type": "markdown",
   "metadata": {
    "colab_type": "text",
    "id": "K46I5qilFoiI"
   },
   "source": [
    "<b> Logistic Regression"
   ]
  },
  {
   "cell_type": "code",
   "execution_count": 48,
   "metadata": {
    "colab": {},
    "colab_type": "code",
    "id": "MS9fxDaTFoiI",
    "outputId": "1b4a5c8d-48b2-446a-ef2e-684ae358c003"
   },
   "outputs": [
    {
     "data": {
      "image/png": "[encoded data removed]",
      "text/plain": [
       "<Figure size 432x288 with 1 Axes>"
      ]
     },
     "metadata": {
      "needs_background": "light"
     },
     "output_type": "display_data"
    }
   ],
   "source": [
    "plot_prec_recall_vs_tresh(y_test, lr_proba_test)\n",
    "plt.show()"
   ]
  },
  {
   "cell_type": "markdown",
   "metadata": {
    "colab_type": "text",
    "id": "QgwJfzarFoiK"
   },
   "source": [
    "<b> Random Forest"
   ]
  },
  {
   "cell_type": "code",
   "execution_count": 49,
   "metadata": {
    "colab": {},
    "colab_type": "code",
    "id": "sF5BzYQuFoiK",
    "outputId": "f0bc22a8-a352-4ebe-f6f0-c8e7ab1c123e"
   },
   "outputs": [
    {
     "data": {
      "image/png": "[encoded data removed]",
      "text/plain": [
       "<Figure size 432x288 with 1 Axes>"
      ]
     },
     "metadata": {
      "needs_background": "light"
     },
     "output_type": "display_data"
    }
   ],
   "source": [
    "plot_prec_recall_vs_tresh(y_test, rf_proba_test)\n",
    "plt.show()"
   ]
  },
  {
   "cell_type": "markdown",
   "metadata": {
    "colab_type": "text",
    "id": "axQmzEV0FoiL"
   },
   "source": [
    "<b> Adaptive Boosting"
   ]
  },
  {
   "cell_type": "code",
   "execution_count": 50,
   "metadata": {
    "colab": {},
    "colab_type": "code",
    "id": "tMG3-kblFoiL",
    "outputId": "8ce6e811-0f56-4785-f639-1ba5b029719e"
   },
   "outputs": [
    {
     "data": {
      "image/png": "[encoded data removed]",
      "text/plain": [
       "<Figure size 432x288 with 1 Axes>"
      ]
     },
     "metadata": {
      "needs_background": "light"
     },
     "output_type": "display_data"
    }
   ],
   "source": [
    "plot_prec_recall_vs_tresh(y_test, ab_proba_test)\n",
    "plt.show()"
   ]
  },
  {
   "cell_type": "markdown",
   "metadata": {
    "colab_type": "text",
    "id": "CcJwKqjyFoiN"
   },
   "source": [
    "<b> Neural Network"
   ]
  },
  {
   "cell_type": "code",
   "execution_count": 51,
   "metadata": {
    "colab": {},
    "colab_type": "code",
    "id": "6Hd7xIzmFoiN",
    "outputId": "91b150db-bae0-49bf-a77e-e3abc53977ca"
   },
   "outputs": [
    {
     "data": {
      "image/png": "[encoded data removed]",
      "text/plain": [
       "<Figure size 432x288 with 1 Axes>"
      ]
     },
     "metadata": {
      "needs_background": "light"
     },
     "output_type": "display_data"
    }
   ],
   "source": [
    "plot_prec_recall_vs_tresh(y_test, nn_proba_test)\n",
    "plt.show()"
   ]
  },
  {
   "cell_type": "markdown",
   "metadata": {
    "colab_type": "text",
    "id": "r_wkgd7vFoiP"
   },
   "source": [
    "<b> Light GBM"
   ]
  },
  {
   "cell_type": "code",
   "execution_count": 52,
   "metadata": {
    "colab": {},
    "colab_type": "code",
    "id": "js-U1c08FoiQ",
    "outputId": "1d8c35e2-6c61-47fe-fd88-4c77c2f55630"
   },
   "outputs": [
    {
     "data": {
      "image/png": "[encoded data removed]",
      "text/plain": [
       "<Figure size 432x288 with 1 Axes>"
      ]
     },
     "metadata": {
      "needs_background": "light"
     },
     "output_type": "display_data"
    }
   ],
   "source": [
    "plot_prec_recall_vs_tresh(y_test, lgb_proba_test)\n",
    "plt.show()"
   ]
  },
  {
   "cell_type": "markdown",
   "metadata": {
    "colab_type": "text",
    "id": "iQ-CArDHFoiR"
   },
   "source": [
    "### Exporting Results"
   ]
  },
  {
   "cell_type": "markdown",
   "metadata": {
    "colab_type": "text",
    "id": "abRAmygdFoiR"
   },
   "source": [
    "<b> Feature Importance"
   ]
  },
  {
   "cell_type": "code",
   "execution_count": 58,
   "metadata": {
    "colab": {},
    "colab_type": "code",
    "id": "EbNJDt9PFoiR",
    "scrolled": true
   },
   "outputs": [],
   "source": [
    "lr_importance.to_csv('Feature_Importance_02_LR.csv')\n",
    "rf_importance.to_csv('Feature_Importance_02_RF.csv')\n",
    "ab_importance.to_csv('Feature_Importance_02_AB.csv')\n",
    "lgb_importance.to_csv('Feature_Importance_02_LGB.csv')"
   ]
  },
  {
   "cell_type": "markdown",
   "metadata": {
    "colab_type": "text",
    "id": "YQBaMzVVFoiT"
   },
   "source": [
    "<b> Results"
   ]
  },
  {
   "cell_type": "code",
   "execution_count": 59,
   "metadata": {
    "colab": {},
    "colab_type": "code",
    "id": "tVJVawY-FoiU"
   },
   "outputs": [],
   "source": [
    "combine_proba=pd.concat([pd.DataFrame(lr_proba_test, columns=['Logistic_Regression']).reset_index(),\n",
    "                         pd.DataFrame(rf_proba_test, columns=['Random_Forest']).reset_index(),\n",
    "                         pd.DataFrame(ab_proba_test, columns=['AdaBoost']).reset_index(),\n",
    "                         pd.DataFrame(nn_proba_test, columns=['Neural_Network']).reset_index(),\n",
    "                         pd.DataFrame(lgb_proba_test, columns=['Light_GBM']).reset_index()\n",
    "                        ], axis=1).drop('index', axis=1)"
   ]
  },
  {
   "cell_type": "code",
   "execution_count": 60,
   "metadata": {
    "colab": {},
    "colab_type": "code",
    "id": "-h8Kcv_qFoiW",
    "scrolled": true
   },
   "outputs": [],
   "source": [
    "combine_with_data=pd.concat([pd.DataFrame(X_test, columns=X.columns).reset_index(), \n",
    "                             pd.DataFrame(y_test).reset_index(), \n",
    "                             combine_proba.reset_index()], axis=1).drop('index', axis=1)"
   ]
  },
  {
   "cell_type": "code",
   "execution_count": 61,
   "metadata": {
    "colab": {},
    "colab_type": "code",
    "id": "6kG36rUoFoiX",
    "outputId": "41931abc-8ca3-4632-ae6e-f3ebc8f827bb"
   },
   "outputs": [
    {
     "data": {
      "text/html": [
       "<div>\n",
       "<style scoped>\n",
       "    .dataframe tbody tr th:only-of-type {\n",
       "        vertical-align: middle;\n",
       "    }\n",
       "\n",
       "    .dataframe tbody tr th {\n",
       "        vertical-align: top;\n",
       "    }\n",
       "\n",
       "    .dataframe thead th {\n",
       "        text-align: right;\n",
       "    }\n",
       "</style>\n",
       "<table border=\"1\" class=\"dataframe\">\n",
       "  <thead>\n",
       "    <tr style=\"text-align: right;\">\n",
       "      <th></th>\n",
       "      <th>sessions</th>\n",
       "      <th>hits_today</th>\n",
       "      <th>pageviews_today</th>\n",
       "      <th>timeonsite_today</th>\n",
       "      <th>bounces_today</th>\n",
       "      <th>newvisits_today</th>\n",
       "      <th>ismobile</th>\n",
       "      <th>visits_st</th>\n",
       "      <th>hits_st</th>\n",
       "      <th>pageviews_st</th>\n",
       "      <th>...</th>\n",
       "      <th>source_today_b'others'</th>\n",
       "      <th>source_today_b'partners'</th>\n",
       "      <th>source_today_b'youtube'</th>\n",
       "      <th>dataset</th>\n",
       "      <th>transactions_target</th>\n",
       "      <th>Logistic_Regression</th>\n",
       "      <th>Random_Forest</th>\n",
       "      <th>AdaBoost</th>\n",
       "      <th>Neural_Network</th>\n",
       "      <th>Light_GBM</th>\n",
       "    </tr>\n",
       "  </thead>\n",
       "  <tbody>\n",
       "    <tr>\n",
       "      <th>0</th>\n",
       "      <td>0.0</td>\n",
       "      <td>0.0</td>\n",
       "      <td>0.004292</td>\n",
       "      <td>0.122858</td>\n",
       "      <td>0.0</td>\n",
       "      <td>1.0</td>\n",
       "      <td>1.0</td>\n",
       "      <td>0.0</td>\n",
       "      <td>0.0</td>\n",
       "      <td>0.0</td>\n",
       "      <td>...</td>\n",
       "      <td>0.0</td>\n",
       "      <td>0.0</td>\n",
       "      <td>0.0</td>\n",
       "      <td>1.0</td>\n",
       "      <td>0</td>\n",
       "      <td>0.265618</td>\n",
       "      <td>0.182679</td>\n",
       "      <td>0.319171</td>\n",
       "      <td>1.743440e-04</td>\n",
       "      <td>0.000191</td>\n",
       "    </tr>\n",
       "    <tr>\n",
       "      <th>1</th>\n",
       "      <td>0.0</td>\n",
       "      <td>0.0</td>\n",
       "      <td>0.004292</td>\n",
       "      <td>0.001648</td>\n",
       "      <td>0.0</td>\n",
       "      <td>1.0</td>\n",
       "      <td>1.0</td>\n",
       "      <td>0.0</td>\n",
       "      <td>0.0</td>\n",
       "      <td>0.0</td>\n",
       "      <td>...</td>\n",
       "      <td>0.0</td>\n",
       "      <td>0.0</td>\n",
       "      <td>0.0</td>\n",
       "      <td>1.0</td>\n",
       "      <td>0</td>\n",
       "      <td>0.000573</td>\n",
       "      <td>0.016216</td>\n",
       "      <td>0.268941</td>\n",
       "      <td>1.366359e-08</td>\n",
       "      <td>0.000003</td>\n",
       "    </tr>\n",
       "    <tr>\n",
       "      <th>2</th>\n",
       "      <td>0.0</td>\n",
       "      <td>0.0</td>\n",
       "      <td>0.004292</td>\n",
       "      <td>0.000577</td>\n",
       "      <td>0.0</td>\n",
       "      <td>1.0</td>\n",
       "      <td>0.0</td>\n",
       "      <td>0.0</td>\n",
       "      <td>0.0</td>\n",
       "      <td>0.0</td>\n",
       "      <td>...</td>\n",
       "      <td>0.0</td>\n",
       "      <td>0.0</td>\n",
       "      <td>0.0</td>\n",
       "      <td>1.0</td>\n",
       "      <td>0</td>\n",
       "      <td>0.072564</td>\n",
       "      <td>0.074224</td>\n",
       "      <td>0.283780</td>\n",
       "      <td>3.705245e-05</td>\n",
       "      <td>0.000148</td>\n",
       "    </tr>\n",
       "    <tr>\n",
       "      <th>3</th>\n",
       "      <td>0.0</td>\n",
       "      <td>0.0</td>\n",
       "      <td>0.004292</td>\n",
       "      <td>0.001071</td>\n",
       "      <td>0.0</td>\n",
       "      <td>1.0</td>\n",
       "      <td>0.0</td>\n",
       "      <td>0.0</td>\n",
       "      <td>0.0</td>\n",
       "      <td>0.0</td>\n",
       "      <td>...</td>\n",
       "      <td>0.0</td>\n",
       "      <td>0.0</td>\n",
       "      <td>0.0</td>\n",
       "      <td>1.0</td>\n",
       "      <td>0</td>\n",
       "      <td>0.053361</td>\n",
       "      <td>0.018814</td>\n",
       "      <td>0.271910</td>\n",
       "      <td>1.607968e-05</td>\n",
       "      <td>0.000234</td>\n",
       "    </tr>\n",
       "    <tr>\n",
       "      <th>4</th>\n",
       "      <td>0.0</td>\n",
       "      <td>0.0</td>\n",
       "      <td>0.004292</td>\n",
       "      <td>0.006427</td>\n",
       "      <td>0.0</td>\n",
       "      <td>1.0</td>\n",
       "      <td>1.0</td>\n",
       "      <td>0.0</td>\n",
       "      <td>0.0</td>\n",
       "      <td>0.0</td>\n",
       "      <td>...</td>\n",
       "      <td>1.0</td>\n",
       "      <td>0.0</td>\n",
       "      <td>0.0</td>\n",
       "      <td>1.0</td>\n",
       "      <td>0</td>\n",
       "      <td>0.048542</td>\n",
       "      <td>0.051542</td>\n",
       "      <td>0.295558</td>\n",
       "      <td>2.090922e-04</td>\n",
       "      <td>0.000155</td>\n",
       "    </tr>\n",
       "    <tr>\n",
       "      <th>5</th>\n",
       "      <td>0.0</td>\n",
       "      <td>0.0</td>\n",
       "      <td>0.004292</td>\n",
       "      <td>0.000082</td>\n",
       "      <td>0.0</td>\n",
       "      <td>1.0</td>\n",
       "      <td>0.0</td>\n",
       "      <td>0.0</td>\n",
       "      <td>0.0</td>\n",
       "      <td>0.0</td>\n",
       "      <td>...</td>\n",
       "      <td>0.0</td>\n",
       "      <td>0.0</td>\n",
       "      <td>0.0</td>\n",
       "      <td>1.0</td>\n",
       "      <td>0</td>\n",
       "      <td>0.011057</td>\n",
       "      <td>0.005107</td>\n",
       "      <td>0.270479</td>\n",
       "      <td>9.618196e-08</td>\n",
       "      <td>0.000015</td>\n",
       "    </tr>\n",
       "    <tr>\n",
       "      <th>6</th>\n",
       "      <td>0.0</td>\n",
       "      <td>0.0</td>\n",
       "      <td>0.004292</td>\n",
       "      <td>0.003790</td>\n",
       "      <td>0.0</td>\n",
       "      <td>0.0</td>\n",
       "      <td>0.0</td>\n",
       "      <td>0.0</td>\n",
       "      <td>0.0</td>\n",
       "      <td>0.0</td>\n",
       "      <td>...</td>\n",
       "      <td>0.0</td>\n",
       "      <td>0.0</td>\n",
       "      <td>0.0</td>\n",
       "      <td>1.0</td>\n",
       "      <td>0</td>\n",
       "      <td>0.484860</td>\n",
       "      <td>0.120113</td>\n",
       "      <td>0.316700</td>\n",
       "      <td>1.433219e-03</td>\n",
       "      <td>0.002265</td>\n",
       "    </tr>\n",
       "    <tr>\n",
       "      <th>7</th>\n",
       "      <td>0.0</td>\n",
       "      <td>0.0</td>\n",
       "      <td>0.004292</td>\n",
       "      <td>0.001401</td>\n",
       "      <td>0.0</td>\n",
       "      <td>1.0</td>\n",
       "      <td>1.0</td>\n",
       "      <td>0.0</td>\n",
       "      <td>0.0</td>\n",
       "      <td>0.0</td>\n",
       "      <td>...</td>\n",
       "      <td>0.0</td>\n",
       "      <td>0.0</td>\n",
       "      <td>0.0</td>\n",
       "      <td>1.0</td>\n",
       "      <td>0</td>\n",
       "      <td>0.072206</td>\n",
       "      <td>0.050741</td>\n",
       "      <td>0.282384</td>\n",
       "      <td>4.718057e-05</td>\n",
       "      <td>0.000015</td>\n",
       "    </tr>\n",
       "    <tr>\n",
       "      <th>8</th>\n",
       "      <td>0.0</td>\n",
       "      <td>0.0</td>\n",
       "      <td>0.004292</td>\n",
       "      <td>0.015903</td>\n",
       "      <td>0.0</td>\n",
       "      <td>0.0</td>\n",
       "      <td>0.0</td>\n",
       "      <td>0.0</td>\n",
       "      <td>0.0</td>\n",
       "      <td>0.0</td>\n",
       "      <td>...</td>\n",
       "      <td>0.0</td>\n",
       "      <td>0.0</td>\n",
       "      <td>0.0</td>\n",
       "      <td>1.0</td>\n",
       "      <td>0</td>\n",
       "      <td>0.549489</td>\n",
       "      <td>0.370340</td>\n",
       "      <td>0.416841</td>\n",
       "      <td>1.220718e-02</td>\n",
       "      <td>0.013730</td>\n",
       "    </tr>\n",
       "    <tr>\n",
       "      <th>9</th>\n",
       "      <td>0.0</td>\n",
       "      <td>0.0</td>\n",
       "      <td>0.004292</td>\n",
       "      <td>0.001401</td>\n",
       "      <td>0.0</td>\n",
       "      <td>1.0</td>\n",
       "      <td>0.0</td>\n",
       "      <td>0.0</td>\n",
       "      <td>0.0</td>\n",
       "      <td>0.0</td>\n",
       "      <td>...</td>\n",
       "      <td>0.0</td>\n",
       "      <td>0.0</td>\n",
       "      <td>0.0</td>\n",
       "      <td>1.0</td>\n",
       "      <td>0</td>\n",
       "      <td>0.450620</td>\n",
       "      <td>0.248650</td>\n",
       "      <td>0.447769</td>\n",
       "      <td>3.897642e-02</td>\n",
       "      <td>0.013642</td>\n",
       "    </tr>\n",
       "  </tbody>\n",
       "</table>\n",
       "<p>10 rows × 1168 columns</p>\n",
       "</div>"
      ],
      "text/plain": [
       "   sessions  hits_today  pageviews_today  timeonsite_today  bounces_today  \\\n",
       "0       0.0         0.0         0.004292          0.122858            0.0   \n",
       "1       0.0         0.0         0.004292          0.001648            0.0   \n",
       "2       0.0         0.0         0.004292          0.000577            0.0   \n",
       "3       0.0         0.0         0.004292          0.001071            0.0   \n",
       "4       0.0         0.0         0.004292          0.006427            0.0   \n",
       "5       0.0         0.0         0.004292          0.000082            0.0   \n",
       "6       0.0         0.0         0.004292          0.003790            0.0   \n",
       "7       0.0         0.0         0.004292          0.001401            0.0   \n",
       "8       0.0         0.0         0.004292          0.015903            0.0   \n",
       "9       0.0         0.0         0.004292          0.001401            0.0   \n",
       "\n",
       "   newvisits_today  ismobile  visits_st  hits_st  pageviews_st  ...  \\\n",
       "0              1.0       1.0        0.0      0.0           0.0  ...   \n",
       "1              1.0       1.0        0.0      0.0           0.0  ...   \n",
       "2              1.0       0.0        0.0      0.0           0.0  ...   \n",
       "3              1.0       0.0        0.0      0.0           0.0  ...   \n",
       "4              1.0       1.0        0.0      0.0           0.0  ...   \n",
       "5              1.0       0.0        0.0      0.0           0.0  ...   \n",
       "6              0.0       0.0        0.0      0.0           0.0  ...   \n",
       "7              1.0       1.0        0.0      0.0           0.0  ...   \n",
       "8              0.0       0.0        0.0      0.0           0.0  ...   \n",
       "9              1.0       0.0        0.0      0.0           0.0  ...   \n",
       "\n",
       "   source_today_b'others'  source_today_b'partners'  source_today_b'youtube'  \\\n",
       "0                     0.0                       0.0                      0.0   \n",
       "1                     0.0                       0.0                      0.0   \n",
       "2                     0.0                       0.0                      0.0   \n",
       "3                     0.0                       0.0                      0.0   \n",
       "4                     1.0                       0.0                      0.0   \n",
       "5                     0.0                       0.0                      0.0   \n",
       "6                     0.0                       0.0                      0.0   \n",
       "7                     0.0                       0.0                      0.0   \n",
       "8                     0.0                       0.0                      0.0   \n",
       "9                     0.0                       0.0                      0.0   \n",
       "\n",
       "   dataset  transactions_target  Logistic_Regression  Random_Forest  AdaBoost  \\\n",
       "0      1.0                    0             0.265618       0.182679  0.319171   \n",
       "1      1.0                    0             0.000573       0.016216  0.268941   \n",
       "2      1.0                    0             0.072564       0.074224  0.283780   \n",
       "3      1.0                    0             0.053361       0.018814  0.271910   \n",
       "4      1.0                    0             0.048542       0.051542  0.295558   \n",
       "5      1.0                    0             0.011057       0.005107  0.270479   \n",
       "6      1.0                    0             0.484860       0.120113  0.316700   \n",
       "7      1.0                    0             0.072206       0.050741  0.282384   \n",
       "8      1.0                    0             0.549489       0.370340  0.416841   \n",
       "9      1.0                    0             0.450620       0.248650  0.447769   \n",
       "\n",
       "   Neural_Network  Light_GBM  \n",
       "0    1.743440e-04   0.000191  \n",
       "1    1.366359e-08   0.000003  \n",
       "2    3.705245e-05   0.000148  \n",
       "3    1.607968e-05   0.000234  \n",
       "4    2.090922e-04   0.000155  \n",
       "5    9.618196e-08   0.000015  \n",
       "6    1.433219e-03   0.002265  \n",
       "7    4.718057e-05   0.000015  \n",
       "8    1.220718e-02   0.013730  \n",
       "9    3.897642e-02   0.013642  \n",
       "\n",
       "[10 rows x 1168 columns]"
      ]
     },
     "execution_count": 61,
     "metadata": {},
     "output_type": "execute_result"
    }
   ],
   "source": [
    "combine_with_data.head(10)"
   ]
  },
  {
   "cell_type": "code",
   "execution_count": 62,
   "metadata": {
    "colab": {},
    "colab_type": "code",
    "id": "5qDoOBKmFoiY"
   },
   "outputs": [],
   "source": [
    "combine_with_data.to_csv('Result_02_No_FE.csv')"
   ]
  },
  {
   "cell_type": "markdown",
   "metadata": {
    "colab_type": "text",
    "id": "G6phobJcFoiZ"
   },
   "source": [
    "<b> Save Model"
   ]
  },
  {
   "cell_type": "code",
   "execution_count": 63,
   "metadata": {
    "colab": {},
    "colab_type": "code",
    "id": "KsmPBiVSFoiZ"
   },
   "outputs": [],
   "source": [
    "import pickle\n",
    "\n",
    "with open('LR_02.pkl', 'wb') as file:  \n",
    "    pickle.dump(lr, file)\n",
    "    \n",
    "with open('RF_02.pkl', 'wb') as file:  \n",
    "    pickle.dump(rf, file)\n",
    "    \n",
    "with open('AB_02.pkl', 'wb') as file:  \n",
    "    pickle.dump(ab, file)\n",
    "    \n",
    "with open('NN_02.pkl', 'wb') as file:  \n",
    "    pickle.dump(ab, file)\n",
    "\n",
    "with open('LightGBM_02.pkl', 'wb') as file:  \n",
    "    pickle.dump(lgb_c, file)"
   ]
  },
  {
   "cell_type": "markdown",
   "metadata": {
    "colab_type": "text",
    "id": "U0Jz08M4Foii"
   },
   "source": [
    "## Anomaly Detection "
   ]
  },
  {
   "cell_type": "markdown",
   "metadata": {},
   "source": [
    "#### Data Preparation"
   ]
  },
  {
   "cell_type": "markdown",
   "metadata": {
    "colab_type": "text",
    "id": "ttZl_h7FFoii"
   },
   "source": [
    "<b> Reconfigure X_train and X_test for Anomaly detection </b><br>\n",
    "concat X_train and y_train -> this is for fit <br>\n",
    "slice out only the values for 'transasction_target==0' -> this is for predict <br>\n",
    "concat X_test and y_test -> this is for validation <br>"
   ]
  },
  {
   "cell_type": "code",
   "execution_count": 16,
   "metadata": {
    "ExecuteTime": {
     "end_time": "2019-07-31T02:41:19.737275Z",
     "start_time": "2019-07-31T02:41:19.699393Z"
    },
    "colab": {},
    "colab_type": "code",
    "id": "HxFhukkqFoij"
   },
   "outputs": [],
   "source": [
    "from sklearn import preprocessing\n",
    "from sklearn import svm\n",
    "from sklearn.ensemble import IsolationForest\n",
    "\n",
    "min_max_scaler2 = preprocessing.MinMaxScaler()\n",
    "\n",
    "train_w_label = pd.concat([X, y], axis=1)\n",
    "\n",
    "#only keep the majority class\n",
    "train_anomaly = train_w_label.loc[train_w_label['transactions_target'] == 0].drop('transactions_target', axis=1)\n",
    "X_train_anomaly = min_max_scaler2.fit_transform(train_outlier)\n",
    "\n",
    "#get the validation x and y\n",
    "X_val_anomaly = min_max_scaler2.transform(train_w_label.drop('transactions_target', axis=1))\n",
    "y_val_anomaly = train_w_label['transactions_target']\n",
    "\n",
    "test_w_label=pd.concat([pd.DataFrame(X_test, columns=X.columns), y_test], axis=1)\n",
    "X_test_anomaly=min_max_scaler2.transform(test_w_label.drop('transactions_target', axis=1))\n",
    "y_test_anomaly=test_w_label['transactions_target']"
   ]
  },
  {
   "cell_type": "markdown",
   "metadata": {},
   "source": [
    "<b> Print Score function for Anomaly Detection "
   ]
  },
  {
   "cell_type": "code",
   "execution_count": 17,
   "metadata": {},
   "outputs": [],
   "source": [
    "def print_score_anomaly (y_test, predict):\n",
    "    print('Recall:', recall_score(y_test, predict))\n",
    "    print('Precision:', precision_score(y_test, predict))\n",
    "    print('Accuracy:', accuracy_score(y_test, predict))\n",
    "    print(\"f1:\", f1_score(y_test, predict))\n",
    "    print(\"f2:\", fbeta_score(y_test, predict, beta=2), '\\n')\n",
    "    print('Classification Score')\n",
    "    print(metrics.classification_report(y_test, predict))\n",
    "    print('Confusion Matrix')\n",
    "    print(metrics.confusion_matrix(y_test, predict))"
   ]
  },
  {
   "cell_type": "markdown",
   "metadata": {
    "colab_type": "text",
    "id": "sNvkXV8DFoio"
   },
   "source": [
    "## 6 - OneClassSVM"
   ]
  },
  {
   "cell_type": "code",
   "execution_count": null,
   "metadata": {},
   "outputs": [],
   "source": [
    "oneclass = svm.OneClassSVM(kernel='rbf', nu=0.0388, gamma=0.01, verbose=2)\n",
    "oneclass.fit(X_train_anomaly)"
   ]
  },
  {
   "cell_type": "code",
   "execution_count": null,
   "metadata": {},
   "outputs": [],
   "source": [
    "oneclass_pred = oneclass.predict(X_test_anomaly)\n",
    "unique, counts = np.unique(oneclass_pred, return_counts=True)\n",
    "print (np.asarray((unique, counts)).T)\n",
    "oneclass_pred=pd.DataFrame(oneclass_pred).replace(1,0).replace(-1,1).values.tolist()"
   ]
  },
  {
   "cell_type": "markdown",
   "metadata": {},
   "source": [
    "<b> Prediction with Test Data (One Class SVM) "
   ]
  },
  {
   "cell_type": "code",
   "execution_count": null,
   "metadata": {},
   "outputs": [],
   "source": [
    "print_score_anomaly(y_test_anomaly, oneclass_pred)"
   ]
  },
  {
   "cell_type": "markdown",
   "metadata": {
    "colab_type": "text",
    "id": "eNBGzNmmFoi2"
   },
   "source": [
    "## 7 - Isolation Forest"
   ]
  },
  {
   "cell_type": "code",
   "execution_count": 18,
   "metadata": {
    "ExecuteTime": {
     "end_time": "2019-07-30T15:47:46.063503Z",
     "start_time": "2019-07-30T15:45:56.232534Z"
    },
    "colab": {},
    "colab_type": "code",
    "id": "JXMnuYWGFoi5"
   },
   "outputs": [
    {
     "name": "stderr",
     "output_type": "stream",
     "text": [
      "C:\\Users\\evelyn\\Anaconda3\\lib\\site-packages\\sklearn\\ensemble\\iforest.py:247: FutureWarning: behaviour=\"old\" is deprecated and will be removed in version 0.22. Please use behaviour=\"new\", which makes the decision_function change to match other anomaly detection algorithm API.\n",
      "  FutureWarning)\n"
     ]
    },
    {
     "data": {
      "text/plain": [
       "IsolationForest(behaviour='old', bootstrap=False, contamination=0.12,\n",
       "                max_features=1.0, max_samples='auto', n_estimators=100,\n",
       "                n_jobs=-1, random_state=42, verbose=0, warm_start=False)"
      ]
     },
     "execution_count": 18,
     "metadata": {},
     "output_type": "execute_result"
    }
   ],
   "source": [
    "iforest = IsolationForest(n_estimators=100, max_samples='auto', contamination=float(.12), \n",
    "                        max_features=1.0, bootstrap=False, n_jobs=-1, random_state=42, verbose=0)\n",
    "\n",
    "iforest.fit(X_train_anomaly)"
   ]
  },
  {
   "cell_type": "code",
   "execution_count": 20,
   "metadata": {
    "ExecuteTime": {
     "end_time": "2019-07-30T15:48:58.879009Z",
     "start_time": "2019-07-30T15:47:46.750465Z"
    },
    "colab": {},
    "colab_type": "code",
    "id": "98n7eLzEFoi7"
   },
   "outputs": [
    {
     "name": "stderr",
     "output_type": "stream",
     "text": [
      "C:\\Users\\evelyn\\Anaconda3\\lib\\site-packages\\sklearn\\ensemble\\iforest.py:415: DeprecationWarning: threshold_ attribute is deprecated in 0.20 and will be removed in 0.22.\n",
      "  \" be removed in 0.22.\", DeprecationWarning)\n"
     ]
    },
    {
     "name": "stdout",
     "output_type": "stream",
     "text": [
      "[[   -1  2704]\n",
      " [    1 27304]]\n"
     ]
    }
   ],
   "source": [
    "iforest_pred = iforest.predict(X_test_anomaly)\n",
    "unique, counts = np.unique(iforest_pred, return_counts=True)\n",
    "print (np.asarray((unique, counts)).T)\n",
    "iforest_pred=pd.DataFrame(iforest_pred).replace(1,0).replace(-1,1).values.tolist()"
   ]
  },
  {
   "cell_type": "markdown",
   "metadata": {},
   "source": [
    "<b> Prediction with Test Data (Isolation Forest) "
   ]
  },
  {
   "cell_type": "code",
   "execution_count": 21,
   "metadata": {},
   "outputs": [
    {
     "name": "stdout",
     "output_type": "stream",
     "text": [
      "Recall: 0.05227655986509275\n",
      "Precision: 0.022928994082840236\n",
      "Accuracy: 0.8745001332977873\n",
      "f1: 0.03187660668380462\n",
      "f2: 0.041621911922663804 \n",
      "\n",
      "Classification Score\n",
      "              precision    recall  f1-score   support\n",
      "\n",
      "           0       0.96      0.91      0.93     28822\n",
      "           1       0.02      0.05      0.03      1186\n",
      "\n",
      "    accuracy                           0.87     30008\n",
      "   macro avg       0.49      0.48      0.48     30008\n",
      "weighted avg       0.92      0.87      0.90     30008\n",
      "\n",
      "Confusion Matrix\n",
      "[[26180  2642]\n",
      " [ 1124    62]]\n"
     ]
    }
   ],
   "source": [
    "print_score_anomaly(y_test_anomaly, iforest_pred)"
   ]
  },
  {
   "cell_type": "markdown",
   "metadata": {},
   "source": [
    "<b> Save Models"
   ]
  },
  {
   "cell_type": "code",
   "execution_count": null,
   "metadata": {},
   "outputs": [],
   "source": [
    "import pickle\n",
    "\n",
    "with open('OneSVM_02.pkl', 'wb') as file:  \n",
    "    pickle.dump(oneclass, file)\n",
    "    \n",
    "with open('iForest_02.pkl', 'wb') as file:  \n",
    "    pickle.dump(iforest, file)\n"
   ]
  }
 ],
 "metadata": {
  "colab": {
   "name": "02 - Combine No further feature engineering.ipynb",
   "provenance": [],
   "version": "0.3.2"
  },
  "kernelspec": {
   "display_name": "Python 3",
   "language": "python",
   "name": "python3"
  },
  "language_info": {
   "codemirror_mode": {
    "name": "ipython",
    "version": 3
   },
   "file_extension": ".py",
   "mimetype": "text/x-python",
   "name": "python",
   "nbconvert_exporter": "python",
   "pygments_lexer": "ipython3",
   "version": "3.7.3"
  },
  "varInspector": {
   "cols": {
    "lenName": 16,
    "lenType": 16,
    "lenVar": 40
   },
   "kernels_config": {
    "python": {
     "delete_cmd_postfix": "",
     "delete_cmd_prefix": "del ",
     "library": "var_list.py",
     "varRefreshCmd": "print(var_dic_list())"
    },
    "r": {
     "delete_cmd_postfix": ") ",
     "delete_cmd_prefix": "rm(",
     "library": "var_list.r",
     "varRefreshCmd": "cat(var_dic_list()) "
    }
   },
   "oldHeight": 170,
   "position": {
    "height": "192px",
    "left": "1433px",
    "right": "20px",
    "top": "192px",
    "width": "486px"
   },
   "types_to_exclude": [
    "module",
    "function",
    "builtin_function_or_method",
    "instance",
    "_Feature"
   ],
   "varInspector_section_display": "block",
   "window_display": false
  }
 },
 "nbformat": 4,
 "nbformat_minor": 1
}
