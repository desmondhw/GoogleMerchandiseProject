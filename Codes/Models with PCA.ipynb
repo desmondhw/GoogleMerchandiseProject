{
 "cells": [
  {
   "cell_type": "markdown",
   "metadata": {
    "colab_type": "text",
    "id": "4icf104dFogA"
   },
   "source": [
    "### Import Library and Data"
   ]
  },
  {
   "cell_type": "code",
   "execution_count": 1,
   "metadata": {
    "ExecuteTime": {
     "end_time": "2019-07-31T02:41:02.643370Z",
     "start_time": "2019-07-31T02:41:01.372341Z"
    },
    "colab": {},
    "colab_type": "code",
    "id": "S7gOjgCXFogC"
   },
   "outputs": [],
   "source": [
    "import pandas as pd\n",
    "import matplotlib.pyplot as plt\n",
    "import seaborn as sns\n",
    "import numpy as np\n",
    "import seaborn as sns\n",
    "from patsy import dmatrices\n",
    "import statsmodels.api as sm\n",
    "from statsmodels.stats.outliers_influence import variance_inflation_factor\n",
    "from scipy import stats\n",
    "from sklearn import tree\n",
    "from sklearn.metrics import accuracy_score , confusion_matrix , mean_squared_error\n",
    "from sklearn import preprocessing\n",
    "from sklearn.preprocessing import LabelEncoder\n",
    "from sklearn.preprocessing import OneHotEncoder\n",
    "from sklearn.linear_model import LogisticRegression\n",
    "from sklearn.metrics import make_scorer, classification_report, confusion_matrix, roc_curve, roc_auc_score, precision_score, recall_score, f1_score\n",
    "from sklearn import linear_model, tree, metrics, model_selection, exceptions, ensemble, metrics\n",
    "from sklearn.metrics import fbeta_score"
   ]
  },
  {
   "cell_type": "code",
   "execution_count": 2,
   "metadata": {
    "ExecuteTime": {
     "end_time": "2019-07-31T02:41:03.335782Z",
     "start_time": "2019-07-31T02:41:02.645175Z"
    },
    "colab": {},
    "colab_type": "code",
    "id": "t2au2fBUFogF"
   },
   "outputs": [],
   "source": [
    "data_train = pd.read_csv(\"Data/train_validation_dataset.csv\")\n",
    "data_test = pd.read_csv(\"Data/test_dataset.csv\")"
   ]
  },
  {
   "cell_type": "markdown",
   "metadata": {},
   "source": [
    "<b> Note: EDA in notebook `Data_Extraction_and_Exploratory_Data_Analysis`"
   ]
  },
  {
   "cell_type": "markdown",
   "metadata": {
    "colab_type": "text",
    "id": "H8rKaIFmFogc"
   },
   "source": [
    "### Combining train and test data for pre-processing"
   ]
  },
  {
   "cell_type": "code",
   "execution_count": 3,
   "metadata": {
    "ExecuteTime": {
     "end_time": "2019-07-31T02:41:03.368204Z",
     "start_time": "2019-07-31T02:41:03.363270Z"
    },
    "colab": {},
    "colab_type": "code",
    "id": "zOuclHr1Fogc"
   },
   "outputs": [
    {
     "name": "stdout",
     "output_type": "stream",
     "text": [
      "(124900, 40)\n"
     ]
    }
   ],
   "source": [
    "# concatenating train and test set for pre-processing\n",
    "# add a column to label train and test data, where train=0, test=1.\n",
    "\n",
    "data_train['dataset'] = 0\n",
    "data_test['dataset'] = 1\n",
    "data = pd.concat([data_train, data_test])\n",
    "print(data.shape)"
   ]
  },
  {
   "cell_type": "markdown",
   "metadata": {
    "colab_type": "text",
    "id": "hY-vTth-Fogp"
   },
   "source": [
    "<b> Pre-processing"
   ]
  },
  {
   "cell_type": "code",
   "execution_count": 4,
   "metadata": {
    "ExecuteTime": {
     "end_time": "2019-07-31T02:41:04.736798Z",
     "start_time": "2019-07-31T02:41:03.942294Z"
    },
    "colab": {},
    "colab_type": "code",
    "id": "ZAxRwsQrFogp"
   },
   "outputs": [],
   "source": [
    "# Change date column\n",
    "from datetime import datetime\n",
    "date = data['date']\n",
    "data['date'] = pd.to_datetime(date).dt.strftime('%m/%Y')\n",
    "\n",
    "# replace field that's entirely space (or empty) with NaN.\n",
    "data = data.replace(r'^\\s*$', 'NA', regex=True)\n",
    "\n",
    "# impute missing values NaN with 0.\n",
    "data = data.replace(np.nan, 0)"
   ]
  },
  {
   "cell_type": "code",
   "execution_count": 5,
   "metadata": {
    "ExecuteTime": {
     "end_time": "2019-07-31T02:41:12.473258Z",
     "start_time": "2019-07-31T02:41:12.335373Z"
    },
    "colab": {},
    "colab_type": "code",
    "id": "wC1-m5l1Fogw"
   },
   "outputs": [],
   "source": [
    "data = data.drop(['fullvisitorid', 'Unnamed: 0'], axis=1)"
   ]
  },
  {
   "cell_type": "code",
   "execution_count": 6,
   "metadata": {},
   "outputs": [],
   "source": [
    "numeric_col = data.select_dtypes(include=['int16', 'int32', 'int64', 'float16', 'float32', 'float64']).columns"
   ]
  },
  {
   "cell_type": "code",
   "execution_count": 7,
   "metadata": {},
   "outputs": [],
   "source": [
    "numeric_data = data[numeric_col]"
   ]
  },
  {
   "cell_type": "code",
   "execution_count": 8,
   "metadata": {
    "scrolled": true
   },
   "outputs": [],
   "source": [
    "numeric_data=numeric_data.drop(['transactions_target', 'transactionrevenue_target','dataset'], axis=1)"
   ]
  },
  {
   "cell_type": "code",
   "execution_count": 9,
   "metadata": {},
   "outputs": [],
   "source": [
    "import numpy as np\n",
    "from sklearn import datasets, decomposition, cluster\n",
    "import matplotlib.pyplot as plt\n",
    "\n",
    "pca = decomposition.PCA(n_components ='mle')\n",
    "xr = pca.fit_transform(numeric_data)"
   ]
  },
  {
   "cell_type": "code",
   "execution_count": 10,
   "metadata": {},
   "outputs": [
    {
     "data": {
      "text/plain": [
       "(124900, 19)"
      ]
     },
     "execution_count": 10,
     "metadata": {},
     "output_type": "execute_result"
    }
   ],
   "source": [
    "xr.shape"
   ]
  },
  {
   "cell_type": "code",
   "execution_count": 11,
   "metadata": {},
   "outputs": [],
   "source": [
    "pca_output=pd.DataFrame(xr)"
   ]
  },
  {
   "cell_type": "code",
   "execution_count": 12,
   "metadata": {},
   "outputs": [],
   "source": [
    "data2=data.drop(numeric_col, axis=1)"
   ]
  },
  {
   "cell_type": "code",
   "execution_count": 13,
   "metadata": {},
   "outputs": [
    {
     "data": {
      "text/plain": [
       "(124900, 15)"
      ]
     },
     "execution_count": 13,
     "metadata": {},
     "output_type": "execute_result"
    }
   ],
   "source": [
    "data2.shape"
   ]
  },
  {
   "cell_type": "code",
   "execution_count": 14,
   "metadata": {},
   "outputs": [],
   "source": [
    "data2=pd.concat([data2.reset_index(), pca_output.reset_index(),data[['transactions_target', 'transactionrevenue_target','dataset']].reset_index()], axis=1).drop(['index'], axis=1)"
   ]
  },
  {
   "cell_type": "markdown",
   "metadata": {
    "colab_type": "text",
    "id": "xNtGqXLrFogx"
   },
   "source": [
    "<b> Transformations - Encode Categorical Data "
   ]
  },
  {
   "cell_type": "code",
   "execution_count": 15,
   "metadata": {
    "ExecuteTime": {
     "end_time": "2019-07-31T02:41:12.909049Z",
     "start_time": "2019-07-31T02:41:12.481460Z"
    },
    "colab": {},
    "colab_type": "code",
    "id": "loiUSkPtFogz",
    "outputId": "8ba39aba-b271-4fd5-dc40-2b5b43d70110",
    "scrolled": false
   },
   "outputs": [
    {
     "name": "stdout",
     "output_type": "stream",
     "text": [
      "date                 4\n",
      "channelgrouping      8\n",
      "campaign_today       5\n",
      "medium_today         7\n",
      "keyword_today      436\n",
      "adcontent_today     24\n",
      "devicecategory       3\n",
      "continent            6\n",
      "subcontinent        23\n",
      "country            186\n",
      "metro               71\n",
      "city               354\n",
      "operatingsystem      7\n",
      "source_today         6\n",
      "dtype: int64\n"
     ]
    }
   ],
   "source": [
    "# Show Cateogrical columns using .select_dtypes()\n",
    "cat_data = data2.select_dtypes(include=[object]) # use this for sklearn's encoders\n",
    "\n",
    "cat_data_cols = data2.select_dtypes(\n",
    "    include=[object]).columns  # use this for pd.get_dummies\n",
    "\n",
    "print(cat_data.nunique())"
   ]
  },
  {
   "cell_type": "code",
   "execution_count": 16,
   "metadata": {
    "colab": {},
    "colab_type": "code",
    "id": "XkFkuoUkFog1",
    "scrolled": true
   },
   "outputs": [],
   "source": [
    "data2 = pd.get_dummies(data2, columns=cat_data_cols)"
   ]
  },
  {
   "cell_type": "code",
   "execution_count": 17,
   "metadata": {
    "scrolled": true
   },
   "outputs": [
    {
     "name": "stdout",
     "output_type": "stream",
     "text": [
      "ismobile\n",
      "0\n",
      "1\n",
      "2\n",
      "3\n",
      "4\n",
      "5\n",
      "6\n",
      "7\n",
      "8\n",
      "9\n",
      "10\n",
      "11\n",
      "12\n",
      "13\n",
      "14\n",
      "15\n",
      "16\n",
      "17\n",
      "18\n",
      "transactions_target\n",
      "transactionrevenue_target\n",
      "dataset\n",
      "date_03/2017\n",
      "date_04/2017\n",
      "date_05/2017\n",
      "date_06/2017\n",
      "channelgrouping_(Other)\n",
      "channelgrouping_Affiliates\n",
      "channelgrouping_Direct\n",
      "channelgrouping_Display\n",
      "channelgrouping_Organic Search\n",
      "channelgrouping_Paid Search\n",
      "channelgrouping_Referral\n",
      "channelgrouping_Social\n",
      "campaign_today_(not set)\n",
      "campaign_today_AW - Accessories\n",
      "campaign_today_AW - Apparel\n",
      "campaign_today_AW - Dynamic Search Ads Whole Site\n",
      "campaign_today_Data Share Promo\n",
      "medium_today_(none)\n",
      "medium_today_(not set)\n",
      "medium_today_affiliate\n",
      "medium_today_cpc\n",
      "medium_today_cpm\n",
      "medium_today_organic\n",
      "medium_today_referral\n",
      "keyword_today_0\n",
      "keyword_today_(Remarketing/Content targeting)\n",
      "keyword_today_(automatic matching)\n",
      "keyword_today_(not provided)\n",
      "keyword_today_+Android +Gear\n",
      "keyword_today_+Android +Merchandise\n",
      "keyword_today_+Google +Gear\n",
      "keyword_today_+Google +Merchandise\n",
      "keyword_today_+Google +Products\n",
      "keyword_today_+Google +Swag\n",
      "keyword_today_+Google +accessories\n",
      "keyword_today_+Google +glassware\n",
      "keyword_today_+YouTube +Gear\n",
      "keyword_today_+YouTube +Merchandise\n",
      "keyword_today_+YouTube +Products\n",
      "keyword_today_+YouTube +apparel\n",
      "keyword_today_+YouTube +kit\n",
      "keyword_today_+google +accessories +store\n",
      "keyword_today_+google +backpack\n",
      "keyword_today_+google +bags\n",
      "keyword_today_+google +gear +store\n",
      "keyword_today_+google +merch\n",
      "keyword_today_+google +merchandise +store\n",
      "keyword_today_+google +mug\n",
      "keyword_today_+google +mugs\n",
      "keyword_today_+google +pets\n",
      "keyword_today_+google +products +store\n",
      "keyword_today_+google +shop\n",
      "keyword_today_+google +shops\n",
      "keyword_today_+google +stor\n",
      "keyword_today_+google +store\n",
      "keyword_today_+google +store +merchandise\n",
      "keyword_today_+google +store +usa\n",
      "keyword_today_+google +store +youtube\n",
      "keyword_today_+google +stores\n",
      "keyword_today_+google +tote\n",
      "keyword_today_+google +tshirt +store\n",
      "keyword_today_+google +water +bottle\n",
      "keyword_today_+google+tshirts\n",
      "keyword_today_+official +google +store\n",
      "keyword_today_+shop +at +google\n",
      "keyword_today_+youtube +merch\n",
      "keyword_today_1X4Me6ZKNV0zg-jV\n",
      "keyword_today_1hZbAqLCbjwfgOH7\n",
      "keyword_today_6qEhsCssdK0z36ri\n",
      "keyword_today_8. http://www.googlemerchandisestore.com/Google+Redesign/Wearables/Women+s+Outerwear/\n",
      "keyword_today_Android Merchandise\n",
      "keyword_today_Arts & Entertainment\n",
      "keyword_today_Bags\n",
      "keyword_today_Bicycle Google shopping\n",
      "keyword_today_Buy youtube tshirt\n",
      "keyword_today_C&A t shirts mascolina com desenho atras\n",
      "keyword_today_Chrome kit\n",
      "keyword_today_FamilySearch Logo Merchandise Sale\n",
      "keyword_today_Fyoutube\n",
      "keyword_today_GOOGLE .CLOTH.COM\n",
      "keyword_today_GOOGLE OFFICIAL MARCHIDISE\n",
      "keyword_today_GOOGLE STORE\n",
      "keyword_today_GOOGLE T SHIRTS\n",
      "keyword_today_Googl store backpack uk\n",
      "keyword_today_Googl.com.tisart..xom\n",
      "keyword_today_Google + online store\n",
      "keyword_today_Google Gear\n",
      "keyword_today_Google Men's 100% Cotton Short Sleeve Hero Tee White\n",
      "keyword_today_Google Merchandise\n",
      "keyword_today_Google Merchandise Store\n",
      "keyword_today_Google Merchandise Store Mountain View, CA\n",
      "keyword_today_Google Plus Merchandise\n",
      "keyword_today_Google accessories\n",
      "keyword_today_Google backpack store. uk\n",
      "keyword_today_Google earphones\n",
      "keyword_today_Google hizen stoor\n",
      "keyword_today_Google kit\n",
      "keyword_today_Google labeled t-shirts and caps\n",
      "keyword_today_Google merchandise store\n",
      "keyword_today_Google merchandise store hello everyone\n",
      "keyword_today_Google online office close store\n",
      "keyword_today_Google online store I suka you\n",
      "keyword_today_Google paraphernalia\n",
      "keyword_today_Google partner accessories\n",
      "keyword_today_Google pens\n",
      "keyword_today_Google rucksack\n",
      "keyword_today_Google shirts\n",
      "keyword_today_Google shop\n",
      "keyword_today_Google snap back black hat\n",
      "keyword_today_Google store\n",
      "keyword_today_Google store Seattle\n",
      "keyword_today_Google stores\n",
      "keyword_today_Google sweater\n",
      "keyword_today_Google t shirt\n",
      "keyword_today_Google t-shirt\n",
      "keyword_today_Google t-shirt free\n",
      "keyword_today_Google to shirt\n",
      "keyword_today_Google tshirt buy\n",
      "keyword_today_Google's Gmail Shortcut Stickers\n",
      "keyword_today_LINE on the google store\n",
      "keyword_today_Merchandise store\n",
      "keyword_today_Online youtube tshirt buy\n",
      "keyword_today_Photos of t-shirt\n",
      "keyword_today_STORE. youtube.\n",
      "keyword_today_Sexc store you tube\n",
      "keyword_today_Shop Merchandise\n",
      "keyword_today_Shop ing the Google local edition\n",
      "keyword_today_Shop on Google\n",
      "keyword_today_Shop on google\n",
      "keyword_today_Store youtube\n",
      "keyword_today_T shart picture\n",
      "keyword_today_The Google Merchandise Store\n",
      "keyword_today_WATR BOTL HAI KAWALTI\n",
      "keyword_today_Website to buy youtube tshirts\n",
      "keyword_today_Www.gooogle man\n",
      "keyword_today_YOU TUBE\n",
      "keyword_today_YOUTUBE\n",
      "keyword_today_YOuTube\n",
      "keyword_today_You Tube\n",
      "keyword_today_You tube\n",
      "keyword_today_You tuve\n",
      "keyword_today_You.tube\n",
      "keyword_today_YouTube\n",
      "keyword_today_YouTube Merchandise\n",
      "keyword_today_YouTube Store\n",
      "keyword_today_YouTube T shirt buy in India\n",
      "keyword_today_YouTube brand t shirt\n",
      "keyword_today_YouTube man t-shirt price\n",
      "keyword_today_YouTube merchandise\n",
      "keyword_today_YouTube printed t shirts buy online\n",
      "keyword_today_YouTube shirt\n",
      "keyword_today_YouTube shop for brand\n",
      "keyword_today_YouTube t-shirt\n",
      "keyword_today_Youtube\n",
      "keyword_today_Youtube All stors\n",
      "keyword_today_Youtube Home\n",
      "keyword_today_Youtube T shart online\n",
      "keyword_today_Youtube merchandise\n",
      "keyword_today_Youtube shop\n",
      "keyword_today_Youtube store\n",
      "keyword_today_Youtube t shirts\n",
      "keyword_today_Youtube t shirts for sale\n",
      "keyword_today_Youtupe\n",
      "keyword_today_about google merchandise store\n",
      "keyword_today_acheter goodie google au usa\n",
      "keyword_today_all black lava lamp\n",
      "keyword_today_amazon\n",
      "keyword_today_android developers tshirt buy online\n",
      "keyword_today_android merchandise store\n",
      "keyword_today_android tshirt\n",
      "keyword_today_android zip up hoodie\n",
      "keyword_today_bag\n",
      "keyword_today_bearing merchandise youtube\n",
      "keyword_today_black youtube Tshart\n",
      "keyword_today_bob marley lava lamps\n",
      "keyword_today_bottle image\n",
      "keyword_today_buy YouTube t sirt\n",
      "keyword_today_buy google bicycle\n",
      "keyword_today_buy google branded merchandise\n",
      "keyword_today_buy google merchandise\n",
      "keyword_today_buy google t shirt\n",
      "keyword_today_buy t shirt written google\n",
      "keyword_today_buy youtube free t shirt india\n",
      "keyword_today_buy youtube t shirt\n",
      "keyword_today_buy youtube t shirt full heand india\n",
      "keyword_today_check us out on google sticker\n",
      "keyword_today_coca cola lava lamp\n",
      "keyword_today_descargar musica de si tu marido no te deja sola\n",
      "keyword_today_exclusive bagpacks on google\n",
      "keyword_today_foto google dapat tote bag\n",
      "keyword_today_free google tshirt\n",
      "keyword_today_free google tshirts\n",
      "keyword_today_get Google T-shirt\n",
      "keyword_today_goggle store\n",
      "keyword_today_goggle store.com\n",
      "keyword_today_gogle\n",
      "keyword_today_googal anroid kida bag kese dhundte he\n",
      "keyword_today_googke merhadiestore\n",
      "keyword_today_googke t shirt\n",
      "keyword_today_google\n",
      "keyword_today_google Bluetooth speaKer\n",
      "keyword_today_google accessories store\n",
      "keyword_today_google apparel\n",
      "keyword_today_google apparel store\n",
      "keyword_today_google atore canada\n",
      "keyword_today_google backpack\n",
      "keyword_today_google bag\n",
      "keyword_today_google bags\n",
      "keyword_today_google bluetooth headph\n",
      "keyword_today_google cap\n",
      "keyword_today_google cap buy\n",
      "keyword_today_google clothes\n",
      "keyword_today_google clothes store\n",
      "keyword_today_google cloths shoping\n",
      "keyword_today_google cloud t shirt\n",
      "keyword_today_google company store\n",
      "keyword_today_google daydream shirt\n",
      "keyword_today_google deutschland\n",
      "keyword_today_google dog acceried\n",
      "keyword_today_google electronic\n",
      "keyword_today_google flashlight\n",
      "keyword_today_google fleece\n",
      "keyword_today_google gadgets\n",
      "keyword_today_google gear store\n",
      "keyword_today_google gift shop\n",
      "keyword_today_google goodies\n",
      "keyword_today_google guides polo shirt\n",
      "keyword_today_google hat\n",
      "keyword_today_google headphones\n",
      "keyword_today_google hooded t shirt\n",
      "keyword_today_google hoodie\n",
      "keyword_today_google hoodie green\n",
      "keyword_today_google local guide t shirt buy online\n",
      "keyword_today_google mens\n",
      "keyword_today_google merc handise store\n",
      "keyword_today_google mercendise store\n",
      "keyword_today_google merch\n",
      "keyword_today_google merch store\n",
      "keyword_today_google merchafise\n",
      "keyword_today_google merchandise\n",
      "keyword_today_google merchandise shop\n",
      "keyword_today_google merchandise store\n",
      "keyword_today_google merchandising\n",
      "keyword_today_google merchandising store\n",
      "keyword_today_google merchandize store\n",
      "keyword_today_google merchandse\n",
      "keyword_today_google merchant store\n",
      "keyword_today_google merchendise\n",
      "keyword_today_google merfhandise\n",
      "keyword_today_google mouse pad\n",
      "keyword_today_google mug\n",
      "keyword_today_google mugs\n",
      "keyword_today_google official marchidise\n",
      "keyword_today_google official site boosie clothing\n",
      "keyword_today_google online shop\n",
      "keyword_today_google online store\n",
      "keyword_today_google online store backpack\n",
      "keyword_today_google pen\n",
      "keyword_today_google play store.com\n",
      "keyword_today_google polo shirt\n",
      "keyword_today_google printed t shirts\n",
      "keyword_today_google pullover\n",
      "keyword_today_google shirt\n",
      "keyword_today_google shirt store\n",
      "keyword_today_google shirys\n",
      "keyword_today_google shop\n",
      "keyword_today_google shop backpack\n",
      "keyword_today_google shop malaysia\n",
      "keyword_today_google shop merchandise\n",
      "keyword_today_google shop moutain view\n",
      "keyword_today_google shop youtube\n",
      "keyword_today_google shopping uae\n",
      "keyword_today_google shopping women's dress shirt\n",
      "keyword_today_google shops\n",
      "keyword_today_google steckar\n",
      "keyword_today_google sticker\n",
      "keyword_today_google stickers\n",
      "keyword_today_google stire\n",
      "keyword_today_google store\n",
      "keyword_today_google store dublin\n",
      "keyword_today_google store merchandise\n",
      "keyword_today_google store mountain view\n",
      "keyword_today_google store online\n",
      "keyword_today_google store phone number\n",
      "keyword_today_google store tshirts\n",
      "keyword_today_google store usa\n",
      "keyword_today_google store.com\n",
      "keyword_today_google stores\n",
      "keyword_today_google stylus W light pen\n",
      "keyword_today_google stylus pen w/ led light\n",
      "keyword_today_google swag bag\n",
      "keyword_today_google swag gear\n",
      "keyword_today_google sweater\n",
      "keyword_today_google t sharts\n",
      "keyword_today_google t shirt\n",
      "keyword_today_google t shirt india\n",
      "keyword_today_google t shirt store\n",
      "keyword_today_google t shirts\n",
      "keyword_today_google t shirts online\n",
      "keyword_today_google t-shirt\n",
      "keyword_today_google t-shirt for men\n",
      "keyword_today_google t-shirt for women\n",
      "keyword_today_google t-shirt free\n",
      "keyword_today_google t-shirts\n",
      "keyword_today_google ti shirt\n",
      "keyword_today_google tote bag\n",
      "keyword_today_google trucker hat\n",
      "keyword_today_google tshirt\n",
      "keyword_today_google uk store\n",
      "keyword_today_google water bottle\n",
      "keyword_today_google water bottles\n",
      "keyword_today_google wear shopping\n",
      "keyword_today_google written t shirt\n",
      "keyword_today_google youtube\n",
      "keyword_today_google youtube apparel'\n",
      "keyword_today_google youtube merchandise\n",
      "keyword_today_google.apparel\n",
      "keyword_today_google.shirts\n",
      "keyword_today_google_t\n",
      "keyword_today_googlemerchandisestore\n",
      "keyword_today_googlestore\n",
      "keyword_today_googlesupport\n",
      "keyword_today_google商店官网\n",
      "keyword_today_how cod i get youtube tshirts\n",
      "keyword_today_how ti get google allo t-shirt\n",
      "keyword_today_how to get YouTube t shirt\n",
      "keyword_today_how to get google goodies\n",
      "keyword_today_how to get t shirt from youtube\n",
      "keyword_today_https//sho.google merchandises.com\n",
      "keyword_today_https://goto.google.com/a/google.com?continue=https://goto.google.com/googleswag\n",
      "keyword_today_https://www.googlemerchandisestore.com/\n",
      "keyword_today_https://www.googlemerchandisestore.com/Google+Redesign/New+2015+Logo/Latitudes+Foldaway+Shopper.axd\n",
      "keyword_today_is there a google store in sydney\n",
      "keyword_today_jaket google developer\n",
      "keyword_today_lava lamp\n",
      "keyword_today_lava lamps for sale\n",
      "keyword_today_lava light canvas\n",
      "keyword_today_leatherette journal\n",
      "keyword_today_lime green lava lamp\n",
      "keyword_today_line merchandise in india\n",
      "keyword_today_logo youtube shop\n",
      "keyword_today_merchandise\n",
      "keyword_today_merchandise oficial de google\n",
      "keyword_today_merchandise store\n",
      "keyword_today_merchandise store app\n",
      "keyword_today_merchandise youtube\n",
      "keyword_today_merchant navy t shirt colors\n",
      "keyword_today_nest products\n",
      "keyword_today_noveraproduct/onlineshop.com\n",
      "keyword_today_official google tee shirts\n",
      "keyword_today_online merchandise store\n",
      "keyword_today_power bank от google\n",
      "keyword_today_red t shirt woman\n",
      "keyword_today_shirt google photographer certificad\n",
      "keyword_today_shirt prise googel\n",
      "keyword_today_shirts shop\n",
      "keyword_today_shop google\n",
      "keyword_today_shop merchandise store.com\n",
      "keyword_today_shop.google merchandise.com\n",
      "keyword_today_shop.google merchandisestore.com\n",
      "keyword_today_shop.googlemerchandisestore\n",
      "keyword_today_shop.on google\n",
      "keyword_today_store\n",
      "keyword_today_store google mexico\n",
      "keyword_today_t shirt\n",
      "keyword_today_t shirt google\n",
      "keyword_today_t shirt shoping.goole.com.in\n",
      "keyword_today_tall lava lamps\n",
      "keyword_today_tshirt youtube\n",
      "keyword_today_u tube\n",
      "keyword_today_u5sQvJGpOsPeJ3pi\n",
      "keyword_today_we are on google sticker\n",
      "keyword_today_where can I buy you tube shirts\n",
      "keyword_today_women t-shirt with the icon of you tube in iy\n",
      "keyword_today_women's t shirts online\n",
      "keyword_today_www gogl\n",
      "keyword_today_www google\n",
      "keyword_today_www.YuyTub.stor.com\n",
      "keyword_today_www.fensi Tisurt imegs.com\n",
      "keyword_today_www.google.anawjt baf\n",
      "keyword_today_www.google.com t shirt\n",
      "keyword_today_www.google.company\n",
      "keyword_today_www.googlestore\n",
      "keyword_today_www.googlestore.ca\n",
      "keyword_today_www.googlestore.com\n",
      "keyword_today_www.youtupe t shirt free.com\n",
      "keyword_today_you tbe\n",
      "keyword_today_you tube\n",
      "keyword_today_you tube clothing\n",
      "keyword_today_you tube com\n",
      "keyword_today_you tube shoping my brands\n",
      "keyword_today_you tube stor\n",
      "keyword_today_you tube store\n",
      "keyword_today_you tube t-shirt\n",
      "keyword_today_you tube t-shirts\n",
      "keyword_today_youTube men\n",
      "keyword_today_yourtube\n",
      "keyword_today_youtube\n",
      "keyword_today_youtube apparel\n",
      "keyword_today_youtube branding t shirt buy online\n",
      "keyword_today_youtube cap\n",
      "keyword_today_youtube clothes\n",
      "keyword_today_youtube customize tshirt online\n",
      "keyword_today_youtube free shoping\n",
      "keyword_today_youtube free t shirt\n",
      "keyword_today_youtube free t shirt india\n",
      "keyword_today_youtube google\n",
      "keyword_today_youtube hoodie\n",
      "keyword_today_youtube in men's t-shirt\n",
      "keyword_today_youtube jacket\n",
      "keyword_today_youtube jacket red and white\n",
      "keyword_today_youtube logo cap india\n",
      "keyword_today_youtube logo t shirt\n",
      "keyword_today_youtube logo t shirt india\n",
      "keyword_today_youtube logo t shirt price in bd\n",
      "keyword_today_youtube logo tsirt\n",
      "keyword_today_youtube merch\n",
      "keyword_today_youtube merch store\n",
      "keyword_today_youtube merchandise\n",
      "keyword_today_youtube merchandise buy online\n",
      "keyword_today_youtube merchandise india\n",
      "keyword_today_youtube merchandise indonesia\n",
      "keyword_today_youtube merchandise store\n",
      "keyword_today_youtube shirt\n",
      "keyword_today_youtube shop\n",
      "keyword_today_youtube shops\n",
      "keyword_today_youtube store\n",
      "keyword_today_youtube t shirt\n",
      "keyword_today_youtube t shirt buy\n",
      "keyword_today_youtube t shirt india\n",
      "keyword_today_youtube t shirt india online\n",
      "keyword_today_youtube t shirts\n",
      "keyword_today_youtube t shirts buy\n",
      "keyword_today_youtube t shits\n",
      "keyword_today_youtube t-shirt\n",
      "keyword_today_youtube t-shirt buy online in india\n",
      "keyword_today_youtube t-shirt free\n",
      "keyword_today_youtube tishirt\n",
      "keyword_today_youtube tshirt\n",
      "keyword_today_youtube tshirt buy\n",
      "keyword_today_youtube tshirt order\n",
      "keyword_today_youtube tshirt purchase\n",
      "keyword_today_youtube tshirts\n",
      "keyword_today_youtube tshirts online buy\n",
      "keyword_today_youtube youtube\n",
      "keyword_today_youtube.store\n",
      "keyword_today_youtubeshop\n",
      "keyword_today_youtubve\n",
      "keyword_today_youtude\n",
      "keyword_today_youtuop hat\n",
      "keyword_today_youtup wwe shop.google merchan disesor.com\n",
      "keyword_today_youutbhe\n",
      "keyword_today_youy tube\n",
      "keyword_today_yuotube\n",
      "keyword_today_yutube\n",
      "keyword_today_Υουτυβε σιο ντιαπλο\n",
      "keyword_today_картинка ютуб\n",
      "keyword_today_магазины gift от google\n",
      "keyword_today_কমদামী ভালো t-shart\n",
      "keyword_today_ㅛ ㅐ ㅕ 셔 ㅠㄷ 채 ㅡ\n",
      "adcontent_today_0\n",
      "adcontent_today_Ad from 11/7/16\n",
      "adcontent_today_Ad from 12/13/16\n",
      "adcontent_today_Display Ad created 11/17/14\n",
      "adcontent_today_Display Ad created 3/11/14\n",
      "adcontent_today_Display Ad created 3/11/15\n",
      "adcontent_today_Full auto ad IMAGE ONLY\n",
      "adcontent_today_Google Merchandise Collection\n",
      "adcontent_today_Google Online Store\n",
      "adcontent_today_Google Paraphernalia\n",
      "adcontent_today_Google Store\n",
      "adcontent_today_Google store\n",
      "adcontent_today_Swag with Google Logos\n",
      "adcontent_today_{KeyWord:Google Brand Items}\n",
      "adcontent_today_{KeyWord:Google Branded Apparel}\n",
      "adcontent_today_{KeyWord:Google Branded Gear}\n",
      "adcontent_today_{KeyWord:Google Branded Kit}\n",
      "adcontent_today_{KeyWord:Google Branded Outerwear}\n",
      "adcontent_today_{KeyWord:Google Drinkware}\n",
      "adcontent_today_{KeyWord:Google Men's T-Shirts}\n",
      "adcontent_today_{KeyWord:Google Merchandise}\n",
      "adcontent_today_{KeyWord:Looking for Google Bags?}\n",
      "adcontent_today_{KeyWord:Want Google Pet Toys?}\n",
      "adcontent_today_{KeyWord:Want Google Stickers?}\n",
      "devicecategory_desktop\n",
      "devicecategory_mobile\n",
      "devicecategory_tablet\n",
      "continent_0\n",
      "continent_Africa\n",
      "continent_Americas\n",
      "continent_Asia\n",
      "continent_Europe\n",
      "continent_Oceania\n",
      "subcontinent_0\n",
      "subcontinent_Australasia\n",
      "subcontinent_Caribbean\n",
      "subcontinent_Central America\n",
      "subcontinent_Central Asia\n",
      "subcontinent_Eastern Africa\n",
      "subcontinent_Eastern Asia\n",
      "subcontinent_Eastern Europe\n",
      "subcontinent_Melanesia\n",
      "subcontinent_Micronesian Region\n",
      "subcontinent_Middle Africa\n",
      "subcontinent_Northern Africa\n",
      "subcontinent_Northern America\n",
      "subcontinent_Northern Europe\n",
      "subcontinent_Polynesia\n",
      "subcontinent_South America\n",
      "subcontinent_Southeast Asia\n",
      "subcontinent_Southern Africa\n",
      "subcontinent_Southern Asia\n",
      "subcontinent_Southern Europe\n",
      "subcontinent_Western Africa\n",
      "subcontinent_Western Asia\n",
      "subcontinent_Western Europe\n",
      "country_0\n",
      "country_Afghanistan\n",
      "country_Albania\n",
      "country_Algeria\n",
      "country_Angola\n",
      "country_Antigua & Barbuda\n",
      "country_Argentina\n",
      "country_Armenia\n",
      "country_Aruba\n",
      "country_Australia\n",
      "country_Austria\n",
      "country_Azerbaijan\n",
      "country_Bahamas\n",
      "country_Bahrain\n",
      "country_Bangladesh\n",
      "country_Barbados\n",
      "country_Belarus\n",
      "country_Belgium\n",
      "country_Belize\n",
      "country_Benin\n",
      "country_Bermuda\n",
      "country_Bolivia\n",
      "country_Bosnia & Herzegovina\n",
      "country_Botswana\n",
      "country_Brazil\n",
      "country_Brunei\n",
      "country_Bulgaria\n",
      "country_Burkina Faso\n",
      "country_Cambodia\n",
      "country_Cameroon\n",
      "country_Canada\n",
      "country_Cape Verde\n",
      "country_Cayman Islands\n",
      "country_Chile\n",
      "country_China\n",
      "country_Colombia\n",
      "country_Congo - Brazzaville\n",
      "country_Congo - Kinshasa\n",
      "country_Cook Islands\n",
      "country_Costa Rica\n",
      "country_Croatia\n",
      "country_Curaçao\n",
      "country_Cyprus\n",
      "country_Czechia\n",
      "country_Côte d’Ivoire\n",
      "country_Denmark\n",
      "country_Dominica\n",
      "country_Dominican Republic\n",
      "country_Ecuador\n",
      "country_Egypt\n",
      "country_El Salvador\n",
      "country_Estonia\n",
      "country_Ethiopia\n",
      "country_Fiji\n",
      "country_Finland\n",
      "country_France\n",
      "country_French Polynesia\n",
      "country_Georgia\n",
      "country_Germany\n",
      "country_Ghana\n",
      "country_Gibraltar\n",
      "country_Greece\n",
      "country_Greenland\n",
      "country_Grenada\n",
      "country_Guadeloupe\n",
      "country_Guam\n",
      "country_Guatemala\n",
      "country_Guernsey\n",
      "country_Guinea\n",
      "country_Guyana\n",
      "country_Haiti\n",
      "country_Honduras\n",
      "country_Hong Kong\n",
      "country_Hungary\n",
      "country_Iceland\n",
      "country_India\n",
      "country_Indonesia\n",
      "country_Iran\n",
      "country_Iraq\n",
      "country_Ireland\n",
      "country_Isle of Man\n",
      "country_Israel\n",
      "country_Italy\n",
      "country_Jamaica\n",
      "country_Japan\n",
      "country_Jersey\n",
      "country_Jordan\n",
      "country_Kazakhstan\n",
      "country_Kenya\n",
      "country_Kosovo\n",
      "country_Kuwait\n",
      "country_Kyrgyzstan\n",
      "country_Laos\n",
      "country_Latvia\n",
      "country_Lebanon\n",
      "country_Libya\n",
      "country_Lithuania\n",
      "country_Luxembourg\n",
      "country_Macau\n",
      "country_Macedonia (FYROM)\n",
      "country_Madagascar\n",
      "country_Malaysia\n",
      "country_Maldives\n",
      "country_Mali\n",
      "country_Malta\n",
      "country_Martinique\n",
      "country_Mauritania\n",
      "country_Mauritius\n",
      "country_Mayotte\n",
      "country_Mexico\n",
      "country_Moldova\n",
      "country_Monaco\n",
      "country_Mongolia\n",
      "country_Montenegro\n",
      "country_Morocco\n",
      "country_Mozambique\n",
      "country_Myanmar (Burma)\n",
      "country_Namibia\n",
      "country_Nepal\n",
      "country_Netherlands\n",
      "country_New Caledonia\n",
      "country_New Zealand\n",
      "country_Nicaragua\n",
      "country_Nigeria\n",
      "country_Northern Mariana Islands\n",
      "country_Norway\n",
      "country_Oman\n",
      "country_Pakistan\n",
      "country_Palestine\n",
      "country_Panama\n",
      "country_Papua New Guinea\n",
      "country_Paraguay\n",
      "country_Peru\n",
      "country_Philippines\n",
      "country_Poland\n",
      "country_Portugal\n",
      "country_Puerto Rico\n",
      "country_Qatar\n",
      "country_Romania\n",
      "country_Russia\n",
      "country_Rwanda\n",
      "country_Réunion\n",
      "country_San Marino\n",
      "country_Saudi Arabia\n",
      "country_Senegal\n",
      "country_Serbia\n",
      "country_Sierra Leone\n",
      "country_Singapore\n",
      "country_Sint Maarten\n",
      "country_Slovakia\n",
      "country_Slovenia\n",
      "country_Somalia\n",
      "country_South Africa\n",
      "country_South Korea\n",
      "country_Spain\n",
      "country_Sri Lanka\n",
      "country_St. Kitts & Nevis\n",
      "country_St. Lucia\n",
      "country_Sudan\n",
      "country_Suriname\n",
      "country_Sweden\n",
      "country_Switzerland\n",
      "country_Syria\n",
      "country_Taiwan\n",
      "country_Tajikistan\n",
      "country_Tanzania\n",
      "country_Thailand\n",
      "country_Togo\n",
      "country_Trinidad & Tobago\n",
      "country_Tunisia\n",
      "country_Turkey\n",
      "country_Turkmenistan\n",
      "country_Turks & Caicos Islands\n",
      "country_U.S. Virgin Islands\n",
      "country_Uganda\n",
      "country_Ukraine\n",
      "country_United Arab Emirates\n",
      "country_United Kingdom\n",
      "country_United States\n",
      "country_Uruguay\n",
      "country_Uzbekistan\n",
      "country_Venezuela\n",
      "country_Vietnam\n",
      "country_Yemen\n",
      "country_Zambia\n",
      "country_Zimbabwe\n",
      "metro_0\n",
      "metro_Abilene-Sweetwater TX\n",
      "metro_Atlanta GA\n",
      "metro_Austin TX\n",
      "metro_Baltimore MD\n",
      "metro_Boise ID\n",
      "metro_Boston MA-Manchester NH\n",
      "metro_Central Scotland\n",
      "metro_Charleston SC\n",
      "metro_Charlotte NC\n",
      "metro_Chicago IL\n",
      "metro_Chico-Redding CA\n",
      "metro_Cincinnati OH\n",
      "metro_Cleveland-Akron (Canton) OH\n",
      "metro_Colorado Springs-Pueblo CO\n",
      "metro_Columbus OH\n",
      "metro_Dallas-Ft. Worth TX\n",
      "metro_Denver CO\n",
      "metro_Detroit MI\n",
      "metro_El Paso TX\n",
      "metro_Fresno-Visalia CA\n",
      "metro_Green Bay-Appleton WI\n",
      "metro_HTV Wales\n",
      "metro_HTV West\n",
      "metro_Harlingen-Weslaco-Brownsville-McAllen TX\n",
      "metro_Hartford & New Haven CT\n",
      "metro_Honolulu HI\n",
      "metro_Houston TX\n",
      "metro_Idaho Falls-Pocatello ID\n",
      "metro_Indianapolis IN\n",
      "metro_Jacksonville FL\n",
      "metro_Kansas City MO\n",
      "metro_La Crosse-Eau Claire WI\n",
      "metro_Lansing MI\n",
      "metro_Lexington KY\n",
      "metro_London\n",
      "metro_Los Angeles CA\n",
      "metro_Madison WI\n",
      "metro_Meridian (exc. Channel Islands)\n",
      "metro_Miami-Ft. Lauderdale FL\n",
      "metro_Midlands\n",
      "metro_Milwaukee WI\n",
      "metro_Minneapolis-St. Paul MN\n",
      "metro_Nashville TN\n",
      "metro_New Orleans LA\n",
      "metro_New York NY\n",
      "metro_North West\n",
      "metro_Omaha NE\n",
      "metro_Orlando-Daytona Beach-Melbourne FL\n",
      "metro_Philadelphia PA\n",
      "metro_Phoenix AZ\n",
      "metro_Pittsburgh PA\n",
      "metro_Portland OR\n",
      "metro_Raleigh-Durham (Fayetteville) NC\n",
      "metro_Roanoke-Lynchburg VA\n",
      "metro_Sacramento-Stockton-Modesto CA\n",
      "metro_Salt Lake City UT\n",
      "metro_San Antonio TX\n",
      "metro_San Diego CA\n",
      "metro_San Francisco-Oakland-San Jose CA\n",
      "metro_Seattle-Tacoma WA\n",
      "metro_St. Louis MO\n",
      "metro_Tallahassee FL-Thomasville GA\n",
      "metro_Tampa-St. Petersburg (Sarasota) FL\n",
      "metro_Tri-Cities TN-VA\n",
      "metro_Tucson (Sierra Vista) AZ\n",
      "metro_Tulsa OK\n",
      "metro_Utica NY\n",
      "metro_Washington DC (Hagerstown MD)\n",
      "metro_Wheeling WV-Steubenville OH\n",
      "metro_Yorkshire\n",
      "city_0\n",
      "city_'s Hertogenbosch\n",
      "city_Aalborg\n",
      "city_Aalen\n",
      "city_Adelaide\n",
      "city_Ahmedabad\n",
      "city_Akron\n",
      "city_Alexandria\n",
      "city_Alicante\n",
      "city_Altrincham\n",
      "city_Amberg\n",
      "city_Amsterdam\n",
      "city_Ankara\n",
      "city_Ann Arbor\n",
      "city_Antalya\n",
      "city_Antwerp\n",
      "city_Appleton\n",
      "city_Arequipa\n",
      "city_Ashburn\n",
      "city_Athens\n",
      "city_Atlanta\n",
      "city_Auckland\n",
      "city_Austin\n",
      "city_Avon\n",
      "city_Ballinger\n",
      "city_Baltimore\n",
      "city_Bandung\n",
      "city_Bangkok\n",
      "city_Barcelona\n",
      "city_Barnsley\n",
      "city_Barranquilla\n",
      "city_Barrie\n",
      "city_Bath\n",
      "city_Beijing\n",
      "city_Bellevue\n",
      "city_Bellflower\n",
      "city_Bellingham\n",
      "city_Bengaluru\n",
      "city_Berkeley\n",
      "city_Berlin\n",
      "city_Bhubaneswar\n",
      "city_Bilbao\n",
      "city_Birmingham\n",
      "city_Boardman\n",
      "city_Bogota\n",
      "city_Boise\n",
      "city_Bordeaux\n",
      "city_Boston\n",
      "city_Bothell\n",
      "city_Boulder\n",
      "city_Bournemouth\n",
      "city_Brampton\n",
      "city_Bratislava\n",
      "city_Breda\n",
      "city_Bremen\n",
      "city_Brest\n",
      "city_Brisbane\n",
      "city_Brookline\n",
      "city_Brussels\n",
      "city_Bucharest\n",
      "city_Budapest\n",
      "city_Buenos Aires\n",
      "city_Burlington\n",
      "city_Burnaby\n",
      "city_Cairo\n",
      "city_Calgary\n",
      "city_Cali\n",
      "city_Cambridge\n",
      "city_Campinas\n",
      "city_Caracas\n",
      "city_Casablanca\n",
      "city_Chandigarh\n",
      "city_Charlotte\n",
      "city_Chennai\n",
      "city_Chicago\n",
      "city_Chico\n",
      "city_Chiyoda\n",
      "city_Chuo\n",
      "city_Cincinnati\n",
      "city_Clermont-Ferrand\n",
      "city_Coffeyville\n",
      "city_Collegeville\n",
      "city_Cologne\n",
      "city_Colombo\n",
      "city_Columbus\n",
      "city_Copenhagen\n",
      "city_Cork\n",
      "city_Council Bluffs\n",
      "city_Cupertino\n",
      "city_Curitiba\n",
      "city_Cyberjaya\n",
      "city_Dallas\n",
      "city_Denver\n",
      "city_Detroit\n",
      "city_Dubai\n",
      "city_Dublin\n",
      "city_Dundalk\n",
      "city_Dusseldorf\n",
      "city_East Lansing\n",
      "city_Eau Claire\n",
      "city_Edmonton\n",
      "city_Eindhoven\n",
      "city_El Paso\n",
      "city_Elche\n",
      "city_Erode\n",
      "city_Evanston\n",
      "city_Farmington Hills\n",
      "city_Faro\n",
      "city_Fort Collins\n",
      "city_Frankfurt\n",
      "city_Fremont\n",
      "city_Fresno\n",
      "city_Furth\n",
      "city_Geneva\n",
      "city_Gijon\n",
      "city_Glasgow\n",
      "city_Goose Creek\n",
      "city_Gothenburg\n",
      "city_Guatemala City\n",
      "city_Gurgaon\n",
      "city_Guwahati\n",
      "city_Hamburg\n",
      "city_Hangzhou\n",
      "city_Hanoi\n",
      "city_Hayward\n",
      "city_Helsinki\n",
      "city_Herzliya\n",
      "city_Ho Chi Minh City\n",
      "city_Hong Kong\n",
      "city_Honolulu\n",
      "city_Houston\n",
      "city_Hyderabad\n",
      "city_Iasi\n",
      "city_Indianapolis\n",
      "city_Indore\n",
      "city_Ipoh\n",
      "city_Irvine\n",
      "city_Issy-les-Moulineaux\n",
      "city_Istanbul\n",
      "city_Jacksonville\n",
      "city_Jaipur\n",
      "city_Jakarta\n",
      "city_Jeddah\n",
      "city_Jersey City\n",
      "city_Johnson City\n",
      "city_Kampar\n",
      "city_Kansas City\n",
      "city_Karachi\n",
      "city_Katowice\n",
      "city_Kiev\n",
      "city_Kirkland\n",
      "city_Kitchener\n",
      "city_Kochi\n",
      "city_Kolkata\n",
      "city_Kosice\n",
      "city_Koszalin\n",
      "city_Krakow\n",
      "city_Kuala Lumpur\n",
      "city_Kumamoto\n",
      "city_La Victoria\n",
      "city_Lagos\n",
      "city_Laguna Beach\n",
      "city_Lahore\n",
      "city_Leeds\n",
      "city_Lehi\n",
      "city_Leusden\n",
      "city_Leuven\n",
      "city_Lexington\n",
      "city_Lille\n",
      "city_Lincoln\n",
      "city_Lisbon\n",
      "city_Liverpool\n",
      "city_London\n",
      "city_Los Angeles\n",
      "city_Lucknow\n",
      "city_Lyon\n",
      "city_Madison\n",
      "city_Madrid\n",
      "city_Makassar\n",
      "city_Makati\n",
      "city_Malaga\n",
      "city_Manchester\n",
      "city_Maracaibo\n",
      "city_Marlboro\n",
      "city_McAllen\n",
      "city_Mechelen\n",
      "city_Medellin\n",
      "city_Medina\n",
      "city_Melbourne\n",
      "city_Menlo Park\n",
      "city_Mexico City\n",
      "city_Miami\n",
      "city_Milan\n",
      "city_Milpitas\n",
      "city_Minato\n",
      "city_Minneapolis\n",
      "city_Minsk\n",
      "city_Minxiong Township\n",
      "city_Mississauga\n",
      "city_Miyazaki\n",
      "city_Monterrey\n",
      "city_Montevideo\n",
      "city_Montigny-le-Bretonneux\n",
      "city_Montreal\n",
      "city_Moscow\n",
      "city_Mountain View\n",
      "city_Mumbai\n",
      "city_Munich\n",
      "city_Nantes\n",
      "city_Naples\n",
      "city_Nashville\n",
      "city_Navi Mumbai\n",
      "city_Neipu Township\n",
      "city_New Delhi\n",
      "city_New Orleans\n",
      "city_New York\n",
      "city_Newark\n",
      "city_Ningbo\n",
      "city_Noida\n",
      "city_Nottingham\n",
      "city_Oakland\n",
      "city_Omaha\n",
      "city_Oneonta\n",
      "city_Orlando\n",
      "city_Osaka\n",
      "city_Oshkosh\n",
      "city_Osijek\n",
      "city_Oslo\n",
      "city_Ottawa\n",
      "city_Oude Meer\n",
      "city_Overland Park\n",
      "city_Oviedo\n",
      "city_Oxford\n",
      "city_Padua\n",
      "city_Palo Alto\n",
      "city_Paris\n",
      "city_Patna\n",
      "city_Perth\n",
      "city_Petaling Jaya\n",
      "city_Philadelphia\n",
      "city_Phoenix\n",
      "city_Piscataway Township\n",
      "city_Pittsburgh\n",
      "city_Plano\n",
      "city_Pleasanton\n",
      "city_Portland\n",
      "city_Porto Alegre\n",
      "city_Poznan\n",
      "city_Pozuelo de Alarcon\n",
      "city_Prague\n",
      "city_Pryor\n",
      "city_Pueblo\n",
      "city_Pune\n",
      "city_Quebec City\n",
      "city_Quezon City\n",
      "city_Quimper\n",
      "city_Raleigh\n",
      "city_Ramat Gan\n",
      "city_Redmond\n",
      "city_Redwood City\n",
      "city_Rexburg\n",
      "city_Riga\n",
      "city_Rio de Janeiro\n",
      "city_Riyadh\n",
      "city_Rome\n",
      "city_Rosario\n",
      "city_Rotterdam\n",
      "city_Sabadell\n",
      "city_Sacramento\n",
      "city_Saint Petersburg\n",
      "city_Sakai\n",
      "city_Salem\n",
      "city_Salford\n",
      "city_Salzburg\n",
      "city_San Antonio\n",
      "city_San Bruno\n",
      "city_San Diego\n",
      "city_San Francisco\n",
      "city_San Jose\n",
      "city_San Marcos\n",
      "city_San Mateo\n",
      "city_Sandy Springs\n",
      "city_Santa Ana\n",
      "city_Santa Clara\n",
      "city_Santa Fe\n",
      "city_Santa Monica\n",
      "city_Santiago\n",
      "city_Santiago de Surco\n",
      "city_Sao Paulo\n",
      "city_Schagen\n",
      "city_Seattle\n",
      "city_Seoul\n",
      "city_Seville\n",
      "city_Shanghai\n",
      "city_Sheffield\n",
      "city_Sherbrooke\n",
      "city_Shibuya\n",
      "city_Shinjuku\n",
      "city_Shiocton\n",
      "city_Singapore\n",
      "city_Skopje\n",
      "city_Smyrna\n",
      "city_Sofia\n",
      "city_South San Francisco\n",
      "city_St. Louis\n",
      "city_Stanford\n",
      "city_Stockholm\n",
      "city_Stuttgart\n",
      "city_Subang Jaya\n",
      "city_Sunnyvale\n",
      "city_Surabaya\n",
      "city_Sydney\n",
      "city_Szczecin\n",
      "city_Taguig\n",
      "city_Tallahassee\n",
      "city_Tampa\n",
      "city_Taoyuan District\n",
      "city_Tbilisi\n",
      "city_Tel Aviv-Yafo\n",
      "city_Tempe\n",
      "city_The Hague\n",
      "city_Thessaloniki\n",
      "city_Thornton\n",
      "city_Toronto\n",
      "city_Tucson\n",
      "city_Tunis\n",
      "city_Turin\n",
      "city_University Park\n",
      "city_Utrecht\n",
      "city_Valparaiso\n",
      "city_Vancouver\n",
      "city_Vienna\n",
      "city_Villafranca del Castillo\n",
      "city_Villeneuve-d'Ascq\n",
      "city_Vilnius\n",
      "city_Vincennes\n",
      "city_Warsaw\n",
      "city_Washington\n",
      "city_Watford\n",
      "city_Wellesley\n",
      "city_Westlake Village\n",
      "city_Westville\n",
      "city_Wheeling\n",
      "city_White Plains\n",
      "city_Whitewater\n",
      "city_Woodbridge Township\n",
      "city_Wrexham\n",
      "city_Wroclaw\n",
      "city_Yokohama\n",
      "city_Zagreb\n",
      "city_Zaoqiao Township\n",
      "city_Zaragoza\n",
      "city_Zhongli District\n",
      "city_Zurich\n",
      "operatingsystem_b'Android'\n",
      "operatingsystem_b'Chrome OS'\n",
      "operatingsystem_b'Linux'\n",
      "operatingsystem_b'Macintosh'\n",
      "operatingsystem_b'Others'\n",
      "operatingsystem_b'Windows'\n",
      "operatingsystem_b'iOS'\n",
      "source_today_b'direct'\n",
      "source_today_b'facebook'\n",
      "source_today_b'google'\n",
      "source_today_b'others'\n",
      "source_today_b'partners'\n",
      "source_today_b'youtube'\n"
     ]
    }
   ],
   "source": [
    "for i in data2.columns:\n",
    "    print(i)"
   ]
  },
  {
   "cell_type": "markdown",
   "metadata": {
    "colab_type": "text",
    "id": "bJZOYv9-Fog3"
   },
   "source": [
    "#### Split data back into train and test"
   ]
  },
  {
   "cell_type": "markdown",
   "metadata": {
    "colab_type": "text",
    "id": "CjG5WRlpFog7"
   },
   "source": [
    "- Split March-May 2017 data into Train and Validate <br>\n",
    "- Jun 2017 data as Test <br>\n",
    "- Perform MinMax Scaling <br>"
   ]
  },
  {
   "cell_type": "code",
   "execution_count": 18,
   "metadata": {
    "ExecuteTime": {
     "end_time": "2019-07-31T02:41:18.499235Z",
     "start_time": "2019-07-31T02:41:17.317581Z"
    },
    "colab": {},
    "colab_type": "code",
    "id": "0XNoncD4Fog3"
   },
   "outputs": [],
   "source": [
    "# move col 'dataset' to the last col.\n",
    "data2 = data2[[c for c in data2 if c not in ['dataset']] + ['dataset']]\n",
    "# move col 'transactions' to the last col.\n",
    "data2 = data2[[c for c in data2 if c not in ['transactions_target']] + ['transactions_target']]"
   ]
  },
  {
   "cell_type": "code",
   "execution_count": 19,
   "metadata": {
    "ExecuteTime": {
     "end_time": "2019-07-31T02:41:19.336962Z",
     "start_time": "2019-07-31T02:41:18.501154Z"
    },
    "colab": {},
    "colab_type": "code",
    "id": "4yrPcpNCFog5"
   },
   "outputs": [],
   "source": [
    "train = data2[data2['dataset'] == 0]\n",
    "test = data2[data2['dataset'] == 1]"
   ]
  },
  {
   "cell_type": "markdown",
   "metadata": {
    "colab_type": "text",
    "id": "TUh3GZFRFog7"
   },
   "source": [
    "<b> Split train data to train-validation"
   ]
  },
  {
   "cell_type": "code",
   "execution_count": 20,
   "metadata": {
    "ExecuteTime": {
     "end_time": "2019-07-31T02:41:19.670800Z",
     "start_time": "2019-07-31T02:41:19.345342Z"
    },
    "colab": {},
    "colab_type": "code",
    "id": "PlVk3WLtFog8"
   },
   "outputs": [
    {
     "name": "stdout",
     "output_type": "stream",
     "text": [
      "(66424, 1161)\n",
      "(66424,)\n",
      "(28468, 1161)\n",
      "(28468,)\n",
      "(30008, 1161)\n",
      "(30008,)\n"
     ]
    }
   ],
   "source": [
    "from sklearn import preprocessing\n",
    "min_max_scaler = preprocessing.MinMaxScaler()\n",
    "\n",
    "X = train.drop(['transactions_target', 'transactionrevenue_target'], axis=1)\n",
    "y = train['transactions_target']\n",
    "\n",
    "X_train, X_val , y_train, y_val=model_selection.train_test_split(X,y,test_size=0.3, random_state=1234)\n",
    "\n",
    "X_train = min_max_scaler.fit_transform(X_train)\n",
    "X_val = min_max_scaler.transform(X_val)\n",
    "\n",
    "X_test = test.drop(['transactions_target', 'transactionrevenue_target'], axis=1)\n",
    "y_test = test['transactions_target']\n",
    "\n",
    "X_test = min_max_scaler.transform(X_test)\n",
    "\n",
    "# Check train and test datasets\n",
    "print(X_train.shape)\n",
    "print(y_train.shape)\n",
    "print(X_val.shape)\n",
    "print(y_val.shape)\n",
    "print(X_test.shape)\n",
    "print(y_test.shape)"
   ]
  },
  {
   "cell_type": "markdown",
   "metadata": {
    "colab_type": "text",
    "id": "wCEHzYVqFohB"
   },
   "source": [
    "## Classification Models"
   ]
  },
  {
   "cell_type": "markdown",
   "metadata": {
    "colab_type": "text",
    "id": "lKu79gmvFohB"
   },
   "source": [
    "The following classification models were used: <br>\n",
    "- Logistic Regression\n",
    "- Random Forest\n",
    "- Adaptive Boosting\n",
    "- Light Gradient Boosting (LGB)\n",
    "- Neural Network"
   ]
  },
  {
   "cell_type": "markdown",
   "metadata": {
    "colab_type": "text",
    "id": "KGLlQmalFohC"
   },
   "source": [
    "<b> Define optimisation scorer"
   ]
  },
  {
   "cell_type": "code",
   "execution_count": 57,
   "metadata": {
    "colab": {},
    "colab_type": "code",
    "id": "t4nQKRn1FohD"
   },
   "outputs": [],
   "source": [
    "f2_scorer = metrics.make_scorer(metrics.fbeta_score, beta = 2)"
   ]
  },
  {
   "cell_type": "markdown",
   "metadata": {
    "colab_type": "text",
    "id": "DXklRXrWFohE"
   },
   "source": [
    "<b> Define print score function"
   ]
  },
  {
   "cell_type": "code",
   "execution_count": 58,
   "metadata": {
    "colab": {},
    "colab_type": "code",
    "id": "yw8uSm7qFohE"
   },
   "outputs": [],
   "source": [
    "def print_score(model, X_test, y_test):\n",
    "    predict=model.predict(X_test)\n",
    "    print(\"Training score is {}\".format(model.score(X_train, y_train)))\n",
    "    print(\"Validation score is {}\".format(model.score(X_test, y_test)))\n",
    "    print('Recall:', recall_score(y_test, predict))\n",
    "    print('Precision:', precision_score(y_test, predict))\n",
    "    print('Accuracy:', accuracy_score(y_test, predict))\n",
    "    print(\"f1:\", f1_score(y_test, predict))\n",
    "    print(\"f2:\", fbeta_score(y_test, predict, beta=2), '\\n')\n",
    "    print('Classification Score')\n",
    "    print(metrics.classification_report(y_test, predict))\n",
    "    print('Confusion Matrix')\n",
    "    print(metrics.confusion_matrix(y_test, predict))"
   ]
  },
  {
   "cell_type": "markdown",
   "metadata": {
    "colab_type": "text",
    "id": "pkXiH_ZJFohH"
   },
   "source": [
    "## 1 - Logistic Regression"
   ]
  },
  {
   "cell_type": "markdown",
   "metadata": {
    "colab_type": "text",
    "id": "coGuTY9fFohH"
   },
   "source": [
    "<b> Parameter Tuning"
   ]
  },
  {
   "cell_type": "code",
   "execution_count": 59,
   "metadata": {},
   "outputs": [
    {
     "name": "stdout",
     "output_type": "stream",
     "text": [
      "Fitting 5 folds for each of 10 candidates, totalling 50 fits\n"
     ]
    },
    {
     "name": "stderr",
     "output_type": "stream",
     "text": [
      "[Parallel(n_jobs=-1)]: Using backend LokyBackend with 4 concurrent workers.\n",
      "[Parallel(n_jobs=-1)]: Done  33 tasks      | elapsed: 11.5min\n",
      "[Parallel(n_jobs=-1)]: Done  50 out of  50 | elapsed: 17.3min finished\n"
     ]
    },
    {
     "data": {
      "text/plain": [
       "LogisticRegression(C=0.5, class_weight='balanced', dual=False,\n",
       "                   fit_intercept=True, intercept_scaling=1, l1_ratio=None,\n",
       "                   max_iter=100, multi_class='warn', n_jobs=None, penalty='l2',\n",
       "                   random_state=1, solver='newton-cg', tol=0.0001, verbose=0,\n",
       "                   warm_start=False)"
      ]
     },
     "execution_count": 59,
     "metadata": {},
     "output_type": "execute_result"
    }
   ],
   "source": [
    "# parameters = {'solver': ['newton-cg', 'sag','lbfgs'],\n",
    "#                'C': [0.01, 0.05, 0.1, 0.2, 0.5]\n",
    "#                }\n",
    "\n",
    "# rs_lr = model_selection.RandomizedSearchCV(LogisticRegression(penalty='l2', random_state=1, class_weight='balanced'),\n",
    "#                                             parameters,scoring = f2_scorer,\n",
    "#                                             cv=model_selection.StratifiedKFold(\n",
    "#                                                 n_splits=5, shuffle=True, random_state=2019),\n",
    "#                                             verbose=2, n_jobs=-1)\n",
    "\n",
    "# rs_lr.fit(X_train, y_train)\n",
    "\n",
    "# #results\n",
    "# rs_lr.best_estimator_\n",
    "# # LogisticRegression(C=0.5, class_weight='balanced', dual=False,\n",
    "# #                    fit_intercept=True, intercept_scaling=1, l1_ratio=None,\n",
    "# #                    max_iter=100, multi_class='warn', n_jobs=None, penalty='l2',\n",
    "# #                    random_state=1, solver='newton-cg', tol=0.0001, verbose=0,\n",
    "# #                    warm_start=False)"
   ]
  },
  {
   "cell_type": "markdown",
   "metadata": {
    "colab_type": "text",
    "id": "73woN6QAFohK"
   },
   "source": [
    "<b> Logistic Regression Model"
   ]
  },
  {
   "cell_type": "code",
   "execution_count": 60,
   "metadata": {
    "colab": {},
    "colab_type": "code",
    "id": "upUQXW8MFohM"
   },
   "outputs": [
    {
     "data": {
      "text/plain": [
       "LogisticRegression(C=0.5, class_weight='balanced', dual=False,\n",
       "                   fit_intercept=True, intercept_scaling=1, l1_ratio=None,\n",
       "                   max_iter=100, multi_class='warn', n_jobs=None, penalty='l2',\n",
       "                   random_state=1, solver='newton-cg', tol=0.0001, verbose=0,\n",
       "                   warm_start=False)"
      ]
     },
     "execution_count": 60,
     "metadata": {},
     "output_type": "execute_result"
    }
   ],
   "source": [
    "lr =LogisticRegression(C=0.5, class_weight='balanced', dual=False,\n",
    "                   fit_intercept=True, intercept_scaling=1, l1_ratio=None,\n",
    "                   max_iter=100, multi_class='warn', n_jobs=None, penalty='l2',\n",
    "                   random_state=1, solver='newton-cg', tol=0.0001, verbose=0,\n",
    "                   warm_start=False)\n",
    "lr.fit(X_train,y_train)"
   ]
  },
  {
   "cell_type": "markdown",
   "metadata": {
    "colab_type": "text",
    "id": "g1_k25AfFohP"
   },
   "source": [
    "<b> Prediction with Validation Data (Logistic Regression)"
   ]
  },
  {
   "cell_type": "code",
   "execution_count": 61,
   "metadata": {
    "colab": {},
    "colab_type": "code",
    "id": "tGciGDL7FohP",
    "outputId": "74dee28f-b06c-4b61-d5bd-5b690f16b493"
   },
   "outputs": [
    {
     "name": "stdout",
     "output_type": "stream",
     "text": [
      "Training score is 0.8469830181861978\n",
      "Validation score is 0.8431923563299143\n",
      "Recall: 0.8839368616527391\n",
      "Precision: 0.17992817992817992\n",
      "Accuracy: 0.8431923563299143\n",
      "f1: 0.2989949748743719\n",
      "f2: 0.49588498801958536 \n",
      "\n",
      "Classification Score\n",
      "              precision    recall  f1-score   support\n",
      "\n",
      "           0       0.99      0.84      0.91     27391\n",
      "           1       0.18      0.88      0.30      1077\n",
      "\n",
      "    accuracy                           0.84     28468\n",
      "   macro avg       0.59      0.86      0.61     28468\n",
      "weighted avg       0.96      0.84      0.89     28468\n",
      "\n",
      "Confusion Matrix\n",
      "[[23052  4339]\n",
      " [  125   952]]\n"
     ]
    }
   ],
   "source": [
    "print_score(lr, X_val, y_val)"
   ]
  },
  {
   "cell_type": "markdown",
   "metadata": {
    "colab_type": "text",
    "id": "IRfr_RvYFohS"
   },
   "source": [
    "<b> Feature Importance (Logistic Regression)"
   ]
  },
  {
   "cell_type": "code",
   "execution_count": 62,
   "metadata": {
    "colab": {},
    "colab_type": "code",
    "id": "DkaYSpvvFohS",
    "outputId": "11fedc23-d50a-45d3-9219-0a80cb842e33"
   },
   "outputs": [
    {
     "name": "stdout",
     "output_type": "stream",
     "text": [
      "             feature  importance\n",
      "7                  6   27.349701\n",
      "4                  3   26.809540\n",
      "1                  0    7.044747\n",
      "15                14    5.740881\n",
      "3                  2    3.736879\n",
      "2                  1    3.710912\n",
      "18                17    2.728386\n",
      "553  country_Belgium    2.206678\n",
      "584  country_Ecuador    2.195611\n",
      "19                18    2.180052\n"
     ]
    }
   ],
   "source": [
    "lr_importance= pd.DataFrame.from_dict({'feature':list(X.columns), 'importance': lr.coef_[0] })\n",
    "print(lr_importance.sort_values('importance',ascending=False).head(10))"
   ]
  },
  {
   "cell_type": "code",
   "execution_count": 63,
   "metadata": {
    "colab": {},
    "colab_type": "code",
    "id": "AhfXVTdCFohU",
    "outputId": "c6118da1-1ca6-47a3-95a7-e2a725a526fd"
   },
   "outputs": [
    {
     "name": "stdout",
     "output_type": "stream",
     "text": [
      "                      feature  importance\n",
      "954         city_Laguna Beach   -1.396065\n",
      "43      medium_today_referral   -1.408388\n",
      "706            country_Turkey   -1.556275\n",
      "1159  source_today_b'youtube'   -2.213851\n",
      "14                         13   -5.440845\n",
      "13                         12   -7.602506\n",
      "9                           8   -8.054451\n",
      "5                           4   -9.711712\n",
      "10                          9  -11.299665\n",
      "6                           5  -13.065743\n"
     ]
    }
   ],
   "source": [
    "print(lr_importance.sort_values('importance',ascending=False).tail(10))"
   ]
  },
  {
   "cell_type": "markdown",
   "metadata": {
    "colab_type": "text",
    "id": "3M1qp0coFohW"
   },
   "source": [
    "## 2 - Random Forest Modelling"
   ]
  },
  {
   "cell_type": "markdown",
   "metadata": {
    "colab_type": "text",
    "id": "rwAxXVTcFohW"
   },
   "source": [
    "<b> Parameter Tuning"
   ]
  },
  {
   "cell_type": "code",
   "execution_count": 64,
   "metadata": {
    "colab": {},
    "colab_type": "code",
    "id": "pi-5cScXFohW"
   },
   "outputs": [
    {
     "name": "stdout",
     "output_type": "stream",
     "text": [
      "Fitting 5 folds for each of 10 candidates, totalling 50 fits\n"
     ]
    },
    {
     "name": "stderr",
     "output_type": "stream",
     "text": [
      "[Parallel(n_jobs=-1)]: Using backend LokyBackend with 4 concurrent workers.\n",
      "[Parallel(n_jobs=-1)]: Done  33 tasks      | elapsed:  3.9min\n",
      "[Parallel(n_jobs=-1)]: Done  50 out of  50 | elapsed:  5.5min finished\n"
     ]
    },
    {
     "data": {
      "text/plain": [
       "RandomForestClassifier(bootstrap=True, class_weight='balanced',\n",
       "                       criterion='gini', max_depth=20, max_features='auto',\n",
       "                       max_leaf_nodes=None, min_impurity_decrease=0.0,\n",
       "                       min_impurity_split=None, min_samples_leaf=2,\n",
       "                       min_samples_split=6, min_weight_fraction_leaf=0.0,\n",
       "                       n_estimators=40, n_jobs=None, oob_score=False,\n",
       "                       random_state=1, verbose=0, warm_start=False)"
      ]
     },
     "execution_count": 64,
     "metadata": {},
     "output_type": "execute_result"
    }
   ],
   "source": [
    "# parameters = {'criterion': ['gini', 'entropy'],\n",
    "#                'max_depth': [5, 10, 15, 20],\n",
    "#                'min_samples_leaf': [1, 2],\n",
    "#                'min_samples_split': [2, 4, 6],\n",
    "#                'n_estimators': [10, 20, 30, 40],\n",
    "#                'class_weight': ['balanced', 'balanced_subsample', None]\n",
    "#                }\n",
    "\n",
    "# rs_rf = model_selection.RandomizedSearchCV(ensemble.RandomForestClassifier(random_state=1),\n",
    "#                                             parameters, scoring = f2_scorer,\n",
    "#                                             cv=model_selection.StratifiedKFold(\n",
    "#                                                 n_splits=5, shuffle=True, random_state=2019),\n",
    "#                                             verbose=2, n_jobs=-1)\n",
    "\n",
    "# rs_rf.fit(X_train, y_train)\n",
    "# # print('best parameters: ', rs_rf.best_params_)\n",
    "\n",
    "# ##results\n",
    "# rs_rf.best_estimator_\n",
    "# # RandomForestClassifier(bootstrap=True, class_weight='balanced',\n",
    "# #                        criterion='gini', max_depth=20, max_features='auto',\n",
    "# #                        max_leaf_nodes=None, min_impurity_decrease=0.0,\n",
    "# #                        min_impurity_split=None, min_samples_leaf=2,\n",
    "# #                        min_samples_split=6, min_weight_fraction_leaf=0.0,\n",
    "# #                        n_estimators=40, n_jobs=None, oob_score=False,\n",
    "# #                        random_state=1, verbose=0, warm_start=False)"
   ]
  },
  {
   "cell_type": "markdown",
   "metadata": {
    "colab_type": "text",
    "id": "M1WmIB5pFohX"
   },
   "source": [
    "<b> Random Forest Model"
   ]
  },
  {
   "cell_type": "code",
   "execution_count": 65,
   "metadata": {
    "colab": {},
    "colab_type": "code",
    "id": "JOCLK9vtFohZ",
    "outputId": "8a3c1926-74f7-4f40-a549-bcc806b5bbed"
   },
   "outputs": [
    {
     "data": {
      "text/plain": [
       "RandomForestClassifier(bootstrap=True, class_weight='balanced',\n",
       "                       criterion='gini', max_depth=20, max_features='auto',\n",
       "                       max_leaf_nodes=None, min_impurity_decrease=0.0,\n",
       "                       min_impurity_split=None, min_samples_leaf=2,\n",
       "                       min_samples_split=6, min_weight_fraction_leaf=0.0,\n",
       "                       n_estimators=40, n_jobs=None, oob_score=False,\n",
       "                       random_state=1, verbose=0, warm_start=False)"
      ]
     },
     "execution_count": 65,
     "metadata": {},
     "output_type": "execute_result"
    }
   ],
   "source": [
    "rf = ensemble.RandomForestClassifier(bootstrap=True, class_weight='balanced',\n",
    "                       criterion='gini', max_depth=20, max_features='auto',\n",
    "                       max_leaf_nodes=None, min_impurity_decrease=0.0,\n",
    "                       min_impurity_split=None, min_samples_leaf=2,\n",
    "                       min_samples_split=6, min_weight_fraction_leaf=0.0,\n",
    "                       n_estimators=40, n_jobs=None, oob_score=False,\n",
    "                       random_state=1, verbose=0, warm_start=False)\n",
    "rf.fit(X_train, y_train)"
   ]
  },
  {
   "cell_type": "markdown",
   "metadata": {
    "colab_type": "text",
    "id": "RkhbmARHFohb"
   },
   "source": [
    "<b> Prediction with Validation Data (Random Forest)"
   ]
  },
  {
   "cell_type": "code",
   "execution_count": 66,
   "metadata": {},
   "outputs": [
    {
     "name": "stdout",
     "output_type": "stream",
     "text": [
      "Training score is 0.9373419246055642\n",
      "Validation score is 0.9234930448222566\n",
      "Recall: 0.8328690807799443\n",
      "Precision: 0.30984455958549223\n",
      "Accuracy: 0.9234930448222566\n",
      "f1: 0.45166163141993954\n",
      "f2: 0.6226572261557684 \n",
      "\n",
      "Classification Score\n",
      "              precision    recall  f1-score   support\n",
      "\n",
      "           0       0.99      0.93      0.96     27391\n",
      "           1       0.31      0.83      0.45      1077\n",
      "\n",
      "    accuracy                           0.92     28468\n",
      "   macro avg       0.65      0.88      0.71     28468\n",
      "weighted avg       0.97      0.92      0.94     28468\n",
      "\n",
      "Confusion Matrix\n",
      "[[25393  1998]\n",
      " [  180   897]]\n"
     ]
    }
   ],
   "source": [
    "print_score(rf, X_val, y_val)"
   ]
  },
  {
   "cell_type": "code",
   "execution_count": 67,
   "metadata": {
    "colab": {},
    "colab_type": "code",
    "id": "uDXsTQ23Fohb",
    "outputId": "635d5f05-5ee2-4d2a-d7a1-d3fdf8f961f4",
    "scrolled": true
   },
   "outputs": [
    {
     "name": "stdout",
     "output_type": "stream",
     "text": [
      "Training score is 0.9373419246055642\n",
      "Validation score is 0.9234930448222566\n",
      "Recall: 0.8328690807799443\n",
      "Precision: 0.30984455958549223\n",
      "Accuracy: 0.9234930448222566\n",
      "f1: 0.45166163141993954\n",
      "f2: 0.6226572261557684 \n",
      "\n",
      "Classification Score\n",
      "              precision    recall  f1-score   support\n",
      "\n",
      "           0       0.99      0.93      0.96     27391\n",
      "           1       0.31      0.83      0.45      1077\n",
      "\n",
      "    accuracy                           0.92     28468\n",
      "   macro avg       0.65      0.88      0.71     28468\n",
      "weighted avg       0.97      0.92      0.94     28468\n",
      "\n",
      "Confusion Matrix\n",
      "[[25393  1998]\n",
      " [  180   897]]\n"
     ]
    }
   ],
   "source": [
    "print_score(rf, X_val, y_val)"
   ]
  },
  {
   "cell_type": "markdown",
   "metadata": {
    "colab_type": "text",
    "id": "ndrv7dl8Fohe"
   },
   "source": [
    "<b> Feature Importance for Random Forest"
   ]
  },
  {
   "cell_type": "code",
   "execution_count": 68,
   "metadata": {
    "colab": {},
    "colab_type": "code",
    "id": "6FdbMmBhFohe",
    "outputId": "b19c30bd-71ed-4673-d057-fc6fb4c49a3e",
    "scrolled": true
   },
   "outputs": [
    {
     "name": "stdout",
     "output_type": "stream",
     "text": [
      "   feature  importance\n",
      "6        5    0.089939\n",
      "4        3    0.071691\n",
      "16      15    0.058834\n",
      "7        6    0.057298\n",
      "3        2    0.047468\n",
      "17      16    0.046283\n",
      "8        7    0.044870\n",
      "5        4    0.041791\n",
      "18      17    0.037098\n",
      "9        8    0.035749\n"
     ]
    }
   ],
   "source": [
    "rf_importance= pd.DataFrame.from_dict({'feature':list(X.columns), 'importance': rf.feature_importances_ })\n",
    "print(rf_importance.sort_values('importance',ascending=False).head(10))"
   ]
  },
  {
   "cell_type": "markdown",
   "metadata": {
    "colab_type": "text",
    "id": "AeLqovEVFohg"
   },
   "source": [
    "## 3 - Adaptive Boosting"
   ]
  },
  {
   "cell_type": "markdown",
   "metadata": {
    "colab_type": "text",
    "id": "mcNgNyyEFohg"
   },
   "source": [
    "<b> Parameter Tuning"
   ]
  },
  {
   "cell_type": "code",
   "execution_count": null,
   "metadata": {},
   "outputs": [],
   "source": [
    "# parameters = {'base_estimator__criterion' : [\"gini\", \"entropy\"], \n",
    "#               'base_estimator__splitter' :   [\"best\", \"random\"],\n",
    "#               'base_estimator__max_depth': [15, 20, 25, 30], \n",
    "#               'base_estimator__min_samples_split': list(range(15, 30, 5)),\n",
    "#               'algorithm': ['SAMME', 'SAMME.R'], 'learning_rate': [0.001, 0.01, 0.1, 0.5, 1], \n",
    "#               'n_estimators': list(range(50, 200, 50))}\n",
    "\n",
    "# DTC = tree.DecisionTreeClassifier(random_state = 2019, max_features = \"auto\", class_weight = \"balanced\")\n",
    "\n",
    "# rs_ab = model_selection.RandomizedSearchCV(ensemble.AdaBoostClassifier(random_state = 2019, base_estimator = DTC), \n",
    "#                                   parameters, scoring = f2_scorer, \n",
    "#                                   cv = model_selection.StratifiedKFold(n_splits = 5, shuffle = True, random_state = 2019),\n",
    "#                                        iid=False, verbose=2, n_jobs=-1)\n",
    "\n",
    "# rs_ab.fit(X_train, y_train)\n",
    "\n",
    "# #results\n",
    "# rs_ab.best_estimator_\n",
    "# # AdaBoostClassifier(algorithm='SAMME',\n",
    "# #                    base_estimator=DecisionTreeClassifier(class_weight='balanced',\n",
    "# #                                                          criterion='gini',\n",
    "# #                                                          max_depth=20,\n",
    "# #                                                          max_features='auto',\n",
    "# #                                                          max_leaf_nodes=None,\n",
    "# #                                                          min_impurity_decrease=0.0,\n",
    "# #                                                          min_impurity_split=None,\n",
    "# #                                                          min_samples_leaf=1,\n",
    "# #                                                          min_samples_split=20,\n",
    "# #                                                          min_weight_fraction_leaf=0.0,\n",
    "# #                                                          presort=False,\n",
    "# #                                                          random_state=2019,\n",
    "# #                                                          splitter='best'),\n",
    "# #                    learning_rate=0.5, n_estimators=50, random_state=2019)"
   ]
  },
  {
   "cell_type": "markdown",
   "metadata": {
    "colab_type": "text",
    "id": "ADrSL50VFohl"
   },
   "source": [
    "<b> AdaBoost Model"
   ]
  },
  {
   "cell_type": "code",
   "execution_count": 71,
   "metadata": {
    "colab": {},
    "colab_type": "code",
    "id": "8QQ2UKvjFoho"
   },
   "outputs": [
    {
     "data": {
      "text/plain": [
       "AdaBoostClassifier(algorithm='SAMME',\n",
       "                   base_estimator=DecisionTreeClassifier(class_weight='balanced',\n",
       "                                                         criterion='gini',\n",
       "                                                         max_depth=20,\n",
       "                                                         max_features='auto',\n",
       "                                                         max_leaf_nodes=None,\n",
       "                                                         min_impurity_decrease=0.0,\n",
       "                                                         min_impurity_split=None,\n",
       "                                                         min_samples_leaf=1,\n",
       "                                                         min_samples_split=20,\n",
       "                                                         min_weight_fraction_leaf=0.0,\n",
       "                                                         presort=False,\n",
       "                                                         random_state=2019,\n",
       "                                                         splitter='best'),\n",
       "                   learning_rate=0.5, n_estimators=50, random_state=2019)"
      ]
     },
     "execution_count": 71,
     "metadata": {},
     "output_type": "execute_result"
    }
   ],
   "source": [
    "from sklearn.tree import DecisionTreeClassifier\n",
    "\n",
    "ab= ensemble.AdaBoostClassifier(algorithm='SAMME',\n",
    "                   base_estimator=DecisionTreeClassifier(class_weight='balanced',\n",
    "                                                         criterion='gini',\n",
    "                                                         max_depth=20,\n",
    "                                                         max_features='auto',\n",
    "                                                         max_leaf_nodes=None,\n",
    "                                                         min_impurity_decrease=0.0,\n",
    "                                                         min_impurity_split=None,\n",
    "                                                         min_samples_leaf=1,\n",
    "                                                         min_samples_split=20,\n",
    "                                                         min_weight_fraction_leaf=0.0,\n",
    "                                                         presort=False,\n",
    "                                                         random_state=2019,\n",
    "                                                         splitter='best'),\n",
    "                   learning_rate=0.5, n_estimators=50, random_state=2019)\n",
    "\n",
    "ab.fit(X_train, y_train)"
   ]
  },
  {
   "cell_type": "markdown",
   "metadata": {
    "colab_type": "text",
    "id": "PI2o3j3zFohr"
   },
   "source": [
    "<b> Prediction with Validation Data (Adaboost)"
   ]
  },
  {
   "cell_type": "code",
   "execution_count": 72,
   "metadata": {
    "colab": {},
    "colab_type": "code",
    "id": "HUEV8OF3Fohr",
    "outputId": "cce183ff-e250-4fec-baae-eb06b9ddd5e9",
    "scrolled": true
   },
   "outputs": [
    {
     "name": "stdout",
     "output_type": "stream",
     "text": [
      "Training score is 0.9753552932674937\n",
      "Validation score is 0.9460446817479276\n",
      "Recall: 0.6648096564531105\n",
      "Precision: 0.3786356425171867\n",
      "Accuracy: 0.9460446817479276\n",
      "f1: 0.48247978436657685\n",
      "f2: 0.5775125020164543 \n",
      "\n",
      "Classification Score\n",
      "              precision    recall  f1-score   support\n",
      "\n",
      "           0       0.99      0.96      0.97     27391\n",
      "           1       0.38      0.66      0.48      1077\n",
      "\n",
      "    accuracy                           0.95     28468\n",
      "   macro avg       0.68      0.81      0.73     28468\n",
      "weighted avg       0.96      0.95      0.95     28468\n",
      "\n",
      "Confusion Matrix\n",
      "[[26216  1175]\n",
      " [  361   716]]\n"
     ]
    }
   ],
   "source": [
    "print_score(ab, X_val, y_val)"
   ]
  },
  {
   "cell_type": "markdown",
   "metadata": {
    "colab_type": "text",
    "id": "IxX1vQF7Fohx"
   },
   "source": [
    "<b> Feature Importance for Adaptive Boosting"
   ]
  },
  {
   "cell_type": "code",
   "execution_count": 73,
   "metadata": {
    "colab": {},
    "colab_type": "code",
    "id": "9Dzh_w9jFohx",
    "outputId": "87b1416a-f90d-4944-8e49-0a5a3c49ebd3",
    "scrolled": true
   },
   "outputs": [
    {
     "name": "stdout",
     "output_type": "stream",
     "text": [
      "   feature  importance\n",
      "7        6    0.069719\n",
      "16      15    0.051313\n",
      "3        2    0.049667\n",
      "6        5    0.049608\n",
      "4        3    0.040666\n",
      "15      14    0.040468\n",
      "5        4    0.040465\n",
      "14      13    0.039064\n",
      "12      11    0.038130\n",
      "18      17    0.036364\n"
     ]
    }
   ],
   "source": [
    "ab_importance= pd.DataFrame.from_dict({'feature':list(X.columns), 'importance': ab.feature_importances_ })\n",
    "print(ab_importance.sort_values('importance',ascending=False).head(10))"
   ]
  },
  {
   "cell_type": "markdown",
   "metadata": {
    "colab_type": "text",
    "id": "FH2KzwH2Fohy"
   },
   "source": [
    "## 4 - Neural Network"
   ]
  },
  {
   "cell_type": "code",
   "execution_count": 74,
   "metadata": {},
   "outputs": [
    {
     "name": "stdout",
     "output_type": "stream",
     "text": [
      "Fitting 5 folds for each of 10 candidates, totalling 50 fits\n"
     ]
    },
    {
     "name": "stderr",
     "output_type": "stream",
     "text": [
      "[Parallel(n_jobs=-1)]: Using backend LokyBackend with 4 concurrent workers.\n",
      "[Parallel(n_jobs=-1)]: Done  33 tasks      | elapsed: 33.1min\n",
      "[Parallel(n_jobs=-1)]: Done  50 out of  50 | elapsed: 45.6min finished\n",
      "C:\\Users\\evelyn\\Anaconda3\\lib\\site-packages\\sklearn\\neural_network\\multilayer_perceptron.py:566: ConvergenceWarning: Stochastic Optimizer: Maximum iterations (100) reached and the optimization hasn't converged yet.\n",
      "  % self.max_iter, ConvergenceWarning)\n"
     ]
    },
    {
     "data": {
      "text/plain": [
       "MLPClassifier(activation='tanh', alpha=0.0001, batch_size='auto', beta_1=0.9,\n",
       "              beta_2=0.999, early_stopping=False, epsilon=1e-08,\n",
       "              hidden_layer_sizes=(32, 16, 8), learning_rate='adaptive',\n",
       "              learning_rate_init=0.001, max_iter=100, momentum=0.9,\n",
       "              n_iter_no_change=10, nesterovs_momentum=True, power_t=0.5,\n",
       "              random_state=2019, shuffle=True, solver='adam', tol=0.0001,\n",
       "              validation_fraction=0.1, verbose=False, warm_start=False)"
      ]
     },
     "execution_count": 74,
     "metadata": {},
     "output_type": "execute_result"
    }
   ],
   "source": [
    "# from sklearn.neural_network import MLPClassifier\n",
    "# parameters = {\n",
    "#     'hidden_layer_sizes': [(32,24,10), (16,32,16), (32,16,8)],\n",
    "#     'activation': ['tanh', 'relu'],\n",
    "#     'solver': ['sgd', 'adam'],\n",
    "#     'alpha': [0.0001, 0.05],\n",
    "#     'learning_rate': ['constant','adaptive'],\n",
    "# }\n",
    "\n",
    "# rs_nn = model_selection.RandomizedSearchCV(MLPClassifier(random_state=2019, max_iter=100),\n",
    "#                                             parameters,scoring = f2_scorer,\n",
    "#                                             cv=model_selection.StratifiedKFold(\n",
    "#                                                 n_splits=5, shuffle=True, random_state=2019),\n",
    "#                                             verbose=2, n_jobs=-1)\n",
    "\n",
    "# rs_nn.fit(X_train, y_train)\n",
    "# rs_nn.best_estimator_\n",
    "\n",
    "# # result\n",
    "# # MLPClassifier(activation='tanh', alpha=0.0001, batch_size='auto', beta_1=0.9,\n",
    "# #               beta_2=0.999, early_stopping=False, epsilon=1e-08,\n",
    "# #               hidden_layer_sizes=(32, 16, 8), learning_rate='adaptive',\n",
    "# #               learning_rate_init=0.001, max_iter=100, momentum=0.9,\n",
    "# #               n_iter_no_change=10, nesterovs_momentum=True, power_t=0.5,\n",
    "# #               random_state=2019, shuffle=True, solver='adam', tol=0.0001,\n",
    "# #               validation_fraction=0.1, verbose=False, warm_start=False)"
   ]
  },
  {
   "cell_type": "code",
   "execution_count": 75,
   "metadata": {},
   "outputs": [
    {
     "name": "stderr",
     "output_type": "stream",
     "text": [
      "C:\\Users\\evelyn\\Anaconda3\\lib\\site-packages\\sklearn\\neural_network\\multilayer_perceptron.py:566: ConvergenceWarning: Stochastic Optimizer: Maximum iterations (100) reached and the optimization hasn't converged yet.\n",
      "  % self.max_iter, ConvergenceWarning)\n"
     ]
    },
    {
     "data": {
      "text/plain": [
       "MLPClassifier(activation='tanh', alpha=0.0001, batch_size='auto', beta_1=0.9,\n",
       "              beta_2=0.999, early_stopping=False, epsilon=1e-08,\n",
       "              hidden_layer_sizes=(32, 16, 8), learning_rate='adaptive',\n",
       "              learning_rate_init=0.001, max_iter=100, momentum=0.9,\n",
       "              n_iter_no_change=10, nesterovs_momentum=True, power_t=0.5,\n",
       "              random_state=2019, shuffle=True, solver='adam', tol=0.0001,\n",
       "              validation_fraction=0.1, verbose=False, warm_start=False)"
      ]
     },
     "execution_count": 75,
     "metadata": {},
     "output_type": "execute_result"
    }
   ],
   "source": [
    "from sklearn.neural_network import MLPClassifier\n",
    "\n",
    "nn= MLPClassifier(activation='tanh', alpha=0.0001, batch_size='auto', beta_1=0.9,\n",
    "              beta_2=0.999, early_stopping=False, epsilon=1e-08,\n",
    "              hidden_layer_sizes=(32, 16, 8), learning_rate='adaptive',\n",
    "              learning_rate_init=0.001, max_iter=100, momentum=0.9,\n",
    "              n_iter_no_change=10, nesterovs_momentum=True, power_t=0.5,\n",
    "              random_state=2019, shuffle=True, solver='adam', tol=0.0001,\n",
    "              validation_fraction=0.1, verbose=False, warm_start=False)\n",
    "\n",
    "nn.fit(X_train, y_train)"
   ]
  },
  {
   "cell_type": "markdown",
   "metadata": {
    "colab_type": "text",
    "id": "PI2o3j3zFohr"
   },
   "source": [
    "<b> Prediction with Validation Data (Neural Network)"
   ]
  },
  {
   "cell_type": "code",
   "execution_count": 76,
   "metadata": {
    "colab": {},
    "colab_type": "code",
    "id": "HUEV8OF3Fohr",
    "outputId": "cce183ff-e250-4fec-baae-eb06b9ddd5e9",
    "scrolled": true
   },
   "outputs": [
    {
     "name": "stdout",
     "output_type": "stream",
     "text": [
      "Training score is 0.9703872094423702\n",
      "Validation score is 0.9666643248559786\n",
      "Recall: 0.39925719591457753\n",
      "Precision: 0.587431693989071\n",
      "Accuracy: 0.9666643248559786\n",
      "f1: 0.4754007739082366\n",
      "f2: 0.4265873015873016 \n",
      "\n",
      "Classification Score\n",
      "              precision    recall  f1-score   support\n",
      "\n",
      "           0       0.98      0.99      0.98     27391\n",
      "           1       0.59      0.40      0.48      1077\n",
      "\n",
      "    accuracy                           0.97     28468\n",
      "   macro avg       0.78      0.69      0.73     28468\n",
      "weighted avg       0.96      0.97      0.96     28468\n",
      "\n",
      "Confusion Matrix\n",
      "[[27089   302]\n",
      " [  647   430]]\n"
     ]
    }
   ],
   "source": [
    "print_score(nn, X_val, y_val)"
   ]
  },
  {
   "cell_type": "markdown",
   "metadata": {
    "colab_type": "text",
    "id": "sc3uPv4TFoh5"
   },
   "source": [
    "## 5 - LightGBM"
   ]
  },
  {
   "cell_type": "code",
   "execution_count": 77,
   "metadata": {
    "colab": {},
    "colab_type": "code",
    "id": "SVbWeYILFoh5",
    "outputId": "32a07fed-cd35-4a5c-a252-34f48e758bc3"
   },
   "outputs": [],
   "source": [
    "import lightgbm as lgb"
   ]
  },
  {
   "cell_type": "markdown",
   "metadata": {},
   "source": [
    "<b> Parameter Tuning"
   ]
  },
  {
   "cell_type": "code",
   "execution_count": 78,
   "metadata": {},
   "outputs": [
    {
     "name": "stdout",
     "output_type": "stream",
     "text": [
      "Fitting 5 folds for each of 10 candidates, totalling 50 fits\n"
     ]
    },
    {
     "name": "stderr",
     "output_type": "stream",
     "text": [
      "[Parallel(n_jobs=-1)]: Using backend LokyBackend with 4 concurrent workers.\n",
      "[Parallel(n_jobs=-1)]: Done  33 tasks      | elapsed:  1.6min\n",
      "[Parallel(n_jobs=-1)]: Done  50 out of  50 | elapsed:  2.3min finished\n"
     ]
    },
    {
     "name": "stdout",
     "output_type": "stream",
     "text": [
      "best score: 0.41882923648645976\n",
      "best parameters:  {'num_leaves': 40, 'min_data_in_leaf': 5, 'max_depth': 60}\n"
     ]
    }
   ],
   "source": [
    "# # coarse to fine tuning\n",
    "# #parameter tuning guideline from: https://lightgbm.readthedocs.io/en/latest/Parameters-Tuning.html\n",
    "\n",
    "# #Step 1 - coarse\n",
    "# parameters = {'num_leaves': [10,20,30,40,50], 'min_data_in_leaf': [5, 10, 20, 30, 50, 100],'max_depth': [-1, 20, 40, 60, 100]}\n",
    "\n",
    "# lgb_fit = model_selection.RandomizedSearchCV(lgb.LGBMClassifier(), parameters, scoring =  f2_scorer,\n",
    "#                                    cv = model_selection.StratifiedKFold(n_splits = 5, shuffle = True, random_state = 2019),\n",
    "#                                             verbose=2, n_jobs=-1)\n",
    "    \n",
    "# lgb_fit.fit(X_train, y_train)\n",
    "# print('best score:', lgb_fit.best_score_)\n",
    "# print('best parameters: ', lgb_fit.best_params_)\n",
    "\n",
    "# #results\n",
    "# # best score: 0.41882923648645976\n",
    "# # best parameters:  {'num_leaves': 40, 'min_data_in_leaf': 5, 'max_depth': 60}\n",
    "\n",
    "# ##### Never do this ################################\n",
    "\n",
    "# # Step 2 - fine\n",
    "# # parameters = {'num_leaves': [30,50,70,90], 'min_data_in_leaf': [10,20,30,40],'max_depth': [100,120,140,160]}\n",
    "\n",
    "# # lgb_fit = model_selection.RandomizedSearchCV(lgb.LGBMClassifier(), parameters, scoring =  f2_scorer,\n",
    "# #                                    cv = model_selection.StratifiedKFold(n_splits = 10, shuffle = True, random_state = 2019))\n",
    "    \n",
    "# # lgb_fit.fit(X_train, y_train)\n",
    "# # print('best score:', lgb_fit.best_score_)\n",
    "# # print('best parameters: ', lgb_fit.best_params_)\n",
    "# # best score: 0.42790358761961755\n",
    "# # best parameters:  {'num_leaves': 90, 'min_data_in_leaf': 10, 'max_depth': 160}\n",
    "\n",
    "# # Note: to use step 1 tuning as it generate better score"
   ]
  },
  {
   "cell_type": "markdown",
   "metadata": {},
   "source": [
    "<b> Light Gradient Boosting Model"
   ]
  },
  {
   "cell_type": "code",
   "execution_count": 81,
   "metadata": {},
   "outputs": [
    {
     "name": "stdout",
     "output_type": "stream",
     "text": [
      "[500]\tvalid_0's binary_logloss: 0.0811914\n",
      "[1000]\tvalid_0's binary_logloss: 0.080201\n",
      "[1500]\tvalid_0's binary_logloss: 0.0802238\n",
      "[2000]\tvalid_0's binary_logloss: 0.0808529\n",
      "[2500]\tvalid_0's binary_logloss: 0.0822284\n",
      "[3000]\tvalid_0's binary_logloss: 0.0836595\n"
     ]
    },
    {
     "data": {
      "text/plain": [
       "LGBMClassifier(boosting_type='dart', class_weight=None, colsample_bytree=1.0,\n",
       "               importance_type='split', learning_rate=0.04, max_depth=60,\n",
       "               min_child_samples=20, min_child_weight=0.001, min_data_in_leaf=5,\n",
       "               min_split_gain=0.0, n_estimators=3200, n_jobs=-1, num_leaves=40,\n",
       "               objective=None, random_state=None, reg_alpha=0.0, reg_lambda=0.0,\n",
       "               silent=True, subsample=1.0, subsample_for_bin=200000,\n",
       "               subsample_freq=0)"
      ]
     },
     "execution_count": 81,
     "metadata": {},
     "output_type": "execute_result"
    }
   ],
   "source": [
    "lgb_c = lgb.LGBMClassifier(learning_rate = 0.04, n_estimators = 3200, boosting_type = 'dart', num_leaves = 40, min_data_in_leaf = 5, max_depth = 60)\n",
    "lgb_c.fit(X_train, y_train,\n",
    "          eval_set = [(X_val, y_val)],\n",
    "          eval_metric = None,\n",
    "          verbose = 500)"
   ]
  },
  {
   "cell_type": "markdown",
   "metadata": {},
   "source": [
    "<b> Prediction with Validation Data (LGB) "
   ]
  },
  {
   "cell_type": "code",
   "execution_count": 82,
   "metadata": {},
   "outputs": [
    {
     "name": "stdout",
     "output_type": "stream",
     "text": [
      "Training score is 0.9980729856678309\n",
      "Validation score is 0.9692988618800056\n",
      "Recall: 0.4103992571959146\n",
      "Precision: 0.6490455212922174\n",
      "Accuracy: 0.9692988618800056\n",
      "f1: 0.502844141069397\n",
      "f2: 0.442974543996793 \n",
      "\n",
      "Classification Score\n",
      "              precision    recall  f1-score   support\n",
      "\n",
      "           0       0.98      0.99      0.98     27391\n",
      "           1       0.65      0.41      0.50      1077\n",
      "\n",
      "    accuracy                           0.97     28468\n",
      "   macro avg       0.81      0.70      0.74     28468\n",
      "weighted avg       0.96      0.97      0.97     28468\n",
      "\n",
      "Confusion Matrix\n",
      "[[27152   239]\n",
      " [  635   442]]\n"
     ]
    }
   ],
   "source": [
    "print_score(lgb_c, X_val, y_val)"
   ]
  },
  {
   "cell_type": "code",
   "execution_count": 83,
   "metadata": {
    "colab": {},
    "colab_type": "code",
    "id": "pAbOXVBUFoh_",
    "outputId": "654f9ba7-b69c-4049-d9e8-2c905072d309"
   },
   "outputs": [
    {
     "name": "stdout",
     "output_type": "stream",
     "text": [
      "   feature  importance\n",
      "4        3        8055\n",
      "7        6        7810\n",
      "1        0        6714\n",
      "18      17        6198\n",
      "16      15        6101\n",
      "6        5        6075\n",
      "5        4        5324\n",
      "9        8        5265\n",
      "13      12        5101\n",
      "8        7        4773\n"
     ]
    }
   ],
   "source": [
    "lgb_importance= pd.DataFrame.from_dict({'feature':list(X.columns), 'importance': lgb_c.feature_importances_ })\n",
    "print(lgb_importance.sort_values('importance',ascending=False).head(10))"
   ]
  },
  {
   "cell_type": "markdown",
   "metadata": {
    "colab_type": "text",
    "id": "2QmmuDJ0FoiA"
   },
   "source": [
    "### Precision Recall Chart - Validation Data"
   ]
  },
  {
   "cell_type": "code",
   "execution_count": 84,
   "metadata": {
    "colab": {},
    "colab_type": "code",
    "id": "s1qGONSGFoiA"
   },
   "outputs": [],
   "source": [
    "lr_proba_val=lr.predict_proba(X_val)[:, 1]\n",
    "rf_proba_val=rf.predict_proba(X_val)[:, 1]\n",
    "ab_proba_val=ab.predict_proba(X_val)[:, 1]\n",
    "nn_proba_val=nn.predict_proba(X_val)[:, 1]\n",
    "lgb_proba_val=lgb_c.predict_proba(X_val, num_iteration=lgb_c.best_iteration_)[:,1]"
   ]
  },
  {
   "cell_type": "code",
   "execution_count": 85,
   "metadata": {
    "colab": {},
    "colab_type": "code",
    "id": "yKutTa7KFoiC",
    "outputId": "342da430-1bf4-40fb-8e22-451b8438057f"
   },
   "outputs": [
    {
     "data": {
      "image/png": "[encoded data removed]",
      "text/plain": [
       "<Figure size 432x288 with 1 Axes>"
      ]
     },
     "metadata": {
      "needs_background": "light"
     },
     "output_type": "display_data"
    },
    {
     "data": {
      "image/png": "[encoded data removed]",
      "text/plain": [
       "<Figure size 432x288 with 1 Axes>"
      ]
     },
     "metadata": {
      "needs_background": "light"
     },
     "output_type": "display_data"
    }
   ],
   "source": [
    "from inspect import signature\n",
    "\n",
    "lr_precision, lr_recall, _ = metrics.precision_recall_curve(y_val, lr_proba_val)\n",
    "rf_precision, rf_recall, _ = metrics.precision_recall_curve(y_val, rf_proba_val)\n",
    "ab_precision, ab_recall, _ = metrics.precision_recall_curve(y_val, ab_proba_val)\n",
    "nn_precision, nn_recall, _ = metrics.precision_recall_curve(y_val, nn_proba_val)\n",
    "lgb_precision, lgb_recall, _ = metrics.precision_recall_curve(y_val, lgb_proba_val)\n",
    "\n",
    "step_kwargs = ({'step': 'post'}\n",
    "                   if 'step' in signature(plt.fill_between).parameters\n",
    "                   else {})\n",
    "plt.step(lr_recall, lr_precision, color='blue', alpha=0.7, where='post', label='Logistic')\n",
    "plt.step(rf_recall, rf_precision, color='red', alpha=0.7, where='post', label='Random Forest')\n",
    "plt.step(ab_recall, ab_precision, color='green', alpha=0.7, where='post', label='AdaBoost')\n",
    "plt.step(nn_recall, nn_precision, color='orange', alpha=0.7, where='post', label='Neural Network')\n",
    "plt.step(lgb_recall, lgb_precision, color='cyan', alpha=0.7, where='post', label='LightGBM')\n",
    "plt.xlabel('Recall')\n",
    "plt.ylabel('Precision')\n",
    "plt.ylim([0.0, 1.05])\n",
    "plt.xlim([0.0, 1.0])\n",
    "plt.title('Precision-Recall curve for Validation Data')\n",
    "plt.legend(loc='best')\n",
    "plt.show()\n",
    "\n",
    "fpr_lr, tpr_lr, _ = roc_curve(y_val, lr_proba_val)\n",
    "fpr_rf, tpr_rf, _ = roc_curve(y_val, rf_proba_val)\n",
    "fpr_ab, tpr_ab, _ = roc_curve(y_val, ab_proba_val)\n",
    "fpr_nn, tpr_nn, _ = roc_curve(y_val, nn_proba_val)\n",
    "fpr_lgb, tpr_lgb, _ = roc_curve(y_val, lgb_proba_val)\n",
    "\n",
    "plt.figure(1)\n",
    "plt.plot([0, 1], [0, 1], 'k--')\n",
    "plt.plot(fpr_lr, tpr_lr, label='Logistic',color='blue', alpha=0.7)\n",
    "plt.plot(fpr_rf, tpr_rf, label='Random Forest',color='red', alpha=0.7)\n",
    "plt.plot(fpr_ab, tpr_ab, label='AdaBoost',color='green', alpha=0.7)\n",
    "plt.plot(fpr_nn, tpr_nn, label='Neural Network',color='orange', alpha=0.7)\n",
    "plt.plot(fpr_lgb, tpr_lgb, label='LightGBM',color='cyan', alpha=0.7)\n",
    "plt.xlabel('False positive rate')\n",
    "plt.ylabel('True positive rate')\n",
    "plt.title('ROC curve')\n",
    "plt.legend(loc='best')\n",
    "plt.show()"
   ]
  },
  {
   "cell_type": "markdown",
   "metadata": {},
   "source": [
    "# Model Comparison - Test Data"
   ]
  },
  {
   "cell_type": "markdown",
   "metadata": {},
   "source": [
    "<b> 1. Prediction with Test Data (Logistic Regression)"
   ]
  },
  {
   "cell_type": "code",
   "execution_count": 86,
   "metadata": {},
   "outputs": [
    {
     "name": "stdout",
     "output_type": "stream",
     "text": [
      "Logistic Regression\n",
      "Training score is 0.8469830181861978\n",
      "Validation score is 0.8339109570781125\n",
      "Recall: 0.8735244519392917\n",
      "Precision: 0.17649063032367973\n",
      "Accuracy: 0.8339109570781125\n",
      "f1: 0.29365079365079366\n",
      "f2: 0.48803467118899563 \n",
      "\n",
      "Classification Score\n",
      "              precision    recall  f1-score   support\n",
      "\n",
      "           0       0.99      0.83      0.91     28822\n",
      "           1       0.18      0.87      0.29      1186\n",
      "\n",
      "    accuracy                           0.83     30008\n",
      "   macro avg       0.59      0.85      0.60     30008\n",
      "weighted avg       0.96      0.83      0.88     30008\n",
      "\n",
      "Confusion Matrix\n",
      "[[23988  4834]\n",
      " [  150  1036]]\n"
     ]
    }
   ],
   "source": [
    "print ('Logistic Regression')\n",
    "print_score(lr, X_test, y_test)"
   ]
  },
  {
   "cell_type": "markdown",
   "metadata": {},
   "source": [
    "<b> 2. Prediction with Test Data (Random Forest)"
   ]
  },
  {
   "cell_type": "code",
   "execution_count": 87,
   "metadata": {},
   "outputs": [
    {
     "name": "stdout",
     "output_type": "stream",
     "text": [
      "Random Forest\n",
      "Training score is 0.9373419246055642\n",
      "Validation score is 0.9117235403892295\n",
      "Recall: 0.8288364249578415\n",
      "Precision: 0.2866724992709245\n",
      "Accuracy: 0.9117235403892295\n",
      "f1: 0.42600216684723735\n",
      "f2: 0.6013703658387373 \n",
      "\n",
      "Classification Score\n",
      "              precision    recall  f1-score   support\n",
      "\n",
      "           0       0.99      0.92      0.95     28822\n",
      "           1       0.29      0.83      0.43      1186\n",
      "\n",
      "    accuracy                           0.91     30008\n",
      "   macro avg       0.64      0.87      0.69     30008\n",
      "weighted avg       0.96      0.91      0.93     30008\n",
      "\n",
      "Confusion Matrix\n",
      "[[26376  2446]\n",
      " [  203   983]]\n"
     ]
    }
   ],
   "source": [
    "print ('Random Forest')\n",
    "print_score(rf, X_test, y_test)"
   ]
  },
  {
   "cell_type": "markdown",
   "metadata": {},
   "source": [
    "<b> 3. Prediction with Test Data (Adaboost)"
   ]
  },
  {
   "cell_type": "code",
   "execution_count": 88,
   "metadata": {},
   "outputs": [
    {
     "name": "stdout",
     "output_type": "stream",
     "text": [
      "AdaBoost\n",
      "Training score is 0.9753552932674937\n",
      "Validation score is 0.9445481205011996\n",
      "Recall: 0.6037099494097807\n",
      "Precision: 0.374869109947644\n",
      "Accuracy: 0.9445481205011996\n",
      "f1: 0.46253229974160204\n",
      "f2: 0.5380222422602946 \n",
      "\n",
      "Classification Score\n",
      "              precision    recall  f1-score   support\n",
      "\n",
      "           0       0.98      0.96      0.97     28822\n",
      "           1       0.37      0.60      0.46      1186\n",
      "\n",
      "    accuracy                           0.94     30008\n",
      "   macro avg       0.68      0.78      0.72     30008\n",
      "weighted avg       0.96      0.94      0.95     30008\n",
      "\n",
      "Confusion Matrix\n",
      "[[27628  1194]\n",
      " [  470   716]]\n"
     ]
    }
   ],
   "source": [
    "print ('AdaBoost')\n",
    "print_score(ab, X_test, y_test)"
   ]
  },
  {
   "cell_type": "markdown",
   "metadata": {},
   "source": [
    "<b> 4. Prediction with Test Data (Neural Network)"
   ]
  },
  {
   "cell_type": "code",
   "execution_count": 89,
   "metadata": {},
   "outputs": [
    {
     "name": "stdout",
     "output_type": "stream",
     "text": [
      "Neural Network\n",
      "Training score is 0.9703872094423702\n",
      "Validation score is 0.9637096774193549\n",
      "Recall: 0.32377740303541314\n",
      "Precision: 0.5722801788375559\n",
      "Accuracy: 0.9637096774193549\n",
      "f1: 0.41357027463651047\n",
      "f2: 0.3545706371191136 \n",
      "\n",
      "Classification Score\n",
      "              precision    recall  f1-score   support\n",
      "\n",
      "           0       0.97      0.99      0.98     28822\n",
      "           1       0.57      0.32      0.41      1186\n",
      "\n",
      "    accuracy                           0.96     30008\n",
      "   macro avg       0.77      0.66      0.70     30008\n",
      "weighted avg       0.96      0.96      0.96     30008\n",
      "\n",
      "Confusion Matrix\n",
      "[[28535   287]\n",
      " [  802   384]]\n"
     ]
    }
   ],
   "source": [
    "print ('Neural Network')\n",
    "print_score(nn, X_test, y_test)"
   ]
  },
  {
   "cell_type": "markdown",
   "metadata": {},
   "source": [
    "<b> 5. Prediction with Validation Data (Light Gradient Boosting)"
   ]
  },
  {
   "cell_type": "code",
   "execution_count": 90,
   "metadata": {},
   "outputs": [
    {
     "name": "stdout",
     "output_type": "stream",
     "text": [
      "Training score is 0.9980729856678309\n",
      "Validation score is 0.9636763529725406\n",
      "Recall: 0.33136593591905567\n",
      "Precision: 0.5695652173913044\n",
      "Accuracy: 0.9636763529725406\n",
      "f1: 0.41897654584221744\n",
      "f2: 0.361612072138388 \n",
      "\n",
      "Classification Score\n",
      "              precision    recall  f1-score   support\n",
      "\n",
      "           0       0.97      0.99      0.98     28822\n",
      "           1       0.57      0.33      0.42      1186\n",
      "\n",
      "    accuracy                           0.96     30008\n",
      "   macro avg       0.77      0.66      0.70     30008\n",
      "weighted avg       0.96      0.96      0.96     30008\n",
      "\n",
      "Confusion Matrix\n",
      "[[28525   297]\n",
      " [  793   393]]\n"
     ]
    }
   ],
   "source": [
    "print_score(lgb_c, X_test, y_test)"
   ]
  },
  {
   "cell_type": "markdown",
   "metadata": {
    "colab_type": "text",
    "id": "AbCbKPZqFoiD"
   },
   "source": [
    "### Precision Recall Chart - Test Data"
   ]
  },
  {
   "cell_type": "code",
   "execution_count": 95,
   "metadata": {
    "colab": {},
    "colab_type": "code",
    "id": "3SGuBzeKFoiD"
   },
   "outputs": [],
   "source": [
    "lr_proba_test=lr.predict_proba(X_test)[:, 1]\n",
    "rf_proba_test=rf.predict_proba(X_test)[:, 1]\n",
    "ab_proba_test=ab.predict_proba(X_test)[:, 1]\n",
    "nn_proba_test=nn.predict_proba(X_test)[:, 1]\n",
    "lgb_proba_test=lgb_c.predict_proba(X_test, num_iteration=lgb_c.best_iteration_)[:,1]"
   ]
  },
  {
   "cell_type": "code",
   "execution_count": 96,
   "metadata": {
    "colab": {},
    "colab_type": "code",
    "id": "hgeSSG5mFoiE",
    "outputId": "86f8be0e-2c51-4090-aeb1-b31fbc2f8fa2"
   },
   "outputs": [
    {
     "data": {
      "image/png": "[encoded data removed]",
      "text/plain": [
       "<Figure size 432x288 with 1 Axes>"
      ]
     },
     "metadata": {
      "needs_background": "light"
     },
     "output_type": "display_data"
    },
    {
     "data": {
      "image/png": "[encoded data removed]",
      "text/plain": [
       "<Figure size 432x288 with 1 Axes>"
      ]
     },
     "metadata": {
      "needs_background": "light"
     },
     "output_type": "display_data"
    }
   ],
   "source": [
    "from inspect import signature\n",
    "\n",
    "lr_precision, lr_recall, _ = metrics.precision_recall_curve(y_test, lr_proba_test)\n",
    "rf_precision, rf_recall, _ = metrics.precision_recall_curve(y_test, rf_proba_test)\n",
    "ab_precision, ab_recall, _ = metrics.precision_recall_curve(y_test, ab_proba_test)\n",
    "nn_precision, nn_recall, _ = metrics.precision_recall_curve(y_test, nn_proba_test)\n",
    "lgb_precision, lgb_recall, _ = metrics.precision_recall_curve(y_test, lgb_proba_test)\n",
    "\n",
    "step_kwargs = ({'step': 'post'}\n",
    "                   if 'step' in signature(plt.fill_between).parameters\n",
    "                   else {})\n",
    "plt.step(lr_recall, lr_precision, color='blue', alpha=0.7, where='post', label='Logistic')\n",
    "plt.step(rf_recall, rf_precision, color='red', alpha=0.7, where='post', label='Random Forest')\n",
    "plt.step(ab_recall, ab_precision, color='green', alpha=0.7, where='post', label='AdaBoost')\n",
    "plt.step(nn_recall, nn_precision, color='orange', alpha=0.7, where='post', label='Neural Network')\n",
    "plt.step(lgb_recall, lgb_precision, color='cyan', alpha=0.7, where='post', label='LightGBM')\n",
    "plt.xlabel('Recall')\n",
    "plt.ylabel('Precision')\n",
    "plt.ylim([0.0, 1.05])\n",
    "plt.xlim([0.0, 1.0])\n",
    "plt.title('Precision-Recall curve for Test Data')\n",
    "plt.legend(loc='best')\n",
    "plt.show()\n",
    "\n",
    "fpr_lr, tpr_lr, _ = roc_curve(y_test, lr_proba_test)\n",
    "fpr_rf, tpr_rf, _ = roc_curve(y_test, rf_proba_test)\n",
    "fpr_ab, tpr_ab, _ = roc_curve(y_test, ab_proba_test)\n",
    "fpr_nn, tpr_nn, _ = roc_curve(y_test, nn_proba_test)\n",
    "fpr_lgb, tpr_lgb, _ = roc_curve(y_test, lgb_proba_test)\n",
    "\n",
    "plt.figure(1)\n",
    "plt.plot([0, 1], [0, 1], 'k--')\n",
    "plt.plot(fpr_lr, tpr_lr, label='Logistic',color='blue', alpha=0.7)\n",
    "plt.plot(fpr_rf, tpr_rf, label='Random Forest',color='red', alpha=0.7)\n",
    "plt.plot(fpr_ab, tpr_ab, label='AdaBoost',color='green', alpha=0.7)\n",
    "plt.plot(fpr_nn, tpr_nn, label='Neural Network',color='orange', alpha=0.7)\n",
    "plt.plot(fpr_lgb, tpr_lgb, label='LightGBM',color='cyan', alpha=0.7)\n",
    "plt.xlabel('False positive rate')\n",
    "plt.ylabel('True positive rate')\n",
    "plt.title('ROC curve')\n",
    "plt.legend(loc='best')\n",
    "plt.show()"
   ]
  },
  {
   "cell_type": "markdown",
   "metadata": {
    "colab_type": "text",
    "id": "t4KjrlUzFoiF"
   },
   "source": [
    "### Threshold Curves - Test Data"
   ]
  },
  {
   "cell_type": "code",
   "execution_count": 97,
   "metadata": {
    "colab": {},
    "colab_type": "code",
    "id": "ebYNYFBgFoiG"
   },
   "outputs": [],
   "source": [
    "def plot_prec_recall_vs_tresh(y_test, proba):\n",
    "    precisions, recalls, thresholds = metrics.precision_recall_curve(y_test, proba)\n",
    "    \n",
    "    plt.plot(thresholds, precisions[:-1], 'b--', label='precision')\n",
    "    plt.plot(thresholds, recalls[:-1], 'g--', label = 'recall')\n",
    "    plt.xlabel('Threshold')\n",
    "    plt.legend(loc='upper left')\n",
    "    plt.xlim([0,1.05])\n",
    "    plt.ylim([0,1.05])"
   ]
  },
  {
   "cell_type": "markdown",
   "metadata": {
    "colab_type": "text",
    "id": "K46I5qilFoiI"
   },
   "source": [
    "<b> Logistic Regression"
   ]
  },
  {
   "cell_type": "code",
   "execution_count": 98,
   "metadata": {
    "colab": {},
    "colab_type": "code",
    "id": "MS9fxDaTFoiI",
    "outputId": "1b4a5c8d-48b2-446a-ef2e-684ae358c003"
   },
   "outputs": [
    {
     "data": {
      "image/png": "[encoded data removed]",
      "text/plain": [
       "<Figure size 432x288 with 1 Axes>"
      ]
     },
     "metadata": {
      "needs_background": "light"
     },
     "output_type": "display_data"
    }
   ],
   "source": [
    "plot_prec_recall_vs_tresh(y_test, lr_proba_test)\n",
    "plt.show()"
   ]
  },
  {
   "cell_type": "markdown",
   "metadata": {
    "colab_type": "text",
    "id": "QgwJfzarFoiK"
   },
   "source": [
    "<b> Random Forest"
   ]
  },
  {
   "cell_type": "code",
   "execution_count": 99,
   "metadata": {
    "colab": {},
    "colab_type": "code",
    "id": "sF5BzYQuFoiK",
    "outputId": "f0bc22a8-a352-4ebe-f6f0-c8e7ab1c123e"
   },
   "outputs": [
    {
     "data": {
      "image/png": "[encoded data removed]",
      "text/plain": [
       "<Figure size 432x288 with 1 Axes>"
      ]
     },
     "metadata": {
      "needs_background": "light"
     },
     "output_type": "display_data"
    }
   ],
   "source": [
    "plot_prec_recall_vs_tresh(y_test, rf_proba_test)\n",
    "plt.show()"
   ]
  },
  {
   "cell_type": "markdown",
   "metadata": {
    "colab_type": "text",
    "id": "axQmzEV0FoiL"
   },
   "source": [
    "<b> Adaptive Boosting"
   ]
  },
  {
   "cell_type": "code",
   "execution_count": 100,
   "metadata": {
    "colab": {},
    "colab_type": "code",
    "id": "tMG3-kblFoiL",
    "outputId": "8ce6e811-0f56-4785-f639-1ba5b029719e"
   },
   "outputs": [
    {
     "data": {
      "image/png": "[encoded data removed]",
      "text/plain": [
       "<Figure size 432x288 with 1 Axes>"
      ]
     },
     "metadata": {
      "needs_background": "light"
     },
     "output_type": "display_data"
    }
   ],
   "source": [
    "plot_prec_recall_vs_tresh(y_test, ab_proba_test)\n",
    "plt.show()"
   ]
  },
  {
   "cell_type": "markdown",
   "metadata": {
    "colab_type": "text",
    "id": "CcJwKqjyFoiN"
   },
   "source": [
    "<b> Neural Network"
   ]
  },
  {
   "cell_type": "code",
   "execution_count": 101,
   "metadata": {
    "colab": {},
    "colab_type": "code",
    "id": "6Hd7xIzmFoiN",
    "outputId": "91b150db-bae0-49bf-a77e-e3abc53977ca"
   },
   "outputs": [
    {
     "data": {
      "image/png": "[encoded data removed]",
      "text/plain": [
       "<Figure size 432x288 with 1 Axes>"
      ]
     },
     "metadata": {
      "needs_background": "light"
     },
     "output_type": "display_data"
    }
   ],
   "source": [
    "plot_prec_recall_vs_tresh(y_test, nn_proba_test)\n",
    "plt.show()"
   ]
  },
  {
   "cell_type": "markdown",
   "metadata": {
    "colab_type": "text",
    "id": "r_wkgd7vFoiP"
   },
   "source": [
    "<b> Light GBM"
   ]
  },
  {
   "cell_type": "code",
   "execution_count": 102,
   "metadata": {
    "colab": {},
    "colab_type": "code",
    "id": "js-U1c08FoiQ",
    "outputId": "1d8c35e2-6c61-47fe-fd88-4c77c2f55630",
    "scrolled": true
   },
   "outputs": [
    {
     "data": {
      "image/png": "[encoded data removed]",
      "text/plain": [
       "<Figure size 432x288 with 1 Axes>"
      ]
     },
     "metadata": {
      "needs_background": "light"
     },
     "output_type": "display_data"
    }
   ],
   "source": [
    "plot_prec_recall_vs_tresh(y_test, lgb_proba_test)\n",
    "plt.show()"
   ]
  },
  {
   "cell_type": "markdown",
   "metadata": {
    "colab_type": "text",
    "id": "iQ-CArDHFoiR"
   },
   "source": [
    "### Exporting Results"
   ]
  },
  {
   "cell_type": "markdown",
   "metadata": {
    "colab_type": "text",
    "id": "abRAmygdFoiR"
   },
   "source": [
    "<b> Feature Importance"
   ]
  },
  {
   "cell_type": "code",
   "execution_count": 103,
   "metadata": {
    "colab": {},
    "colab_type": "code",
    "id": "EbNJDt9PFoiR",
    "scrolled": true
   },
   "outputs": [],
   "source": [
    "lr_importance.to_csv('Feature_Importance_05_LR.csv')\n",
    "rf_importance.to_csv('Feature_Importance_05_RF.csv')\n",
    "ab_importance.to_csv('Feature_Importance_05_AB.csv')\n",
    "lgb_importance.to_csv('Feature_Importance_05_LGB.csv')"
   ]
  },
  {
   "cell_type": "markdown",
   "metadata": {
    "colab_type": "text",
    "id": "YQBaMzVVFoiT"
   },
   "source": [
    "<b> Results"
   ]
  },
  {
   "cell_type": "code",
   "execution_count": 104,
   "metadata": {
    "colab": {},
    "colab_type": "code",
    "id": "tVJVawY-FoiU"
   },
   "outputs": [],
   "source": [
    "combine_proba=pd.concat([pd.DataFrame(lr_proba_test, columns=['Logistic_Regression']).reset_index(),\n",
    "                         pd.DataFrame(rf_proba_test, columns=['Random_Forest']).reset_index(),\n",
    "                         pd.DataFrame(ab_proba_test, columns=['AdaBoost']).reset_index(),\n",
    "                         pd.DataFrame(nn_proba_test, columns=['Neural_Network']).reset_index(),\n",
    "                         pd.DataFrame(lgb_proba_test, columns=['Light_GBM']).reset_index()\n",
    "                        ], axis=1).drop('index', axis=1)"
   ]
  },
  {
   "cell_type": "code",
   "execution_count": 105,
   "metadata": {
    "colab": {},
    "colab_type": "code",
    "id": "-h8Kcv_qFoiW",
    "scrolled": true
   },
   "outputs": [],
   "source": [
    "combine_with_data=pd.concat([pd.DataFrame(X_test, columns=X.columns).reset_index(), \n",
    "                             pd.DataFrame(y_test).reset_index(), \n",
    "                             combine_proba.reset_index()], axis=1).drop('index', axis=1)"
   ]
  },
  {
   "cell_type": "code",
   "execution_count": 106,
   "metadata": {
    "colab": {},
    "colab_type": "code",
    "id": "6kG36rUoFoiX",
    "outputId": "41931abc-8ca3-4632-ae6e-f3ebc8f827bb"
   },
   "outputs": [
    {
     "data": {
      "text/html": [
       "<div>\n",
       "<style scoped>\n",
       "    .dataframe tbody tr th:only-of-type {\n",
       "        vertical-align: middle;\n",
       "    }\n",
       "\n",
       "    .dataframe tbody tr th {\n",
       "        vertical-align: top;\n",
       "    }\n",
       "\n",
       "    .dataframe thead th {\n",
       "        text-align: right;\n",
       "    }\n",
       "</style>\n",
       "<table border=\"1\" class=\"dataframe\">\n",
       "  <thead>\n",
       "    <tr style=\"text-align: right;\">\n",
       "      <th></th>\n",
       "      <th>ismobile</th>\n",
       "      <th>0</th>\n",
       "      <th>1</th>\n",
       "      <th>2</th>\n",
       "      <th>3</th>\n",
       "      <th>4</th>\n",
       "      <th>5</th>\n",
       "      <th>6</th>\n",
       "      <th>7</th>\n",
       "      <th>8</th>\n",
       "      <th>...</th>\n",
       "      <th>source_today_b'others'</th>\n",
       "      <th>source_today_b'partners'</th>\n",
       "      <th>source_today_b'youtube'</th>\n",
       "      <th>dataset</th>\n",
       "      <th>transactions_target</th>\n",
       "      <th>Logistic_Regression</th>\n",
       "      <th>Random_Forest</th>\n",
       "      <th>AdaBoost</th>\n",
       "      <th>Neural_Network</th>\n",
       "      <th>Light_GBM</th>\n",
       "    </tr>\n",
       "  </thead>\n",
       "  <tbody>\n",
       "    <tr>\n",
       "      <th>0</th>\n",
       "      <td>1.0</td>\n",
       "      <td>1.478250e-14</td>\n",
       "      <td>0.080435</td>\n",
       "      <td>0.242843</td>\n",
       "      <td>0.303077</td>\n",
       "      <td>0.261830</td>\n",
       "      <td>0.359706</td>\n",
       "      <td>0.162579</td>\n",
       "      <td>0.415140</td>\n",
       "      <td>0.468828</td>\n",
       "      <td>...</td>\n",
       "      <td>0.0</td>\n",
       "      <td>0.0</td>\n",
       "      <td>0.0</td>\n",
       "      <td>1.0</td>\n",
       "      <td>0</td>\n",
       "      <td>0.182299</td>\n",
       "      <td>0.098889</td>\n",
       "      <td>0.282537</td>\n",
       "      <td>0.001047</td>\n",
       "      <td>0.000555</td>\n",
       "    </tr>\n",
       "    <tr>\n",
       "      <th>1</th>\n",
       "      <td>1.0</td>\n",
       "      <td>1.413670e-14</td>\n",
       "      <td>0.080435</td>\n",
       "      <td>0.242312</td>\n",
       "      <td>0.246204</td>\n",
       "      <td>0.280017</td>\n",
       "      <td>0.354402</td>\n",
       "      <td>0.201404</td>\n",
       "      <td>0.411993</td>\n",
       "      <td>0.464427</td>\n",
       "      <td>...</td>\n",
       "      <td>0.0</td>\n",
       "      <td>0.0</td>\n",
       "      <td>0.0</td>\n",
       "      <td>1.0</td>\n",
       "      <td>0</td>\n",
       "      <td>0.000359</td>\n",
       "      <td>0.001321</td>\n",
       "      <td>0.268941</td>\n",
       "      <td>0.000029</td>\n",
       "      <td>0.000004</td>\n",
       "    </tr>\n",
       "    <tr>\n",
       "      <th>2</th>\n",
       "      <td>0.0</td>\n",
       "      <td>1.413062e-14</td>\n",
       "      <td>0.080435</td>\n",
       "      <td>0.242307</td>\n",
       "      <td>0.245702</td>\n",
       "      <td>0.280177</td>\n",
       "      <td>0.354355</td>\n",
       "      <td>0.201747</td>\n",
       "      <td>0.411965</td>\n",
       "      <td>0.464388</td>\n",
       "      <td>...</td>\n",
       "      <td>0.0</td>\n",
       "      <td>0.0</td>\n",
       "      <td>0.0</td>\n",
       "      <td>1.0</td>\n",
       "      <td>0</td>\n",
       "      <td>0.093274</td>\n",
       "      <td>0.013788</td>\n",
       "      <td>0.272839</td>\n",
       "      <td>0.000314</td>\n",
       "      <td>0.000248</td>\n",
       "    </tr>\n",
       "    <tr>\n",
       "      <th>3</th>\n",
       "      <td>0.0</td>\n",
       "      <td>1.413361e-14</td>\n",
       "      <td>0.080435</td>\n",
       "      <td>0.242309</td>\n",
       "      <td>0.245934</td>\n",
       "      <td>0.280103</td>\n",
       "      <td>0.354377</td>\n",
       "      <td>0.201589</td>\n",
       "      <td>0.411978</td>\n",
       "      <td>0.464406</td>\n",
       "      <td>...</td>\n",
       "      <td>0.0</td>\n",
       "      <td>0.0</td>\n",
       "      <td>0.0</td>\n",
       "      <td>1.0</td>\n",
       "      <td>0</td>\n",
       "      <td>0.079134</td>\n",
       "      <td>0.004837</td>\n",
       "      <td>0.287846</td>\n",
       "      <td>0.003369</td>\n",
       "      <td>0.000099</td>\n",
       "    </tr>\n",
       "    <tr>\n",
       "      <th>4</th>\n",
       "      <td>1.0</td>\n",
       "      <td>1.416228e-14</td>\n",
       "      <td>0.080435</td>\n",
       "      <td>0.242333</td>\n",
       "      <td>0.248447</td>\n",
       "      <td>0.279299</td>\n",
       "      <td>0.354611</td>\n",
       "      <td>0.199873</td>\n",
       "      <td>0.412117</td>\n",
       "      <td>0.464600</td>\n",
       "      <td>...</td>\n",
       "      <td>1.0</td>\n",
       "      <td>0.0</td>\n",
       "      <td>0.0</td>\n",
       "      <td>1.0</td>\n",
       "      <td>0</td>\n",
       "      <td>0.054592</td>\n",
       "      <td>0.023955</td>\n",
       "      <td>0.273794</td>\n",
       "      <td>0.000077</td>\n",
       "      <td>0.000097</td>\n",
       "    </tr>\n",
       "    <tr>\n",
       "      <th>5</th>\n",
       "      <td>0.0</td>\n",
       "      <td>1.412813e-14</td>\n",
       "      <td>0.080435</td>\n",
       "      <td>0.242305</td>\n",
       "      <td>0.245470</td>\n",
       "      <td>0.280251</td>\n",
       "      <td>0.354334</td>\n",
       "      <td>0.201906</td>\n",
       "      <td>0.411953</td>\n",
       "      <td>0.464370</td>\n",
       "      <td>...</td>\n",
       "      <td>0.0</td>\n",
       "      <td>0.0</td>\n",
       "      <td>0.0</td>\n",
       "      <td>1.0</td>\n",
       "      <td>0</td>\n",
       "      <td>0.017079</td>\n",
       "      <td>0.002372</td>\n",
       "      <td>0.272103</td>\n",
       "      <td>0.000041</td>\n",
       "      <td>0.000011</td>\n",
       "    </tr>\n",
       "    <tr>\n",
       "      <th>6</th>\n",
       "      <td>0.0</td>\n",
       "      <td>1.414109e-14</td>\n",
       "      <td>0.080435</td>\n",
       "      <td>0.242321</td>\n",
       "      <td>0.247210</td>\n",
       "      <td>0.279695</td>\n",
       "      <td>0.354490</td>\n",
       "      <td>0.200718</td>\n",
       "      <td>0.412057</td>\n",
       "      <td>0.464337</td>\n",
       "      <td>...</td>\n",
       "      <td>0.0</td>\n",
       "      <td>0.0</td>\n",
       "      <td>0.0</td>\n",
       "      <td>1.0</td>\n",
       "      <td>0</td>\n",
       "      <td>0.438354</td>\n",
       "      <td>0.089417</td>\n",
       "      <td>0.356403</td>\n",
       "      <td>0.002752</td>\n",
       "      <td>0.003074</td>\n",
       "    </tr>\n",
       "    <tr>\n",
       "      <th>7</th>\n",
       "      <td>1.0</td>\n",
       "      <td>1.413529e-14</td>\n",
       "      <td>0.080435</td>\n",
       "      <td>0.242311</td>\n",
       "      <td>0.246088</td>\n",
       "      <td>0.280054</td>\n",
       "      <td>0.354391</td>\n",
       "      <td>0.201483</td>\n",
       "      <td>0.411987</td>\n",
       "      <td>0.464418</td>\n",
       "      <td>...</td>\n",
       "      <td>0.0</td>\n",
       "      <td>0.0</td>\n",
       "      <td>0.0</td>\n",
       "      <td>1.0</td>\n",
       "      <td>0</td>\n",
       "      <td>0.084687</td>\n",
       "      <td>0.008096</td>\n",
       "      <td>0.271584</td>\n",
       "      <td>0.001568</td>\n",
       "      <td>0.000059</td>\n",
       "    </tr>\n",
       "    <tr>\n",
       "      <th>8</th>\n",
       "      <td>0.0</td>\n",
       "      <td>4.000186e-14</td>\n",
       "      <td>0.080435</td>\n",
       "      <td>0.251603</td>\n",
       "      <td>0.249900</td>\n",
       "      <td>0.276130</td>\n",
       "      <td>0.353637</td>\n",
       "      <td>0.196389</td>\n",
       "      <td>0.412473</td>\n",
       "      <td>0.459916</td>\n",
       "      <td>...</td>\n",
       "      <td>0.0</td>\n",
       "      <td>0.0</td>\n",
       "      <td>0.0</td>\n",
       "      <td>1.0</td>\n",
       "      <td>0</td>\n",
       "      <td>0.461259</td>\n",
       "      <td>0.363664</td>\n",
       "      <td>0.401564</td>\n",
       "      <td>0.018349</td>\n",
       "      <td>0.006036</td>\n",
       "    </tr>\n",
       "    <tr>\n",
       "      <th>9</th>\n",
       "      <td>0.0</td>\n",
       "      <td>1.413529e-14</td>\n",
       "      <td>0.080435</td>\n",
       "      <td>0.242311</td>\n",
       "      <td>0.246088</td>\n",
       "      <td>0.280054</td>\n",
       "      <td>0.354391</td>\n",
       "      <td>0.201483</td>\n",
       "      <td>0.411987</td>\n",
       "      <td>0.464418</td>\n",
       "      <td>...</td>\n",
       "      <td>0.0</td>\n",
       "      <td>0.0</td>\n",
       "      <td>0.0</td>\n",
       "      <td>1.0</td>\n",
       "      <td>0</td>\n",
       "      <td>0.536614</td>\n",
       "      <td>0.114931</td>\n",
       "      <td>0.404392</td>\n",
       "      <td>0.010758</td>\n",
       "      <td>0.011354</td>\n",
       "    </tr>\n",
       "  </tbody>\n",
       "</table>\n",
       "<p>10 rows × 1167 columns</p>\n",
       "</div>"
      ],
      "text/plain": [
       "   ismobile             0         1         2         3         4         5  \\\n",
       "0       1.0  1.478250e-14  0.080435  0.242843  0.303077  0.261830  0.359706   \n",
       "1       1.0  1.413670e-14  0.080435  0.242312  0.246204  0.280017  0.354402   \n",
       "2       0.0  1.413062e-14  0.080435  0.242307  0.245702  0.280177  0.354355   \n",
       "3       0.0  1.413361e-14  0.080435  0.242309  0.245934  0.280103  0.354377   \n",
       "4       1.0  1.416228e-14  0.080435  0.242333  0.248447  0.279299  0.354611   \n",
       "5       0.0  1.412813e-14  0.080435  0.242305  0.245470  0.280251  0.354334   \n",
       "6       0.0  1.414109e-14  0.080435  0.242321  0.247210  0.279695  0.354490   \n",
       "7       1.0  1.413529e-14  0.080435  0.242311  0.246088  0.280054  0.354391   \n",
       "8       0.0  4.000186e-14  0.080435  0.251603  0.249900  0.276130  0.353637   \n",
       "9       0.0  1.413529e-14  0.080435  0.242311  0.246088  0.280054  0.354391   \n",
       "\n",
       "          6         7         8  ...  source_today_b'others'  \\\n",
       "0  0.162579  0.415140  0.468828  ...                     0.0   \n",
       "1  0.201404  0.411993  0.464427  ...                     0.0   \n",
       "2  0.201747  0.411965  0.464388  ...                     0.0   \n",
       "3  0.201589  0.411978  0.464406  ...                     0.0   \n",
       "4  0.199873  0.412117  0.464600  ...                     1.0   \n",
       "5  0.201906  0.411953  0.464370  ...                     0.0   \n",
       "6  0.200718  0.412057  0.464337  ...                     0.0   \n",
       "7  0.201483  0.411987  0.464418  ...                     0.0   \n",
       "8  0.196389  0.412473  0.459916  ...                     0.0   \n",
       "9  0.201483  0.411987  0.464418  ...                     0.0   \n",
       "\n",
       "   source_today_b'partners'  source_today_b'youtube'  dataset  \\\n",
       "0                       0.0                      0.0      1.0   \n",
       "1                       0.0                      0.0      1.0   \n",
       "2                       0.0                      0.0      1.0   \n",
       "3                       0.0                      0.0      1.0   \n",
       "4                       0.0                      0.0      1.0   \n",
       "5                       0.0                      0.0      1.0   \n",
       "6                       0.0                      0.0      1.0   \n",
       "7                       0.0                      0.0      1.0   \n",
       "8                       0.0                      0.0      1.0   \n",
       "9                       0.0                      0.0      1.0   \n",
       "\n",
       "   transactions_target  Logistic_Regression  Random_Forest  AdaBoost  \\\n",
       "0                    0             0.182299       0.098889  0.282537   \n",
       "1                    0             0.000359       0.001321  0.268941   \n",
       "2                    0             0.093274       0.013788  0.272839   \n",
       "3                    0             0.079134       0.004837  0.287846   \n",
       "4                    0             0.054592       0.023955  0.273794   \n",
       "5                    0             0.017079       0.002372  0.272103   \n",
       "6                    0             0.438354       0.089417  0.356403   \n",
       "7                    0             0.084687       0.008096  0.271584   \n",
       "8                    0             0.461259       0.363664  0.401564   \n",
       "9                    0             0.536614       0.114931  0.404392   \n",
       "\n",
       "   Neural_Network  Light_GBM  \n",
       "0        0.001047   0.000555  \n",
       "1        0.000029   0.000004  \n",
       "2        0.000314   0.000248  \n",
       "3        0.003369   0.000099  \n",
       "4        0.000077   0.000097  \n",
       "5        0.000041   0.000011  \n",
       "6        0.002752   0.003074  \n",
       "7        0.001568   0.000059  \n",
       "8        0.018349   0.006036  \n",
       "9        0.010758   0.011354  \n",
       "\n",
       "[10 rows x 1167 columns]"
      ]
     },
     "execution_count": 106,
     "metadata": {},
     "output_type": "execute_result"
    }
   ],
   "source": [
    "combine_with_data.head(10)"
   ]
  },
  {
   "cell_type": "code",
   "execution_count": 107,
   "metadata": {
    "colab": {},
    "colab_type": "code",
    "id": "5qDoOBKmFoiY"
   },
   "outputs": [],
   "source": [
    "combine_with_data.to_csv('Result_05_w_PCA.csv')"
   ]
  },
  {
   "cell_type": "markdown",
   "metadata": {
    "colab_type": "text",
    "id": "G6phobJcFoiZ"
   },
   "source": [
    "<b> Save Model"
   ]
  },
  {
   "cell_type": "code",
   "execution_count": 108,
   "metadata": {
    "colab": {},
    "colab_type": "code",
    "id": "KsmPBiVSFoiZ"
   },
   "outputs": [],
   "source": [
    "import pickle\n",
    "\n",
    "with open('LR_05.pkl', 'wb') as file:  \n",
    "    pickle.dump(lr, file)\n",
    "    \n",
    "with open('RF_05.pkl', 'wb') as file:  \n",
    "    pickle.dump(rf, file)\n",
    "    \n",
    "with open('AB_05.pkl', 'wb') as file:  \n",
    "    pickle.dump(ab, file)\n",
    "    \n",
    "with open('NN_05.pkl', 'wb') as file:  \n",
    "    pickle.dump(nn, file)\n",
    "\n",
    "with open('LightGBM_05.pkl', 'wb') as file:  \n",
    "    pickle.dump(lgb_c, file)"
   ]
  },
  {
   "cell_type": "markdown",
   "metadata": {
    "colab_type": "text",
    "id": "U0Jz08M4Foii"
   },
   "source": [
    "## Anomaly Detection "
   ]
  },
  {
   "cell_type": "markdown",
   "metadata": {},
   "source": [
    "#### Data Preparation"
   ]
  },
  {
   "cell_type": "markdown",
   "metadata": {
    "colab_type": "text",
    "id": "ttZl_h7FFoii"
   },
   "source": [
    "<b> Reconfigure X_train and X_test for Anomaly detection </b><br>\n",
    "concat X_train and y_train -> this is for fit <br>\n",
    "slice out only the values for 'transasction_target==0' -> this is for predict <br>\n",
    "concat X_test and y_test -> this is for validation <br>"
   ]
  },
  {
   "cell_type": "code",
   "execution_count": 109,
   "metadata": {
    "ExecuteTime": {
     "end_time": "2019-07-31T02:41:19.737275Z",
     "start_time": "2019-07-31T02:41:19.699393Z"
    },
    "colab": {},
    "colab_type": "code",
    "id": "HxFhukkqFoij"
   },
   "outputs": [],
   "source": [
    "from sklearn import preprocessing\n",
    "from sklearn import svm\n",
    "from sklearn.ensemble import IsolationForest\n",
    "\n",
    "min_max_scaler2 = preprocessing.MinMaxScaler()\n",
    "\n",
    "train_w_label = pd.concat([X, y], axis=1)\n",
    "\n",
    "#only keep the majority class\n",
    "train_anomaly = train_w_label.loc[train_w_label['transactions_target'] == 0].drop('transactions_target', axis=1)\n",
    "X_train_anomaly = min_max_scaler2.fit_transform(train_anomaly)\n",
    "\n",
    "#get the validation x and y\n",
    "X_val_anomaly = min_max_scaler2.transform(train_w_label.drop('transactions_target', axis=1))\n",
    "y_val_anomaly = train_w_label['transactions_target']\n",
    "\n",
    "test_w_label=pd.concat([pd.DataFrame(X_test, columns=X.columns).reset_index(), y_test.reset_index()], axis=1).drop('index', axis=1)\n",
    "X_test_anomaly=min_max_scaler2.transform(test_w_label.drop('transactions_target', axis=1))\n",
    "y_test_anomaly=test_w_label['transactions_target']"
   ]
  },
  {
   "cell_type": "markdown",
   "metadata": {},
   "source": [
    "<b> Print Score function for Anomaly Detection "
   ]
  },
  {
   "cell_type": "code",
   "execution_count": 110,
   "metadata": {},
   "outputs": [],
   "source": [
    "def print_score_anomaly (y_test, predict):\n",
    "    print('Recall:', recall_score(y_test, predict))\n",
    "    print('Precision:', precision_score(y_test, predict))\n",
    "    print('Accuracy:', accuracy_score(y_test, predict))\n",
    "    print(\"f1:\", f1_score(y_test, predict))\n",
    "    print(\"f2:\", fbeta_score(y_test, predict, beta=2), '\\n')\n",
    "    print('Classification Score')\n",
    "    print(metrics.classification_report(y_test, predict))\n",
    "    print('Confusion Matrix')\n",
    "    print(metrics.confusion_matrix(y_test, predict))"
   ]
  },
  {
   "cell_type": "markdown",
   "metadata": {
    "colab_type": "text",
    "id": "sNvkXV8DFoio"
   },
   "source": [
    "## 6 - OneClassSVM"
   ]
  },
  {
   "cell_type": "code",
   "execution_count": 114,
   "metadata": {},
   "outputs": [
    {
     "name": "stdout",
     "output_type": "stream",
     "text": [
      "[LibSVM]"
     ]
    },
    {
     "data": {
      "text/plain": [
       "OneClassSVM(cache_size=200, coef0=0.0, degree=3, gamma=0.01, kernel='rbf',\n",
       "            max_iter=-1, nu=0.0388, random_state=None, shrinking=True,\n",
       "            tol=0.001, verbose=2)"
      ]
     },
     "execution_count": 114,
     "metadata": {},
     "output_type": "execute_result"
    }
   ],
   "source": [
    "oneclass = svm.OneClassSVM(kernel='rbf', nu=0.0388, gamma=0.01, verbose=2)\n",
    "oneclass.fit(X_train_anomaly)"
   ]
  },
  {
   "cell_type": "code",
   "execution_count": 115,
   "metadata": {},
   "outputs": [
    {
     "name": "stdout",
     "output_type": "stream",
     "text": [
      "[[   -1 23654]\n",
      " [    1  6354]]\n"
     ]
    }
   ],
   "source": [
    "oneclass_pred = oneclass.predict(X_test_anomaly)\n",
    "unique, counts = np.unique(oneclass_pred, return_counts=True)\n",
    "print (np.asarray((unique, counts)).T)\n",
    "oneclass_pred=pd.DataFrame(oneclass_pred).replace(1,0).replace(-1,1).values.tolist()"
   ]
  },
  {
   "cell_type": "markdown",
   "metadata": {},
   "source": [
    "<b> Prediction with Test Data (One Class SVM) "
   ]
  },
  {
   "cell_type": "code",
   "execution_count": 116,
   "metadata": {},
   "outputs": [
    {
     "name": "stdout",
     "output_type": "stream",
     "text": [
      "Recall: 0.7116357504215851\n",
      "Precision: 0.03568106874101632\n",
      "Accuracy: 0.22847240735803787\n",
      "f1: 0.06795491143317231\n",
      "f2: 0.14860201422635397 \n",
      "\n",
      "Classification Score\n",
      "              precision    recall  f1-score   support\n",
      "\n",
      "           0       0.95      0.21      0.34     28822\n",
      "           1       0.04      0.71      0.07      1186\n",
      "\n",
      "    accuracy                           0.23     30008\n",
      "   macro avg       0.49      0.46      0.20     30008\n",
      "weighted avg       0.91      0.23      0.33     30008\n",
      "\n",
      "Confusion Matrix\n",
      "[[ 6012 22810]\n",
      " [  342   844]]\n"
     ]
    }
   ],
   "source": [
    "print_score_anomaly(y_test_anomaly, oneclass_pred)"
   ]
  },
  {
   "cell_type": "markdown",
   "metadata": {
    "colab_type": "text",
    "id": "eNBGzNmmFoi2"
   },
   "source": [
    "## 7 - Isolation Forest"
   ]
  },
  {
   "cell_type": "code",
   "execution_count": 111,
   "metadata": {
    "ExecuteTime": {
     "end_time": "2019-07-30T15:47:46.063503Z",
     "start_time": "2019-07-30T15:45:56.232534Z"
    },
    "colab": {},
    "colab_type": "code",
    "id": "JXMnuYWGFoi5"
   },
   "outputs": [
    {
     "name": "stderr",
     "output_type": "stream",
     "text": [
      "C:\\Users\\evelyn\\Anaconda3\\lib\\site-packages\\sklearn\\ensemble\\iforest.py:247: FutureWarning: behaviour=\"old\" is deprecated and will be removed in version 0.22. Please use behaviour=\"new\", which makes the decision_function change to match other anomaly detection algorithm API.\n",
      "  FutureWarning)\n"
     ]
    },
    {
     "data": {
      "text/plain": [
       "IsolationForest(behaviour='old', bootstrap=False, contamination=0.12,\n",
       "                max_features=1.0, max_samples='auto', n_estimators=100,\n",
       "                n_jobs=-1, random_state=42, verbose=0, warm_start=False)"
      ]
     },
     "execution_count": 111,
     "metadata": {},
     "output_type": "execute_result"
    }
   ],
   "source": [
    "iforest = IsolationForest(n_estimators=100, max_samples='auto', contamination=float(.12), \n",
    "                        max_features=1.0, bootstrap=False, n_jobs=-1, random_state=42, verbose=0)\n",
    "\n",
    "iforest.fit(X_train_anomaly)"
   ]
  },
  {
   "cell_type": "code",
   "execution_count": 112,
   "metadata": {
    "ExecuteTime": {
     "end_time": "2019-07-30T15:48:58.879009Z",
     "start_time": "2019-07-30T15:47:46.750465Z"
    },
    "colab": {},
    "colab_type": "code",
    "id": "98n7eLzEFoi7"
   },
   "outputs": [
    {
     "name": "stderr",
     "output_type": "stream",
     "text": [
      "C:\\Users\\evelyn\\Anaconda3\\lib\\site-packages\\sklearn\\ensemble\\iforest.py:415: DeprecationWarning: threshold_ attribute is deprecated in 0.20 and will be removed in 0.22.\n",
      "  \" be removed in 0.22.\", DeprecationWarning)\n"
     ]
    },
    {
     "name": "stdout",
     "output_type": "stream",
     "text": [
      "[[   -1 10059]\n",
      " [    1 19949]]\n"
     ]
    }
   ],
   "source": [
    "iforest_pred = iforest.predict(X_test_anomaly)\n",
    "unique, counts = np.unique(iforest_pred, return_counts=True)\n",
    "print (np.asarray((unique, counts)).T)\n",
    "iforest_pred=pd.DataFrame(iforest_pred).replace(1,0).replace(-1,1).values.tolist()"
   ]
  },
  {
   "cell_type": "markdown",
   "metadata": {},
   "source": [
    "<b> Prediction with Test Data (Isolation Forest) "
   ]
  },
  {
   "cell_type": "code",
   "execution_count": 113,
   "metadata": {},
   "outputs": [
    {
     "name": "stdout",
     "output_type": "stream",
     "text": [
      "Recall: 0.12563237774030353\n",
      "Precision: 0.014812605626801869\n",
      "Accuracy: 0.6351972807251399\n",
      "f1: 0.026500666963094707\n",
      "f2: 0.05032763628994123 \n",
      "\n",
      "Classification Score\n",
      "              precision    recall  f1-score   support\n",
      "\n",
      "           0       0.95      0.66      0.78     28822\n",
      "           1       0.01      0.13      0.03      1186\n",
      "\n",
      "    accuracy                           0.64     30008\n",
      "   macro avg       0.48      0.39      0.40     30008\n",
      "weighted avg       0.91      0.64      0.75     30008\n",
      "\n",
      "Confusion Matrix\n",
      "[[18912  9910]\n",
      " [ 1037   149]]\n"
     ]
    }
   ],
   "source": [
    "print_score_anomaly(y_test_anomaly, iforest_pred)"
   ]
  },
  {
   "cell_type": "markdown",
   "metadata": {},
   "source": [
    "<b> Save Models"
   ]
  },
  {
   "cell_type": "code",
   "execution_count": null,
   "metadata": {},
   "outputs": [],
   "source": [
    "import pickle\n",
    "\n",
    "with open('OneSVM_04.pkl', 'wb') as file:  \n",
    "    pickle.dump(oneclass, file)\n",
    "    \n",
    "with open('iForest_04.pkl', 'wb') as file:  \n",
    "    pickle.dump(iforest, file)\n"
   ]
  }
 ],
 "metadata": {
  "colab": {
   "name": "02 - Combine No further feature engineering.ipynb",
   "provenance": [],
   "version": "0.3.2"
  },
  "kernelspec": {
   "display_name": "Python 3",
   "language": "python",
   "name": "python3"
  },
  "language_info": {
   "codemirror_mode": {
    "name": "ipython",
    "version": 3
   },
   "file_extension": ".py",
   "mimetype": "text/x-python",
   "name": "python",
   "nbconvert_exporter": "python",
   "pygments_lexer": "ipython3",
   "version": "3.7.3"
  },
  "varInspector": {
   "cols": {
    "lenName": 16,
    "lenType": 16,
    "lenVar": 40
   },
   "kernels_config": {
    "python": {
     "delete_cmd_postfix": "",
     "delete_cmd_prefix": "del ",
     "library": "var_list.py",
     "varRefreshCmd": "print(var_dic_list())"
    },
    "r": {
     "delete_cmd_postfix": ") ",
     "delete_cmd_prefix": "rm(",
     "library": "var_list.r",
     "varRefreshCmd": "cat(var_dic_list()) "
    }
   },
   "oldHeight": 170,
   "position": {
    "height": "192px",
    "left": "1433px",
    "right": "20px",
    "top": "192px",
    "width": "486px"
   },
   "types_to_exclude": [
    "module",
    "function",
    "builtin_function_or_method",
    "instance",
    "_Feature"
   ],
   "varInspector_section_display": "block",
   "window_display": false
  }
 },
 "nbformat": 4,
 "nbformat_minor": 1
}
