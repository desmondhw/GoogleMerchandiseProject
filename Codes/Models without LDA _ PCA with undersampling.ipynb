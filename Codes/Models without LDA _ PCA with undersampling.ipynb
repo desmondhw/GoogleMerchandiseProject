{
 "cells": [
  {
   "cell_type": "markdown",
   "metadata": {
    "colab_type": "text",
    "id": "4icf104dFogA"
   },
   "source": [
    "### Import Library and Data"
   ]
  },
  {
   "cell_type": "code",
   "execution_count": 1,
   "metadata": {
    "ExecuteTime": {
     "end_time": "2019-07-31T02:41:02.643370Z",
     "start_time": "2019-07-31T02:41:01.372341Z"
    },
    "colab": {},
    "colab_type": "code",
    "id": "S7gOjgCXFogC"
   },
   "outputs": [],
   "source": [
    "import pandas as pd\n",
    "import matplotlib.pyplot as plt\n",
    "import seaborn as sns\n",
    "import numpy as np\n",
    "import seaborn as sns\n",
    "from patsy import dmatrices\n",
    "import statsmodels.api as sm\n",
    "from statsmodels.stats.outliers_influence import variance_inflation_factor\n",
    "from scipy import stats\n",
    "from sklearn import tree\n",
    "from sklearn.metrics import accuracy_score , confusion_matrix , mean_squared_error\n",
    "from sklearn import preprocessing\n",
    "from sklearn.preprocessing import LabelEncoder\n",
    "from sklearn.preprocessing import OneHotEncoder\n",
    "from sklearn.linear_model import LogisticRegression\n",
    "from sklearn.metrics import make_scorer, classification_report, confusion_matrix, roc_curve, roc_auc_score, precision_score, recall_score, f1_score\n",
    "from sklearn import linear_model, tree, metrics, model_selection, exceptions, ensemble, metrics\n",
    "from sklearn.metrics import fbeta_score"
   ]
  },
  {
   "cell_type": "code",
   "execution_count": 2,
   "metadata": {
    "ExecuteTime": {
     "end_time": "2019-07-31T02:41:03.335782Z",
     "start_time": "2019-07-31T02:41:02.645175Z"
    },
    "colab": {},
    "colab_type": "code",
    "id": "t2au2fBUFogF"
   },
   "outputs": [],
   "source": [
    "data_train = pd.read_csv(\"Data/train_validation_dataset.csv\")\n",
    "data_test = pd.read_csv(\"Data/test_dataset.csv\")"
   ]
  },
  {
   "cell_type": "markdown",
   "metadata": {},
   "source": [
    "<b> Note: EDA in notebook `Data_Extraction_and_Exploratory_Data_Analysis`"
   ]
  },
  {
   "cell_type": "markdown",
   "metadata": {
    "colab_type": "text",
    "id": "H8rKaIFmFogc"
   },
   "source": [
    "### Combining train and test data for pre-processing"
   ]
  },
  {
   "cell_type": "code",
   "execution_count": 3,
   "metadata": {
    "ExecuteTime": {
     "end_time": "2019-07-31T02:41:03.368204Z",
     "start_time": "2019-07-31T02:41:03.363270Z"
    },
    "colab": {},
    "colab_type": "code",
    "id": "zOuclHr1Fogc"
   },
   "outputs": [
    {
     "name": "stdout",
     "output_type": "stream",
     "text": [
      "(124900, 40)\n"
     ]
    }
   ],
   "source": [
    "# concatenating train and test set for pre-processing\n",
    "# add a column to label train and test data, where train=0, test=1.\n",
    "\n",
    "data_train['dataset'] = 0\n",
    "data_test['dataset'] = 1\n",
    "data = pd.concat([data_train, data_test])\n",
    "print(data.shape)"
   ]
  },
  {
   "cell_type": "markdown",
   "metadata": {
    "colab_type": "text",
    "id": "hY-vTth-Fogp"
   },
   "source": [
    "<b> Pre-processing"
   ]
  },
  {
   "cell_type": "code",
   "execution_count": 4,
   "metadata": {
    "ExecuteTime": {
     "end_time": "2019-07-31T02:41:04.736798Z",
     "start_time": "2019-07-31T02:41:03.942294Z"
    },
    "colab": {},
    "colab_type": "code",
    "id": "ZAxRwsQrFogp"
   },
   "outputs": [],
   "source": [
    "# Change date column\n",
    "from datetime import datetime\n",
    "date = data['date']\n",
    "data['date'] = pd.to_datetime(date).dt.strftime('%m/%Y')\n",
    "\n",
    "# replace field that's entirely space (or empty) with NaN.\n",
    "data = data.replace(r'^\\s*$', 'NA', regex=True)\n",
    "\n",
    "# impute missing values NaN with 0.\n",
    "data = data.replace(np.nan, 0)"
   ]
  },
  {
   "cell_type": "code",
   "execution_count": 5,
   "metadata": {
    "ExecuteTime": {
     "end_time": "2019-07-31T02:41:12.473258Z",
     "start_time": "2019-07-31T02:41:12.335373Z"
    },
    "colab": {},
    "colab_type": "code",
    "id": "wC1-m5l1Fogw"
   },
   "outputs": [],
   "source": [
    "data = data.drop(['fullvisitorid', 'Unnamed: 0'], axis=1)"
   ]
  },
  {
   "cell_type": "markdown",
   "metadata": {
    "colab_type": "text",
    "id": "xNtGqXLrFogx"
   },
   "source": [
    "<b> Transformations - Encode Categorical Data "
   ]
  },
  {
   "cell_type": "code",
   "execution_count": 6,
   "metadata": {
    "ExecuteTime": {
     "end_time": "2019-07-31T02:41:12.909049Z",
     "start_time": "2019-07-31T02:41:12.481460Z"
    },
    "colab": {},
    "colab_type": "code",
    "id": "loiUSkPtFogz",
    "outputId": "8ba39aba-b271-4fd5-dc40-2b5b43d70110",
    "scrolled": false
   },
   "outputs": [
    {
     "name": "stdout",
     "output_type": "stream",
     "text": [
      "date                 4\n",
      "channelgrouping      8\n",
      "campaign_today       5\n",
      "medium_today         7\n",
      "keyword_today      436\n",
      "adcontent_today     24\n",
      "devicecategory       3\n",
      "continent            6\n",
      "subcontinent        23\n",
      "country            186\n",
      "metro               71\n",
      "city               354\n",
      "operatingsystem      7\n",
      "source_today         6\n",
      "dtype: int64\n"
     ]
    }
   ],
   "source": [
    "# Show Cateogrical columns using .select_dtypes()\n",
    "cat_data = data.select_dtypes(include=[object]) # use this for sklearn's encoders\n",
    "\n",
    "cat_data_cols = data.select_dtypes(\n",
    "    include=[object]).columns  # use this for pd.get_dummies\n",
    "\n",
    "print(cat_data.nunique())"
   ]
  },
  {
   "cell_type": "code",
   "execution_count": 7,
   "metadata": {
    "colab": {},
    "colab_type": "code",
    "id": "XkFkuoUkFog1",
    "scrolled": true
   },
   "outputs": [],
   "source": [
    "data = pd.get_dummies(data, columns=cat_data_cols)"
   ]
  },
  {
   "cell_type": "markdown",
   "metadata": {
    "colab_type": "text",
    "id": "bJZOYv9-Fog3"
   },
   "source": [
    "#### Split data back into train and test"
   ]
  },
  {
   "cell_type": "markdown",
   "metadata": {
    "colab_type": "text",
    "id": "CjG5WRlpFog7"
   },
   "source": [
    "- Split March-May 2017 data into Train and Validate <br>\n",
    "- Jun 2017 data as Test <br>\n",
    "- Perform MinMax Scaling <br>\n",
    "- Perform undersampling to train data <br>"
   ]
  },
  {
   "cell_type": "code",
   "execution_count": 8,
   "metadata": {
    "ExecuteTime": {
     "end_time": "2019-07-31T02:41:18.499235Z",
     "start_time": "2019-07-31T02:41:17.317581Z"
    },
    "colab": {},
    "colab_type": "code",
    "id": "0XNoncD4Fog3"
   },
   "outputs": [],
   "source": [
    "# move col 'dataset' to the last col.\n",
    "data = data[[c for c in data if c not in ['dataset']] + ['dataset']]\n",
    "# move col 'transactions' to the last col.\n",
    "data = data[[c for c in data if c not in ['transactions_target']] + ['transactions_target']]"
   ]
  },
  {
   "cell_type": "code",
   "execution_count": 9,
   "metadata": {
    "ExecuteTime": {
     "end_time": "2019-07-31T02:41:19.336962Z",
     "start_time": "2019-07-31T02:41:18.501154Z"
    },
    "colab": {},
    "colab_type": "code",
    "id": "4yrPcpNCFog5"
   },
   "outputs": [],
   "source": [
    "train = data[data['dataset'] == 0]\n",
    "test = data[data['dataset'] == 1]"
   ]
  },
  {
   "cell_type": "markdown",
   "metadata": {
    "colab_type": "text",
    "id": "TUh3GZFRFog7"
   },
   "source": [
    "<b> Split train data to train-validation"
   ]
  },
  {
   "cell_type": "code",
   "execution_count": 11,
   "metadata": {
    "ExecuteTime": {
     "end_time": "2019-07-31T02:41:19.670800Z",
     "start_time": "2019-07-31T02:41:19.345342Z"
    },
    "colab": {},
    "colab_type": "code",
    "id": "PlVk3WLtFog8"
   },
   "outputs": [
    {
     "name": "stdout",
     "output_type": "stream",
     "text": [
      "(66424, 1162)\n",
      "(66424,)\n",
      "(5226, 1162)\n",
      "(5226,)\n",
      "(28468, 1162)\n",
      "(28468,)\n",
      "(30008, 1162)\n",
      "(30008,)\n"
     ]
    }
   ],
   "source": [
    "from sklearn import preprocessing\n",
    "min_max_scaler = preprocessing.MinMaxScaler()\n",
    "from imblearn.under_sampling import RandomUnderSampler\n",
    "\n",
    "X = train.drop(['transactions_target', 'transactionrevenue_target'], axis=1)\n",
    "y = train['transactions_target']\n",
    "\n",
    "X_train, X_val , y_train, y_val=model_selection.train_test_split(X,y,test_size=0.3, random_state=1234)\n",
    "\n",
    "X_train = min_max_scaler.fit_transform(X_train)\n",
    "X_val = min_max_scaler.transform(X_val)\n",
    "\n",
    "rus = RandomUnderSampler(random_state=2019, sampling_strategy=1)\n",
    "X_resampled, y_resampled = rus.fit_sample(X_train, y_train)\n",
    "\n",
    "X_test = test.drop(['transactions_target', 'transactionrevenue_target'], axis=1)\n",
    "y_test = test['transactions_target']\n",
    "\n",
    "X_test = min_max_scaler.transform(X_test)\n",
    "\n",
    "# Check train and test datasets\n",
    "print(X_train.shape)\n",
    "print(y_train.shape)\n",
    "print(X_resampled.shape)\n",
    "print(y_resampled.shape)\n",
    "print(X_val.shape)\n",
    "print(y_val.shape)\n",
    "print(X_test.shape)\n",
    "print(y_test.shape)"
   ]
  },
  {
   "cell_type": "markdown",
   "metadata": {
    "colab_type": "text",
    "id": "wCEHzYVqFohB"
   },
   "source": [
    "## Classification Models"
   ]
  },
  {
   "cell_type": "markdown",
   "metadata": {
    "colab_type": "text",
    "id": "lKu79gmvFohB"
   },
   "source": [
    "The following classification models were used: <br>\n",
    "- Logistic Regression\n",
    "- Random Forest\n",
    "- Adaptive Boosting\n",
    "- Light Gradient Boosting (LGB)\n",
    "- Neural Network"
   ]
  },
  {
   "cell_type": "markdown",
   "metadata": {
    "colab_type": "text",
    "id": "KGLlQmalFohC"
   },
   "source": [
    "<b> Define optimisation scorer"
   ]
  },
  {
   "cell_type": "code",
   "execution_count": 12,
   "metadata": {
    "colab": {},
    "colab_type": "code",
    "id": "t4nQKRn1FohD"
   },
   "outputs": [],
   "source": [
    "f2_scorer = metrics.make_scorer(metrics.fbeta_score, beta = 2)"
   ]
  },
  {
   "cell_type": "markdown",
   "metadata": {
    "colab_type": "text",
    "id": "DXklRXrWFohE"
   },
   "source": [
    "<b> Define print score function"
   ]
  },
  {
   "cell_type": "code",
   "execution_count": 13,
   "metadata": {
    "colab": {},
    "colab_type": "code",
    "id": "yw8uSm7qFohE"
   },
   "outputs": [],
   "source": [
    "def print_score(model, X_test, y_test):\n",
    "    predict=model.predict(X_test)\n",
    "    print(\"Training score is {}\".format(model.score(X_resampled, y_resampled)))\n",
    "    print(\"Validation score is {}\".format(model.score(X_test, y_test)))\n",
    "    print('Recall:', recall_score(y_test, predict))\n",
    "    print('Precision:', precision_score(y_test, predict))\n",
    "    print('Accuracy:', accuracy_score(y_test, predict))\n",
    "    print(\"f1:\", f1_score(y_test, predict))\n",
    "    print(\"f2:\", fbeta_score(y_test, predict, beta=2), '\\n')\n",
    "    print('Classification Score')\n",
    "    print(metrics.classification_report(y_test, predict))\n",
    "    print('Confusion Matrix')\n",
    "    print(metrics.confusion_matrix(y_test, predict))"
   ]
  },
  {
   "cell_type": "markdown",
   "metadata": {
    "colab_type": "text",
    "id": "pkXiH_ZJFohH"
   },
   "source": [
    "## 1 - Logistic Regression"
   ]
  },
  {
   "cell_type": "markdown",
   "metadata": {
    "colab_type": "text",
    "id": "coGuTY9fFohH"
   },
   "source": [
    "<b> Parameter Tuning"
   ]
  },
  {
   "cell_type": "code",
   "execution_count": 14,
   "metadata": {
    "colab": {},
    "colab_type": "code",
    "id": "FYKPPoCPFohI"
   },
   "outputs": [
    {
     "name": "stderr",
     "output_type": "stream",
     "text": [
      "[Parallel(n_jobs=-1)]: Using backend LokyBackend with 4 concurrent workers.\n"
     ]
    },
    {
     "name": "stdout",
     "output_type": "stream",
     "text": [
      "Fitting 5 folds for each of 10 candidates, totalling 50 fits\n"
     ]
    },
    {
     "name": "stderr",
     "output_type": "stream",
     "text": [
      "[Parallel(n_jobs=-1)]: Done  33 tasks      | elapsed:   23.6s\n",
      "[Parallel(n_jobs=-1)]: Done  50 out of  50 | elapsed:   46.3s finished\n",
      "C:\\Users\\evelyn\\Anaconda3\\lib\\site-packages\\sklearn\\linear_model\\logistic.py:947: ConvergenceWarning: lbfgs failed to converge. Increase the number of iterations.\n",
      "  \"of iterations.\", ConvergenceWarning)\n"
     ]
    },
    {
     "data": {
      "text/plain": [
       "RandomizedSearchCV(cv=StratifiedKFold(n_splits=5, random_state=2019, shuffle=True),\n",
       "                   error_score='raise-deprecating',\n",
       "                   estimator=LogisticRegression(C=1.0, class_weight='balanced',\n",
       "                                                dual=False, fit_intercept=True,\n",
       "                                                intercept_scaling=1,\n",
       "                                                l1_ratio=None, max_iter=100,\n",
       "                                                multi_class='warn', n_jobs=None,\n",
       "                                                penalty='l2', random_state=1,\n",
       "                                                solver='warn', tol=0.0001,\n",
       "                                                verbose=0, warm_start=False),\n",
       "                   iid='warn', n_iter=10, n_jobs=-1,\n",
       "                   param_distributions={'C': [0.01, 0.05, 0.1, 0.2, 0.5],\n",
       "                                        'solver': ['newton-cg', 'sag',\n",
       "                                                   'lbfgs']},\n",
       "                   pre_dispatch='2*n_jobs', random_state=None, refit=True,\n",
       "                   return_train_score=False,\n",
       "                   scoring=make_scorer(fbeta_score, beta=2), verbose=2)"
      ]
     },
     "execution_count": 14,
     "metadata": {},
     "output_type": "execute_result"
    }
   ],
   "source": [
    "# parameters = {'solver': ['newton-cg', 'sag','lbfgs'],\n",
    "#                'C': [0.01, 0.05, 0.1, 0.2, 0.5]\n",
    "#                }\n",
    "\n",
    "# rs_lr = model_selection.RandomizedSearchCV(LogisticRegression(penalty='l2', random_state=1, class_weight='balanced'),\n",
    "#                                             parameters,scoring = f2_scorer,\n",
    "#                                             cv=model_selection.StratifiedKFold(\n",
    "#                                                 n_splits=5, shuffle=True, random_state=2019),\n",
    "#                                             verbose=2, n_jobs=-1)\n",
    "\n",
    "# rs_lr.fit(X_resampled, y_resampled)\n",
    "\n",
    "# #results\n",
    "# rs_lr.best_estimator_\n",
    "# # LogisticRegression(C=0.5, class_weight='balanced', dual=False,\n",
    "# #                    fit_intercept=True, intercept_scaling=1, l1_ratio=None,\n",
    "# #                    max_iter=100, multi_class='warn', n_jobs=None, penalty='l2',\n",
    "# #                    random_state=1, solver='lbfgs', tol=0.0001, verbose=0,\n",
    "# #                    warm_start=False)"
   ]
  },
  {
   "cell_type": "markdown",
   "metadata": {
    "colab_type": "text",
    "id": "73woN6QAFohK"
   },
   "source": [
    "<b> Logistic Regression Model"
   ]
  },
  {
   "cell_type": "code",
   "execution_count": 16,
   "metadata": {
    "colab": {},
    "colab_type": "code",
    "id": "upUQXW8MFohM"
   },
   "outputs": [
    {
     "name": "stderr",
     "output_type": "stream",
     "text": [
      "C:\\Users\\evelyn\\Anaconda3\\lib\\site-packages\\sklearn\\linear_model\\logistic.py:947: ConvergenceWarning: lbfgs failed to converge. Increase the number of iterations.\n",
      "  \"of iterations.\", ConvergenceWarning)\n"
     ]
    },
    {
     "data": {
      "text/plain": [
       "LogisticRegression(C=0.5, class_weight='balanced', dual=False,\n",
       "                   fit_intercept=True, intercept_scaling=1, l1_ratio=None,\n",
       "                   max_iter=100, multi_class='warn', n_jobs=None, penalty='l2',\n",
       "                   random_state=1, solver='lbfgs', tol=0.0001, verbose=0,\n",
       "                   warm_start=False)"
      ]
     },
     "execution_count": 16,
     "metadata": {},
     "output_type": "execute_result"
    }
   ],
   "source": [
    "lr = LogisticRegression(C=0.5, class_weight='balanced', dual=False,\n",
    "                   fit_intercept=True, intercept_scaling=1, l1_ratio=None,\n",
    "                   max_iter=100, multi_class='warn', n_jobs=None, penalty='l2',\n",
    "                   random_state=1, solver='lbfgs', tol=0.0001, verbose=0,\n",
    "                   warm_start=False)\n",
    "\n",
    "lr.fit(X_resampled,y_resampled)"
   ]
  },
  {
   "cell_type": "markdown",
   "metadata": {
    "colab_type": "text",
    "id": "g1_k25AfFohP"
   },
   "source": [
    "<b> Prediction with Validation Data (Logistic Regression)"
   ]
  },
  {
   "cell_type": "code",
   "execution_count": 17,
   "metadata": {
    "colab": {},
    "colab_type": "code",
    "id": "tGciGDL7FohP",
    "outputId": "74dee28f-b06c-4b61-d5bd-5b690f16b493"
   },
   "outputs": [
    {
     "name": "stdout",
     "output_type": "stream",
     "text": [
      "Training score is 0.8541905855338691\n",
      "Validation score is 0.8106294787129409\n",
      "Recall: 0.8755803156917363\n",
      "Precision: 0.1520967741935484\n",
      "Accuracy: 0.8106294787129409\n",
      "f1: 0.25917273601758967\n",
      "f2: 0.4487057480015227 \n",
      "\n",
      "Classification Score\n",
      "              precision    recall  f1-score   support\n",
      "\n",
      "           0       0.99      0.81      0.89     27391\n",
      "           1       0.15      0.88      0.26      1077\n",
      "\n",
      "    accuracy                           0.81     28468\n",
      "   macro avg       0.57      0.84      0.58     28468\n",
      "weighted avg       0.96      0.81      0.87     28468\n",
      "\n",
      "Confusion Matrix\n",
      "[[22134  5257]\n",
      " [  134   943]]\n"
     ]
    }
   ],
   "source": [
    "print_score(lr, X_val, y_val)"
   ]
  },
  {
   "cell_type": "markdown",
   "metadata": {
    "colab_type": "text",
    "id": "IRfr_RvYFohS"
   },
   "source": [
    "<b> Feature Importance (Logistic Regression)"
   ]
  },
  {
   "cell_type": "code",
   "execution_count": 19,
   "metadata": {
    "colab": {},
    "colab_type": "code",
    "id": "DkaYSpvvFohS",
    "outputId": "11fedc23-d50a-45d3-9219-0a80cb842e33"
   },
   "outputs": [
    {
     "name": "stdout",
     "output_type": "stream",
     "text": [
      "                       feature  importance\n",
      "3             timeonsite_today    7.355784\n",
      "1                   hits_today    6.464427\n",
      "2              pageviews_today    6.398894\n",
      "0                     sessions    1.752458\n",
      "19             transactions_lt    1.234508\n",
      "715      country_United States    1.063559\n",
      "32      channelgrouping_Social    0.997356\n",
      "7                    visits_st    0.980493\n",
      "1117              city_Toronto    0.842809\n",
      "33    campaign_today_(not set)    0.841220\n"
     ]
    }
   ],
   "source": [
    "lr_importance= pd.DataFrame.from_dict({'feature':list(X.columns), 'importance': lr.coef_[0] })\n",
    "print(lr_importance.sort_values('importance',ascending=False).head(10))"
   ]
  },
  {
   "cell_type": "code",
   "execution_count": 20,
   "metadata": {
    "colab": {},
    "colab_type": "code",
    "id": "AhfXVTdCFohU",
    "outputId": "c6118da1-1ca6-47a3-95a7-e2a725a526fd"
   },
   "outputs": [
    {
     "name": "stdout",
     "output_type": "stream",
     "text": [
      "                             feature  importance\n",
      "29    channelgrouping_Organic Search   -0.501592\n",
      "1028                  city_Palo Alto   -0.520610\n",
      "700                   country_Taiwan   -0.527953\n",
      "13             transactionrevenue_st   -0.574643\n",
      "1053               city_Redwood City   -0.579981\n",
      "739        metro_Dallas-Ft. Worth TX   -0.614900\n",
      "512                 continent_Europe   -0.771015\n",
      "5                    newvisits_today   -0.865684\n",
      "44             medium_today_referral   -0.867285\n",
      "1160         source_today_b'youtube'   -1.437531\n"
     ]
    }
   ],
   "source": [
    "print(lr_importance.sort_values('importance',ascending=False).tail(10))"
   ]
  },
  {
   "cell_type": "markdown",
   "metadata": {
    "colab_type": "text",
    "id": "3M1qp0coFohW"
   },
   "source": [
    "## 2 - Random Forest Modelling"
   ]
  },
  {
   "cell_type": "markdown",
   "metadata": {
    "colab_type": "text",
    "id": "rwAxXVTcFohW"
   },
   "source": [
    "<b> Parameter Tuning"
   ]
  },
  {
   "cell_type": "code",
   "execution_count": 21,
   "metadata": {
    "colab": {},
    "colab_type": "code",
    "id": "pi-5cScXFohW"
   },
   "outputs": [
    {
     "name": "stdout",
     "output_type": "stream",
     "text": [
      "Fitting 10 folds for each of 10 candidates, totalling 100 fits\n"
     ]
    },
    {
     "name": "stderr",
     "output_type": "stream",
     "text": [
      "[Parallel(n_jobs=-1)]: Using backend LokyBackend with 4 concurrent workers.\n",
      "[Parallel(n_jobs=-1)]: Done  33 tasks      | elapsed:    7.8s\n",
      "[Parallel(n_jobs=-1)]: Done 100 out of 100 | elapsed:   32.3s finished\n"
     ]
    },
    {
     "data": {
      "text/plain": [
       "RandomForestClassifier(bootstrap=True, class_weight=None, criterion='entropy',\n",
       "                       max_depth=15, max_features='auto', max_leaf_nodes=None,\n",
       "                       min_impurity_decrease=0.0, min_impurity_split=None,\n",
       "                       min_samples_leaf=2, min_samples_split=4,\n",
       "                       min_weight_fraction_leaf=0.0, n_estimators=20,\n",
       "                       n_jobs=None, oob_score=False, random_state=1, verbose=0,\n",
       "                       warm_start=False)"
      ]
     },
     "execution_count": 21,
     "metadata": {},
     "output_type": "execute_result"
    }
   ],
   "source": [
    "# parameters = {'criterion': ['gini', 'entropy'],\n",
    "#                'max_depth': [5, 10, 15, 20],\n",
    "#                'min_samples_leaf': [1, 2],\n",
    "#                'min_samples_split': [2, 4, 6],\n",
    "#                'n_estimators': [10, 20, 30, 40],\n",
    "#                'class_weight': ['balanced', 'balanced_subsample', None]\n",
    "#                }\n",
    "\n",
    "# rs_rf = model_selection.RandomizedSearchCV(ensemble.RandomForestClassifier(random_state=1),\n",
    "#                                             parameters,scoring = f2_scorer,\n",
    "#                                             cv=model_selection.StratifiedKFold(\n",
    "#                                                 n_splits=10, shuffle=True, random_state=2019),\n",
    "#                                             verbose=2, n_jobs=-1)\n",
    "\n",
    "# rs_rf.fit(X_resampled, y_resampled)\n",
    "# # print('best parameters: ', rs_rf.best_params_)\n",
    "\n",
    "# ##results\n",
    "# rs_rf.best_estimator_\n",
    "# # RandomForestClassifier(bootstrap=True, class_weight=None, criterion='entropy',\n",
    "# #                        max_depth=15, max_features='auto', max_leaf_nodes=None,\n",
    "# #                        min_impurity_decrease=0.0, min_impurity_split=None,\n",
    "# #                        min_samples_leaf=2, min_samples_split=4,\n",
    "# #                        min_weight_fraction_leaf=0.0, n_estimators=20,\n",
    "# #                        n_jobs=None, oob_score=False, random_state=1, verbose=0,\n",
    "# #                        warm_start=False)"
   ]
  },
  {
   "cell_type": "markdown",
   "metadata": {
    "colab_type": "text",
    "id": "M1WmIB5pFohX"
   },
   "source": [
    "<b> Random Forest Model"
   ]
  },
  {
   "cell_type": "code",
   "execution_count": 23,
   "metadata": {
    "colab": {},
    "colab_type": "code",
    "id": "JOCLK9vtFohZ",
    "outputId": "8a3c1926-74f7-4f40-a549-bcc806b5bbed"
   },
   "outputs": [
    {
     "data": {
      "text/plain": [
       "RandomForestClassifier(bootstrap=True, class_weight=None, criterion='entropy',\n",
       "                       max_depth=15, max_features='auto', max_leaf_nodes=None,\n",
       "                       min_impurity_decrease=0.0, min_impurity_split=None,\n",
       "                       min_samples_leaf=2, min_samples_split=4,\n",
       "                       min_weight_fraction_leaf=0.0, n_estimators=20,\n",
       "                       n_jobs=None, oob_score=False, random_state=1, verbose=0,\n",
       "                       warm_start=False)"
      ]
     },
     "execution_count": 23,
     "metadata": {},
     "output_type": "execute_result"
    }
   ],
   "source": [
    "rf = ensemble.RandomForestClassifier(bootstrap=True, class_weight=None, criterion='entropy',\n",
    "                       max_depth=15, max_features='auto', max_leaf_nodes=None,\n",
    "                       min_impurity_decrease=0.0, min_impurity_split=None,\n",
    "                       min_samples_leaf=2, min_samples_split=4,\n",
    "                       min_weight_fraction_leaf=0.0, n_estimators=20,\n",
    "                       n_jobs=None, oob_score=False, random_state=1, verbose=0,\n",
    "                       warm_start=False)\n",
    "\n",
    "\n",
    "rf.fit(X_resampled, y_resampled)"
   ]
  },
  {
   "cell_type": "markdown",
   "metadata": {
    "colab_type": "text",
    "id": "RkhbmARHFohb"
   },
   "source": [
    "<b> Prediction with Validation Data (Random Forest)"
   ]
  },
  {
   "cell_type": "code",
   "execution_count": 24,
   "metadata": {
    "colab": {},
    "colab_type": "code",
    "id": "uDXsTQ23Fohb",
    "outputId": "635d5f05-5ee2-4d2a-d7a1-d3fdf8f961f4",
    "scrolled": true
   },
   "outputs": [
    {
     "name": "stdout",
     "output_type": "stream",
     "text": [
      "Training score is 0.9087256027554536\n",
      "Validation score is 0.8698889981733877\n",
      "Recall: 0.9238625812441968\n",
      "Precision: 0.2155079055663851\n",
      "Accuracy: 0.8698889981733877\n",
      "f1: 0.3494906919564454\n",
      "f2: 0.5574229691876751 \n",
      "\n",
      "Classification Score\n",
      "              precision    recall  f1-score   support\n",
      "\n",
      "           0       1.00      0.87      0.93     27391\n",
      "           1       0.22      0.92      0.35      1077\n",
      "\n",
      "    accuracy                           0.87     28468\n",
      "   macro avg       0.61      0.90      0.64     28468\n",
      "weighted avg       0.97      0.87      0.91     28468\n",
      "\n",
      "Confusion Matrix\n",
      "[[23769  3622]\n",
      " [   82   995]]\n"
     ]
    }
   ],
   "source": [
    "print_score(rf, X_val, y_val)"
   ]
  },
  {
   "cell_type": "markdown",
   "metadata": {
    "colab_type": "text",
    "id": "ndrv7dl8Fohe"
   },
   "source": [
    "<b> Feature Importance for Random Forest"
   ]
  },
  {
   "cell_type": "code",
   "execution_count": 25,
   "metadata": {
    "colab": {},
    "colab_type": "code",
    "id": "6FdbMmBhFohe",
    "outputId": "b19c30bd-71ed-4673-d057-fc6fb4c49a3e",
    "scrolled": true
   },
   "outputs": [
    {
     "name": "stdout",
     "output_type": "stream",
     "text": [
      "                           feature  importance\n",
      "2                  pageviews_today    0.217906\n",
      "3                 timeonsite_today    0.159029\n",
      "1                       hits_today    0.125500\n",
      "526  subcontinent_Northern America    0.047767\n",
      "715          country_United States    0.038749\n",
      "512               continent_Europe    0.032186\n",
      "723                        metro_0    0.024320\n",
      "510             continent_Americas    0.022365\n",
      "17                   timeonsite_lt    0.018214\n",
      "16                    pageviews_lt    0.017206\n"
     ]
    }
   ],
   "source": [
    "rf_importance= pd.DataFrame.from_dict({'feature':list(X.columns), 'importance': rf.feature_importances_ })\n",
    "print(rf_importance.sort_values('importance',ascending=False).head(10))"
   ]
  },
  {
   "cell_type": "markdown",
   "metadata": {
    "colab_type": "text",
    "id": "AeLqovEVFohg"
   },
   "source": [
    "## 3 - Adaptive Boosting"
   ]
  },
  {
   "cell_type": "markdown",
   "metadata": {
    "colab_type": "text",
    "id": "mcNgNyyEFohg"
   },
   "source": [
    "<b> Parameter Tuning"
   ]
  },
  {
   "cell_type": "code",
   "execution_count": 26,
   "metadata": {
    "colab": {},
    "colab_type": "code",
    "id": "iSJG3YGeFohh"
   },
   "outputs": [
    {
     "name": "stdout",
     "output_type": "stream",
     "text": [
      "Fitting 5 folds for each of 10 candidates, totalling 50 fits\n"
     ]
    },
    {
     "name": "stderr",
     "output_type": "stream",
     "text": [
      "[Parallel(n_jobs=-1)]: Using backend LokyBackend with 4 concurrent workers.\n",
      "[Parallel(n_jobs=-1)]: Done  33 tasks      | elapsed:  2.2min\n",
      "[Parallel(n_jobs=-1)]: Done  50 out of  50 | elapsed:  3.3min finished\n"
     ]
    },
    {
     "data": {
      "text/plain": [
       "AdaBoostClassifier(algorithm='SAMME',\n",
       "                   base_estimator=DecisionTreeClassifier(class_weight='balanced',\n",
       "                                                         criterion='gini',\n",
       "                                                         max_depth=30,\n",
       "                                                         max_features='auto',\n",
       "                                                         max_leaf_nodes=None,\n",
       "                                                         min_impurity_decrease=0.0,\n",
       "                                                         min_impurity_split=None,\n",
       "                                                         min_samples_leaf=1,\n",
       "                                                         min_samples_split=25,\n",
       "                                                         min_weight_fraction_leaf=0.0,\n",
       "                                                         presort=False,\n",
       "                                                         random_state=2019,\n",
       "                                                         splitter='best'),\n",
       "                   learning_rate=0.01, n_estimators=150, random_state=2019)"
      ]
     },
     "execution_count": 26,
     "metadata": {},
     "output_type": "execute_result"
    }
   ],
   "source": [
    "# parameters = {'base_estimator__criterion' : [\"gini\", \"entropy\"], \n",
    "#               'base_estimator__splitter' :   [\"best\", \"random\"],\n",
    "#               'base_estimator__max_depth': [15, 20, 25, 30], \n",
    "#               'base_estimator__min_samples_split': list(range(15, 30, 5)),\n",
    "#               'algorithm': ['SAMME', 'SAMME.R'], 'learning_rate': [0.001, 0.01, 0.1, 0.5, 1], \n",
    "#               'n_estimators': list(range(50, 200, 50))}\n",
    "\n",
    "# DTC = tree.DecisionTreeClassifier(random_state = 2019, max_features = \"auto\", class_weight = \"balanced\")\n",
    "\n",
    "# rs_ab = model_selection.RandomizedSearchCV(ensemble.AdaBoostClassifier(random_state = 2019, base_estimator = DTC), \n",
    "#                                   parameters, scoring = f2_scorer, \n",
    "#                                   cv = model_selection.StratifiedKFold(n_splits = 5, shuffle = True, random_state = 2019),\n",
    "#                                        iid=False, verbose=2, n_jobs=-1)\n",
    "\n",
    "# rs_ab.fit(X_resampled, y_resampled)\n",
    "\n",
    "# #results\n",
    "# rs_ab.best_estimator_\n",
    "# # AdaBoostClassifier(algorithm='SAMME',\n",
    "# #                    base_estimator=DecisionTreeClassifier(class_weight='balanced',\n",
    "# #                                                          criterion='gini',\n",
    "# #                                                          max_depth=30,\n",
    "# #                                                          max_features='auto',\n",
    "# #                                                          max_leaf_nodes=None,\n",
    "# #                                                          min_impurity_decrease=0.0,\n",
    "# #                                                          min_impurity_split=None,\n",
    "# #                                                          min_samples_leaf=1,\n",
    "# #                                                          min_samples_split=25,\n",
    "# #                                                          min_weight_fraction_leaf=0.0,\n",
    "# #                                                          presort=False,\n",
    "# #                                                          random_state=2019,\n",
    "# #                                                          splitter='best'),\n",
    "# #                    learning_rate=0.01, n_estimators=150, random_state=2019)"
   ]
  },
  {
   "cell_type": "markdown",
   "metadata": {
    "colab_type": "text",
    "id": "ADrSL50VFohl"
   },
   "source": [
    "<b> AdaBoost Model"
   ]
  },
  {
   "cell_type": "code",
   "execution_count": 27,
   "metadata": {
    "colab": {},
    "colab_type": "code",
    "id": "8QQ2UKvjFoho"
   },
   "outputs": [
    {
     "data": {
      "text/plain": [
       "AdaBoostClassifier(algorithm='SAMME',\n",
       "                   base_estimator=DecisionTreeClassifier(class_weight='balanced',\n",
       "                                                         criterion='gini',\n",
       "                                                         max_depth=30,\n",
       "                                                         max_features='auto',\n",
       "                                                         max_leaf_nodes=None,\n",
       "                                                         min_impurity_decrease=0.0,\n",
       "                                                         min_impurity_split=None,\n",
       "                                                         min_samples_leaf=1,\n",
       "                                                         min_samples_split=25,\n",
       "                                                         min_weight_fraction_leaf=0.0,\n",
       "                                                         presort=False,\n",
       "                                                         random_state=2019,\n",
       "                                                         splitter='best'),\n",
       "                   learning_rate=0.01, n_estimators=150, random_state=2019)"
      ]
     },
     "execution_count": 27,
     "metadata": {},
     "output_type": "execute_result"
    }
   ],
   "source": [
    "from sklearn.tree import DecisionTreeClassifier\n",
    "\n",
    "ab= ensemble.AdaBoostClassifier(algorithm='SAMME',\n",
    "                   base_estimator=DecisionTreeClassifier(class_weight='balanced',\n",
    "                                                         criterion='gini',\n",
    "                                                         max_depth=30,\n",
    "                                                         max_features='auto',\n",
    "                                                         max_leaf_nodes=None,\n",
    "                                                         min_impurity_decrease=0.0,\n",
    "                                                         min_impurity_split=None,\n",
    "                                                         min_samples_leaf=1,\n",
    "                                                         min_samples_split=25,\n",
    "                                                         min_weight_fraction_leaf=0.0,\n",
    "                                                         presort=False,\n",
    "                                                         random_state=2019,\n",
    "                                                         splitter='best'),\n",
    "                   learning_rate=0.01, n_estimators=150, random_state=2019)\n",
    "\n",
    "ab.fit(X_resampled, y_resampled)"
   ]
  },
  {
   "cell_type": "markdown",
   "metadata": {
    "colab_type": "text",
    "id": "PI2o3j3zFohr"
   },
   "source": [
    "<b> Prediction with Validation Data (Adaboost)"
   ]
  },
  {
   "cell_type": "code",
   "execution_count": 28,
   "metadata": {
    "colab": {},
    "colab_type": "code",
    "id": "HUEV8OF3Fohr",
    "outputId": "cce183ff-e250-4fec-baae-eb06b9ddd5e9",
    "scrolled": true
   },
   "outputs": [
    {
     "name": "stdout",
     "output_type": "stream",
     "text": [
      "Training score is 0.9443168771526981\n",
      "Validation score is 0.8750878179008009\n",
      "Recall: 0.9201485608170845\n",
      "Precision: 0.22214750056041246\n",
      "Accuracy: 0.8750878179008009\n",
      "f1: 0.3578909353557241\n",
      "f2: 0.5650587296156917 \n",
      "\n",
      "Classification Score\n",
      "              precision    recall  f1-score   support\n",
      "\n",
      "           0       1.00      0.87      0.93     27391\n",
      "           1       0.22      0.92      0.36      1077\n",
      "\n",
      "    accuracy                           0.88     28468\n",
      "   macro avg       0.61      0.90      0.64     28468\n",
      "weighted avg       0.97      0.88      0.91     28468\n",
      "\n",
      "Confusion Matrix\n",
      "[[23921  3470]\n",
      " [   86   991]]\n"
     ]
    }
   ],
   "source": [
    "print_score(ab, X_val, y_val)"
   ]
  },
  {
   "cell_type": "markdown",
   "metadata": {
    "colab_type": "text",
    "id": "IxX1vQF7Fohx"
   },
   "source": [
    "<b> Feature Importance for Adaptive Boosting"
   ]
  },
  {
   "cell_type": "code",
   "execution_count": 29,
   "metadata": {
    "colab": {},
    "colab_type": "code",
    "id": "9Dzh_w9jFohx",
    "outputId": "87b1416a-f90d-4944-8e49-0a5a3c49ebd3",
    "scrolled": true
   },
   "outputs": [
    {
     "name": "stdout",
     "output_type": "stream",
     "text": [
      "                            feature  importance\n",
      "2                   pageviews_today    0.166543\n",
      "1                        hits_today    0.151460\n",
      "3                  timeonsite_today    0.117324\n",
      "526   subcontinent_Northern America    0.038356\n",
      "715           country_United States    0.037751\n",
      "510              continent_Americas    0.034767\n",
      "1151   operatingsystem_b'Macintosh'    0.018196\n",
      "512                continent_Europe    0.016511\n",
      "38              medium_today_(none)    0.015157\n",
      "8                           hits_st    0.014886\n"
     ]
    }
   ],
   "source": [
    "ab_importance= pd.DataFrame.from_dict({'feature':list(X.columns), 'importance': ab.feature_importances_ })\n",
    "print(ab_importance.sort_values('importance',ascending=False).head(10))"
   ]
  },
  {
   "cell_type": "markdown",
   "metadata": {
    "colab_type": "text",
    "id": "FH2KzwH2Fohy"
   },
   "source": [
    "## 4 - Neural Network"
   ]
  },
  {
   "cell_type": "code",
   "execution_count": 38,
   "metadata": {},
   "outputs": [
    {
     "name": "stdout",
     "output_type": "stream",
     "text": [
      "Fitting 5 folds for each of 10 candidates, totalling 50 fits\n"
     ]
    },
    {
     "name": "stderr",
     "output_type": "stream",
     "text": [
      "[Parallel(n_jobs=-1)]: Using backend LokyBackend with 4 concurrent workers.\n",
      "[Parallel(n_jobs=-1)]: Done  33 tasks      | elapsed:  4.9min\n",
      "[Parallel(n_jobs=-1)]: Done  50 out of  50 | elapsed:  7.3min finished\n"
     ]
    },
    {
     "data": {
      "text/plain": [
       "MLPClassifier(activation='tanh', alpha=0.05, batch_size='auto', beta_1=0.9,\n",
       "              beta_2=0.999, early_stopping=False, epsilon=1e-08,\n",
       "              hidden_layer_sizes=(50, 100, 50), learning_rate='adaptive',\n",
       "              learning_rate_init=0.001, max_iter=100, momentum=0.9,\n",
       "              n_iter_no_change=10, nesterovs_momentum=True, power_t=0.5,\n",
       "              random_state=2019, shuffle=True, solver='adam', tol=0.0001,\n",
       "              validation_fraction=0.1, verbose=False, warm_start=False)"
      ]
     },
     "execution_count": 38,
     "metadata": {},
     "output_type": "execute_result"
    }
   ],
   "source": [
    "# from sklearn.neural_network import MLPClassifier\n",
    "# parameters = {\n",
    "#     'hidden_layer_sizes': [(50,50,50), (50,100,50), (100,)],\n",
    "#     'activation': ['tanh', 'relu'],\n",
    "#     'solver': ['sgd', 'adam'],\n",
    "#     'alpha': [0.0001, 0.05],\n",
    "#     'learning_rate': ['constant','adaptive'],\n",
    "# }\n",
    "\n",
    "# rs_nn = model_selection.RandomizedSearchCV(MLPClassifier(random_state=2019, max_iter=100),\n",
    "#                                             parameters,scoring = f2_scorer,\n",
    "#                                             cv=model_selection.StratifiedKFold(\n",
    "#                                                 n_splits=5, shuffle=True, random_state=2019),\n",
    "#                                             verbose=2, n_jobs=-1)\n",
    "\n",
    "# rs_nn.fit(X_resampled, y_resampled)\n",
    "# rs_nn.best_estimator_\n",
    "\n",
    "# # result\n",
    "# # MLPClassifier(activation='tanh', alpha=0.05, batch_size='auto', beta_1=0.9,\n",
    "# #               beta_2=0.999, early_stopping=False, epsilon=1e-08,\n",
    "# #               hidden_layer_sizes=(50, 100, 50), learning_rate='adaptive',\n",
    "# #               learning_rate_init=0.001, max_iter=100, momentum=0.9,\n",
    "# #               n_iter_no_change=10, nesterovs_momentum=True, power_t=0.5,\n",
    "# #               random_state=2019, shuffle=True, solver='adam', tol=0.0001,\n",
    "# #               validation_fraction=0.1, verbose=False, warm_start=False)"
   ]
  },
  {
   "cell_type": "code",
   "execution_count": 39,
   "metadata": {},
   "outputs": [
    {
     "data": {
      "text/plain": [
       "MLPClassifier(activation='tanh', alpha=0.05, batch_size='auto', beta_1=0.9,\n",
       "              beta_2=0.999, early_stopping=False, epsilon=1e-08,\n",
       "              hidden_layer_sizes=(50, 100, 50), learning_rate='adaptive',\n",
       "              learning_rate_init=0.001, max_iter=100, momentum=0.9,\n",
       "              n_iter_no_change=10, nesterovs_momentum=True, power_t=0.5,\n",
       "              random_state=2019, shuffle=True, solver='adam', tol=0.0001,\n",
       "              validation_fraction=0.1, verbose=False, warm_start=False)"
      ]
     },
     "execution_count": 39,
     "metadata": {},
     "output_type": "execute_result"
    }
   ],
   "source": [
    "from sklearn.neural_network import MLPClassifier\n",
    "\n",
    "nn= MLPClassifier(activation='tanh', alpha=0.05, batch_size='auto', beta_1=0.9,\n",
    "              beta_2=0.999, early_stopping=False, epsilon=1e-08,\n",
    "              hidden_layer_sizes=(50, 100, 50), learning_rate='adaptive',\n",
    "              learning_rate_init=0.001, max_iter=100, momentum=0.9,\n",
    "              n_iter_no_change=10, nesterovs_momentum=True, power_t=0.5,\n",
    "              random_state=2019, shuffle=True, solver='adam', tol=0.0001,\n",
    "              validation_fraction=0.1, verbose=False, warm_start=False)\n",
    "\n",
    "nn.fit(X_resampled, y_resampled)"
   ]
  },
  {
   "cell_type": "markdown",
   "metadata": {
    "colab_type": "text",
    "id": "PI2o3j3zFohr"
   },
   "source": [
    "<b> Prediction with Validation Data (Neural Network)"
   ]
  },
  {
   "cell_type": "code",
   "execution_count": 40,
   "metadata": {
    "colab": {},
    "colab_type": "code",
    "id": "HUEV8OF3Fohr",
    "outputId": "cce183ff-e250-4fec-baae-eb06b9ddd5e9",
    "scrolled": true
   },
   "outputs": [
    {
     "name": "stdout",
     "output_type": "stream",
     "text": [
      "Training score is 0.9008802143130501\n",
      "Validation score is 0.8660601376984685\n",
      "Recall: 0.9117920148560817\n",
      "Precision: 0.20893617021276595\n",
      "Accuracy: 0.8660601376984685\n",
      "f1: 0.3399688419594945\n",
      "f2: 0.5450710479573713 \n",
      "\n",
      "Classification Score\n",
      "              precision    recall  f1-score   support\n",
      "\n",
      "           0       1.00      0.86      0.93     27391\n",
      "           1       0.21      0.91      0.34      1077\n",
      "\n",
      "    accuracy                           0.87     28468\n",
      "   macro avg       0.60      0.89      0.63     28468\n",
      "weighted avg       0.97      0.87      0.90     28468\n",
      "\n",
      "Confusion Matrix\n",
      "[[23673  3718]\n",
      " [   95   982]]\n"
     ]
    }
   ],
   "source": [
    "print_score(nn, X_val, y_val)"
   ]
  },
  {
   "cell_type": "markdown",
   "metadata": {
    "colab_type": "text",
    "id": "sc3uPv4TFoh5"
   },
   "source": [
    "## 5 - LightGBM"
   ]
  },
  {
   "cell_type": "code",
   "execution_count": 30,
   "metadata": {
    "colab": {},
    "colab_type": "code",
    "id": "SVbWeYILFoh5",
    "outputId": "32a07fed-cd35-4a5c-a252-34f48e758bc3"
   },
   "outputs": [],
   "source": [
    "import lightgbm as lgb"
   ]
  },
  {
   "cell_type": "markdown",
   "metadata": {},
   "source": [
    "<b> Parameter Tuning"
   ]
  },
  {
   "cell_type": "code",
   "execution_count": 31,
   "metadata": {},
   "outputs": [
    {
     "data": {
      "text/plain": [
       "RandomizedSearchCV(cv=StratifiedKFold(n_splits=10, random_state=2019, shuffle=True),\n",
       "                   error_score='raise-deprecating',\n",
       "                   estimator=LGBMClassifier(boosting_type='gbdt',\n",
       "                                            class_weight=None,\n",
       "                                            colsample_bytree=1.0,\n",
       "                                            importance_type='split',\n",
       "                                            learning_rate=0.1, max_depth=-1,\n",
       "                                            min_child_samples=20,\n",
       "                                            min_child_weight=0.001,\n",
       "                                            min_split_gain=0.0,\n",
       "                                            n_estimators=100, n_jobs=-1,\n",
       "                                            num_le...\n",
       "                                            reg_lambda=0.0, silent=True,\n",
       "                                            subsample=1.0,\n",
       "                                            subsample_for_bin=200000,\n",
       "                                            subsample_freq=0),\n",
       "                   iid='warn', n_iter=10, n_jobs=None,\n",
       "                   param_distributions={'max_depth': [-1, 20, 40, 60, 100],\n",
       "                                        'min_data_in_leaf': [5, 10, 20, 30, 50,\n",
       "                                                             100],\n",
       "                                        'num_leaves': [10, 20, 30, 40, 50]},\n",
       "                   pre_dispatch='2*n_jobs', random_state=None, refit=True,\n",
       "                   return_train_score=False,\n",
       "                   scoring=make_scorer(fbeta_score, beta=2), verbose=0)"
      ]
     },
     "execution_count": 31,
     "metadata": {},
     "output_type": "execute_result"
    }
   ],
   "source": [
    "# # coarse to fine tuning\n",
    "# # parameter tuning guideline from: https://lightgbm.readthedocs.io/en/latest/Parameters-Tuning.html\n",
    "\n",
    "# # Step 1 - coarse\n",
    "# parameters = {'num_leaves': [10,20,30,40,50], 'min_data_in_leaf': [5, 10, 20, 30, 50, 100],'max_depth': [-1, 20, 40, 60, 100]}\n",
    "\n",
    "# lgb_fit = model_selection.RandomizedSearchCV(lgb.LGBMClassifier(), parameters, scoring =  f2_scorer,\n",
    "#                                    cv = model_selection.StratifiedKFold(n_splits = 10, shuffle = True, random_state = 2019))\n",
    "    \n",
    "# lgb_fit.fit(X_resampled, y_resampled)\n",
    "# print('best score:', lgb_fit.best_score_)\n",
    "# print('best parameters: ', lgb_fit.best_params_)\n",
    "\n",
    "# # results\n",
    "# # best score: 0.8970572554385997\n",
    "# # best parameters:  {'num_leaves': 10, 'min_data_in_leaf': 30, 'max_depth': -1}\n",
    "\n",
    "# # Step 2 - fine\n",
    "# # parameters = {'num_leaves': [30,50,70,90], 'min_data_in_leaf': [10,20,30,40],'max_depth': [100,120,140,160]}\n",
    "\n",
    "# # lgb_fit = model_selection.RandomizedSearchCV(lgb.LGBMClassifier(), parameters, scoring =  f2_scorer,\n",
    "# #                                    cv = model_selection.StratifiedKFold(n_splits = 10, shuffle = True, random_state = 2019))\n",
    "    \n",
    "# # lgb_fit.fit(X_train, y_train)\n",
    "# # print('best score:', lgb_fit.best_score_)\n",
    "# # print('best parameters: ', lgb_fit.best_params_)\n",
    "# # best score: 0.42790358761961755\n",
    "# # best parameters:  {'num_leaves': 90, 'min_data_in_leaf': 10, 'max_depth': 160}\n",
    "\n",
    "# # Note: to use step 1 tuning as it generate better score"
   ]
  },
  {
   "cell_type": "markdown",
   "metadata": {},
   "source": [
    "<b> Light Gradient Boosting Model"
   ]
  },
  {
   "cell_type": "code",
   "execution_count": 33,
   "metadata": {},
   "outputs": [
    {
     "name": "stdout",
     "output_type": "stream",
     "text": [
      "[500]\tvalid_0's binary_logloss: 0.288504\n",
      "[1000]\tvalid_0's binary_logloss: 0.290441\n",
      "[1500]\tvalid_0's binary_logloss: 0.295249\n",
      "[2000]\tvalid_0's binary_logloss: 0.300176\n",
      "[2500]\tvalid_0's binary_logloss: 0.305559\n",
      "[3000]\tvalid_0's binary_logloss: 0.310895\n"
     ]
    },
    {
     "data": {
      "text/plain": [
       "LGBMClassifier(boosting_type='dart', class_weight=None, colsample_bytree=1.0,\n",
       "               importance_type='split', learning_rate=0.04, max_depth=-1,\n",
       "               min_child_samples=20, min_child_weight=0.001,\n",
       "               min_data_in_leaf=30, min_split_gain=0.0, n_estimators=3200,\n",
       "               n_jobs=-1, num_leaves=10, objective=None, random_state=None,\n",
       "               reg_alpha=0.0, reg_lambda=0.0, silent=True, subsample=1.0,\n",
       "               subsample_for_bin=200000, subsample_freq=0)"
      ]
     },
     "execution_count": 33,
     "metadata": {},
     "output_type": "execute_result"
    }
   ],
   "source": [
    "lgb_c = lgb.LGBMClassifier(learning_rate = 0.04, n_estimators = 3200, boosting_type = 'dart', num_leaves = 10, min_data_in_leaf = 30, max_depth = -1)\n",
    "lgb_c.fit(X_resampled, y_resampled,\n",
    "          eval_set = [(X_val, y_val)],\n",
    "          eval_metric = None,\n",
    "          verbose = 500)"
   ]
  },
  {
   "cell_type": "markdown",
   "metadata": {},
   "source": [
    "<b> Prediction with Validation Data (LGB) "
   ]
  },
  {
   "cell_type": "code",
   "execution_count": 65,
   "metadata": {},
   "outputs": [
    {
     "name": "stdout",
     "output_type": "stream",
     "text": [
      "Training score is 0.9941587378056125\n",
      "Validation score is 0.9692286075593649\n",
      "Recall: 0.4232558139534884\n",
      "Precision: 0.639943741209564\n",
      "Accuracy: 0.9692286075593649\n",
      "f1: 0.509518477043673\n",
      "f2: 0.4540011973657953 \n",
      "\n",
      "Classification Score\n",
      "              precision    recall  f1-score   support\n",
      "\n",
      "           0       0.98      0.99      0.98     27393\n",
      "           1       0.64      0.42      0.51      1075\n",
      "\n",
      "   micro avg       0.97      0.97      0.97     28468\n",
      "   macro avg       0.81      0.71      0.75     28468\n",
      "weighted avg       0.96      0.97      0.97     28468\n",
      "\n",
      "Confusion Matrix\n",
      "[[27137   256]\n",
      " [  620   455]]\n"
     ]
    }
   ],
   "source": [
    "print_score(lgb_c, X_val, y_val)"
   ]
  },
  {
   "cell_type": "code",
   "execution_count": 34,
   "metadata": {
    "colab": {},
    "colab_type": "code",
    "id": "pAbOXVBUFoh_",
    "outputId": "654f9ba7-b69c-4049-d9e8-2c905072d309"
   },
   "outputs": [
    {
     "name": "stdout",
     "output_type": "stream",
     "text": [
      "                           feature  importance\n",
      "3                 timeonsite_today        5555\n",
      "2                  pageviews_today        4462\n",
      "1                       hits_today        2312\n",
      "715          country_United States        1496\n",
      "1151  operatingsystem_b'Macintosh'        1027\n",
      "8                          hits_st         863\n",
      "17                   timeonsite_lt         850\n",
      "15                         hits_lt         817\n",
      "31        channelgrouping_Referral         704\n",
      "10                   timeonsite_st         672\n"
     ]
    }
   ],
   "source": [
    "lgb_importance= pd.DataFrame.from_dict({'feature':list(X.columns), 'importance': lgb_c.feature_importances_ })\n",
    "print(lgb_importance.sort_values('importance',ascending=False).head(10))"
   ]
  },
  {
   "cell_type": "markdown",
   "metadata": {
    "colab_type": "text",
    "id": "2QmmuDJ0FoiA"
   },
   "source": [
    "### Precision Recall Chart - Validation Data"
   ]
  },
  {
   "cell_type": "code",
   "execution_count": 43,
   "metadata": {
    "colab": {},
    "colab_type": "code",
    "id": "s1qGONSGFoiA"
   },
   "outputs": [],
   "source": [
    "lr_proba_val=lr.predict_proba(X_val)[:, 1]\n",
    "rf_proba_val=rf.predict_proba(X_val)[:, 1]\n",
    "ab_proba_val=ab.predict_proba(X_val)[:, 1]\n",
    "nn_proba_val=nn.predict_proba(X_val)[:, 1]\n",
    "lgb_proba_val=lgb_c.predict_proba(X_val, num_iteration=lgb_c.best_iteration_)[:,1]"
   ]
  },
  {
   "cell_type": "code",
   "execution_count": 44,
   "metadata": {
    "colab": {},
    "colab_type": "code",
    "id": "yKutTa7KFoiC",
    "outputId": "342da430-1bf4-40fb-8e22-451b8438057f"
   },
   "outputs": [
    {
     "data": {
      "image/png": "[encoded data removed]",
      "text/plain": [
       "<Figure size 432x288 with 1 Axes>"
      ]
     },
     "metadata": {
      "needs_background": "light"
     },
     "output_type": "display_data"
    },
    {
     "data": {
      "image/png": "[encoded data removed]",
      "text/plain": [
       "<Figure size 432x288 with 1 Axes>"
      ]
     },
     "metadata": {
      "needs_background": "light"
     },
     "output_type": "display_data"
    }
   ],
   "source": [
    "from inspect import signature\n",
    "\n",
    "lr_precision, lr_recall, _ = metrics.precision_recall_curve(y_val, lr_proba_val)\n",
    "rf_precision, rf_recall, _ = metrics.precision_recall_curve(y_val, rf_proba_val)\n",
    "ab_precision, ab_recall, _ = metrics.precision_recall_curve(y_val, ab_proba_val)\n",
    "nn_precision, nn_recall, _ = metrics.precision_recall_curve(y_val, nn_proba_val)\n",
    "lgb_precision, lgb_recall, _ = metrics.precision_recall_curve(y_val, lgb_proba_val)\n",
    "\n",
    "step_kwargs = ({'step': 'post'}\n",
    "                   if 'step' in signature(plt.fill_between).parameters\n",
    "                   else {})\n",
    "plt.step(lr_recall, lr_precision, color='blue', alpha=0.7, where='post', label='Logistic')\n",
    "plt.step(rf_recall, rf_precision, color='red', alpha=0.7, where='post', label='Random Forest')\n",
    "plt.step(ab_recall, ab_precision, color='green', alpha=0.7, where='post', label='AdaBoost')\n",
    "plt.step(nn_recall, nn_precision, color='orange', alpha=0.7, where='post', label='Neural Network')\n",
    "plt.step(lgb_recall, lgb_precision, color='cyan', alpha=0.7, where='post', label='LightGBM')\n",
    "plt.xlabel('Recall')\n",
    "plt.ylabel('Precision')\n",
    "plt.ylim([0.0, 1.05])\n",
    "plt.xlim([0.0, 1.0])\n",
    "plt.title('Precision-Recall curve for Validation Data')\n",
    "plt.legend(loc='best')\n",
    "plt.show()\n",
    "\n",
    "fpr_lr, tpr_lr, _ = roc_curve(y_val, lr_proba_val)\n",
    "fpr_rf, tpr_rf, _ = roc_curve(y_val, rf_proba_val)\n",
    "fpr_ab, tpr_ab, _ = roc_curve(y_val, ab_proba_val)\n",
    "fpr_nn, tpr_nn, _ = roc_curve(y_val, nn_proba_val)\n",
    "fpr_lgb, tpr_lgb, _ = roc_curve(y_val, lgb_proba_val)\n",
    "\n",
    "plt.figure(1)\n",
    "plt.plot([0, 1], [0, 1], 'k--')\n",
    "plt.plot(fpr_lr, tpr_lr, label='Logistic',color='blue', alpha=0.7)\n",
    "plt.plot(fpr_rf, tpr_rf, label='Random Forest',color='red', alpha=0.7)\n",
    "plt.plot(fpr_ab, tpr_ab, label='AdaBoost',color='green', alpha=0.7)\n",
    "plt.plot(fpr_nn, tpr_nn, label='Neural Network',color='orange', alpha=0.7)\n",
    "plt.plot(fpr_lgb, tpr_lgb, label='LightGBM',color='cyan', alpha=0.7)\n",
    "plt.xlabel('False positive rate')\n",
    "plt.ylabel('True positive rate')\n",
    "plt.title('ROC curve')\n",
    "plt.legend(loc='best')\n",
    "plt.show()"
   ]
  },
  {
   "cell_type": "markdown",
   "metadata": {},
   "source": [
    "# Model Comparison - Test Data"
   ]
  },
  {
   "cell_type": "markdown",
   "metadata": {},
   "source": [
    "<b> 1. Prediction with Test Data (Logistic Regression)"
   ]
  },
  {
   "cell_type": "code",
   "execution_count": 45,
   "metadata": {},
   "outputs": [
    {
     "name": "stdout",
     "output_type": "stream",
     "text": [
      "Logistic Regression\n",
      "Training score is 0.8541905855338691\n",
      "Validation score is 0.7741268994934684\n",
      "Recall: 0.893760539629005\n",
      "Precision: 0.137448132780083\n",
      "Accuracy: 0.7741268994934684\n",
      "f1: 0.23825578781748707\n",
      "f2: 0.42549775208734747 \n",
      "\n",
      "Classification Score\n",
      "              precision    recall  f1-score   support\n",
      "\n",
      "           0       0.99      0.77      0.87     28822\n",
      "           1       0.14      0.89      0.24      1186\n",
      "\n",
      "    accuracy                           0.77     30008\n",
      "   macro avg       0.57      0.83      0.55     30008\n",
      "weighted avg       0.96      0.77      0.84     30008\n",
      "\n",
      "Confusion Matrix\n",
      "[[22170  6652]\n",
      " [  126  1060]]\n"
     ]
    }
   ],
   "source": [
    "print ('Logistic Regression')\n",
    "print_score(lr, X_test, y_test)"
   ]
  },
  {
   "cell_type": "markdown",
   "metadata": {},
   "source": [
    "<b> 2. Prediction with Test Data (Random Forest)"
   ]
  },
  {
   "cell_type": "code",
   "execution_count": 46,
   "metadata": {},
   "outputs": [
    {
     "name": "stdout",
     "output_type": "stream",
     "text": [
      "Random Forest\n",
      "Training score is 0.9087256027554536\n",
      "Validation score is 0.8417088776326312\n",
      "Recall: 0.9215851602023609\n",
      "Precision: 0.19008695652173913\n",
      "Accuracy: 0.8417088776326312\n",
      "f1: 0.3151672433679354\n",
      "f2: 0.5207737754907567 \n",
      "\n",
      "Classification Score\n",
      "              precision    recall  f1-score   support\n",
      "\n",
      "           0       1.00      0.84      0.91     28822\n",
      "           1       0.19      0.92      0.32      1186\n",
      "\n",
      "    accuracy                           0.84     30008\n",
      "   macro avg       0.59      0.88      0.61     30008\n",
      "weighted avg       0.96      0.84      0.89     30008\n",
      "\n",
      "Confusion Matrix\n",
      "[[24165  4657]\n",
      " [   93  1093]]\n"
     ]
    }
   ],
   "source": [
    "print ('Random Forest')\n",
    "print_score(rf, X_test, y_test)"
   ]
  },
  {
   "cell_type": "markdown",
   "metadata": {},
   "source": [
    "<b> 3. Prediction with Test Data (Adaboost)"
   ]
  },
  {
   "cell_type": "code",
   "execution_count": 47,
   "metadata": {},
   "outputs": [
    {
     "name": "stdout",
     "output_type": "stream",
     "text": [
      "Adaboost\n",
      "Training score is 0.9443168771526981\n",
      "Validation score is 0.851139696081045\n",
      "Recall: 0.9190556492411467\n",
      "Precision: 0.19959714338033327\n",
      "Accuracy: 0.851139696081045\n",
      "f1: 0.32796750413720477\n",
      "f2: 0.5340519353258207 \n",
      "\n",
      "Classification Score\n",
      "              precision    recall  f1-score   support\n",
      "\n",
      "           0       1.00      0.85      0.92     28822\n",
      "           1       0.20      0.92      0.33      1186\n",
      "\n",
      "    accuracy                           0.85     30008\n",
      "   macro avg       0.60      0.88      0.62     30008\n",
      "weighted avg       0.96      0.85      0.89     30008\n",
      "\n",
      "Confusion Matrix\n",
      "[[24451  4371]\n",
      " [   96  1090]]\n"
     ]
    }
   ],
   "source": [
    "print ('Adaboost')\n",
    "print_score(ab, X_test, y_test)"
   ]
  },
  {
   "cell_type": "markdown",
   "metadata": {},
   "source": [
    "<b> 4. Prediction with Test Data (Neural Network)"
   ]
  },
  {
   "cell_type": "code",
   "execution_count": 50,
   "metadata": {},
   "outputs": [
    {
     "name": "stdout",
     "output_type": "stream",
     "text": [
      "Neural Network\n",
      "Training score is 0.9008802143130501\n",
      "Validation score is 0.7972873900293255\n",
      "Recall: 0.9300168634064081\n",
      "Precision: 0.15528649866253696\n",
      "Accuracy: 0.7972873900293255\n",
      "f1: 0.26613584268307394\n",
      "f2: 0.46551869671646834 \n",
      "\n",
      "Classification Score\n",
      "              precision    recall  f1-score   support\n",
      "\n",
      "           0       1.00      0.79      0.88     28822\n",
      "           1       0.16      0.93      0.27      1186\n",
      "\n",
      "    accuracy                           0.80     30008\n",
      "   macro avg       0.58      0.86      0.57     30008\n",
      "weighted avg       0.96      0.80      0.86     30008\n",
      "\n",
      "Confusion Matrix\n",
      "[[22822  6000]\n",
      " [   83  1103]]\n"
     ]
    }
   ],
   "source": [
    "print ('Neural Network')\n",
    "print_score(nn, X_test, y_test)"
   ]
  },
  {
   "cell_type": "markdown",
   "metadata": {},
   "source": [
    "<b> 5. Prediction with Validation Data (Light Gradient Boosting)"
   ]
  },
  {
   "cell_type": "code",
   "execution_count": 49,
   "metadata": {},
   "outputs": [
    {
     "name": "stdout",
     "output_type": "stream",
     "text": [
      "Light Gradient Boosting\n",
      "Training score is 0.9531190202831994\n",
      "Validation score is 0.8594374833377766\n",
      "Recall: 0.9089376053962901\n",
      "Precision: 0.20778720123361605\n",
      "Accuracy: 0.8594374833377766\n",
      "f1: 0.33824913711954824\n",
      "f2: 0.5426902939991946 \n",
      "\n",
      "Classification Score\n",
      "              precision    recall  f1-score   support\n",
      "\n",
      "           0       1.00      0.86      0.92     28822\n",
      "           1       0.21      0.91      0.34      1186\n",
      "\n",
      "    accuracy                           0.86     30008\n",
      "   macro avg       0.60      0.88      0.63     30008\n",
      "weighted avg       0.96      0.86      0.90     30008\n",
      "\n",
      "Confusion Matrix\n",
      "[[24712  4110]\n",
      " [  108  1078]]\n"
     ]
    }
   ],
   "source": [
    "print('Light Gradient Boosting')\n",
    "print_score(lgb_c, X_test, y_test)"
   ]
  },
  {
   "cell_type": "markdown",
   "metadata": {
    "colab_type": "text",
    "id": "AbCbKPZqFoiD"
   },
   "source": [
    "### Precision Recall Chart - Test Data"
   ]
  },
  {
   "cell_type": "code",
   "execution_count": 51,
   "metadata": {
    "colab": {},
    "colab_type": "code",
    "id": "3SGuBzeKFoiD"
   },
   "outputs": [],
   "source": [
    "lr_proba_test=lr.predict_proba(X_test)[:, 1]\n",
    "rf_proba_test=rf.predict_proba(X_test)[:, 1]\n",
    "ab_proba_test=ab.predict_proba(X_test)[:, 1]\n",
    "nn_proba_test=nn.predict_proba(X_test)[:, 1]\n",
    "lgb_proba_test=lgb_c.predict_proba(X_test, num_iteration=lgb_c.best_iteration_)[:,1]"
   ]
  },
  {
   "cell_type": "code",
   "execution_count": 52,
   "metadata": {
    "colab": {},
    "colab_type": "code",
    "id": "hgeSSG5mFoiE",
    "outputId": "86f8be0e-2c51-4090-aeb1-b31fbc2f8fa2"
   },
   "outputs": [
    {
     "data": {
      "image/png": "[encoded data removed]",
      "text/plain": [
       "<Figure size 432x288 with 1 Axes>"
      ]
     },
     "metadata": {
      "needs_background": "light"
     },
     "output_type": "display_data"
    },
    {
     "data": {
      "image/png": "[encoded data removed]",
      "text/plain": [
       "<Figure size 432x288 with 1 Axes>"
      ]
     },
     "metadata": {
      "needs_background": "light"
     },
     "output_type": "display_data"
    }
   ],
   "source": [
    "from inspect import signature\n",
    "\n",
    "lr_precision, lr_recall, _ = metrics.precision_recall_curve(y_test, lr_proba_test)\n",
    "rf_precision, rf_recall, _ = metrics.precision_recall_curve(y_test, rf_proba_test)\n",
    "ab_precision, ab_recall, _ = metrics.precision_recall_curve(y_test, ab_proba_test)\n",
    "nn_precision, nn_recall, _ = metrics.precision_recall_curve(y_test, nn_proba_test)\n",
    "lgb_precision, lgb_recall, _ = metrics.precision_recall_curve(y_test, lgb_proba_test)\n",
    "\n",
    "step_kwargs = ({'step': 'post'}\n",
    "                   if 'step' in signature(plt.fill_between).parameters\n",
    "                   else {})\n",
    "plt.step(lr_recall, lr_precision, color='blue', alpha=0.7, where='post', label='Logistic')\n",
    "plt.step(rf_recall, rf_precision, color='red', alpha=0.7, where='post', label='Random Forest')\n",
    "plt.step(ab_recall, ab_precision, color='green', alpha=0.7, where='post', label='AdaBoost')\n",
    "plt.step(nn_recall, nn_precision, color='orange', alpha=0.7, where='post', label='Neural Network')\n",
    "plt.step(lgb_recall, lgb_precision, color='cyan', alpha=0.7, where='post', label='LightGBM')\n",
    "plt.xlabel('Recall')\n",
    "plt.ylabel('Precision')\n",
    "plt.ylim([0.0, 1.05])\n",
    "plt.xlim([0.0, 1.0])\n",
    "plt.title('Precision-Recall curve for Test Data')\n",
    "plt.legend(loc='best')\n",
    "plt.show()\n",
    "\n",
    "fpr_lr, tpr_lr, _ = roc_curve(y_test, lr_proba_test)\n",
    "fpr_rf, tpr_rf, _ = roc_curve(y_test, rf_proba_test)\n",
    "fpr_ab, tpr_ab, _ = roc_curve(y_test, ab_proba_test)\n",
    "fpr_nn, tpr_nn, _ = roc_curve(y_test, nn_proba_test)\n",
    "fpr_lgb, tpr_lgb, _ = roc_curve(y_test, lgb_proba_test)\n",
    "\n",
    "plt.figure(1)\n",
    "plt.plot([0, 1], [0, 1], 'k--')\n",
    "plt.plot(fpr_lr, tpr_lr, label='Logistic',color='blue', alpha=0.7)\n",
    "plt.plot(fpr_rf, tpr_rf, label='Random Forest',color='red', alpha=0.7)\n",
    "plt.plot(fpr_ab, tpr_ab, label='AdaBoost',color='green', alpha=0.7)\n",
    "plt.plot(fpr_nn, tpr_nn, label='Neural Network',color='orange', alpha=0.7)\n",
    "plt.plot(fpr_lgb, tpr_lgb, label='LightGBM',color='cyan', alpha=0.7)\n",
    "plt.xlabel('False positive rate')\n",
    "plt.ylabel('True positive rate')\n",
    "plt.title('ROC curve')\n",
    "plt.legend(loc='best')\n",
    "plt.show()"
   ]
  },
  {
   "cell_type": "markdown",
   "metadata": {
    "colab_type": "text",
    "id": "t4KjrlUzFoiF"
   },
   "source": [
    "### Threshold Curves - Test Data"
   ]
  },
  {
   "cell_type": "code",
   "execution_count": 53,
   "metadata": {
    "colab": {},
    "colab_type": "code",
    "id": "ebYNYFBgFoiG"
   },
   "outputs": [],
   "source": [
    "def plot_prec_recall_vs_tresh(y_test, proba):\n",
    "    precisions, recalls, thresholds = metrics.precision_recall_curve(y_test, proba)\n",
    "    \n",
    "    plt.plot(thresholds, precisions[:-1], 'b--', label='precision')\n",
    "    plt.plot(thresholds, recalls[:-1], 'g--', label = 'recall')\n",
    "    plt.xlabel('Threshold')\n",
    "    plt.legend(loc='upper left')\n",
    "    plt.xlim([0,1.05])\n",
    "    plt.ylim([0,1.05])"
   ]
  },
  {
   "cell_type": "markdown",
   "metadata": {
    "colab_type": "text",
    "id": "K46I5qilFoiI"
   },
   "source": [
    "<b> Logistic Regression"
   ]
  },
  {
   "cell_type": "code",
   "execution_count": 54,
   "metadata": {
    "colab": {},
    "colab_type": "code",
    "id": "MS9fxDaTFoiI",
    "outputId": "1b4a5c8d-48b2-446a-ef2e-684ae358c003"
   },
   "outputs": [
    {
     "data": {
      "image/png": "[encoded data removed]",
      "text/plain": [
       "<Figure size 432x288 with 1 Axes>"
      ]
     },
     "metadata": {
      "needs_background": "light"
     },
     "output_type": "display_data"
    }
   ],
   "source": [
    "plot_prec_recall_vs_tresh(y_test, lr_proba_test)\n",
    "plt.show()"
   ]
  },
  {
   "cell_type": "markdown",
   "metadata": {
    "colab_type": "text",
    "id": "QgwJfzarFoiK"
   },
   "source": [
    "<b> Random Forest"
   ]
  },
  {
   "cell_type": "code",
   "execution_count": 55,
   "metadata": {
    "colab": {},
    "colab_type": "code",
    "id": "sF5BzYQuFoiK",
    "outputId": "f0bc22a8-a352-4ebe-f6f0-c8e7ab1c123e"
   },
   "outputs": [
    {
     "data": {
      "image/png": "[encoded data removed]",
      "text/plain": [
       "<Figure size 432x288 with 1 Axes>"
      ]
     },
     "metadata": {
      "needs_background": "light"
     },
     "output_type": "display_data"
    }
   ],
   "source": [
    "plot_prec_recall_vs_tresh(y_test, rf_proba_test)\n",
    "plt.show()"
   ]
  },
  {
   "cell_type": "markdown",
   "metadata": {
    "colab_type": "text",
    "id": "axQmzEV0FoiL"
   },
   "source": [
    "<b> Adaptive Boosting"
   ]
  },
  {
   "cell_type": "code",
   "execution_count": 56,
   "metadata": {
    "colab": {},
    "colab_type": "code",
    "id": "tMG3-kblFoiL",
    "outputId": "8ce6e811-0f56-4785-f639-1ba5b029719e"
   },
   "outputs": [
    {
     "data": {
      "image/png": "[encoded data removed]",
      "text/plain": [
       "<Figure size 432x288 with 1 Axes>"
      ]
     },
     "metadata": {
      "needs_background": "light"
     },
     "output_type": "display_data"
    }
   ],
   "source": [
    "plot_prec_recall_vs_tresh(y_test, ab_proba_test)\n",
    "plt.show()"
   ]
  },
  {
   "cell_type": "markdown",
   "metadata": {
    "colab_type": "text",
    "id": "CcJwKqjyFoiN"
   },
   "source": [
    "<b> Neural Network"
   ]
  },
  {
   "cell_type": "code",
   "execution_count": 57,
   "metadata": {
    "colab": {},
    "colab_type": "code",
    "id": "6Hd7xIzmFoiN",
    "outputId": "91b150db-bae0-49bf-a77e-e3abc53977ca"
   },
   "outputs": [
    {
     "data": {
      "image/png": "[encoded data removed]",
      "text/plain": [
       "<Figure size 432x288 with 1 Axes>"
      ]
     },
     "metadata": {
      "needs_background": "light"
     },
     "output_type": "display_data"
    }
   ],
   "source": [
    "plot_prec_recall_vs_tresh(y_test, nn_proba_test)\n",
    "plt.show()"
   ]
  },
  {
   "cell_type": "markdown",
   "metadata": {
    "colab_type": "text",
    "id": "r_wkgd7vFoiP"
   },
   "source": [
    "<b> Light GBM"
   ]
  },
  {
   "cell_type": "code",
   "execution_count": 58,
   "metadata": {
    "colab": {},
    "colab_type": "code",
    "id": "js-U1c08FoiQ",
    "outputId": "1d8c35e2-6c61-47fe-fd88-4c77c2f55630"
   },
   "outputs": [
    {
     "data": {
      "image/png": "[encoded data removed]",
      "text/plain": [
       "<Figure size 432x288 with 1 Axes>"
      ]
     },
     "metadata": {
      "needs_background": "light"
     },
     "output_type": "display_data"
    }
   ],
   "source": [
    "plot_prec_recall_vs_tresh(y_test, lgb_proba_test)\n",
    "plt.show()"
   ]
  },
  {
   "cell_type": "markdown",
   "metadata": {
    "colab_type": "text",
    "id": "iQ-CArDHFoiR"
   },
   "source": [
    "### Exporting Results"
   ]
  },
  {
   "cell_type": "markdown",
   "metadata": {
    "colab_type": "text",
    "id": "abRAmygdFoiR"
   },
   "source": [
    "<b> Feature Importance"
   ]
  },
  {
   "cell_type": "code",
   "execution_count": 59,
   "metadata": {
    "colab": {},
    "colab_type": "code",
    "id": "EbNJDt9PFoiR",
    "scrolled": true
   },
   "outputs": [],
   "source": [
    "lr_importance.to_csv('Feature_Importance_03_LR.csv')\n",
    "rf_importance.to_csv('Feature_Importance_03_RF.csv')\n",
    "ab_importance.to_csv('Feature_Importance_03_AB.csv')\n",
    "lgb_importance.to_csv('Feature_Importance_03_LGB.csv')"
   ]
  },
  {
   "cell_type": "markdown",
   "metadata": {
    "colab_type": "text",
    "id": "YQBaMzVVFoiT"
   },
   "source": [
    "<b> Results"
   ]
  },
  {
   "cell_type": "code",
   "execution_count": 60,
   "metadata": {
    "colab": {},
    "colab_type": "code",
    "id": "tVJVawY-FoiU"
   },
   "outputs": [],
   "source": [
    "combine_proba=pd.concat([pd.DataFrame(lr_proba_test, columns=['Logistic_Regression']).reset_index(),\n",
    "                         pd.DataFrame(rf_proba_test, columns=['Random_Forest']).reset_index(),\n",
    "                         pd.DataFrame(ab_proba_test, columns=['AdaBoost']).reset_index(),\n",
    "                         pd.DataFrame(nn_proba_test, columns=['Neural_Network']).reset_index(),\n",
    "                         pd.DataFrame(lgb_proba_test, columns=['Light_GBM']).reset_index()\n",
    "                        ], axis=1).drop('index', axis=1)"
   ]
  },
  {
   "cell_type": "code",
   "execution_count": 61,
   "metadata": {
    "colab": {},
    "colab_type": "code",
    "id": "-h8Kcv_qFoiW",
    "scrolled": true
   },
   "outputs": [],
   "source": [
    "combine_with_data=pd.concat([pd.DataFrame(X_test, columns=X.columns).reset_index(), \n",
    "                             pd.DataFrame(y_test).reset_index(), \n",
    "                             combine_proba.reset_index()], axis=1).drop('index', axis=1)"
   ]
  },
  {
   "cell_type": "code",
   "execution_count": 62,
   "metadata": {
    "colab": {},
    "colab_type": "code",
    "id": "6kG36rUoFoiX",
    "outputId": "41931abc-8ca3-4632-ae6e-f3ebc8f827bb"
   },
   "outputs": [
    {
     "data": {
      "text/html": [
       "<div>\n",
       "<style scoped>\n",
       "    .dataframe tbody tr th:only-of-type {\n",
       "        vertical-align: middle;\n",
       "    }\n",
       "\n",
       "    .dataframe tbody tr th {\n",
       "        vertical-align: top;\n",
       "    }\n",
       "\n",
       "    .dataframe thead th {\n",
       "        text-align: right;\n",
       "    }\n",
       "</style>\n",
       "<table border=\"1\" class=\"dataframe\">\n",
       "  <thead>\n",
       "    <tr style=\"text-align: right;\">\n",
       "      <th></th>\n",
       "      <th>sessions</th>\n",
       "      <th>hits_today</th>\n",
       "      <th>pageviews_today</th>\n",
       "      <th>timeonsite_today</th>\n",
       "      <th>bounces_today</th>\n",
       "      <th>newvisits_today</th>\n",
       "      <th>ismobile</th>\n",
       "      <th>visits_st</th>\n",
       "      <th>hits_st</th>\n",
       "      <th>pageviews_st</th>\n",
       "      <th>...</th>\n",
       "      <th>source_today_b'others'</th>\n",
       "      <th>source_today_b'partners'</th>\n",
       "      <th>source_today_b'youtube'</th>\n",
       "      <th>dataset</th>\n",
       "      <th>transactions_target</th>\n",
       "      <th>Logistic_Regression</th>\n",
       "      <th>Random_Forest</th>\n",
       "      <th>AdaBoost</th>\n",
       "      <th>Neural_Network</th>\n",
       "      <th>Light_GBM</th>\n",
       "    </tr>\n",
       "  </thead>\n",
       "  <tbody>\n",
       "    <tr>\n",
       "      <th>0</th>\n",
       "      <td>0.0</td>\n",
       "      <td>0.0</td>\n",
       "      <td>0.004292</td>\n",
       "      <td>0.122858</td>\n",
       "      <td>0.0</td>\n",
       "      <td>1.0</td>\n",
       "      <td>1.0</td>\n",
       "      <td>0.0</td>\n",
       "      <td>0.0</td>\n",
       "      <td>0.0</td>\n",
       "      <td>...</td>\n",
       "      <td>0.0</td>\n",
       "      <td>0.0</td>\n",
       "      <td>0.0</td>\n",
       "      <td>1.0</td>\n",
       "      <td>0</td>\n",
       "      <td>0.320612</td>\n",
       "      <td>0.217619</td>\n",
       "      <td>0.333917</td>\n",
       "      <td>0.168927</td>\n",
       "      <td>0.009435</td>\n",
       "    </tr>\n",
       "    <tr>\n",
       "      <th>1</th>\n",
       "      <td>0.0</td>\n",
       "      <td>0.0</td>\n",
       "      <td>0.004292</td>\n",
       "      <td>0.001648</td>\n",
       "      <td>0.0</td>\n",
       "      <td>1.0</td>\n",
       "      <td>1.0</td>\n",
       "      <td>0.0</td>\n",
       "      <td>0.0</td>\n",
       "      <td>0.0</td>\n",
       "      <td>...</td>\n",
       "      <td>0.0</td>\n",
       "      <td>0.0</td>\n",
       "      <td>0.0</td>\n",
       "      <td>1.0</td>\n",
       "      <td>0</td>\n",
       "      <td>0.003554</td>\n",
       "      <td>0.027539</td>\n",
       "      <td>0.270022</td>\n",
       "      <td>0.000455</td>\n",
       "      <td>0.000011</td>\n",
       "    </tr>\n",
       "    <tr>\n",
       "      <th>2</th>\n",
       "      <td>0.0</td>\n",
       "      <td>0.0</td>\n",
       "      <td>0.004292</td>\n",
       "      <td>0.000577</td>\n",
       "      <td>0.0</td>\n",
       "      <td>1.0</td>\n",
       "      <td>0.0</td>\n",
       "      <td>0.0</td>\n",
       "      <td>0.0</td>\n",
       "      <td>0.0</td>\n",
       "      <td>...</td>\n",
       "      <td>0.0</td>\n",
       "      <td>0.0</td>\n",
       "      <td>0.0</td>\n",
       "      <td>1.0</td>\n",
       "      <td>0</td>\n",
       "      <td>0.098982</td>\n",
       "      <td>0.110857</td>\n",
       "      <td>0.288719</td>\n",
       "      <td>0.026959</td>\n",
       "      <td>0.002938</td>\n",
       "    </tr>\n",
       "    <tr>\n",
       "      <th>3</th>\n",
       "      <td>0.0</td>\n",
       "      <td>0.0</td>\n",
       "      <td>0.004292</td>\n",
       "      <td>0.001071</td>\n",
       "      <td>0.0</td>\n",
       "      <td>1.0</td>\n",
       "      <td>0.0</td>\n",
       "      <td>0.0</td>\n",
       "      <td>0.0</td>\n",
       "      <td>0.0</td>\n",
       "      <td>...</td>\n",
       "      <td>0.0</td>\n",
       "      <td>0.0</td>\n",
       "      <td>0.0</td>\n",
       "      <td>1.0</td>\n",
       "      <td>0</td>\n",
       "      <td>0.070644</td>\n",
       "      <td>0.035571</td>\n",
       "      <td>0.286571</td>\n",
       "      <td>0.117803</td>\n",
       "      <td>0.001872</td>\n",
       "    </tr>\n",
       "    <tr>\n",
       "      <th>4</th>\n",
       "      <td>0.0</td>\n",
       "      <td>0.0</td>\n",
       "      <td>0.004292</td>\n",
       "      <td>0.006427</td>\n",
       "      <td>0.0</td>\n",
       "      <td>1.0</td>\n",
       "      <td>1.0</td>\n",
       "      <td>0.0</td>\n",
       "      <td>0.0</td>\n",
       "      <td>0.0</td>\n",
       "      <td>...</td>\n",
       "      <td>1.0</td>\n",
       "      <td>0.0</td>\n",
       "      <td>0.0</td>\n",
       "      <td>1.0</td>\n",
       "      <td>0</td>\n",
       "      <td>0.073303</td>\n",
       "      <td>0.161556</td>\n",
       "      <td>0.313365</td>\n",
       "      <td>0.041592</td>\n",
       "      <td>0.001625</td>\n",
       "    </tr>\n",
       "    <tr>\n",
       "      <th>5</th>\n",
       "      <td>0.0</td>\n",
       "      <td>0.0</td>\n",
       "      <td>0.004292</td>\n",
       "      <td>0.000082</td>\n",
       "      <td>0.0</td>\n",
       "      <td>1.0</td>\n",
       "      <td>0.0</td>\n",
       "      <td>0.0</td>\n",
       "      <td>0.0</td>\n",
       "      <td>0.0</td>\n",
       "      <td>...</td>\n",
       "      <td>0.0</td>\n",
       "      <td>0.0</td>\n",
       "      <td>0.0</td>\n",
       "      <td>1.0</td>\n",
       "      <td>0</td>\n",
       "      <td>0.020756</td>\n",
       "      <td>0.022837</td>\n",
       "      <td>0.269597</td>\n",
       "      <td>0.002097</td>\n",
       "      <td>0.000244</td>\n",
       "    </tr>\n",
       "    <tr>\n",
       "      <th>6</th>\n",
       "      <td>0.0</td>\n",
       "      <td>0.0</td>\n",
       "      <td>0.004292</td>\n",
       "      <td>0.003790</td>\n",
       "      <td>0.0</td>\n",
       "      <td>0.0</td>\n",
       "      <td>0.0</td>\n",
       "      <td>0.0</td>\n",
       "      <td>0.0</td>\n",
       "      <td>0.0</td>\n",
       "      <td>...</td>\n",
       "      <td>0.0</td>\n",
       "      <td>0.0</td>\n",
       "      <td>0.0</td>\n",
       "      <td>1.0</td>\n",
       "      <td>0</td>\n",
       "      <td>0.635904</td>\n",
       "      <td>0.145950</td>\n",
       "      <td>0.315284</td>\n",
       "      <td>0.147665</td>\n",
       "      <td>0.060274</td>\n",
       "    </tr>\n",
       "    <tr>\n",
       "      <th>7</th>\n",
       "      <td>0.0</td>\n",
       "      <td>0.0</td>\n",
       "      <td>0.004292</td>\n",
       "      <td>0.001401</td>\n",
       "      <td>0.0</td>\n",
       "      <td>1.0</td>\n",
       "      <td>1.0</td>\n",
       "      <td>0.0</td>\n",
       "      <td>0.0</td>\n",
       "      <td>0.0</td>\n",
       "      <td>...</td>\n",
       "      <td>0.0</td>\n",
       "      <td>0.0</td>\n",
       "      <td>0.0</td>\n",
       "      <td>1.0</td>\n",
       "      <td>0</td>\n",
       "      <td>0.135527</td>\n",
       "      <td>0.118673</td>\n",
       "      <td>0.304574</td>\n",
       "      <td>0.018556</td>\n",
       "      <td>0.001254</td>\n",
       "    </tr>\n",
       "    <tr>\n",
       "      <th>8</th>\n",
       "      <td>0.0</td>\n",
       "      <td>0.0</td>\n",
       "      <td>0.004292</td>\n",
       "      <td>0.015903</td>\n",
       "      <td>0.0</td>\n",
       "      <td>0.0</td>\n",
       "      <td>0.0</td>\n",
       "      <td>0.0</td>\n",
       "      <td>0.0</td>\n",
       "      <td>0.0</td>\n",
       "      <td>...</td>\n",
       "      <td>0.0</td>\n",
       "      <td>0.0</td>\n",
       "      <td>0.0</td>\n",
       "      <td>1.0</td>\n",
       "      <td>0</td>\n",
       "      <td>0.637634</td>\n",
       "      <td>0.446475</td>\n",
       "      <td>0.471754</td>\n",
       "      <td>0.332586</td>\n",
       "      <td>0.277161</td>\n",
       "    </tr>\n",
       "    <tr>\n",
       "      <th>9</th>\n",
       "      <td>0.0</td>\n",
       "      <td>0.0</td>\n",
       "      <td>0.004292</td>\n",
       "      <td>0.001401</td>\n",
       "      <td>0.0</td>\n",
       "      <td>1.0</td>\n",
       "      <td>0.0</td>\n",
       "      <td>0.0</td>\n",
       "      <td>0.0</td>\n",
       "      <td>0.0</td>\n",
       "      <td>...</td>\n",
       "      <td>0.0</td>\n",
       "      <td>0.0</td>\n",
       "      <td>0.0</td>\n",
       "      <td>1.0</td>\n",
       "      <td>0</td>\n",
       "      <td>0.595461</td>\n",
       "      <td>0.274467</td>\n",
       "      <td>0.458055</td>\n",
       "      <td>0.296773</td>\n",
       "      <td>0.346793</td>\n",
       "    </tr>\n",
       "  </tbody>\n",
       "</table>\n",
       "<p>10 rows × 1168 columns</p>\n",
       "</div>"
      ],
      "text/plain": [
       "   sessions  hits_today  pageviews_today  timeonsite_today  bounces_today  \\\n",
       "0       0.0         0.0         0.004292          0.122858            0.0   \n",
       "1       0.0         0.0         0.004292          0.001648            0.0   \n",
       "2       0.0         0.0         0.004292          0.000577            0.0   \n",
       "3       0.0         0.0         0.004292          0.001071            0.0   \n",
       "4       0.0         0.0         0.004292          0.006427            0.0   \n",
       "5       0.0         0.0         0.004292          0.000082            0.0   \n",
       "6       0.0         0.0         0.004292          0.003790            0.0   \n",
       "7       0.0         0.0         0.004292          0.001401            0.0   \n",
       "8       0.0         0.0         0.004292          0.015903            0.0   \n",
       "9       0.0         0.0         0.004292          0.001401            0.0   \n",
       "\n",
       "   newvisits_today  ismobile  visits_st  hits_st  pageviews_st  ...  \\\n",
       "0              1.0       1.0        0.0      0.0           0.0  ...   \n",
       "1              1.0       1.0        0.0      0.0           0.0  ...   \n",
       "2              1.0       0.0        0.0      0.0           0.0  ...   \n",
       "3              1.0       0.0        0.0      0.0           0.0  ...   \n",
       "4              1.0       1.0        0.0      0.0           0.0  ...   \n",
       "5              1.0       0.0        0.0      0.0           0.0  ...   \n",
       "6              0.0       0.0        0.0      0.0           0.0  ...   \n",
       "7              1.0       1.0        0.0      0.0           0.0  ...   \n",
       "8              0.0       0.0        0.0      0.0           0.0  ...   \n",
       "9              1.0       0.0        0.0      0.0           0.0  ...   \n",
       "\n",
       "   source_today_b'others'  source_today_b'partners'  source_today_b'youtube'  \\\n",
       "0                     0.0                       0.0                      0.0   \n",
       "1                     0.0                       0.0                      0.0   \n",
       "2                     0.0                       0.0                      0.0   \n",
       "3                     0.0                       0.0                      0.0   \n",
       "4                     1.0                       0.0                      0.0   \n",
       "5                     0.0                       0.0                      0.0   \n",
       "6                     0.0                       0.0                      0.0   \n",
       "7                     0.0                       0.0                      0.0   \n",
       "8                     0.0                       0.0                      0.0   \n",
       "9                     0.0                       0.0                      0.0   \n",
       "\n",
       "   dataset  transactions_target  Logistic_Regression  Random_Forest  AdaBoost  \\\n",
       "0      1.0                    0             0.320612       0.217619  0.333917   \n",
       "1      1.0                    0             0.003554       0.027539  0.270022   \n",
       "2      1.0                    0             0.098982       0.110857  0.288719   \n",
       "3      1.0                    0             0.070644       0.035571  0.286571   \n",
       "4      1.0                    0             0.073303       0.161556  0.313365   \n",
       "5      1.0                    0             0.020756       0.022837  0.269597   \n",
       "6      1.0                    0             0.635904       0.145950  0.315284   \n",
       "7      1.0                    0             0.135527       0.118673  0.304574   \n",
       "8      1.0                    0             0.637634       0.446475  0.471754   \n",
       "9      1.0                    0             0.595461       0.274467  0.458055   \n",
       "\n",
       "   Neural_Network  Light_GBM  \n",
       "0        0.168927   0.009435  \n",
       "1        0.000455   0.000011  \n",
       "2        0.026959   0.002938  \n",
       "3        0.117803   0.001872  \n",
       "4        0.041592   0.001625  \n",
       "5        0.002097   0.000244  \n",
       "6        0.147665   0.060274  \n",
       "7        0.018556   0.001254  \n",
       "8        0.332586   0.277161  \n",
       "9        0.296773   0.346793  \n",
       "\n",
       "[10 rows x 1168 columns]"
      ]
     },
     "execution_count": 62,
     "metadata": {},
     "output_type": "execute_result"
    }
   ],
   "source": [
    "combine_with_data.head(10)"
   ]
  },
  {
   "cell_type": "code",
   "execution_count": 63,
   "metadata": {
    "colab": {},
    "colab_type": "code",
    "id": "5qDoOBKmFoiY"
   },
   "outputs": [],
   "source": [
    "combine_with_data.to_csv('Result_03_No_FE.csv')"
   ]
  },
  {
   "cell_type": "markdown",
   "metadata": {
    "colab_type": "text",
    "id": "G6phobJcFoiZ"
   },
   "source": [
    "<b> Save Model"
   ]
  },
  {
   "cell_type": "code",
   "execution_count": 64,
   "metadata": {
    "colab": {},
    "colab_type": "code",
    "id": "KsmPBiVSFoiZ"
   },
   "outputs": [],
   "source": [
    "import pickle\n",
    "\n",
    "with open('LR_03.pkl', 'wb') as file:  \n",
    "    pickle.dump(lr, file)\n",
    "    \n",
    "with open('RF_03.pkl', 'wb') as file:  \n",
    "    pickle.dump(rf, file)\n",
    "    \n",
    "with open('AB_03.pkl', 'wb') as file:  \n",
    "    pickle.dump(ab, file)\n",
    "    \n",
    "with open('NN_03.pkl', 'wb') as file:  \n",
    "    pickle.dump(ab, file)\n",
    "\n",
    "with open('LightGBM_03.pkl', 'wb') as file:  \n",
    "    pickle.dump(lgb_c, file)"
   ]
  }
 ],
 "metadata": {
  "colab": {
   "name": "02 - Combine No further feature engineering.ipynb",
   "provenance": [],
   "version": "0.3.2"
  },
  "kernelspec": {
   "display_name": "Python 3",
   "language": "python",
   "name": "python3"
  },
  "language_info": {
   "codemirror_mode": {
    "name": "ipython",
    "version": 3
   },
   "file_extension": ".py",
   "mimetype": "text/x-python",
   "name": "python",
   "nbconvert_exporter": "python",
   "pygments_lexer": "ipython3",
   "version": "3.7.3"
  },
  "varInspector": {
   "cols": {
    "lenName": 16,
    "lenType": 16,
    "lenVar": 40
   },
   "kernels_config": {
    "python": {
     "delete_cmd_postfix": "",
     "delete_cmd_prefix": "del ",
     "library": "var_list.py",
     "varRefreshCmd": "print(var_dic_list())"
    },
    "r": {
     "delete_cmd_postfix": ") ",
     "delete_cmd_prefix": "rm(",
     "library": "var_list.r",
     "varRefreshCmd": "cat(var_dic_list()) "
    }
   },
   "oldHeight": 170,
   "position": {
    "height": "192px",
    "left": "1433px",
    "right": "20px",
    "top": "192px",
    "width": "486px"
   },
   "types_to_exclude": [
    "module",
    "function",
    "builtin_function_or_method",
    "instance",
    "_Feature"
   ],
   "varInspector_section_display": "block",
   "window_display": false
  }
 },
 "nbformat": 4,
 "nbformat_minor": 1
}
