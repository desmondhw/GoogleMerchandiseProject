{
 "cells": [
  {
   "cell_type": "markdown",
   "metadata": {
    "colab_type": "text",
    "id": "4icf104dFogA"
   },
   "source": [
    "### Import Library and Data"
   ]
  },
  {
   "cell_type": "code",
   "execution_count": 8,
   "metadata": {
    "ExecuteTime": {
     "end_time": "2019-07-31T02:41:02.643370Z",
     "start_time": "2019-07-31T02:41:01.372341Z"
    },
    "colab": {},
    "colab_type": "code",
    "id": "S7gOjgCXFogC"
   },
   "outputs": [],
   "source": [
    "import pandas as pd\n",
    "import matplotlib.pyplot as plt\n",
    "import seaborn as sns\n",
    "import numpy as np\n",
    "import seaborn as sns\n",
    "from patsy import dmatrices\n",
    "import statsmodels.api as sm\n",
    "from statsmodels.stats.outliers_influence import variance_inflation_factor\n",
    "from scipy import stats\n",
    "from sklearn import tree\n",
    "from sklearn.metrics import accuracy_score , confusion_matrix , mean_squared_error\n",
    "from sklearn import preprocessing\n",
    "from sklearn.preprocessing import LabelEncoder\n",
    "from sklearn.preprocessing import OneHotEncoder\n",
    "from sklearn.linear_model import LogisticRegression\n",
    "from sklearn.metrics import make_scorer, classification_report, confusion_matrix, roc_curve, roc_auc_score, precision_score, recall_score, f1_score\n",
    "from sklearn import linear_model, tree, metrics, model_selection, exceptions, ensemble, metrics\n",
    "from sklearn.metrics import fbeta_score"
   ]
  },
  {
   "cell_type": "code",
   "execution_count": 9,
   "metadata": {
    "ExecuteTime": {
     "end_time": "2019-07-31T02:41:03.335782Z",
     "start_time": "2019-07-31T02:41:02.645175Z"
    },
    "colab": {},
    "colab_type": "code",
    "id": "t2au2fBUFogF"
   },
   "outputs": [],
   "source": [
    "data_train = pd.read_csv(\"Data/train_validation_dataset.csv\")\n",
    "data_test = pd.read_csv(\"Data/test_dataset.csv\")"
   ]
  },
  {
   "cell_type": "markdown",
   "metadata": {},
   "source": [
    "<b> Note: EDA in notebook `Data_Extraction_and_Exploratory_Data_Analysis`"
   ]
  },
  {
   "cell_type": "markdown",
   "metadata": {
    "colab_type": "text",
    "id": "H8rKaIFmFogc"
   },
   "source": [
    "### Combining train and test data for pre-processing"
   ]
  },
  {
   "cell_type": "code",
   "execution_count": 10,
   "metadata": {
    "ExecuteTime": {
     "end_time": "2019-07-31T02:41:03.368204Z",
     "start_time": "2019-07-31T02:41:03.363270Z"
    },
    "colab": {},
    "colab_type": "code",
    "id": "zOuclHr1Fogc"
   },
   "outputs": [
    {
     "name": "stdout",
     "output_type": "stream",
     "text": [
      "(124900, 40)\n"
     ]
    }
   ],
   "source": [
    "# concatenating train and test set for pre-processing\n",
    "# add a column to label train and test data, where train=0, test=1.\n",
    "\n",
    "data_train['dataset'] = 0\n",
    "data_test['dataset'] = 1\n",
    "data = pd.concat([data_train, data_test])\n",
    "print(data.shape)"
   ]
  },
  {
   "cell_type": "markdown",
   "metadata": {
    "colab_type": "text",
    "id": "hY-vTth-Fogp"
   },
   "source": [
    "<b> Pre-processing"
   ]
  },
  {
   "cell_type": "code",
   "execution_count": 11,
   "metadata": {
    "ExecuteTime": {
     "end_time": "2019-07-31T02:41:04.736798Z",
     "start_time": "2019-07-31T02:41:03.942294Z"
    },
    "colab": {},
    "colab_type": "code",
    "id": "ZAxRwsQrFogp"
   },
   "outputs": [],
   "source": [
    "# Change date column\n",
    "from datetime import datetime\n",
    "date = data['date']\n",
    "data['date'] = pd.to_datetime(date).dt.strftime('%m/%Y')\n",
    "\n",
    "# replace field that's entirely space (or empty) with NaN.\n",
    "data = data.replace(r'^\\s*$', 'NA', regex=True)\n",
    "\n",
    "# impute missing values NaN with 0.\n",
    "data = data.replace(np.nan, 0)"
   ]
  },
  {
   "cell_type": "code",
   "execution_count": 12,
   "metadata": {
    "ExecuteTime": {
     "end_time": "2019-07-31T02:41:12.473258Z",
     "start_time": "2019-07-31T02:41:12.335373Z"
    },
    "colab": {},
    "colab_type": "code",
    "id": "wC1-m5l1Fogw"
   },
   "outputs": [],
   "source": [
    "data = data.drop(['fullvisitorid', 'Unnamed: 0'], axis=1)"
   ]
  },
  {
   "cell_type": "markdown",
   "metadata": {},
   "source": [
    "<b> Topic Modeling on keyword_today column"
   ]
  },
  {
   "cell_type": "code",
   "execution_count": 13,
   "metadata": {
    "scrolled": true
   },
   "outputs": [
    {
     "name": "stderr",
     "output_type": "stream",
     "text": [
      "C:\\Users\\evelyn\\Anaconda3\\lib\\site-packages\\sklearn\\feature_extraction\\text.py:300: UserWarning: Your stop_words may be inconsistent with your preprocessing. Tokenizing the stop words generated tokens [\"'d\", \"'ll\", \"'re\", \"'s\", \"'ve\", 'could', 'doe', 'ha', 'might', 'must', \"n't\", 'need', 'sha', 'wa', 'wo', 'would'] not in stop_words.\n",
      "  'stop_words.' % sorted(inconsistent))\n"
     ]
    }
   ],
   "source": [
    "import operator\n",
    "from sklearn import datasets, feature_extraction, naive_bayes, metrics\n",
    "import nltk\n",
    "from nltk.stem import WordNetLemmatizer \n",
    "from nltk import word_tokenize \n",
    "\n",
    "class LemmaTokenizer(object):\n",
    "    def __init__(self):\n",
    "        self.wnl = WordNetLemmatizer()\n",
    "    def __call__(self, articles):\n",
    "        return [self.wnl.lemmatize(t) for t in word_tokenize(articles)]\n",
    "\n",
    "all_stopwords = nltk.corpus.stopwords.words('english')\n",
    "all_stopwords+=['provided','www','com','https','(',')','0', '1hzbaqlcbjwfgoh7', '1x4me6zknv0zg-jv','6qehscssdk0z36ri',':','http']\n",
    "\n",
    "\n",
    "count_vectorizer = feature_extraction.text.CountVectorizer(lowercase = True, stop_words=all_stopwords\n",
    "                                                           ,token_pattern = '[a-z]+$',tokenizer = LemmaTokenizer(),\n",
    "                                                           min_df=0.00005)\n",
    "\n",
    "x1 = count_vectorizer.fit_transform(data['keyword_today'].apply(str))\n",
    "vocab = count_vectorizer.get_feature_names()"
   ]
  },
  {
   "cell_type": "code",
   "execution_count": 14,
   "metadata": {
    "scrolled": true
   },
   "outputs": [
    {
     "data": {
      "text/plain": [
       "['+backpack',\n",
       " '+gear',\n",
       " '+google',\n",
       " '+google+tshirts',\n",
       " '+merch',\n",
       " '+merchandise',\n",
       " '+products',\n",
       " '+store',\n",
       " '+stores',\n",
       " '+swag',\n",
       " '+youtube',\n",
       " '//www.googlemerchandisestore.com/',\n",
       " 'backpack',\n",
       " 'bag',\n",
       " 'buy',\n",
       " 'company',\n",
       " 'free',\n",
       " 'gear',\n",
       " 'google',\n",
       " 'hoodie',\n",
       " 'india',\n",
       " 'lamp',\n",
       " 'lava',\n",
       " 'logo',\n",
       " 'merch',\n",
       " 'merchandise',\n",
       " 'online',\n",
       " 'pen',\n",
       " 'remarketing/content',\n",
       " 'shirt',\n",
       " 'shop',\n",
       " 'sticker',\n",
       " 'store',\n",
       " 't-shirt',\n",
       " 'targeting',\n",
       " 'tshirt',\n",
       " 'tube',\n",
       " 'youtube']"
      ]
     },
     "execution_count": 14,
     "metadata": {},
     "output_type": "execute_result"
    }
   ],
   "source": [
    "vocab"
   ]
  },
  {
   "cell_type": "code",
   "execution_count": 15,
   "metadata": {
    "scrolled": true
   },
   "outputs": [],
   "source": [
    "import numpy as np\n",
    "from sklearn import datasets, feature_extraction, decomposition\n",
    "\n",
    "n, m = x1.shape"
   ]
  },
  {
   "cell_type": "code",
   "execution_count": 19,
   "metadata": {},
   "outputs": [],
   "source": [
    "lda_scores = []\n",
    "my_range = range(2, 15)\n",
    "for num_clusters in my_range:\n",
    "    lda = decomposition.LatentDirichletAllocation(n_components = num_clusters, random_state = 2018)\n",
    "    lda.fit_transform(x1)\n",
    "    lda_scores.append(lda.score(x1))"
   ]
  },
  {
   "cell_type": "code",
   "execution_count": 20,
   "metadata": {},
   "outputs": [
    {
     "data": {
      "image/png": "[encoded data removed]",
      "text/plain": [
       "<Figure size 432x288 with 1 Axes>"
      ]
     },
     "metadata": {
      "needs_background": "light"
     },
     "output_type": "display_data"
    }
   ],
   "source": [
    "plt.plot(my_range, lda_scores,'b-o')\n",
    "plt.xlabel(\"k\")\n",
    "plt.ylabel(\"log-likelihood\")\n",
    "plt.title('log-likelihood for LDA')\n",
    "plt.show()"
   ]
  },
  {
   "cell_type": "code",
   "execution_count": 21,
   "metadata": {},
   "outputs": [],
   "source": [
    "k = 5\n",
    "lda = decomposition.LatentDirichletAllocation(n_components = k, random_state = 2019)\n",
    "xtr = lda.fit_transform(x1)"
   ]
  },
  {
   "cell_type": "code",
   "execution_count": 22,
   "metadata": {
    "scrolled": true
   },
   "outputs": [
    {
     "name": "stdout",
     "output_type": "stream",
     "text": [
      "topic 1\n",
      "    0.9945203625802006 targeting\n",
      "    0.9945203625802006 remarketing/content\n",
      "    0.9702158198518328 online\n",
      "    0.9618170265362331 +stores\n",
      "    0.9331379386668366 bag\n",
      "topic 2\n",
      "    0.9578926103601896 sticker\n",
      "    0.7065017277472015 t-shirt\n",
      "    0.661241181195373 merch\n",
      "    0.5709165733314419 shirt\n",
      "    0.4809585280755769 tshirt\n",
      "topic 3\n",
      "    0.9983658048077472 +google\n",
      "    0.9970351855654251 +merchandise\n",
      "    0.9964280175667923 +store\n",
      "    0.9777586477331959 +products\n",
      "    0.9732524419821073 tube\n",
      "topic 4\n",
      "    0.9974745399753018 youtube\n",
      "    0.9817914694197615 +youtube\n",
      "    0.9679953519436963 //www.googlemerchandisestore.com/\n",
      "    0.9427631239197186 india\n",
      "    0.9196159381432712 hoodie\n",
      "topic 5\n",
      "    0.9995591493144887 merchandise\n",
      "    0.9992959436241021 store\n",
      "    0.8560119397268657 google\n",
      "    0.07993879123853544 shop\n",
      "    0.025384215060620503 company\n"
     ]
    }
   ],
   "source": [
    "topic_word = lda.components_\n",
    "for j in range(m):\n",
    "    topic_word[:, j] /= sum(topic_word[:,j])\n",
    "for i in range(k):\n",
    "    prob_j = []\n",
    "    for j in range(m):\n",
    "        prob_j.append((topic_word[i,j], j))\n",
    "    \n",
    "    prob_sorted = sorted(prob_j,reverse = True)\n",
    "    print('topic', i+1)\n",
    "    for j in range(5):\n",
    "        print('   ', prob_sorted[j][0], vocab[prob_sorted[j][1]])"
   ]
  },
  {
   "cell_type": "code",
   "execution_count": 23,
   "metadata": {},
   "outputs": [],
   "source": [
    "topic_cluster=pd.DataFrame(xtr, columns=['topic1', 'topic2','topic3', 'topic4','topic5'])"
   ]
  },
  {
   "cell_type": "code",
   "execution_count": 24,
   "metadata": {},
   "outputs": [],
   "source": [
    "data=pd.concat([data.reset_index(), topic_cluster.reset_index()], axis=1).drop(['index','keyword_today'], axis=1)"
   ]
  },
  {
   "cell_type": "markdown",
   "metadata": {
    "colab_type": "text",
    "id": "xNtGqXLrFogx"
   },
   "source": [
    "<b> Transformations - Encode Categorical Data "
   ]
  },
  {
   "cell_type": "code",
   "execution_count": 25,
   "metadata": {
    "ExecuteTime": {
     "end_time": "2019-07-31T02:41:12.909049Z",
     "start_time": "2019-07-31T02:41:12.481460Z"
    },
    "colab": {},
    "colab_type": "code",
    "id": "loiUSkPtFogz",
    "outputId": "8ba39aba-b271-4fd5-dc40-2b5b43d70110",
    "scrolled": false
   },
   "outputs": [
    {
     "name": "stdout",
     "output_type": "stream",
     "text": [
      "date                 4\n",
      "channelgrouping      8\n",
      "campaign_today       5\n",
      "medium_today         7\n",
      "adcontent_today     24\n",
      "devicecategory       3\n",
      "continent            6\n",
      "subcontinent        23\n",
      "country            186\n",
      "metro               71\n",
      "city               354\n",
      "operatingsystem      7\n",
      "source_today         6\n",
      "dtype: int64\n"
     ]
    }
   ],
   "source": [
    "# Show Cateogrical columns using .select_dtypes()\n",
    "cat_data = data.select_dtypes(include=[object]) # use this for sklearn's encoders\n",
    "\n",
    "cat_data_cols = data.select_dtypes(\n",
    "    include=[object]).columns  # use this for pd.get_dummies\n",
    "\n",
    "print(cat_data.nunique())"
   ]
  },
  {
   "cell_type": "code",
   "execution_count": 26,
   "metadata": {
    "colab": {},
    "colab_type": "code",
    "id": "XkFkuoUkFog1",
    "scrolled": true
   },
   "outputs": [],
   "source": [
    "data = pd.get_dummies(data, columns=cat_data_cols)"
   ]
  },
  {
   "cell_type": "markdown",
   "metadata": {
    "colab_type": "text",
    "id": "bJZOYv9-Fog3"
   },
   "source": [
    "#### Split data back into train and test"
   ]
  },
  {
   "cell_type": "markdown",
   "metadata": {
    "colab_type": "text",
    "id": "CjG5WRlpFog7"
   },
   "source": [
    "- Split March-May 2017 data into Train and Validate <br>\n",
    "- Jun 2017 data as Test <br>\n",
    "- Perform MinMax Scaling <br>"
   ]
  },
  {
   "cell_type": "code",
   "execution_count": 27,
   "metadata": {
    "ExecuteTime": {
     "end_time": "2019-07-31T02:41:18.499235Z",
     "start_time": "2019-07-31T02:41:17.317581Z"
    },
    "colab": {},
    "colab_type": "code",
    "id": "0XNoncD4Fog3"
   },
   "outputs": [],
   "source": [
    "# move col 'dataset' to the last col.\n",
    "data = data[[c for c in data if c not in ['dataset']] + ['dataset']]\n",
    "# move col 'transactions' to the last col.\n",
    "data = data[[c for c in data if c not in ['transactions_target']] + ['transactions_target']]"
   ]
  },
  {
   "cell_type": "code",
   "execution_count": 28,
   "metadata": {
    "ExecuteTime": {
     "end_time": "2019-07-31T02:41:19.336962Z",
     "start_time": "2019-07-31T02:41:18.501154Z"
    },
    "colab": {},
    "colab_type": "code",
    "id": "4yrPcpNCFog5"
   },
   "outputs": [],
   "source": [
    "train = data[data['dataset'] == 0]\n",
    "test = data[data['dataset'] == 1]"
   ]
  },
  {
   "cell_type": "markdown",
   "metadata": {
    "colab_type": "text",
    "id": "TUh3GZFRFog7"
   },
   "source": [
    "<b> Split train data to train-validation"
   ]
  },
  {
   "cell_type": "code",
   "execution_count": 29,
   "metadata": {
    "ExecuteTime": {
     "end_time": "2019-07-31T02:41:19.670800Z",
     "start_time": "2019-07-31T02:41:19.345342Z"
    },
    "colab": {},
    "colab_type": "code",
    "id": "PlVk3WLtFog8"
   },
   "outputs": [
    {
     "name": "stdout",
     "output_type": "stream",
     "text": [
      "(66424, 731)\n",
      "(66424,)\n",
      "(28468, 731)\n",
      "(28468,)\n",
      "(30008, 731)\n",
      "(30008,)\n"
     ]
    }
   ],
   "source": [
    "from sklearn import preprocessing\n",
    "min_max_scaler = preprocessing.MinMaxScaler()\n",
    "\n",
    "X = train.drop(['transactions_target', 'transactionrevenue_target'], axis=1)\n",
    "y = train['transactions_target']\n",
    "\n",
    "X_train, X_val , y_train, y_val=model_selection.train_test_split(X,y,test_size=0.3, random_state=1234)\n",
    "\n",
    "X_train = min_max_scaler.fit_transform(X_train)\n",
    "X_val = min_max_scaler.transform(X_val)\n",
    "\n",
    "X_test = test.drop(['transactions_target', 'transactionrevenue_target'], axis=1)\n",
    "y_test = test['transactions_target']\n",
    "\n",
    "X_test = min_max_scaler.transform(X_test)\n",
    "\n",
    "# Check train and test datasets\n",
    "print(X_train.shape)\n",
    "print(y_train.shape)\n",
    "print(X_val.shape)\n",
    "print(y_val.shape)\n",
    "print(X_test.shape)\n",
    "print(y_test.shape)"
   ]
  },
  {
   "cell_type": "markdown",
   "metadata": {
    "colab_type": "text",
    "id": "wCEHzYVqFohB"
   },
   "source": [
    "## Classification Models"
   ]
  },
  {
   "cell_type": "markdown",
   "metadata": {
    "colab_type": "text",
    "id": "lKu79gmvFohB"
   },
   "source": [
    "The following classification models were used: <br>\n",
    "- Logistic Regression\n",
    "- Random Forest\n",
    "- Adaptive Boosting\n",
    "- Light Gradient Boosting (LGB)\n",
    "- Neural Network"
   ]
  },
  {
   "cell_type": "markdown",
   "metadata": {
    "colab_type": "text",
    "id": "KGLlQmalFohC"
   },
   "source": [
    "<b> Define optimisation scorer"
   ]
  },
  {
   "cell_type": "code",
   "execution_count": 30,
   "metadata": {
    "colab": {},
    "colab_type": "code",
    "id": "t4nQKRn1FohD"
   },
   "outputs": [],
   "source": [
    "f2_scorer = metrics.make_scorer(metrics.fbeta_score, beta = 2)"
   ]
  },
  {
   "cell_type": "markdown",
   "metadata": {
    "colab_type": "text",
    "id": "DXklRXrWFohE"
   },
   "source": [
    "<b> Define print score function"
   ]
  },
  {
   "cell_type": "code",
   "execution_count": 31,
   "metadata": {
    "colab": {},
    "colab_type": "code",
    "id": "yw8uSm7qFohE"
   },
   "outputs": [],
   "source": [
    "def print_score(model, X_test, y_test):\n",
    "    predict=model.predict(X_test)\n",
    "    print(\"Training score is {}\".format(model.score(X_train, y_train)))\n",
    "    print(\"Validation score is {}\".format(model.score(X_test, y_test)))\n",
    "    print('Recall:', recall_score(y_test, predict))\n",
    "    print('Precision:', precision_score(y_test, predict))\n",
    "    print('Accuracy:', accuracy_score(y_test, predict))\n",
    "    print(\"f1:\", f1_score(y_test, predict))\n",
    "    print(\"f2:\", fbeta_score(y_test, predict, beta=2), '\\n')\n",
    "    print('Classification Score')\n",
    "    print(metrics.classification_report(y_test, predict))\n",
    "    print('Confusion Matrix')\n",
    "    print(metrics.confusion_matrix(y_test, predict))"
   ]
  },
  {
   "cell_type": "markdown",
   "metadata": {
    "colab_type": "text",
    "id": "pkXiH_ZJFohH"
   },
   "source": [
    "## 1 - Logistic Regression"
   ]
  },
  {
   "cell_type": "markdown",
   "metadata": {
    "colab_type": "text",
    "id": "coGuTY9fFohH"
   },
   "source": [
    "<b> Parameter Tuning"
   ]
  },
  {
   "cell_type": "code",
   "execution_count": null,
   "metadata": {},
   "outputs": [],
   "source": [
    "# parameters = {'solver': ['newton-cg', 'sag','lbfgs'],\n",
    "#                'C': [0.01, 0.05, 0.1, 0.2, 0.5]\n",
    "#                }\n",
    "\n",
    "# rs_lr = model_selection.RandomizedSearchCV(LogisticRegression(penalty='l2', random_state=1, class_weight='balanced'),\n",
    "#                                             parameters,scoring = f2_scorer,\n",
    "#                                             cv=model_selection.StratifiedKFold(\n",
    "#                                                 n_splits=5, shuffle=True, random_state=2019),\n",
    "#                                             verbose=2, n_jobs=-1)\n",
    "\n",
    "# rs_lr.fit(X_train, y_train)\n",
    "\n",
    "# #results\n",
    "# rs_lr.best_estimator_\n",
    "# #LogisticRegression(C=0.2, class_weight='balanced', dual=False,\n",
    "# #                   fit_intercept=True, intercept_scaling=1, l1_ratio=None,\n",
    "# #                   max_iter=100, multi_class='warn', n_jobs=None, penalty='l2',\n",
    "# #                   random_state=1, solver='newton-cg', tol=0.0001, verbose=0,\n",
    "# #                  warm_start=False)"
   ]
  },
  {
   "cell_type": "markdown",
   "metadata": {
    "colab_type": "text",
    "id": "73woN6QAFohK"
   },
   "source": [
    "<b> Logistic Regression Model"
   ]
  },
  {
   "cell_type": "code",
   "execution_count": 34,
   "metadata": {
    "colab": {},
    "colab_type": "code",
    "id": "upUQXW8MFohM"
   },
   "outputs": [
    {
     "data": {
      "text/plain": [
       "LogisticRegression(C=0.2, class_weight='balanced', dual=False,\n",
       "                   fit_intercept=True, intercept_scaling=1, l1_ratio=None,\n",
       "                   max_iter=100, multi_class='warn', n_jobs=None, penalty='l2',\n",
       "                   random_state=1, solver='newton-cg', tol=0.0001, verbose=0,\n",
       "                   warm_start=False)"
      ]
     },
     "execution_count": 34,
     "metadata": {},
     "output_type": "execute_result"
    }
   ],
   "source": [
    "lr = LogisticRegression(C=0.2, class_weight='balanced', dual=False,\n",
    "                   fit_intercept=True, intercept_scaling=1, l1_ratio=None,\n",
    "                   max_iter=100, multi_class='warn', n_jobs=None, penalty='l2',\n",
    "                   random_state=1, solver='newton-cg', tol=0.0001, verbose=0,\n",
    "                   warm_start=False)\n",
    "\n",
    "lr.fit(X_train,y_train)"
   ]
  },
  {
   "cell_type": "markdown",
   "metadata": {
    "colab_type": "text",
    "id": "g1_k25AfFohP"
   },
   "source": [
    "<b> Prediction with Validation Data (Logistic Regression)"
   ]
  },
  {
   "cell_type": "code",
   "execution_count": 35,
   "metadata": {
    "colab": {},
    "colab_type": "code",
    "id": "tGciGDL7FohP",
    "outputId": "74dee28f-b06c-4b61-d5bd-5b690f16b493"
   },
   "outputs": [
    {
     "name": "stdout",
     "output_type": "stream",
     "text": [
      "Training score is 0.8519962664097315\n",
      "Validation score is 0.8496908809891809\n",
      "Recall: 0.8820798514391829\n",
      "Precision: 0.1862014896119169\n",
      "Accuracy: 0.8496908809891809\n",
      "f1: 0.3074931218643793\n",
      "f2: 0.5047821466524973 \n",
      "\n",
      "Classification Score\n",
      "              precision    recall  f1-score   support\n",
      "\n",
      "           0       0.99      0.85      0.92     27391\n",
      "           1       0.19      0.88      0.31      1077\n",
      "\n",
      "    accuracy                           0.85     28468\n",
      "   macro avg       0.59      0.87      0.61     28468\n",
      "weighted avg       0.96      0.85      0.89     28468\n",
      "\n",
      "Confusion Matrix\n",
      "[[23239  4152]\n",
      " [  127   950]]\n"
     ]
    }
   ],
   "source": [
    "print_score(lr, X_val, y_val)"
   ]
  },
  {
   "cell_type": "markdown",
   "metadata": {
    "colab_type": "text",
    "id": "IRfr_RvYFohS"
   },
   "source": [
    "<b> Feature Importance (Logistic Regression)"
   ]
  },
  {
   "cell_type": "code",
   "execution_count": 37,
   "metadata": {
    "colab": {},
    "colab_type": "code",
    "id": "DkaYSpvvFohS",
    "outputId": "11fedc23-d50a-45d3-9219-0a80cb842e33"
   },
   "outputs": [
    {
     "name": "stdout",
     "output_type": "stream",
     "text": [
      "                          feature  importance\n",
      "2                 pageviews_today   15.343374\n",
      "1                      hits_today   14.273273\n",
      "3                timeonsite_today    9.405874\n",
      "19                transactions_lt    3.883427\n",
      "123               country_Belgium    1.768600\n",
      "154               country_Ecuador    1.740483\n",
      "242           country_Puerto Rico    1.563075\n",
      "37         channelgrouping_Social    1.395088\n",
      "282  country_United Arab Emirates    1.387993\n",
      "686                  city_Toronto    1.375152\n"
     ]
    }
   ],
   "source": [
    "lr_importance= pd.DataFrame.from_dict({'feature':list(X.columns), 'importance': lr.coef_[0] })\n",
    "print(lr_importance.sort_values('importance',ascending=False).head(10))"
   ]
  },
  {
   "cell_type": "code",
   "execution_count": 38,
   "metadata": {
    "colab": {},
    "colab_type": "code",
    "id": "AhfXVTdCFohU",
    "outputId": "c6118da1-1ca6-47a3-95a7-e2a725a526fd"
   },
   "outputs": [
    {
     "name": "stdout",
     "output_type": "stream",
     "text": [
      "                          feature  importance\n",
      "410                   city_Boston   -0.834612\n",
      "102  subcontinent_Southern Europe   -0.841397\n",
      "161                country_France   -0.881557\n",
      "238                  country_Peru   -0.915068\n",
      "604      city_Piscataway Township   -0.921676\n",
      "524             city_Laguna Beach   -0.923288\n",
      "239           country_Philippines   -0.936465\n",
      "276                country_Turkey   -1.017211\n",
      "49          medium_today_referral   -1.244604\n",
      "729       source_today_b'youtube'   -1.881231\n"
     ]
    }
   ],
   "source": [
    "print(lr_importance.sort_values('importance',ascending=False).tail(10))"
   ]
  },
  {
   "cell_type": "markdown",
   "metadata": {
    "colab_type": "text",
    "id": "3M1qp0coFohW"
   },
   "source": [
    "## 2 - Random Forest Modelling"
   ]
  },
  {
   "cell_type": "markdown",
   "metadata": {
    "colab_type": "text",
    "id": "rwAxXVTcFohW"
   },
   "source": [
    "<b> Parameter Tuning"
   ]
  },
  {
   "cell_type": "code",
   "execution_count": 42,
   "metadata": {
    "colab": {},
    "colab_type": "code",
    "id": "pi-5cScXFohW"
   },
   "outputs": [
    {
     "name": "stdout",
     "output_type": "stream",
     "text": [
      "Fitting 5 folds for each of 10 candidates, totalling 50 fits\n"
     ]
    },
    {
     "name": "stderr",
     "output_type": "stream",
     "text": [
      "[Parallel(n_jobs=-1)]: Using backend LokyBackend with 4 concurrent workers.\n",
      "[Parallel(n_jobs=-1)]: Done  33 tasks      | elapsed:  1.8min\n",
      "[Parallel(n_jobs=-1)]: Done  50 out of  50 | elapsed:  2.8min finished\n"
     ]
    },
    {
     "data": {
      "text/plain": [
       "RandomForestClassifier(bootstrap=True, class_weight='balanced',\n",
       "                       criterion='entropy', max_depth=20, max_features='auto',\n",
       "                       max_leaf_nodes=None, min_impurity_decrease=0.0,\n",
       "                       min_impurity_split=None, min_samples_leaf=2,\n",
       "                       min_samples_split=6, min_weight_fraction_leaf=0.0,\n",
       "                       n_estimators=40, n_jobs=None, oob_score=False,\n",
       "                       random_state=1, verbose=0, warm_start=False)"
      ]
     },
     "execution_count": 42,
     "metadata": {},
     "output_type": "execute_result"
    }
   ],
   "source": [
    "# parameters = {'criterion': ['gini', 'entropy'],\n",
    "#                'max_depth': [5, 10, 15, 20],\n",
    "#                'min_samples_leaf': [1, 2],\n",
    "#                'min_samples_split': [2, 4, 6],\n",
    "#                'n_estimators': [10, 20, 30, 40],\n",
    "#                'class_weight': ['balanced', 'balanced_subsample', None]\n",
    "#                }\n",
    "\n",
    "# rs_rf = model_selection.RandomizedSearchCV(ensemble.RandomForestClassifier(random_state=1),\n",
    "#                                             parameters, scoring = f2_scorer,\n",
    "#                                             cv=model_selection.StratifiedKFold(\n",
    "#                                                 n_splits=5, shuffle=True, random_state=2019),\n",
    "#                                             verbose=2, n_jobs=-1)\n",
    "\n",
    "# rs_rf.fit(X_train, y_train)\n",
    "# # print('best parameters: ', rs_rf.best_params_)\n",
    "\n",
    "# ##results\n",
    "# rs_rf.best_estimator_\n",
    "# # RandomForestClassifier(bootstrap=True, class_weight='balanced',\n",
    "# #                        criterion='entropy', max_depth=20, max_features='auto',\n",
    "# #                        max_leaf_nodes=None, min_impurity_decrease=0.0,\n",
    "# #                        min_impurity_split=None, min_samples_leaf=2,\n",
    "# #                        min_samples_split=6, min_weight_fraction_leaf=0.0,\n",
    "# #                        n_estimators=40, n_jobs=None, oob_score=False,\n",
    "# #                        random_state=1, verbose=0, warm_start=False)"
   ]
  },
  {
   "cell_type": "markdown",
   "metadata": {
    "colab_type": "text",
    "id": "M1WmIB5pFohX"
   },
   "source": [
    "<b> Random Forest Model"
   ]
  },
  {
   "cell_type": "code",
   "execution_count": 43,
   "metadata": {
    "colab": {},
    "colab_type": "code",
    "id": "JOCLK9vtFohZ",
    "outputId": "8a3c1926-74f7-4f40-a549-bcc806b5bbed"
   },
   "outputs": [
    {
     "data": {
      "text/plain": [
       "RandomForestClassifier(bootstrap=True, class_weight='balanced',\n",
       "                       criterion='entropy', max_depth=20, max_features='auto',\n",
       "                       max_leaf_nodes=None, min_impurity_decrease=0.0,\n",
       "                       min_impurity_split=None, min_samples_leaf=2,\n",
       "                       min_samples_split=6, min_weight_fraction_leaf=0.0,\n",
       "                       n_estimators=40, n_jobs=None, oob_score=False,\n",
       "                       random_state=1, verbose=0, warm_start=False)"
      ]
     },
     "execution_count": 43,
     "metadata": {},
     "output_type": "execute_result"
    }
   ],
   "source": [
    "rf = ensemble.RandomForestClassifier(bootstrap=True, class_weight='balanced',\n",
    "                       criterion='entropy', max_depth=20, max_features='auto',\n",
    "                       max_leaf_nodes=None, min_impurity_decrease=0.0,\n",
    "                       min_impurity_split=None, min_samples_leaf=2,\n",
    "                       min_samples_split=6, min_weight_fraction_leaf=0.0,\n",
    "                       n_estimators=40, n_jobs=None, oob_score=False,\n",
    "                       random_state=1, verbose=0, warm_start=False)\n",
    "\n",
    "\n",
    "rf.fit(X_train, y_train)"
   ]
  },
  {
   "cell_type": "markdown",
   "metadata": {
    "colab_type": "text",
    "id": "RkhbmARHFohb"
   },
   "source": [
    "<b> Prediction with Validation Data (Random Forest)"
   ]
  },
  {
   "cell_type": "code",
   "execution_count": 44,
   "metadata": {
    "colab": {},
    "colab_type": "code",
    "id": "uDXsTQ23Fohb",
    "outputId": "635d5f05-5ee2-4d2a-d7a1-d3fdf8f961f4",
    "scrolled": true
   },
   "outputs": [
    {
     "name": "stdout",
     "output_type": "stream",
     "text": [
      "Training score is 0.9228140431169457\n",
      "Validation score is 0.9165378670788253\n",
      "Recall: 0.8607242339832869\n",
      "Precision: 0.2940057088487155\n",
      "Accuracy: 0.9165378670788253\n",
      "f1: 0.43829787234042555\n",
      "f2: 0.6212303980699638 \n",
      "\n",
      "Classification Score\n",
      "              precision    recall  f1-score   support\n",
      "\n",
      "           0       0.99      0.92      0.95     27391\n",
      "           1       0.29      0.86      0.44      1077\n",
      "\n",
      "    accuracy                           0.92     28468\n",
      "   macro avg       0.64      0.89      0.70     28468\n",
      "weighted avg       0.97      0.92      0.94     28468\n",
      "\n",
      "Confusion Matrix\n",
      "[[25165  2226]\n",
      " [  150   927]]\n"
     ]
    }
   ],
   "source": [
    "print_score(rf, X_val, y_val)"
   ]
  },
  {
   "cell_type": "markdown",
   "metadata": {
    "colab_type": "text",
    "id": "ndrv7dl8Fohe"
   },
   "source": [
    "<b> Feature Importance for Random Forest"
   ]
  },
  {
   "cell_type": "code",
   "execution_count": 45,
   "metadata": {
    "colab": {},
    "colab_type": "code",
    "id": "6FdbMmBhFohe",
    "outputId": "b19c30bd-71ed-4673-d057-fc6fb4c49a3e",
    "scrolled": true
   },
   "outputs": [
    {
     "name": "stdout",
     "output_type": "stream",
     "text": [
      "                           feature  importance\n",
      "1                       hits_today    0.173371\n",
      "2                  pageviews_today    0.139040\n",
      "3                 timeonsite_today    0.131360\n",
      "284          country_United States    0.042759\n",
      "95   subcontinent_Northern America    0.040466\n",
      "79              continent_Americas    0.027617\n",
      "81                continent_Europe    0.025164\n",
      "5                  newvisits_today    0.022085\n",
      "8                          hits_st    0.019122\n",
      "80                  continent_Asia    0.017970\n"
     ]
    }
   ],
   "source": [
    "rf_importance= pd.DataFrame.from_dict({'feature':list(X.columns), 'importance': rf.feature_importances_ })\n",
    "print(rf_importance.sort_values('importance',ascending=False).head(10))"
   ]
  },
  {
   "cell_type": "markdown",
   "metadata": {
    "colab_type": "text",
    "id": "AeLqovEVFohg"
   },
   "source": [
    "## 3 - Adaptive Boosting"
   ]
  },
  {
   "cell_type": "markdown",
   "metadata": {
    "colab_type": "text",
    "id": "mcNgNyyEFohg"
   },
   "source": [
    "<b> Parameter Tuning"
   ]
  },
  {
   "cell_type": "code",
   "execution_count": 46,
   "metadata": {
    "colab": {},
    "colab_type": "code",
    "id": "iSJG3YGeFohh"
   },
   "outputs": [
    {
     "name": "stdout",
     "output_type": "stream",
     "text": [
      "Fitting 5 folds for each of 10 candidates, totalling 50 fits\n"
     ]
    },
    {
     "name": "stderr",
     "output_type": "stream",
     "text": [
      "[Parallel(n_jobs=-1)]: Using backend LokyBackend with 4 concurrent workers.\n",
      "[Parallel(n_jobs=-1)]: Done  33 tasks      | elapsed: 12.7min\n",
      "[Parallel(n_jobs=-1)]: Done  50 out of  50 | elapsed: 17.9min finished\n"
     ]
    },
    {
     "data": {
      "text/plain": [
       "AdaBoostClassifier(algorithm='SAMME',\n",
       "                   base_estimator=DecisionTreeClassifier(class_weight='balanced',\n",
       "                                                         criterion='gini',\n",
       "                                                         max_depth=15,\n",
       "                                                         max_features='auto',\n",
       "                                                         max_leaf_nodes=None,\n",
       "                                                         min_impurity_decrease=0.0,\n",
       "                                                         min_impurity_split=None,\n",
       "                                                         min_samples_leaf=1,\n",
       "                                                         min_samples_split=15,\n",
       "                                                         min_weight_fraction_leaf=0.0,\n",
       "                                                         presort=False,\n",
       "                                                         random_state=2019,\n",
       "                                                         splitter='best'),\n",
       "                   learning_rate=1, n_estimators=50, random_state=2019)"
      ]
     },
     "execution_count": 46,
     "metadata": {},
     "output_type": "execute_result"
    }
   ],
   "source": [
    "# parameters = {'base_estimator__criterion' : [\"gini\", \"entropy\"], \n",
    "#               'base_estimator__splitter' :   [\"best\", \"random\"],\n",
    "#               'base_estimator__max_depth': [15, 20, 25, 30], \n",
    "#               'base_estimator__min_samples_split': list(range(15, 30, 5)),\n",
    "#               'algorithm': ['SAMME', 'SAMME.R'], 'learning_rate': [0.001, 0.01, 0.1, 0.5, 1], \n",
    "#               'n_estimators': list(range(50, 200, 50))}\n",
    "\n",
    "# DTC = tree.DecisionTreeClassifier(random_state = 2019, max_features = \"auto\", class_weight = \"balanced\")\n",
    "\n",
    "# rs_ab = model_selection.RandomizedSearchCV(ensemble.AdaBoostClassifier(random_state = 2019, base_estimator = DTC), \n",
    "#                                   parameters, scoring = f2_scorer, \n",
    "#                                   cv = model_selection.StratifiedKFold(n_splits = 5, shuffle = True, random_state = 2019),\n",
    "#                                        iid=False, verbose=2, n_jobs=-1)\n",
    "\n",
    "# rs_ab.fit(X_train, y_train)\n",
    "\n",
    "# #results\n",
    "# rs_ab.best_estimator_\n",
    "# # AdaBoostClassifier(algorithm='SAMME',\n",
    "# #                    base_estimator=DecisionTreeClassifier(class_weight='balanced',\n",
    "# #                                                          criterion='gini',\n",
    "# #                                                          max_depth=15,\n",
    "# #                                                          max_features='auto',\n",
    "# #                                                          max_leaf_nodes=None,\n",
    "# #                                                          min_impurity_decrease=0.0,\n",
    "# #                                                          min_impurity_split=None,\n",
    "# #                                                          min_samples_leaf=1,\n",
    "# #                                                          min_samples_split=15,\n",
    "# #                                                          min_weight_fraction_leaf=0.0,\n",
    "# #                                                          presort=False,\n",
    "# #                                                          random_state=2019,\n",
    "# #                                                          splitter='best'),\n",
    "# #                    learning_rate=1, n_estimators=50, random_state=2019)"
   ]
  },
  {
   "cell_type": "markdown",
   "metadata": {
    "colab_type": "text",
    "id": "ADrSL50VFohl"
   },
   "source": [
    "<b> AdaBoost Model"
   ]
  },
  {
   "cell_type": "code",
   "execution_count": 47,
   "metadata": {
    "colab": {},
    "colab_type": "code",
    "id": "8QQ2UKvjFoho"
   },
   "outputs": [
    {
     "data": {
      "text/plain": [
       "AdaBoostClassifier(algorithm='SAMME',\n",
       "                   base_estimator=DecisionTreeClassifier(class_weight='balanced',\n",
       "                                                         criterion='gini',\n",
       "                                                         max_depth=15,\n",
       "                                                         max_features='auto',\n",
       "                                                         max_leaf_nodes=None,\n",
       "                                                         min_impurity_decrease=0.0,\n",
       "                                                         min_impurity_split=None,\n",
       "                                                         min_samples_leaf=1,\n",
       "                                                         min_samples_split=15,\n",
       "                                                         min_weight_fraction_leaf=0.0,\n",
       "                                                         presort=False,\n",
       "                                                         random_state=2019,\n",
       "                                                         splitter='best'),\n",
       "                   learning_rate=1, n_estimators=50, random_state=2019)"
      ]
     },
     "execution_count": 47,
     "metadata": {},
     "output_type": "execute_result"
    }
   ],
   "source": [
    "from sklearn.tree import DecisionTreeClassifier\n",
    "\n",
    "ab= ensemble.AdaBoostClassifier(algorithm='SAMME',\n",
    "                   base_estimator=DecisionTreeClassifier(class_weight='balanced',\n",
    "                                                         criterion='gini',\n",
    "                                                         max_depth=15,\n",
    "                                                         max_features='auto',\n",
    "                                                         max_leaf_nodes=None,\n",
    "                                                         min_impurity_decrease=0.0,\n",
    "                                                         min_impurity_split=None,\n",
    "                                                         min_samples_leaf=1,\n",
    "                                                         min_samples_split=15,\n",
    "                                                         min_weight_fraction_leaf=0.0,\n",
    "                                                         presort=False,\n",
    "                                                         random_state=2019,\n",
    "                                                         splitter='best'),\n",
    "                   learning_rate=1, n_estimators=50, random_state=2019)\n",
    "\n",
    "ab.fit(X_train, y_train)"
   ]
  },
  {
   "cell_type": "markdown",
   "metadata": {
    "colab_type": "text",
    "id": "PI2o3j3zFohr"
   },
   "source": [
    "<b> Prediction with Validation Data (Adaboost)"
   ]
  },
  {
   "cell_type": "code",
   "execution_count": 48,
   "metadata": {
    "colab": {},
    "colab_type": "code",
    "id": "HUEV8OF3Fohr",
    "outputId": "cce183ff-e250-4fec-baae-eb06b9ddd5e9",
    "scrolled": true
   },
   "outputs": [
    {
     "name": "stdout",
     "output_type": "stream",
     "text": [
      "Training score is 0.8904161146573527\n",
      "Validation score is 0.8796192215821274\n",
      "Recall: 0.8245125348189415\n",
      "Precision: 0.21522055259331072\n",
      "Accuracy: 0.8796192215821274\n",
      "f1: 0.3413415337305401\n",
      "f2: 0.5264405975812189 \n",
      "\n",
      "Classification Score\n",
      "              precision    recall  f1-score   support\n",
      "\n",
      "           0       0.99      0.88      0.93     27391\n",
      "           1       0.22      0.82      0.34      1077\n",
      "\n",
      "    accuracy                           0.88     28468\n",
      "   macro avg       0.60      0.85      0.64     28468\n",
      "weighted avg       0.96      0.88      0.91     28468\n",
      "\n",
      "Confusion Matrix\n",
      "[[24153  3238]\n",
      " [  189   888]]\n"
     ]
    }
   ],
   "source": [
    "print_score(ab, X_val, y_val)"
   ]
  },
  {
   "cell_type": "markdown",
   "metadata": {
    "colab_type": "text",
    "id": "IxX1vQF7Fohx"
   },
   "source": [
    "<b> Feature Importance for Adaptive Boosting"
   ]
  },
  {
   "cell_type": "code",
   "execution_count": 49,
   "metadata": {
    "colab": {},
    "colab_type": "code",
    "id": "9Dzh_w9jFohx",
    "outputId": "87b1416a-f90d-4944-8e49-0a5a3c49ebd3",
    "scrolled": true
   },
   "outputs": [
    {
     "name": "stdout",
     "output_type": "stream",
     "text": [
      "                        feature  importance\n",
      "2               pageviews_today    0.203025\n",
      "284       country_United States    0.117162\n",
      "1                    hits_today    0.087967\n",
      "5               newvisits_today    0.084998\n",
      "3              timeonsite_today    0.064711\n",
      "75        devicecategory_mobile    0.035379\n",
      "36     channelgrouping_Referral    0.019485\n",
      "6                      ismobile    0.016795\n",
      "81             continent_Europe    0.016110\n",
      "722  operatingsystem_b'Windows'    0.014608\n"
     ]
    }
   ],
   "source": [
    "ab_importance= pd.DataFrame.from_dict({'feature':list(X.columns), 'importance': ab.feature_importances_ })\n",
    "print(ab_importance.sort_values('importance',ascending=False).head(10))"
   ]
  },
  {
   "cell_type": "markdown",
   "metadata": {
    "colab_type": "text",
    "id": "FH2KzwH2Fohy"
   },
   "source": [
    "## 4 - Neural Network"
   ]
  },
  {
   "cell_type": "code",
   "execution_count": 73,
   "metadata": {},
   "outputs": [
    {
     "name": "stdout",
     "output_type": "stream",
     "text": [
      "Fitting 5 folds for each of 10 candidates, totalling 50 fits\n"
     ]
    },
    {
     "name": "stderr",
     "output_type": "stream",
     "text": [
      "[Parallel(n_jobs=-1)]: Using backend LokyBackend with 4 concurrent workers.\n",
      "[Parallel(n_jobs=-1)]: Done  33 tasks      | elapsed: 37.9min\n",
      "[Parallel(n_jobs=-1)]: Done  50 out of  50 | elapsed: 56.4min finished\n",
      "C:\\Users\\evelyn\\Anaconda3\\lib\\site-packages\\sklearn\\neural_network\\multilayer_perceptron.py:566: ConvergenceWarning: Stochastic Optimizer: Maximum iterations (100) reached and the optimization hasn't converged yet.\n",
      "  % self.max_iter, ConvergenceWarning)\n"
     ]
    },
    {
     "data": {
      "text/plain": [
       "MLPClassifier(activation='relu', alpha=0.0001, batch_size='auto', beta_1=0.9,\n",
       "              beta_2=0.999, early_stopping=False, epsilon=1e-08,\n",
       "              hidden_layer_sizes=(100,), learning_rate='constant',\n",
       "              learning_rate_init=0.001, max_iter=100, momentum=0.9,\n",
       "              n_iter_no_change=10, nesterovs_momentum=True, power_t=0.5,\n",
       "              random_state=2019, shuffle=True, solver='adam', tol=0.0001,\n",
       "              validation_fraction=0.1, verbose=False, warm_start=False)"
      ]
     },
     "execution_count": 73,
     "metadata": {},
     "output_type": "execute_result"
    }
   ],
   "source": [
    "from sklearn.neural_network import MLPClassifier\n",
    "parameters = {\n",
    "    'hidden_layer_sizes': [(50,50,50), (50,100,50), (100,)],\n",
    "    'activation': ['tanh', 'relu'],\n",
    "    'solver': ['sgd', 'adam'],\n",
    "    'alpha': [0.0001, 0.05],\n",
    "    'learning_rate': ['constant','adaptive'],\n",
    "}\n",
    "\n",
    "rs_nn = model_selection.RandomizedSearchCV(MLPClassifier(random_state=2019, max_iter=100),\n",
    "                                            parameters,scoring = f2_scorer,\n",
    "                                            cv=model_selection.StratifiedKFold(\n",
    "                                                n_splits=5, shuffle=True, random_state=2019),\n",
    "                                            verbose=2, n_jobs=-1)\n",
    "\n",
    "rs_nn.fit(X_train, y_train)\n",
    "rs_nn.best_estimator_\n",
    "\n",
    "# result\n",
    "# MLPClassifier(activation='relu', alpha=0.0001, batch_size='auto', beta_1=0.9,\n",
    "#               beta_2=0.999, early_stopping=False, epsilon=1e-08,\n",
    "#               hidden_layer_sizes=(100,), learning_rate='constant',\n",
    "#               learning_rate_init=0.001, max_iter=100, momentum=0.9,\n",
    "#               n_iter_no_change=10, nesterovs_momentum=True, power_t=0.5,\n",
    "#               random_state=2019, shuffle=True, solver='adam', tol=0.0001,\n",
    "#               validation_fraction=0.1, verbose=False, warm_start=False)"
   ]
  },
  {
   "cell_type": "code",
   "execution_count": 74,
   "metadata": {},
   "outputs": [
    {
     "name": "stderr",
     "output_type": "stream",
     "text": [
      "C:\\Users\\evelyn\\Anaconda3\\lib\\site-packages\\sklearn\\neural_network\\multilayer_perceptron.py:566: ConvergenceWarning: Stochastic Optimizer: Maximum iterations (100) reached and the optimization hasn't converged yet.\n",
      "  % self.max_iter, ConvergenceWarning)\n"
     ]
    },
    {
     "data": {
      "text/plain": [
       "MLPClassifier(activation='relu', alpha=0.0001, batch_size='auto', beta_1=0.9,\n",
       "              beta_2=0.999, early_stopping=False, epsilon=1e-08,\n",
       "              hidden_layer_sizes=(100,), learning_rate='constant',\n",
       "              learning_rate_init=0.001, max_iter=100, momentum=0.9,\n",
       "              n_iter_no_change=10, nesterovs_momentum=True, power_t=0.5,\n",
       "              random_state=2019, shuffle=True, solver='adam', tol=0.0001,\n",
       "              validation_fraction=0.1, verbose=False, warm_start=False)"
      ]
     },
     "execution_count": 74,
     "metadata": {},
     "output_type": "execute_result"
    }
   ],
   "source": [
    "from sklearn.neural_network import MLPClassifier\n",
    "\n",
    "nn= MLPClassifier(activation='relu', alpha=0.0001, batch_size='auto', beta_1=0.9,\n",
    "              beta_2=0.999, early_stopping=False, epsilon=1e-08,\n",
    "              hidden_layer_sizes=(100,), learning_rate='constant',\n",
    "              learning_rate_init=0.001, max_iter=100, momentum=0.9,\n",
    "              n_iter_no_change=10, nesterovs_momentum=True, power_t=0.5,\n",
    "              random_state=2019, shuffle=True, solver='adam', tol=0.0001,\n",
    "              validation_fraction=0.1, verbose=False, warm_start=False)\n",
    "\n",
    "nn.fit(X_train, y_train)"
   ]
  },
  {
   "cell_type": "markdown",
   "metadata": {
    "colab_type": "text",
    "id": "PI2o3j3zFohr"
   },
   "source": [
    "<b> Prediction with Validation Data (Neural Network)"
   ]
  },
  {
   "cell_type": "code",
   "execution_count": 75,
   "metadata": {
    "colab": {},
    "colab_type": "code",
    "id": "HUEV8OF3Fohr",
    "outputId": "cce183ff-e250-4fec-baae-eb06b9ddd5e9",
    "scrolled": true
   },
   "outputs": [
    {
     "name": "stdout",
     "output_type": "stream",
     "text": [
      "Training score is 0.9753552932674937\n",
      "Validation score is 0.9672614865814247\n",
      "Recall: 0.46332404828226553\n",
      "Precision: 0.5849941383352872\n",
      "Accuracy: 0.9672614865814247\n",
      "f1: 0.5170984455958549\n",
      "f2: 0.4834334431311761 \n",
      "\n",
      "Classification Score\n",
      "              precision    recall  f1-score   support\n",
      "\n",
      "           0       0.98      0.99      0.98     27391\n",
      "           1       0.58      0.46      0.52      1077\n",
      "\n",
      "    accuracy                           0.97     28468\n",
      "   macro avg       0.78      0.73      0.75     28468\n",
      "weighted avg       0.96      0.97      0.97     28468\n",
      "\n",
      "Confusion Matrix\n",
      "[[27037   354]\n",
      " [  578   499]]\n"
     ]
    }
   ],
   "source": [
    "print_score(nn, X_val, y_val)"
   ]
  },
  {
   "cell_type": "markdown",
   "metadata": {
    "colab_type": "text",
    "id": "sc3uPv4TFoh5"
   },
   "source": [
    "## 5 - LightGBM"
   ]
  },
  {
   "cell_type": "code",
   "execution_count": 50,
   "metadata": {
    "colab": {},
    "colab_type": "code",
    "id": "SVbWeYILFoh5",
    "outputId": "32a07fed-cd35-4a5c-a252-34f48e758bc3"
   },
   "outputs": [],
   "source": [
    "import lightgbm as lgb"
   ]
  },
  {
   "cell_type": "markdown",
   "metadata": {},
   "source": [
    "<b> Parameter Tuning"
   ]
  },
  {
   "cell_type": "code",
   "execution_count": 52,
   "metadata": {},
   "outputs": [
    {
     "name": "stdout",
     "output_type": "stream",
     "text": [
      "Fitting 5 folds for each of 10 candidates, totalling 50 fits\n"
     ]
    },
    {
     "name": "stderr",
     "output_type": "stream",
     "text": [
      "[Parallel(n_jobs=-1)]: Using backend LokyBackend with 4 concurrent workers.\n",
      "[Parallel(n_jobs=-1)]: Done  33 tasks      | elapsed:  1.0min\n",
      "[Parallel(n_jobs=-1)]: Done  50 out of  50 | elapsed:  1.4min finished\n"
     ]
    },
    {
     "name": "stdout",
     "output_type": "stream",
     "text": [
      "best score: 0.4186322864004777\n",
      "best parameters:  {'num_leaves': 30, 'min_data_in_leaf': 50, 'max_depth': 20}\n"
     ]
    }
   ],
   "source": [
    "# # coarse to fine tuning\n",
    "# #parameter tuning guideline from: https://lightgbm.readthedocs.io/en/latest/Parameters-Tuning.html\n",
    "\n",
    "# #Step 1 - coarse\n",
    "# parameters = {'num_leaves': [10,20,30,40,50], 'min_data_in_leaf': [5, 10, 20, 30, 50, 100],'max_depth': [-1, 20, 40, 60, 100]}\n",
    "\n",
    "# lgb_fit = model_selection.RandomizedSearchCV(lgb.LGBMClassifier(), parameters, scoring =  f2_scorer,\n",
    "#                                    cv = model_selection.StratifiedKFold(n_splits = 5, shuffle = True, random_state = 2019),\n",
    "#                                             verbose=2, n_jobs=-1)\n",
    "    \n",
    "# lgb_fit.fit(X_train, y_train)\n",
    "# print('best score:', lgb_fit.best_score_)\n",
    "# print('best parameters: ', lgb_fit.best_params_)\n",
    "\n",
    "# #results\n",
    "# # best score: 0.4186322864004777\n",
    "# # best parameters:  {'num_leaves': 30, 'min_data_in_leaf': 50, 'max_depth': 20}\n",
    "\n",
    "# ##### Never do this ################################\n",
    "\n",
    "# # Step 2 - fine\n",
    "# # parameters = {'num_leaves': [30,50,70,90], 'min_data_in_leaf': [10,20,30,40],'max_depth': [100,120,140,160]}\n",
    "\n",
    "# # lgb_fit = model_selection.RandomizedSearchCV(lgb.LGBMClassifier(), parameters, scoring =  f2_scorer,\n",
    "# #                                    cv = model_selection.StratifiedKFold(n_splits = 10, shuffle = True, random_state = 2019))\n",
    "    \n",
    "# # lgb_fit.fit(X_train, y_train)\n",
    "# # print('best score:', lgb_fit.best_score_)\n",
    "# # print('best parameters: ', lgb_fit.best_params_)\n",
    "# # best score: 0.42790358761961755\n",
    "# # best parameters:  {'num_leaves': 90, 'min_data_in_leaf': 10, 'max_depth': 160}\n",
    "\n",
    "# # Note: to use step 1 tuning as it generate better score"
   ]
  },
  {
   "cell_type": "markdown",
   "metadata": {},
   "source": [
    "<b> Light Gradient Boosting Model"
   ]
  },
  {
   "cell_type": "code",
   "execution_count": 53,
   "metadata": {},
   "outputs": [
    {
     "name": "stdout",
     "output_type": "stream",
     "text": [
      "[500]\tvalid_0's binary_logloss: 0.0801498\n",
      "[1000]\tvalid_0's binary_logloss: 0.0788866\n",
      "[1500]\tvalid_0's binary_logloss: 0.0786117\n",
      "[2000]\tvalid_0's binary_logloss: 0.0788386\n",
      "[2500]\tvalid_0's binary_logloss: 0.0792577\n",
      "[3000]\tvalid_0's binary_logloss: 0.0799021\n"
     ]
    },
    {
     "data": {
      "text/plain": [
       "LGBMClassifier(boosting_type='dart', class_weight=None, colsample_bytree=1.0,\n",
       "               importance_type='split', learning_rate=0.04, max_depth=20,\n",
       "               min_child_samples=20, min_child_weight=0.001,\n",
       "               min_data_in_leaf=50, min_split_gain=0.0, n_estimators=3200,\n",
       "               n_jobs=-1, num_leaves=30, objective=None, random_state=None,\n",
       "               reg_alpha=0.0, reg_lambda=0.0, silent=True, subsample=1.0,\n",
       "               subsample_for_bin=200000, subsample_freq=0)"
      ]
     },
     "execution_count": 53,
     "metadata": {},
     "output_type": "execute_result"
    }
   ],
   "source": [
    "lgb_c = lgb.LGBMClassifier(learning_rate = 0.04, n_estimators = 3200, boosting_type = 'dart', num_leaves = 30, min_data_in_leaf = 50, max_depth = 20)\n",
    "lgb_c.fit(X_train, y_train,\n",
    "          eval_set = [(X_val, y_val)],\n",
    "          eval_metric = None,\n",
    "          verbose = 500)"
   ]
  },
  {
   "cell_type": "markdown",
   "metadata": {},
   "source": [
    "<b> Prediction with Validation Data (LGB) "
   ]
  },
  {
   "cell_type": "code",
   "execution_count": 54,
   "metadata": {},
   "outputs": [
    {
     "name": "stdout",
     "output_type": "stream",
     "text": [
      "Training score is 0.9838462001686138\n",
      "Validation score is 0.9697555149641703\n",
      "Recall: 0.44939647168059427\n",
      "Precision: 0.6436170212765957\n",
      "Accuracy: 0.9697555149641703\n",
      "f1: 0.5292509568069983\n",
      "f2: 0.4782608695652174 \n",
      "\n",
      "Classification Score\n",
      "              precision    recall  f1-score   support\n",
      "\n",
      "           0       0.98      0.99      0.98     27391\n",
      "           1       0.64      0.45      0.53      1077\n",
      "\n",
      "    accuracy                           0.97     28468\n",
      "   macro avg       0.81      0.72      0.76     28468\n",
      "weighted avg       0.97      0.97      0.97     28468\n",
      "\n",
      "Confusion Matrix\n",
      "[[27123   268]\n",
      " [  593   484]]\n"
     ]
    }
   ],
   "source": [
    "print_score(lgb_c, X_val, y_val)"
   ]
  },
  {
   "cell_type": "code",
   "execution_count": 55,
   "metadata": {
    "colab": {},
    "colab_type": "code",
    "id": "pAbOXVBUFoh_",
    "outputId": "654f9ba7-b69c-4049-d9e8-2c905072d309"
   },
   "outputs": [
    {
     "name": "stdout",
     "output_type": "stream",
     "text": [
      "                   feature  importance\n",
      "3         timeonsite_today       18056\n",
      "2          pageviews_today       10935\n",
      "1               hits_today        9337\n",
      "10           timeonsite_st        4351\n",
      "17           timeonsite_lt        3615\n",
      "8                  hits_st        2313\n",
      "9             pageviews_st        2182\n",
      "15                 hits_lt        2130\n",
      "16            pageviews_lt        2020\n",
      "284  country_United States        1917\n"
     ]
    }
   ],
   "source": [
    "lgb_importance= pd.DataFrame.from_dict({'feature':list(X.columns), 'importance': lgb_c.feature_importances_ })\n",
    "print(lgb_importance.sort_values('importance',ascending=False).head(10))"
   ]
  },
  {
   "cell_type": "markdown",
   "metadata": {
    "colab_type": "text",
    "id": "2QmmuDJ0FoiA"
   },
   "source": [
    "### Precision Recall Chart - Validation Data"
   ]
  },
  {
   "cell_type": "code",
   "execution_count": 76,
   "metadata": {
    "colab": {},
    "colab_type": "code",
    "id": "s1qGONSGFoiA"
   },
   "outputs": [],
   "source": [
    "lr_proba_val=lr.predict_proba(X_val)[:, 1]\n",
    "rf_proba_val=rf.predict_proba(X_val)[:, 1]\n",
    "ab_proba_val=ab.predict_proba(X_val)[:, 1]\n",
    "nn_proba_val=nn.predict_proba(X_val)[:, 1]\n",
    "lgb_proba_val=lgb_c.predict_proba(X_val, num_iteration=lgb_c.best_iteration_)[:,1]"
   ]
  },
  {
   "cell_type": "code",
   "execution_count": 77,
   "metadata": {
    "colab": {},
    "colab_type": "code",
    "id": "yKutTa7KFoiC",
    "outputId": "342da430-1bf4-40fb-8e22-451b8438057f"
   },
   "outputs": [
    {
     "data": {
      "image/png": "[encoded data removed]",
      "text/plain": [
       "<Figure size 432x288 with 1 Axes>"
      ]
     },
     "metadata": {
      "needs_background": "light"
     },
     "output_type": "display_data"
    },
    {
     "data": {
      "image/png": "[encoded data removed]",
      "text/plain": [
       "<Figure size 432x288 with 1 Axes>"
      ]
     },
     "metadata": {
      "needs_background": "light"
     },
     "output_type": "display_data"
    }
   ],
   "source": [
    "from inspect import signature\n",
    "\n",
    "lr_precision, lr_recall, _ = metrics.precision_recall_curve(y_val, lr_proba_val)\n",
    "rf_precision, rf_recall, _ = metrics.precision_recall_curve(y_val, rf_proba_val)\n",
    "ab_precision, ab_recall, _ = metrics.precision_recall_curve(y_val, ab_proba_val)\n",
    "nn_precision, nn_recall, _ = metrics.precision_recall_curve(y_val, nn_proba_val)\n",
    "lgb_precision, lgb_recall, _ = metrics.precision_recall_curve(y_val, lgb_proba_val)\n",
    "\n",
    "step_kwargs = ({'step': 'post'}\n",
    "                   if 'step' in signature(plt.fill_between).parameters\n",
    "                   else {})\n",
    "plt.step(lr_recall, lr_precision, color='blue', alpha=0.7, where='post', label='Logistic')\n",
    "plt.step(rf_recall, rf_precision, color='red', alpha=0.7, where='post', label='Random Forest')\n",
    "plt.step(ab_recall, ab_precision, color='green', alpha=0.7, where='post', label='AdaBoost')\n",
    "plt.step(nn_recall, nn_precision, color='orange', alpha=0.7, where='post', label='Neural Network')\n",
    "plt.step(lgb_recall, lgb_precision, color='cyan', alpha=0.7, where='post', label='LightGBM')\n",
    "plt.xlabel('Recall')\n",
    "plt.ylabel('Precision')\n",
    "plt.ylim([0.0, 1.05])\n",
    "plt.xlim([0.0, 1.0])\n",
    "plt.title('Precision-Recall curve for Validation Data')\n",
    "plt.legend(loc='best')\n",
    "plt.show()\n",
    "\n",
    "fpr_lr, tpr_lr, _ = roc_curve(y_val, lr_proba_val)\n",
    "fpr_rf, tpr_rf, _ = roc_curve(y_val, rf_proba_val)\n",
    "fpr_ab, tpr_ab, _ = roc_curve(y_val, ab_proba_val)\n",
    "fpr_nn, tpr_nn, _ = roc_curve(y_val, nn_proba_val)\n",
    "fpr_lgb, tpr_lgb, _ = roc_curve(y_val, lgb_proba_val)\n",
    "\n",
    "plt.figure(1)\n",
    "plt.plot([0, 1], [0, 1], 'k--')\n",
    "plt.plot(fpr_lr, tpr_lr, label='Logistic',color='blue', alpha=0.7)\n",
    "plt.plot(fpr_rf, tpr_rf, label='Random Forest',color='red', alpha=0.7)\n",
    "plt.plot(fpr_ab, tpr_ab, label='AdaBoost',color='green', alpha=0.7)\n",
    "plt.plot(fpr_nn, tpr_nn, label='Neural Network',color='orange', alpha=0.7)\n",
    "plt.plot(fpr_lgb, tpr_lgb, label='LightGBM',color='cyan', alpha=0.7)\n",
    "plt.xlabel('False positive rate')\n",
    "plt.ylabel('True positive rate')\n",
    "plt.title('ROC curve')\n",
    "plt.legend(loc='best')\n",
    "plt.show()"
   ]
  },
  {
   "cell_type": "markdown",
   "metadata": {},
   "source": [
    "# Model Comparison - Test Data"
   ]
  },
  {
   "cell_type": "markdown",
   "metadata": {},
   "source": [
    "<b> 1. Prediction with Test Data (Logistic Regression)"
   ]
  },
  {
   "cell_type": "code",
   "execution_count": 78,
   "metadata": {},
   "outputs": [
    {
     "name": "stdout",
     "output_type": "stream",
     "text": [
      "Logistic Regression\n",
      "Training score is 0.8519962664097315\n",
      "Validation score is 0.834910690482538\n",
      "Recall: 0.8777403035413154\n",
      "Precision: 0.17794871794871794\n",
      "Accuracy: 0.834910690482538\n",
      "f1: 0.29590676520750425\n",
      "f2: 0.49131583915423827 \n",
      "\n",
      "Classification Score\n",
      "              precision    recall  f1-score   support\n",
      "\n",
      "           0       0.99      0.83      0.91     28822\n",
      "           1       0.18      0.88      0.30      1186\n",
      "\n",
      "    accuracy                           0.83     30008\n",
      "   macro avg       0.59      0.86      0.60     30008\n",
      "weighted avg       0.96      0.83      0.88     30008\n",
      "\n",
      "Confusion Matrix\n",
      "[[24013  4809]\n",
      " [  145  1041]]\n"
     ]
    }
   ],
   "source": [
    "print ('Logistic Regression')\n",
    "print_score(lr, X_test, y_test)"
   ]
  },
  {
   "cell_type": "markdown",
   "metadata": {},
   "source": [
    "<b> 2. Prediction with Test Data (Random Forest)"
   ]
  },
  {
   "cell_type": "code",
   "execution_count": 79,
   "metadata": {},
   "outputs": [
    {
     "name": "stdout",
     "output_type": "stream",
     "text": [
      "Random Forest\n",
      "Training score is 0.9228140431169457\n",
      "Validation score is 0.9054585443881632\n",
      "Recall: 0.851602023608769\n",
      "Precision: 0.2751293925360937\n",
      "Accuracy: 0.9054585443881632\n",
      "f1: 0.4158945851348569\n",
      "f2: 0.6001188354129531 \n",
      "\n",
      "Classification Score\n",
      "              precision    recall  f1-score   support\n",
      "\n",
      "           0       0.99      0.91      0.95     28822\n",
      "           1       0.28      0.85      0.42      1186\n",
      "\n",
      "    accuracy                           0.91     30008\n",
      "   macro avg       0.63      0.88      0.68     30008\n",
      "weighted avg       0.96      0.91      0.93     30008\n",
      "\n",
      "Confusion Matrix\n",
      "[[26161  2661]\n",
      " [  176  1010]]\n"
     ]
    }
   ],
   "source": [
    "print ('Random Forest')\n",
    "print_score(rf, X_test, y_test)"
   ]
  },
  {
   "cell_type": "markdown",
   "metadata": {},
   "source": [
    "<b> 3. Prediction with Test Data (Adaboost)"
   ]
  },
  {
   "cell_type": "code",
   "execution_count": 80,
   "metadata": {},
   "outputs": [
    {
     "name": "stdout",
     "output_type": "stream",
     "text": [
      "AdaBoost\n",
      "Training score is 0.8904161146573527\n",
      "Validation score is 0.8668688349773394\n",
      "Recall: 0.8178752107925801\n",
      "Precision: 0.20425352705832808\n",
      "Accuracy: 0.8668688349773394\n",
      "f1: 0.3268744734625106\n",
      "f2: 0.510902770462446 \n",
      "\n",
      "Classification Score\n",
      "              precision    recall  f1-score   support\n",
      "\n",
      "           0       0.99      0.87      0.93     28822\n",
      "           1       0.20      0.82      0.33      1186\n",
      "\n",
      "    accuracy                           0.87     30008\n",
      "   macro avg       0.60      0.84      0.63     30008\n",
      "weighted avg       0.96      0.87      0.90     30008\n",
      "\n",
      "Confusion Matrix\n",
      "[[25043  3779]\n",
      " [  216   970]]\n"
     ]
    }
   ],
   "source": [
    "print ('AdaBoost')\n",
    "print_score(ab, X_test, y_test)"
   ]
  },
  {
   "cell_type": "markdown",
   "metadata": {},
   "source": [
    "<b> 4. Prediction with Test Data (Neural Network)"
   ]
  },
  {
   "cell_type": "code",
   "execution_count": 81,
   "metadata": {},
   "outputs": [
    {
     "name": "stdout",
     "output_type": "stream",
     "text": [
      "Neural Network\n",
      "Training score is 0.9753552932674937\n",
      "Validation score is 0.9628099173553719\n",
      "Recall: 0.4527824620573356\n",
      "Precision: 0.5348605577689243\n",
      "Accuracy: 0.9628099173553719\n",
      "f1: 0.49041095890410963\n",
      "f2: 0.46711899791231737 \n",
      "\n",
      "Classification Score\n",
      "              precision    recall  f1-score   support\n",
      "\n",
      "           0       0.98      0.98      0.98     28822\n",
      "           1       0.53      0.45      0.49      1186\n",
      "\n",
      "    accuracy                           0.96     30008\n",
      "   macro avg       0.76      0.72      0.74     30008\n",
      "weighted avg       0.96      0.96      0.96     30008\n",
      "\n",
      "Confusion Matrix\n",
      "[[28355   467]\n",
      " [  649   537]]\n"
     ]
    }
   ],
   "source": [
    "print ('Neural Network')\n",
    "print_score(nn, X_test, y_test)"
   ]
  },
  {
   "cell_type": "markdown",
   "metadata": {},
   "source": [
    "<b> 5. Prediction with Validation Data (Light Gradient Boosting)"
   ]
  },
  {
   "cell_type": "code",
   "execution_count": 82,
   "metadata": {},
   "outputs": [
    {
     "name": "stdout",
     "output_type": "stream",
     "text": [
      "Training score is 0.9838462001686138\n",
      "Validation score is 0.9657091442282059\n",
      "Recall: 0.38701517706576727\n",
      "Precision: 0.6031537450722734\n",
      "Accuracy: 0.9657091442282059\n",
      "f1: 0.4714946070878275\n",
      "f2: 0.4168937329700273 \n",
      "\n",
      "Classification Score\n",
      "              precision    recall  f1-score   support\n",
      "\n",
      "           0       0.98      0.99      0.98     28822\n",
      "           1       0.60      0.39      0.47      1186\n",
      "\n",
      "    accuracy                           0.97     30008\n",
      "   macro avg       0.79      0.69      0.73     30008\n",
      "weighted avg       0.96      0.97      0.96     30008\n",
      "\n",
      "Confusion Matrix\n",
      "[[28520   302]\n",
      " [  727   459]]\n"
     ]
    }
   ],
   "source": [
    "print_score(lgb_c, X_test, y_test)"
   ]
  },
  {
   "cell_type": "markdown",
   "metadata": {
    "colab_type": "text",
    "id": "AbCbKPZqFoiD"
   },
   "source": [
    "### Precision Recall Chart - Test Data"
   ]
  },
  {
   "cell_type": "code",
   "execution_count": 85,
   "metadata": {
    "colab": {},
    "colab_type": "code",
    "id": "3SGuBzeKFoiD"
   },
   "outputs": [],
   "source": [
    "lr_proba_test=lr.predict_proba(X_test)[:, 1]\n",
    "rf_proba_test=rf.predict_proba(X_test)[:, 1]\n",
    "ab_proba_test=ab.predict_proba(X_test)[:, 1]\n",
    "nn_proba_test=nn.predict_proba(X_test)[:, 1]\n",
    "lgb_proba_test=lgb_c.predict_proba(X_test, num_iteration=lgb_c.best_iteration_)[:,1]"
   ]
  },
  {
   "cell_type": "code",
   "execution_count": 86,
   "metadata": {
    "colab": {},
    "colab_type": "code",
    "id": "hgeSSG5mFoiE",
    "outputId": "86f8be0e-2c51-4090-aeb1-b31fbc2f8fa2"
   },
   "outputs": [
    {
     "data": {
      "image/png": "[encoded data removed]",
      "text/plain": [
       "<Figure size 432x288 with 1 Axes>"
      ]
     },
     "metadata": {
      "needs_background": "light"
     },
     "output_type": "display_data"
    },
    {
     "data": {
      "image/png": "[encoded data removed]",
      "text/plain": [
       "<Figure size 432x288 with 1 Axes>"
      ]
     },
     "metadata": {
      "needs_background": "light"
     },
     "output_type": "display_data"
    }
   ],
   "source": [
    "from inspect import signature\n",
    "\n",
    "lr_precision, lr_recall, _ = metrics.precision_recall_curve(y_test, lr_proba_test)\n",
    "rf_precision, rf_recall, _ = metrics.precision_recall_curve(y_test, rf_proba_test)\n",
    "ab_precision, ab_recall, _ = metrics.precision_recall_curve(y_test, ab_proba_test)\n",
    "nn_precision, nn_recall, _ = metrics.precision_recall_curve(y_test, nn_proba_test)\n",
    "lgb_precision, lgb_recall, _ = metrics.precision_recall_curve(y_test, lgb_proba_test)\n",
    "\n",
    "step_kwargs = ({'step': 'post'}\n",
    "                   if 'step' in signature(plt.fill_between).parameters\n",
    "                   else {})\n",
    "plt.step(lr_recall, lr_precision, color='blue', alpha=0.7, where='post', label='Logistic')\n",
    "plt.step(rf_recall, rf_precision, color='red', alpha=0.7, where='post', label='Random Forest')\n",
    "plt.step(ab_recall, ab_precision, color='green', alpha=0.7, where='post', label='AdaBoost')\n",
    "plt.step(nn_recall, nn_precision, color='orange', alpha=0.7, where='post', label='Neural Network')\n",
    "plt.step(lgb_recall, lgb_precision, color='cyan', alpha=0.7, where='post', label='LightGBM')\n",
    "plt.xlabel('Recall')\n",
    "plt.ylabel('Precision')\n",
    "plt.ylim([0.0, 1.05])\n",
    "plt.xlim([0.0, 1.0])\n",
    "plt.title('Precision-Recall curve for Test Data')\n",
    "plt.legend(loc='best')\n",
    "plt.show()\n",
    "\n",
    "fpr_lr, tpr_lr, _ = roc_curve(y_test, lr_proba_test)\n",
    "fpr_rf, tpr_rf, _ = roc_curve(y_test, rf_proba_test)\n",
    "fpr_ab, tpr_ab, _ = roc_curve(y_test, ab_proba_test)\n",
    "fpr_nn, tpr_nn, _ = roc_curve(y_test, nn_proba_test)\n",
    "fpr_lgb, tpr_lgb, _ = roc_curve(y_test, lgb_proba_test)\n",
    "\n",
    "plt.figure(1)\n",
    "plt.plot([0, 1], [0, 1], 'k--')\n",
    "plt.plot(fpr_lr, tpr_lr, label='Logistic',color='blue', alpha=0.7)\n",
    "plt.plot(fpr_rf, tpr_rf, label='Random Forest',color='red', alpha=0.7)\n",
    "plt.plot(fpr_ab, tpr_ab, label='AdaBoost',color='green', alpha=0.7)\n",
    "plt.plot(fpr_nn, tpr_nn, label='Neural Network',color='orange', alpha=0.7)\n",
    "plt.plot(fpr_lgb, tpr_lgb, label='LightGBM',color='cyan', alpha=0.7)\n",
    "plt.xlabel('False positive rate')\n",
    "plt.ylabel('True positive rate')\n",
    "plt.title('ROC curve')\n",
    "plt.legend(loc='best')\n",
    "plt.show()"
   ]
  },
  {
   "cell_type": "markdown",
   "metadata": {
    "colab_type": "text",
    "id": "t4KjrlUzFoiF"
   },
   "source": [
    "### Threshold Curves - Test Data"
   ]
  },
  {
   "cell_type": "code",
   "execution_count": 87,
   "metadata": {
    "colab": {},
    "colab_type": "code",
    "id": "ebYNYFBgFoiG"
   },
   "outputs": [],
   "source": [
    "def plot_prec_recall_vs_tresh(y_test, proba):\n",
    "    precisions, recalls, thresholds = metrics.precision_recall_curve(y_test, proba)\n",
    "    \n",
    "    plt.plot(thresholds, precisions[:-1], 'b--', label='precision')\n",
    "    plt.plot(thresholds, recalls[:-1], 'g--', label = 'recall')\n",
    "    plt.xlabel('Threshold')\n",
    "    plt.legend(loc='upper left')\n",
    "    plt.xlim([0,1.05])\n",
    "    plt.ylim([0,1.05])"
   ]
  },
  {
   "cell_type": "markdown",
   "metadata": {
    "colab_type": "text",
    "id": "K46I5qilFoiI"
   },
   "source": [
    "<b> Logistic Regression"
   ]
  },
  {
   "cell_type": "code",
   "execution_count": 88,
   "metadata": {
    "colab": {},
    "colab_type": "code",
    "id": "MS9fxDaTFoiI",
    "outputId": "1b4a5c8d-48b2-446a-ef2e-684ae358c003"
   },
   "outputs": [
    {
     "data": {
      "image/png": "[encoded data removed]",
      "text/plain": [
       "<Figure size 432x288 with 1 Axes>"
      ]
     },
     "metadata": {
      "needs_background": "light"
     },
     "output_type": "display_data"
    }
   ],
   "source": [
    "plot_prec_recall_vs_tresh(y_test, lr_proba_test)\n",
    "plt.show()"
   ]
  },
  {
   "cell_type": "markdown",
   "metadata": {
    "colab_type": "text",
    "id": "QgwJfzarFoiK"
   },
   "source": [
    "<b> Random Forest"
   ]
  },
  {
   "cell_type": "code",
   "execution_count": 89,
   "metadata": {
    "colab": {},
    "colab_type": "code",
    "id": "sF5BzYQuFoiK",
    "outputId": "f0bc22a8-a352-4ebe-f6f0-c8e7ab1c123e"
   },
   "outputs": [
    {
     "data": {
      "image/png": "[encoded data removed]",
      "text/plain": [
       "<Figure size 432x288 with 1 Axes>"
      ]
     },
     "metadata": {
      "needs_background": "light"
     },
     "output_type": "display_data"
    }
   ],
   "source": [
    "plot_prec_recall_vs_tresh(y_test, rf_proba_test)\n",
    "plt.show()"
   ]
  },
  {
   "cell_type": "markdown",
   "metadata": {
    "colab_type": "text",
    "id": "axQmzEV0FoiL"
   },
   "source": [
    "<b> Adaptive Boosting"
   ]
  },
  {
   "cell_type": "code",
   "execution_count": 90,
   "metadata": {
    "colab": {},
    "colab_type": "code",
    "id": "tMG3-kblFoiL",
    "outputId": "8ce6e811-0f56-4785-f639-1ba5b029719e"
   },
   "outputs": [
    {
     "data": {
      "image/png": "[encoded data removed]",
      "text/plain": [
       "<Figure size 432x288 with 1 Axes>"
      ]
     },
     "metadata": {
      "needs_background": "light"
     },
     "output_type": "display_data"
    }
   ],
   "source": [
    "plot_prec_recall_vs_tresh(y_test, ab_proba_test)\n",
    "plt.show()"
   ]
  },
  {
   "cell_type": "markdown",
   "metadata": {
    "colab_type": "text",
    "id": "CcJwKqjyFoiN"
   },
   "source": [
    "<b> Neural Network"
   ]
  },
  {
   "cell_type": "code",
   "execution_count": 91,
   "metadata": {
    "colab": {},
    "colab_type": "code",
    "id": "6Hd7xIzmFoiN",
    "outputId": "91b150db-bae0-49bf-a77e-e3abc53977ca"
   },
   "outputs": [
    {
     "data": {
      "image/png": "[encoded data removed]",
      "text/plain": [
       "<Figure size 432x288 with 1 Axes>"
      ]
     },
     "metadata": {
      "needs_background": "light"
     },
     "output_type": "display_data"
    }
   ],
   "source": [
    "plot_prec_recall_vs_tresh(y_test, nn_proba_test)\n",
    "plt.show()"
   ]
  },
  {
   "cell_type": "markdown",
   "metadata": {
    "colab_type": "text",
    "id": "r_wkgd7vFoiP"
   },
   "source": [
    "<b> Light GBM"
   ]
  },
  {
   "cell_type": "code",
   "execution_count": 92,
   "metadata": {
    "colab": {},
    "colab_type": "code",
    "id": "js-U1c08FoiQ",
    "outputId": "1d8c35e2-6c61-47fe-fd88-4c77c2f55630"
   },
   "outputs": [
    {
     "data": {
      "image/png": "[encoded data removed]",
      "text/plain": [
       "<Figure size 432x288 with 1 Axes>"
      ]
     },
     "metadata": {
      "needs_background": "light"
     },
     "output_type": "display_data"
    }
   ],
   "source": [
    "plot_prec_recall_vs_tresh(y_test, lgb_proba_test)\n",
    "plt.show()"
   ]
  },
  {
   "cell_type": "markdown",
   "metadata": {
    "colab_type": "text",
    "id": "iQ-CArDHFoiR"
   },
   "source": [
    "### Exporting Results"
   ]
  },
  {
   "cell_type": "markdown",
   "metadata": {
    "colab_type": "text",
    "id": "abRAmygdFoiR"
   },
   "source": [
    "<b> Feature Importance"
   ]
  },
  {
   "cell_type": "code",
   "execution_count": 93,
   "metadata": {
    "colab": {},
    "colab_type": "code",
    "id": "EbNJDt9PFoiR",
    "scrolled": true
   },
   "outputs": [],
   "source": [
    "lr_importance.to_csv('Feature_Importance_04_LR.csv')\n",
    "rf_importance.to_csv('Feature_Importance_04_RF.csv')\n",
    "ab_importance.to_csv('Feature_Importance_04_AB.csv')\n",
    "lgb_importance.to_csv('Feature_Importance_04_LGB.csv')"
   ]
  },
  {
   "cell_type": "markdown",
   "metadata": {
    "colab_type": "text",
    "id": "YQBaMzVVFoiT"
   },
   "source": [
    "<b> Results"
   ]
  },
  {
   "cell_type": "code",
   "execution_count": 94,
   "metadata": {
    "colab": {},
    "colab_type": "code",
    "id": "tVJVawY-FoiU"
   },
   "outputs": [],
   "source": [
    "combine_proba=pd.concat([pd.DataFrame(lr_proba_test, columns=['Logistic_Regression']).reset_index(),\n",
    "                         pd.DataFrame(rf_proba_test, columns=['Random_Forest']).reset_index(),\n",
    "                         pd.DataFrame(ab_proba_test, columns=['AdaBoost']).reset_index(),\n",
    "                         pd.DataFrame(nn_proba_test, columns=['Neural_Network']).reset_index(),\n",
    "                         pd.DataFrame(lgb_proba_test, columns=['Light_GBM']).reset_index()\n",
    "                        ], axis=1).drop('index', axis=1)"
   ]
  },
  {
   "cell_type": "code",
   "execution_count": 95,
   "metadata": {
    "colab": {},
    "colab_type": "code",
    "id": "-h8Kcv_qFoiW",
    "scrolled": true
   },
   "outputs": [],
   "source": [
    "combine_with_data=pd.concat([pd.DataFrame(X_test, columns=X.columns).reset_index(), \n",
    "                             pd.DataFrame(y_test).reset_index(), \n",
    "                             combine_proba.reset_index()], axis=1).drop('index', axis=1)"
   ]
  },
  {
   "cell_type": "code",
   "execution_count": 96,
   "metadata": {
    "colab": {},
    "colab_type": "code",
    "id": "6kG36rUoFoiX",
    "outputId": "41931abc-8ca3-4632-ae6e-f3ebc8f827bb"
   },
   "outputs": [
    {
     "data": {
      "text/html": [
       "<div>\n",
       "<style scoped>\n",
       "    .dataframe tbody tr th:only-of-type {\n",
       "        vertical-align: middle;\n",
       "    }\n",
       "\n",
       "    .dataframe tbody tr th {\n",
       "        vertical-align: top;\n",
       "    }\n",
       "\n",
       "    .dataframe thead th {\n",
       "        text-align: right;\n",
       "    }\n",
       "</style>\n",
       "<table border=\"1\" class=\"dataframe\">\n",
       "  <thead>\n",
       "    <tr style=\"text-align: right;\">\n",
       "      <th></th>\n",
       "      <th>sessions</th>\n",
       "      <th>hits_today</th>\n",
       "      <th>pageviews_today</th>\n",
       "      <th>timeonsite_today</th>\n",
       "      <th>bounces_today</th>\n",
       "      <th>newvisits_today</th>\n",
       "      <th>ismobile</th>\n",
       "      <th>visits_st</th>\n",
       "      <th>hits_st</th>\n",
       "      <th>pageviews_st</th>\n",
       "      <th>...</th>\n",
       "      <th>source_today_b'others'</th>\n",
       "      <th>source_today_b'partners'</th>\n",
       "      <th>source_today_b'youtube'</th>\n",
       "      <th>dataset</th>\n",
       "      <th>transactions_target</th>\n",
       "      <th>Logistic_Regression</th>\n",
       "      <th>Random_Forest</th>\n",
       "      <th>AdaBoost</th>\n",
       "      <th>Neural_Network</th>\n",
       "      <th>Light_GBM</th>\n",
       "    </tr>\n",
       "  </thead>\n",
       "  <tbody>\n",
       "    <tr>\n",
       "      <th>0</th>\n",
       "      <td>0.0</td>\n",
       "      <td>0.0</td>\n",
       "      <td>0.004292</td>\n",
       "      <td>0.122858</td>\n",
       "      <td>0.0</td>\n",
       "      <td>1.0</td>\n",
       "      <td>1.0</td>\n",
       "      <td>0.0</td>\n",
       "      <td>0.0</td>\n",
       "      <td>0.0</td>\n",
       "      <td>...</td>\n",
       "      <td>0.0</td>\n",
       "      <td>0.0</td>\n",
       "      <td>0.0</td>\n",
       "      <td>1.0</td>\n",
       "      <td>0</td>\n",
       "      <td>0.264170</td>\n",
       "      <td>0.144556</td>\n",
       "      <td>0.326434</td>\n",
       "      <td>2.790090e-03</td>\n",
       "      <td>0.000265</td>\n",
       "    </tr>\n",
       "    <tr>\n",
       "      <th>1</th>\n",
       "      <td>0.0</td>\n",
       "      <td>0.0</td>\n",
       "      <td>0.004292</td>\n",
       "      <td>0.001648</td>\n",
       "      <td>0.0</td>\n",
       "      <td>1.0</td>\n",
       "      <td>1.0</td>\n",
       "      <td>0.0</td>\n",
       "      <td>0.0</td>\n",
       "      <td>0.0</td>\n",
       "      <td>...</td>\n",
       "      <td>0.0</td>\n",
       "      <td>0.0</td>\n",
       "      <td>0.0</td>\n",
       "      <td>1.0</td>\n",
       "      <td>0</td>\n",
       "      <td>0.000576</td>\n",
       "      <td>0.003343</td>\n",
       "      <td>0.268941</td>\n",
       "      <td>3.008386e-10</td>\n",
       "      <td>0.000002</td>\n",
       "    </tr>\n",
       "    <tr>\n",
       "      <th>2</th>\n",
       "      <td>0.0</td>\n",
       "      <td>0.0</td>\n",
       "      <td>0.004292</td>\n",
       "      <td>0.000577</td>\n",
       "      <td>0.0</td>\n",
       "      <td>1.0</td>\n",
       "      <td>0.0</td>\n",
       "      <td>0.0</td>\n",
       "      <td>0.0</td>\n",
       "      <td>0.0</td>\n",
       "      <td>...</td>\n",
       "      <td>0.0</td>\n",
       "      <td>0.0</td>\n",
       "      <td>0.0</td>\n",
       "      <td>1.0</td>\n",
       "      <td>0</td>\n",
       "      <td>0.072602</td>\n",
       "      <td>0.045432</td>\n",
       "      <td>0.348734</td>\n",
       "      <td>3.666418e-05</td>\n",
       "      <td>0.000158</td>\n",
       "    </tr>\n",
       "    <tr>\n",
       "      <th>3</th>\n",
       "      <td>0.0</td>\n",
       "      <td>0.0</td>\n",
       "      <td>0.004292</td>\n",
       "      <td>0.001071</td>\n",
       "      <td>0.0</td>\n",
       "      <td>1.0</td>\n",
       "      <td>0.0</td>\n",
       "      <td>0.0</td>\n",
       "      <td>0.0</td>\n",
       "      <td>0.0</td>\n",
       "      <td>...</td>\n",
       "      <td>0.0</td>\n",
       "      <td>0.0</td>\n",
       "      <td>0.0</td>\n",
       "      <td>1.0</td>\n",
       "      <td>0</td>\n",
       "      <td>0.053529</td>\n",
       "      <td>0.026722</td>\n",
       "      <td>0.319500</td>\n",
       "      <td>1.590192e-04</td>\n",
       "      <td>0.000211</td>\n",
       "    </tr>\n",
       "    <tr>\n",
       "      <th>4</th>\n",
       "      <td>0.0</td>\n",
       "      <td>0.0</td>\n",
       "      <td>0.004292</td>\n",
       "      <td>0.006427</td>\n",
       "      <td>0.0</td>\n",
       "      <td>1.0</td>\n",
       "      <td>1.0</td>\n",
       "      <td>0.0</td>\n",
       "      <td>0.0</td>\n",
       "      <td>0.0</td>\n",
       "      <td>...</td>\n",
       "      <td>1.0</td>\n",
       "      <td>0.0</td>\n",
       "      <td>0.0</td>\n",
       "      <td>1.0</td>\n",
       "      <td>0</td>\n",
       "      <td>0.041214</td>\n",
       "      <td>0.045330</td>\n",
       "      <td>0.277528</td>\n",
       "      <td>7.976252e-06</td>\n",
       "      <td>0.000167</td>\n",
       "    </tr>\n",
       "    <tr>\n",
       "      <th>5</th>\n",
       "      <td>0.0</td>\n",
       "      <td>0.0</td>\n",
       "      <td>0.004292</td>\n",
       "      <td>0.000082</td>\n",
       "      <td>0.0</td>\n",
       "      <td>1.0</td>\n",
       "      <td>0.0</td>\n",
       "      <td>0.0</td>\n",
       "      <td>0.0</td>\n",
       "      <td>0.0</td>\n",
       "      <td>...</td>\n",
       "      <td>0.0</td>\n",
       "      <td>0.0</td>\n",
       "      <td>0.0</td>\n",
       "      <td>1.0</td>\n",
       "      <td>0</td>\n",
       "      <td>0.011210</td>\n",
       "      <td>0.016060</td>\n",
       "      <td>0.278264</td>\n",
       "      <td>2.665035e-11</td>\n",
       "      <td>0.000016</td>\n",
       "    </tr>\n",
       "    <tr>\n",
       "      <th>6</th>\n",
       "      <td>0.0</td>\n",
       "      <td>0.0</td>\n",
       "      <td>0.004292</td>\n",
       "      <td>0.003790</td>\n",
       "      <td>0.0</td>\n",
       "      <td>0.0</td>\n",
       "      <td>0.0</td>\n",
       "      <td>0.0</td>\n",
       "      <td>0.0</td>\n",
       "      <td>0.0</td>\n",
       "      <td>...</td>\n",
       "      <td>0.0</td>\n",
       "      <td>0.0</td>\n",
       "      <td>0.0</td>\n",
       "      <td>1.0</td>\n",
       "      <td>0</td>\n",
       "      <td>0.487408</td>\n",
       "      <td>0.186282</td>\n",
       "      <td>0.506649</td>\n",
       "      <td>1.142492e-03</td>\n",
       "      <td>0.003533</td>\n",
       "    </tr>\n",
       "    <tr>\n",
       "      <th>7</th>\n",
       "      <td>0.0</td>\n",
       "      <td>0.0</td>\n",
       "      <td>0.004292</td>\n",
       "      <td>0.001401</td>\n",
       "      <td>0.0</td>\n",
       "      <td>1.0</td>\n",
       "      <td>1.0</td>\n",
       "      <td>0.0</td>\n",
       "      <td>0.0</td>\n",
       "      <td>0.0</td>\n",
       "      <td>...</td>\n",
       "      <td>0.0</td>\n",
       "      <td>0.0</td>\n",
       "      <td>0.0</td>\n",
       "      <td>1.0</td>\n",
       "      <td>0</td>\n",
       "      <td>0.070097</td>\n",
       "      <td>0.054496</td>\n",
       "      <td>0.277528</td>\n",
       "      <td>4.779923e-05</td>\n",
       "      <td>0.000019</td>\n",
       "    </tr>\n",
       "    <tr>\n",
       "      <th>8</th>\n",
       "      <td>0.0</td>\n",
       "      <td>0.0</td>\n",
       "      <td>0.004292</td>\n",
       "      <td>0.015903</td>\n",
       "      <td>0.0</td>\n",
       "      <td>0.0</td>\n",
       "      <td>0.0</td>\n",
       "      <td>0.0</td>\n",
       "      <td>0.0</td>\n",
       "      <td>0.0</td>\n",
       "      <td>...</td>\n",
       "      <td>0.0</td>\n",
       "      <td>0.0</td>\n",
       "      <td>0.0</td>\n",
       "      <td>1.0</td>\n",
       "      <td>0</td>\n",
       "      <td>0.552088</td>\n",
       "      <td>0.358181</td>\n",
       "      <td>0.553950</td>\n",
       "      <td>2.105671e-02</td>\n",
       "      <td>0.008624</td>\n",
       "    </tr>\n",
       "    <tr>\n",
       "      <th>9</th>\n",
       "      <td>0.0</td>\n",
       "      <td>0.0</td>\n",
       "      <td>0.004292</td>\n",
       "      <td>0.001401</td>\n",
       "      <td>0.0</td>\n",
       "      <td>1.0</td>\n",
       "      <td>0.0</td>\n",
       "      <td>0.0</td>\n",
       "      <td>0.0</td>\n",
       "      <td>0.0</td>\n",
       "      <td>...</td>\n",
       "      <td>0.0</td>\n",
       "      <td>0.0</td>\n",
       "      <td>0.0</td>\n",
       "      <td>1.0</td>\n",
       "      <td>0</td>\n",
       "      <td>0.449583</td>\n",
       "      <td>0.336540</td>\n",
       "      <td>0.378163</td>\n",
       "      <td>1.800615e-02</td>\n",
       "      <td>0.016358</td>\n",
       "    </tr>\n",
       "  </tbody>\n",
       "</table>\n",
       "<p>10 rows × 737 columns</p>\n",
       "</div>"
      ],
      "text/plain": [
       "   sessions  hits_today  pageviews_today  timeonsite_today  bounces_today  \\\n",
       "0       0.0         0.0         0.004292          0.122858            0.0   \n",
       "1       0.0         0.0         0.004292          0.001648            0.0   \n",
       "2       0.0         0.0         0.004292          0.000577            0.0   \n",
       "3       0.0         0.0         0.004292          0.001071            0.0   \n",
       "4       0.0         0.0         0.004292          0.006427            0.0   \n",
       "5       0.0         0.0         0.004292          0.000082            0.0   \n",
       "6       0.0         0.0         0.004292          0.003790            0.0   \n",
       "7       0.0         0.0         0.004292          0.001401            0.0   \n",
       "8       0.0         0.0         0.004292          0.015903            0.0   \n",
       "9       0.0         0.0         0.004292          0.001401            0.0   \n",
       "\n",
       "   newvisits_today  ismobile  visits_st  hits_st  pageviews_st  ...  \\\n",
       "0              1.0       1.0        0.0      0.0           0.0  ...   \n",
       "1              1.0       1.0        0.0      0.0           0.0  ...   \n",
       "2              1.0       0.0        0.0      0.0           0.0  ...   \n",
       "3              1.0       0.0        0.0      0.0           0.0  ...   \n",
       "4              1.0       1.0        0.0      0.0           0.0  ...   \n",
       "5              1.0       0.0        0.0      0.0           0.0  ...   \n",
       "6              0.0       0.0        0.0      0.0           0.0  ...   \n",
       "7              1.0       1.0        0.0      0.0           0.0  ...   \n",
       "8              0.0       0.0        0.0      0.0           0.0  ...   \n",
       "9              1.0       0.0        0.0      0.0           0.0  ...   \n",
       "\n",
       "   source_today_b'others'  source_today_b'partners'  source_today_b'youtube'  \\\n",
       "0                     0.0                       0.0                      0.0   \n",
       "1                     0.0                       0.0                      0.0   \n",
       "2                     0.0                       0.0                      0.0   \n",
       "3                     0.0                       0.0                      0.0   \n",
       "4                     1.0                       0.0                      0.0   \n",
       "5                     0.0                       0.0                      0.0   \n",
       "6                     0.0                       0.0                      0.0   \n",
       "7                     0.0                       0.0                      0.0   \n",
       "8                     0.0                       0.0                      0.0   \n",
       "9                     0.0                       0.0                      0.0   \n",
       "\n",
       "   dataset  transactions_target  Logistic_Regression  Random_Forest  AdaBoost  \\\n",
       "0      1.0                    0             0.264170       0.144556  0.326434   \n",
       "1      1.0                    0             0.000576       0.003343  0.268941   \n",
       "2      1.0                    0             0.072602       0.045432  0.348734   \n",
       "3      1.0                    0             0.053529       0.026722  0.319500   \n",
       "4      1.0                    0             0.041214       0.045330  0.277528   \n",
       "5      1.0                    0             0.011210       0.016060  0.278264   \n",
       "6      1.0                    0             0.487408       0.186282  0.506649   \n",
       "7      1.0                    0             0.070097       0.054496  0.277528   \n",
       "8      1.0                    0             0.552088       0.358181  0.553950   \n",
       "9      1.0                    0             0.449583       0.336540  0.378163   \n",
       "\n",
       "   Neural_Network  Light_GBM  \n",
       "0    2.790090e-03   0.000265  \n",
       "1    3.008386e-10   0.000002  \n",
       "2    3.666418e-05   0.000158  \n",
       "3    1.590192e-04   0.000211  \n",
       "4    7.976252e-06   0.000167  \n",
       "5    2.665035e-11   0.000016  \n",
       "6    1.142492e-03   0.003533  \n",
       "7    4.779923e-05   0.000019  \n",
       "8    2.105671e-02   0.008624  \n",
       "9    1.800615e-02   0.016358  \n",
       "\n",
       "[10 rows x 737 columns]"
      ]
     },
     "execution_count": 96,
     "metadata": {},
     "output_type": "execute_result"
    }
   ],
   "source": [
    "combine_with_data.head(10)"
   ]
  },
  {
   "cell_type": "code",
   "execution_count": 97,
   "metadata": {
    "colab": {},
    "colab_type": "code",
    "id": "5qDoOBKmFoiY"
   },
   "outputs": [],
   "source": [
    "combine_with_data.to_csv('Result_04_w_FE.csv')"
   ]
  },
  {
   "cell_type": "markdown",
   "metadata": {
    "colab_type": "text",
    "id": "G6phobJcFoiZ"
   },
   "source": [
    "<b> Save Model"
   ]
  },
  {
   "cell_type": "code",
   "execution_count": 99,
   "metadata": {
    "colab": {},
    "colab_type": "code",
    "id": "KsmPBiVSFoiZ"
   },
   "outputs": [],
   "source": [
    "import pickle\n",
    "\n",
    "with open('LR_04.pkl', 'wb') as file:  \n",
    "    pickle.dump(lr, file)\n",
    "    \n",
    "with open('RF_04.pkl', 'wb') as file:  \n",
    "    pickle.dump(rf, file)\n",
    "    \n",
    "with open('AB_04.pkl', 'wb') as file:  \n",
    "    pickle.dump(ab, file)\n",
    "    \n",
    "with open('NN_04.pkl', 'wb') as file:  \n",
    "    pickle.dump(nn, file)\n",
    "\n",
    "with open('LightGBM_04.pkl', 'wb') as file:  \n",
    "    pickle.dump(lgb_c, file)"
   ]
  },
  {
   "cell_type": "markdown",
   "metadata": {
    "colab_type": "text",
    "id": "U0Jz08M4Foii"
   },
   "source": [
    "### Outlier Detection "
   ]
  },
  {
   "cell_type": "markdown",
   "metadata": {
    "colab_type": "text",
    "id": "ttZl_h7FFoii"
   },
   "source": [
    "<b> Reconfigure X_train and X_test for Outlier detection </b><br>\n",
    "concat X_train and y_train -> this is for fit <br>\n",
    "slice out only the values for 'transasction_target==0' -> this is for predict <br>\n",
    "concat X_test and y_test -> this is for validation <br>"
   ]
  },
  {
   "cell_type": "code",
   "execution_count": 59,
   "metadata": {
    "ExecuteTime": {
     "end_time": "2019-07-31T02:41:19.737275Z",
     "start_time": "2019-07-31T02:41:19.699393Z"
    },
    "colab": {},
    "colab_type": "code",
    "id": "HxFhukkqFoij"
   },
   "outputs": [],
   "source": [
    "train_w_label = pd.concat([pd.DataFrame(X_train, columns=X.columns).reset_index(), y_train.reset_index()], axis=1).drop('index', axis=1)"
   ]
  },
  {
   "cell_type": "code",
   "execution_count": 60,
   "metadata": {
    "ExecuteTime": {
     "end_time": "2019-07-31T02:41:20.235171Z",
     "start_time": "2019-07-31T02:41:19.739759Z"
    },
    "colab": {},
    "colab_type": "code",
    "id": "6f-VdYAUFoil"
   },
   "outputs": [],
   "source": [
    "train_outlier = train_w_label.loc[train_w_label['transactions_target'] == 0].drop('transactions_target', axis=1)"
   ]
  },
  {
   "cell_type": "code",
   "execution_count": 61,
   "metadata": {
    "colab": {},
    "colab_type": "code",
    "id": "BgUg_q8uFoim"
   },
   "outputs": [],
   "source": [
    "test_outlier = train_w_label.drop('transactions_target', axis=1)"
   ]
  },
  {
   "cell_type": "markdown",
   "metadata": {
    "colab_type": "text",
    "id": "IKH-M4dkFoim"
   },
   "source": [
    "## Outlier Detection using OneClassSVM"
   ]
  },
  {
   "cell_type": "code",
   "execution_count": 62,
   "metadata": {
    "ExecuteTime": {
     "end_time": "2019-07-31T02:41:20.254541Z",
     "start_time": "2019-07-31T02:41:20.250890Z"
    },
    "colab": {},
    "colab_type": "code",
    "id": "-EK_86bRFoin"
   },
   "outputs": [],
   "source": [
    "import pickle\n",
    "from sklearn.svm import OneClassSVM\n",
    "from sklearn import svm"
   ]
  },
  {
   "cell_type": "markdown",
   "metadata": {
    "colab_type": "text",
    "id": "sNvkXV8DFoio"
   },
   "source": [
    "#### RandomSearchCV"
   ]
  },
  {
   "cell_type": "code",
   "execution_count": null,
   "metadata": {
    "ExecuteTime": {
     "end_time": "2019-07-31T02:41:20.262882Z",
     "start_time": "2019-07-31T02:41:20.258421Z"
    },
    "colab": {},
    "colab_type": "code",
    "id": "YN3GxNzcFoio",
    "outputId": "9595d470-6bdb-4e39-b88d-7042124e71f3"
   },
   "outputs": [
    {
     "name": "stdout",
     "output_type": "stream",
     "text": [
      "{'cache_size': 200, 'coef0': 0.0, 'degree': 3, 'gamma': 'auto_deprecated', 'kernel': 'rbf', 'max_iter': -1, 'nu': 0.5, 'random_state': None, 'shrinking': True, 'tol': 0.001, 'verbose': False}\n"
     ]
    }
   ],
   "source": [
    "oneclass = svm.OneClassSVM()\n",
    "print(oneclass.get_params())"
   ]
  },
  {
   "cell_type": "code",
   "execution_count": null,
   "metadata": {},
   "outputs": [],
   "source": [
    "parameters = { \n",
    "              'gamma': [0.05, 0.1, 0.5, 0.95]\n",
    "              }\n",
    "\n",
    "oneclass_rs = model_selection.RandomizedSearchCV(svm.OneClassSVM(nu=0.04, kernel='rbf' , random_state=2019), \n",
    "                                        parameters, scoring = f2_scorer, \n",
    "                                        cv = model_selection.StratifiedKFold(n_splits = 5, shuffle = True, random_state = 2019), \n",
    "                                        verbose = 2, n_jobs = -1) \n",
    "\n",
    "oneclass_rs.fit(train_outlier)\n",
    "\n",
    "# # save the model to disk\n",
    "# filename = 'oneClassSVM_rs1.pkl'\n",
    "# pickle.dump(oneclass, open(filename, 'wb'))\n",
    "\n",
    "# # load the model from disk\n",
    "# oneclass_fit_rs = pickle.load(open(filename, 'rb'))\n",
    "\n",
    "# print('best parameters: ', oneclass_fit_rs.best_params_)\n",
    "\n",
    "# result\n",
    "# OneClassSVM(cache_size=200, coef0=0.0, degree=3, gamma='auto_deprecated',\n",
    "#             kernel='rbf', max_iter=-1, nu=0.04, random_state=None,\n",
    "#             shrinking=True, tol=0.001, verbose=False)"
   ]
  },
  {
   "cell_type": "code",
   "execution_count": 68,
   "metadata": {
    "ExecuteTime": {
     "start_time": "2019-07-30T20:01:05.048Z"
    },
    "colab": {},
    "colab_type": "code",
    "id": "rVuqnFBOFoit",
    "outputId": "9c9b885d-67a0-4cfd-9ac4-8950b6c6c853"
   },
   "outputs": [],
   "source": [
    "oneclass = svm.OneClassSVM(kernel='rbf', nu=0.04, gamma=0.001)\n",
    "\n",
    "oneclass.fit(train_outlier)\n",
    "\n",
    "# save the model to disk\n",
    "filename = 'oneClassSVM_2.pkl'\n",
    "#pickle.dump(oneclass, open(filename, 'wb'))\n",
    "\n",
    "# load the model from disk\n",
    "#oneclass_fit = pickle.load(open(filename, 'rb'))"
   ]
  },
  {
   "cell_type": "code",
   "execution_count": null,
   "metadata": {
    "colab": {},
    "colab_type": "code",
    "id": "yGbSvdTNFoiu",
    "outputId": "2b6c74a5-15a6-415f-c3f5-902a41e834da"
   },
   "outputs": [],
   "source": [
    "oneclass.support_vectors_.shape"
   ]
  },
  {
   "cell_type": "code",
   "execution_count": 69,
   "metadata": {
    "ExecuteTime": {
     "start_time": "2019-07-30T20:01:05.679Z"
    },
    "colab": {},
    "colab_type": "code",
    "id": "9tguuoT3Foiw"
   },
   "outputs": [],
   "source": [
    "oneclass_pred = oneclass.predict(test_outlier)"
   ]
  },
  {
   "cell_type": "code",
   "execution_count": 70,
   "metadata": {
    "ExecuteTime": {
     "start_time": "2019-07-30T20:01:06.487Z"
    },
    "colab": {},
    "colab_type": "code",
    "id": "Nrt4_nvUFoix",
    "outputId": "3ed1b1ee-3f29-47b1-abb4-f003791c6ea6"
   },
   "outputs": [
    {
     "name": "stdout",
     "output_type": "stream",
     "text": [
      "[[   -1  2630]\n",
      " [    1 63794]]\n"
     ]
    }
   ],
   "source": [
    "# Check the number of outliers predicted by the algorithm\n",
    "\n",
    "unique, counts = np.unique(oneclass_pred, return_counts=True)\n",
    "print (np.asarray((unique, counts)).T)"
   ]
  },
  {
   "cell_type": "code",
   "execution_count": 71,
   "metadata": {
    "ExecuteTime": {
     "start_time": "2019-07-30T20:01:09.519Z"
    },
    "colab": {},
    "colab_type": "code",
    "id": "60p1KnVsFoiy"
   },
   "outputs": [],
   "source": [
    "pred=pd.DataFrame(oneclass_pred).replace(1,0).replace(-1,1)"
   ]
  },
  {
   "cell_type": "code",
   "execution_count": 72,
   "metadata": {
    "ExecuteTime": {
     "start_time": "2019-07-30T20:01:10.476Z"
    },
    "colab": {},
    "colab_type": "code",
    "id": "JA0hMz30Foiz",
    "outputId": "08f8e0d4-1090-4932-c766-483c95038282"
   },
   "outputs": [
    {
     "name": "stdout",
     "output_type": "stream",
     "text": [
      "              precision    recall  f1-score   support\n",
      "\n",
      "           0       0.96      0.96      0.96     63811\n",
      "           1       0.03      0.03      0.03      2613\n",
      "\n",
      "    accuracy                           0.92     66424\n",
      "   macro avg       0.49      0.49      0.49     66424\n",
      "weighted avg       0.92      0.92      0.92     66424\n",
      "\n"
     ]
    }
   ],
   "source": [
    "print(metrics.classification_report(train_w_label['transactions_target'], pred.values.tolist()))"
   ]
  },
  {
   "cell_type": "code",
   "execution_count": null,
   "metadata": {
    "ExecuteTime": {
     "start_time": "2019-07-30T20:01:11.402Z"
    },
    "colab": {},
    "colab_type": "code",
    "id": "0V_6hHQdFoi1",
    "outputId": "c78d72a7-4113-43c5-e0cd-16ab62e42cd7"
   },
   "outputs": [],
   "source": [
    "from sklearn.metrics import accuracy_score\n",
    "from sklearn.metrics import precision_score\n",
    "from sklearn.metrics import recall_score\n",
    "\n",
    "print('Accuracy:', accuracy_score(train_w_label['transactions_target'], pred.values.tolist()))\n",
    "print('Precision:', precision_score(train_w_label['transactions_target'], pred.values.tolist()))\n",
    "print('Recall:', recall_score(train_w_label['transactions_target'], pred.values.tolist()))"
   ]
  },
  {
   "cell_type": "markdown",
   "metadata": {
    "colab_type": "text",
    "id": "eNBGzNmmFoi2"
   },
   "source": [
    "### Isolation Forest"
   ]
  },
  {
   "cell_type": "code",
   "execution_count": null,
   "metadata": {
    "ExecuteTime": {
     "end_time": "2019-07-30T17:44:54.223881Z",
     "start_time": "2019-07-30T17:44:54.220384Z"
    },
    "colab": {},
    "colab_type": "code",
    "id": "LLRxr0pQFoi3"
   },
   "outputs": [],
   "source": [
    "import pickle\n",
    "from sklearn.ensemble import IsolationForest"
   ]
  },
  {
   "cell_type": "markdown",
   "metadata": {
    "colab_type": "text",
    "id": "ZqZ8e5elFoi3"
   },
   "source": [
    "#### RandomSearchCV"
   ]
  },
  {
   "cell_type": "code",
   "execution_count": null,
   "metadata": {
    "ExecuteTime": {
     "end_time": "2019-07-30T17:44:55.461604Z",
     "start_time": "2019-07-30T17:44:55.456456Z"
    },
    "colab": {},
    "colab_type": "code",
    "id": "TEIQ3-4iFoi4"
   },
   "outputs": [],
   "source": [
    "iforest = IsolationForest()\n",
    "print(iforest.get_params())"
   ]
  },
  {
   "cell_type": "code",
   "execution_count": null,
   "metadata": {
    "ExecuteTime": {
     "end_time": "2019-07-30T17:44:56.448698Z",
     "start_time": "2019-07-30T17:44:56.428788Z"
    },
    "colab": {},
    "colab_type": "code",
    "id": "WJlC1d_yFoi4"
   },
   "outputs": [],
   "source": [
    "#f2_scorer = metrics.make_scorer(metrics.fbeta_score, beta = 2)\n",
    "\n",
    "parameters = {\n",
    "              'n_estimators': [50, 100, 200], \n",
    "              'contamination': [float(.12),'auto'], \n",
    "              'bootstrap': [True, False]\n",
    "              }\n",
    "\n",
    "iforest_rs = model_selection.RandomizedSearchCV(IsolationForest(), \n",
    "                                        parameters, scoring = f2_scorer, \n",
    "                                        cv = model_selection.StratifiedKFold(n_splits = 10, shuffle = True, random_state = 2019), \n",
    "                                        verbose = 2, n_jobs = -1) \n",
    "\n",
    "iforest_rs.fit(train_outlier)\n",
    "\n",
    "# save the model to disk\n",
    "filename = 'iforest_rs1.pkl'\n",
    "pickle.dump(oneclass, open(filename, 'wb'))\n",
    "\n",
    "# load the model from disk\n",
    "iforest_fit_rs = pickle.load(open(filename, 'rb'))\n",
    "\n",
    "\n",
    "print('best parameters: ', iforest_fit_rs.best_params_)"
   ]
  },
  {
   "cell_type": "code",
   "execution_count": null,
   "metadata": {
    "ExecuteTime": {
     "end_time": "2019-07-30T15:47:46.063503Z",
     "start_time": "2019-07-30T15:45:56.232534Z"
    },
    "colab": {},
    "colab_type": "code",
    "id": "JXMnuYWGFoi5"
   },
   "outputs": [],
   "source": [
    "iforest = IsolationForest(n_estimators=100, max_samples='auto', contamination=float(.12), \\\n",
    "                        max_features=1.0, bootstrap=False, n_jobs=-1, random_state=42, verbose=0)\n",
    "\n",
    "iforest.fit(train_outlier)\n",
    "\n",
    "# save the model to disk\n",
    "filename = 'isolation_forest1.pkl'\n",
    "pickle.dump(iforest, open(filename, 'wb'))\n",
    " \n",
    "# load the model from disk\n",
    "iforest_fit = pickle.load(open(filename, 'rb'))\n"
   ]
  },
  {
   "cell_type": "code",
   "execution_count": null,
   "metadata": {
    "ExecuteTime": {
     "end_time": "2019-07-30T15:48:58.879009Z",
     "start_time": "2019-07-30T15:47:46.750465Z"
    },
    "colab": {},
    "colab_type": "code",
    "id": "98n7eLzEFoi7"
   },
   "outputs": [],
   "source": [
    "iforest_pred = iforest_fit.predict(train_w_label)"
   ]
  },
  {
   "cell_type": "code",
   "execution_count": null,
   "metadata": {
    "ExecuteTime": {
     "end_time": "2019-07-30T15:48:59.531376Z",
     "start_time": "2019-07-30T15:48:59.525121Z"
    },
    "colab": {},
    "colab_type": "code",
    "id": "blJJ3lOhFoi8"
   },
   "outputs": [],
   "source": [
    "unique, counts = np.unique(iforest_pred, return_counts=True)\n",
    "print (np.asarray((unique, counts)).T)"
   ]
  },
  {
   "cell_type": "code",
   "execution_count": null,
   "metadata": {
    "ExecuteTime": {
     "end_time": "2019-07-30T15:49:00.192100Z",
     "start_time": "2019-07-30T15:49:00.184632Z"
    },
    "colab": {},
    "colab_type": "code",
    "id": "bhUnqg-JFoi8"
   },
   "outputs": [],
   "source": [
    "pred=pd.DataFrame(iforest_pred).replace(1,0).replace(-1,1)"
   ]
  },
  {
   "cell_type": "code",
   "execution_count": null,
   "metadata": {
    "ExecuteTime": {
     "end_time": "2019-07-30T15:49:00.915850Z",
     "start_time": "2019-07-30T15:49:00.827610Z"
    },
    "colab": {},
    "colab_type": "code",
    "id": "M6e89qbUFoi9"
   },
   "outputs": [],
   "source": [
    "print(metrics.classification_report(test, pred)) "
   ]
  },
  {
   "cell_type": "code",
   "execution_count": null,
   "metadata": {
    "ExecuteTime": {
     "end_time": "2019-07-30T15:49:01.614037Z",
     "start_time": "2019-07-30T15:49:01.565437Z"
    },
    "colab": {},
    "colab_type": "code",
    "id": "OR__oHAOFoi-"
   },
   "outputs": [],
   "source": [
    "print('Accuracy:', accuracy_score(test, pred))\n",
    "print('Precision:', precision_score(test, pred)) \n",
    "print('Recall:', recall_score(test, pred))"
   ]
  },
  {
   "cell_type": "code",
   "execution_count": null,
   "metadata": {
    "ExecuteTime": {
     "end_time": "2019-07-30T17:01:18.570467Z",
     "start_time": "2019-07-30T17:00:04.430133Z"
    },
    "colab": {},
    "colab_type": "code",
    "id": "EcSWQCZ4Foi_"
   },
   "outputs": [],
   "source": [
    "# iforest.decision_function(train_outlier)"
   ]
  }
 ],
 "metadata": {
  "colab": {
   "name": "02 - Combine No further feature engineering.ipynb",
   "provenance": [],
   "version": "0.3.2"
  },
  "kernelspec": {
   "display_name": "Python 3",
   "language": "python",
   "name": "python3"
  },
  "language_info": {
   "codemirror_mode": {
    "name": "ipython",
    "version": 3
   },
   "file_extension": ".py",
   "mimetype": "text/x-python",
   "name": "python",
   "nbconvert_exporter": "python",
   "pygments_lexer": "ipython3",
   "version": "3.7.3"
  },
  "varInspector": {
   "cols": {
    "lenName": 16,
    "lenType": 16,
    "lenVar": 40
   },
   "kernels_config": {
    "python": {
     "delete_cmd_postfix": "",
     "delete_cmd_prefix": "del ",
     "library": "var_list.py",
     "varRefreshCmd": "print(var_dic_list())"
    },
    "r": {
     "delete_cmd_postfix": ") ",
     "delete_cmd_prefix": "rm(",
     "library": "var_list.r",
     "varRefreshCmd": "cat(var_dic_list()) "
    }
   },
   "oldHeight": 170,
   "position": {
    "height": "192px",
    "left": "1433px",
    "right": "20px",
    "top": "192px",
    "width": "486px"
   },
   "types_to_exclude": [
    "module",
    "function",
    "builtin_function_or_method",
    "instance",
    "_Feature"
   ],
   "varInspector_section_display": "block",
   "window_display": false
  }
 },
 "nbformat": 4,
 "nbformat_minor": 1
}
